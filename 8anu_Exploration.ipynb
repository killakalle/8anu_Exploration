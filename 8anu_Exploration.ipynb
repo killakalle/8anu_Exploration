{
 "cells": [
  {
   "cell_type": "markdown",
   "metadata": {},
   "source": [
    "# Definition"
   ]
  },
  {
   "cell_type": "markdown",
   "metadata": {},
   "source": [
    "## Project Overview"
   ]
  },
  {
   "cell_type": "markdown",
   "metadata": {},
   "source": [
    "## Problem Statement"
   ]
  },
  {
   "cell_type": "markdown",
   "metadata": {},
   "source": [
    "## Metrics"
   ]
  },
  {
   "cell_type": "markdown",
   "metadata": {},
   "source": [
    "# Analysis"
   ]
  },
  {
   "cell_type": "markdown",
   "metadata": {},
   "source": [
    "## Data Exploration"
   ]
  },
  {
   "cell_type": "code",
   "execution_count": 1,
   "metadata": {
    "ExecuteTime": {
     "end_time": "2018-11-19T12:07:59.948102Z",
     "start_time": "2018-11-19T12:07:55.478239Z"
    },
    "pixiedust": {
     "displayParams": {}
    }
   },
   "outputs": [
    {
     "name": "stdout",
     "output_type": "stream",
     "text": [
      "Pixiedust database opened successfully\n"
     ]
    },
    {
     "data": {
      "text/html": [
       "\n",
       "        <div style=\"margin:10px\">\n",
       "            <a href=\"https://github.com/ibm-watson-data-lab/pixiedust\" target=\"_new\">\n",
       "                <img src=\"https://github.com/ibm-watson-data-lab/pixiedust/raw/master/docs/_static/pd_icon32.png\" style=\"float:left;margin-right:10px\"/>\n",
       "            </a>\n",
       "            <span>Pixiedust version 1.1.14</span>\n",
       "        </div>\n",
       "        "
      ],
      "text/plain": [
       "<IPython.core.display.HTML object>"
      ]
     },
     "metadata": {},
     "output_type": "display_data"
    }
   ],
   "source": [
    "import sqlite3\n",
    "import pandas as pd\n",
    "import numpy as np\n",
    "import matplotlib.pyplot as plt\n",
    "import xlsxwriter\n",
    "import pixiedust\n",
    "\n",
    "\n",
    "%matplotlib inline\n",
    "\n",
    "import plot_helper"
   ]
  },
  {
   "cell_type": "code",
   "execution_count": 2,
   "metadata": {
    "ExecuteTime": {
     "end_time": "2018-11-19T12:07:59.954656Z",
     "start_time": "2018-11-19T12:07:59.950890Z"
    }
   },
   "outputs": [],
   "source": [
    "from IPython.core.interactiveshell import InteractiveShell\n",
    "InteractiveShell.ast_node_interactivity = \"all\""
   ]
  },
  {
   "cell_type": "markdown",
   "metadata": {},
   "source": [
    "The data set for this project was downloaded from Kaggle at  \n",
    "[8anu climbing logbook](https://www.kaggle.com/dcohen21/8anu-climbing-logbook)"
   ]
  },
  {
   "cell_type": "code",
   "execution_count": 3,
   "metadata": {
    "ExecuteTime": {
     "end_time": "2018-11-19T12:08:08.790739Z",
     "start_time": "2018-11-19T12:07:59.957358Z"
    }
   },
   "outputs": [],
   "source": [
    "# Connect to db\n",
    "conn = sqlite3.connect('data/8anu.sqlite')\n",
    "\n",
    "# Read data into pandas\n",
    "sql = ('SELECT a.id, a.country AS crag_country, a.crag_id, a.crag, a.sector_id, a.sector, a.name AS route, '\n",
    "       'a.grade_id, g.fra_routes AS grade, a.year, a.date, a.method_id, m.shorthand AS method, a.notes, a.raw_notes, a.rating, '\n",
    "       'a.user_id, u.country AS user_country, u.city AS user_city, u.sex, u.height, u.weight, u.birth AS birthdate, u.started AS started_climbing '\n",
    "       'FROM ('\n",
    "           'SELECT * '\n",
    "           'FROM ascent '\n",
    "           'WHERE crag=\\'Frankenjura\\' AND climb_type=0'\n",
    "       ') AS a '\n",
    "       'LEFT OUTER JOIN grade AS g ON a.grade_id=g.id '\n",
    "       'LEFT OUTER JOIN method AS m ON a.method_id=m.id '\n",
    "       'LEFT OUTER JOIN user AS u ON a.user_id=u.id '\n",
    "       )\n",
    "df = pd.read_sql_query(sql, conn)\n",
    "\n",
    "# Close db connection\n",
    "conn.close()"
   ]
  },
  {
   "cell_type": "code",
   "execution_count": 4,
   "metadata": {
    "ExecuteTime": {
     "end_time": "2018-11-19T12:08:08.795394Z",
     "start_time": "2018-11-19T12:08:08.792790Z"
    }
   },
   "outputs": [],
   "source": [
    "# Export to .csv for submitting Project Proposal to Udacity\n",
    "#df.to_csv('data/8anu_franken.csv', sep=';')"
   ]
  },
  {
   "cell_type": "code",
   "execution_count": 5,
   "metadata": {
    "ExecuteTime": {
     "end_time": "2018-11-19T12:08:08.800607Z",
     "start_time": "2018-11-19T12:08:08.798104Z"
    }
   },
   "outputs": [],
   "source": [
    "# Export to .xlsx\n",
    "# Create a Pandas Excel writer using XlsxWriter as the engine.\n",
    "#writer = pd.ExcelWriter('data/8anu_franken.xlsx', engine='xlsxwriter')\n",
    "\n",
    "# Convert the dataframe to an XlsxWriter Excel object.\n",
    "#df.to_excel(writer, sheet_name='Sheet1')\n",
    "\n",
    "# Close the Pandas Excel writer and output the Excel file.\n",
    "#writer.save()"
   ]
  },
  {
   "cell_type": "markdown",
   "metadata": {},
   "source": [
    "### General information about the data set"
   ]
  },
  {
   "cell_type": "code",
   "execution_count": 6,
   "metadata": {
    "ExecuteTime": {
     "end_time": "2018-11-19T12:08:08.808639Z",
     "start_time": "2018-11-19T12:08:08.803139Z"
    }
   },
   "outputs": [
    {
     "data": {
      "text/plain": [
       "Index(['id', 'crag_country', 'crag_id', 'crag', 'sector_id', 'sector', 'route',\n",
       "       'grade_id', 'grade', 'year', 'date', 'method_id', 'method', 'notes',\n",
       "       'raw_notes', 'rating', 'user_id', 'user_country', 'user_city', 'sex',\n",
       "       'height', 'weight', 'birthdate', 'started_climbing'],\n",
       "      dtype='object')"
      ]
     },
     "execution_count": 6,
     "metadata": {},
     "output_type": "execute_result"
    }
   ],
   "source": [
    "## Get a list of all columns\n",
    "df.columns"
   ]
  },
  {
   "cell_type": "code",
   "execution_count": 7,
   "metadata": {
    "ExecuteTime": {
     "end_time": "2018-11-19T12:08:08.869918Z",
     "start_time": "2018-11-19T12:08:08.811856Z"
    }
   },
   "outputs": [
    {
     "data": {
      "text/html": [
       "<div>\n",
       "<style scoped>\n",
       "    .dataframe tbody tr th:only-of-type {\n",
       "        vertical-align: middle;\n",
       "    }\n",
       "\n",
       "    .dataframe tbody tr th {\n",
       "        vertical-align: top;\n",
       "    }\n",
       "\n",
       "    .dataframe thead th {\n",
       "        text-align: right;\n",
       "    }\n",
       "</style>\n",
       "<table border=\"1\" class=\"dataframe\">\n",
       "  <thead>\n",
       "    <tr style=\"text-align: right;\">\n",
       "      <th></th>\n",
       "      <th>id</th>\n",
       "      <th>crag_country</th>\n",
       "      <th>crag_id</th>\n",
       "      <th>crag</th>\n",
       "      <th>sector_id</th>\n",
       "      <th>sector</th>\n",
       "      <th>route</th>\n",
       "      <th>grade_id</th>\n",
       "      <th>grade</th>\n",
       "      <th>year</th>\n",
       "      <th>...</th>\n",
       "      <th>raw_notes</th>\n",
       "      <th>rating</th>\n",
       "      <th>user_id</th>\n",
       "      <th>user_country</th>\n",
       "      <th>user_city</th>\n",
       "      <th>sex</th>\n",
       "      <th>height</th>\n",
       "      <th>weight</th>\n",
       "      <th>birthdate</th>\n",
       "      <th>started_climbing</th>\n",
       "    </tr>\n",
       "  </thead>\n",
       "  <tbody>\n",
       "    <tr>\n",
       "      <th>0</th>\n",
       "      <td>582</td>\n",
       "      <td>DEU</td>\n",
       "      <td>16600</td>\n",
       "      <td>Frankenjura</td>\n",
       "      <td>126</td>\n",
       "      <td>Grüne Hölle</td>\n",
       "      <td>Isolation</td>\n",
       "      <td>46</td>\n",
       "      <td>6c+</td>\n",
       "      <td>2000</td>\n",
       "      <td>...</td>\n",
       "      <td>0</td>\n",
       "      <td>0</td>\n",
       "      <td>39</td>\n",
       "      <td>NLD</td>\n",
       "      <td>Eindhoven</td>\n",
       "      <td>0.0</td>\n",
       "      <td>178.0</td>\n",
       "      <td>78.0</td>\n",
       "      <td>1972-10-16</td>\n",
       "      <td>1996.0</td>\n",
       "    </tr>\n",
       "    <tr>\n",
       "      <th>1</th>\n",
       "      <td>805</td>\n",
       "      <td>DEU</td>\n",
       "      <td>16600</td>\n",
       "      <td>Frankenjura</td>\n",
       "      <td>111</td>\n",
       "      <td>Marientaler Wände</td>\n",
       "      <td>Kraftfeld</td>\n",
       "      <td>59</td>\n",
       "      <td>7c+</td>\n",
       "      <td>1999</td>\n",
       "      <td>...</td>\n",
       "      <td>0</td>\n",
       "      <td>0</td>\n",
       "      <td>32</td>\n",
       "      <td>SWE</td>\n",
       "      <td>Gothenburg</td>\n",
       "      <td>0.0</td>\n",
       "      <td>174.0</td>\n",
       "      <td>0.0</td>\n",
       "      <td>1976-06-15</td>\n",
       "      <td>1996.0</td>\n",
       "    </tr>\n",
       "    <tr>\n",
       "      <th>2</th>\n",
       "      <td>902</td>\n",
       "      <td>DEU</td>\n",
       "      <td>16600</td>\n",
       "      <td>Frankenjura</td>\n",
       "      <td>1309</td>\n",
       "      <td>Obere Schlossbergwände</td>\n",
       "      <td>Ursus</td>\n",
       "      <td>49</td>\n",
       "      <td>7a</td>\n",
       "      <td>2000</td>\n",
       "      <td>...</td>\n",
       "      <td>0</td>\n",
       "      <td>0</td>\n",
       "      <td>49</td>\n",
       "      <td>SWE</td>\n",
       "      <td>GÖTEBORG</td>\n",
       "      <td>0.0</td>\n",
       "      <td>0.0</td>\n",
       "      <td>0.0</td>\n",
       "      <td>None</td>\n",
       "      <td>1990.0</td>\n",
       "    </tr>\n",
       "    <tr>\n",
       "      <th>3</th>\n",
       "      <td>903</td>\n",
       "      <td>DEU</td>\n",
       "      <td>16600</td>\n",
       "      <td>Frankenjura</td>\n",
       "      <td>0</td>\n",
       "      <td></td>\n",
       "      <td>Don't know name</td>\n",
       "      <td>46</td>\n",
       "      <td>6c+</td>\n",
       "      <td>2000</td>\n",
       "      <td>...</td>\n",
       "      <td>0</td>\n",
       "      <td>0</td>\n",
       "      <td>49</td>\n",
       "      <td>SWE</td>\n",
       "      <td>GÖTEBORG</td>\n",
       "      <td>0.0</td>\n",
       "      <td>0.0</td>\n",
       "      <td>0.0</td>\n",
       "      <td>None</td>\n",
       "      <td>1990.0</td>\n",
       "    </tr>\n",
       "    <tr>\n",
       "      <th>4</th>\n",
       "      <td>935</td>\n",
       "      <td>DEU</td>\n",
       "      <td>16600</td>\n",
       "      <td>Frankenjura</td>\n",
       "      <td>422</td>\n",
       "      <td>Richard Wagner Fels</td>\n",
       "      <td>Fight Gravity</td>\n",
       "      <td>53</td>\n",
       "      <td>7b</td>\n",
       "      <td>1999</td>\n",
       "      <td>...</td>\n",
       "      <td>0</td>\n",
       "      <td>0</td>\n",
       "      <td>3</td>\n",
       "      <td>SWE</td>\n",
       "      <td>Umeå</td>\n",
       "      <td>0.0</td>\n",
       "      <td>180.0</td>\n",
       "      <td>78.0</td>\n",
       "      <td>1973-09-09</td>\n",
       "      <td>1995.0</td>\n",
       "    </tr>\n",
       "  </tbody>\n",
       "</table>\n",
       "<p>5 rows × 24 columns</p>\n",
       "</div>"
      ],
      "text/plain": [
       "    id crag_country  crag_id         crag  sector_id                  sector  \\\n",
       "0  582          DEU    16600  Frankenjura        126             Grüne Hölle   \n",
       "1  805          DEU    16600  Frankenjura        111       Marientaler Wände   \n",
       "2  902          DEU    16600  Frankenjura       1309  Obere Schlossbergwände   \n",
       "3  903          DEU    16600  Frankenjura          0                           \n",
       "4  935          DEU    16600  Frankenjura        422     Richard Wagner Fels   \n",
       "\n",
       "             route  grade_id grade  year        ...         raw_notes  rating  \\\n",
       "0        Isolation        46   6c+  2000        ...                 0       0   \n",
       "1        Kraftfeld        59   7c+  1999        ...                 0       0   \n",
       "2            Ursus        49    7a  2000        ...                 0       0   \n",
       "3  Don't know name        46   6c+  2000        ...                 0       0   \n",
       "4    Fight Gravity        53    7b  1999        ...                 0       0   \n",
       "\n",
       "  user_id user_country   user_city  sex  height weight   birthdate  \\\n",
       "0      39          NLD   Eindhoven  0.0   178.0   78.0  1972-10-16   \n",
       "1      32          SWE  Gothenburg  0.0   174.0    0.0  1976-06-15   \n",
       "2      49          SWE    GÖTEBORG  0.0     0.0    0.0        None   \n",
       "3      49          SWE    GÖTEBORG  0.0     0.0    0.0        None   \n",
       "4       3          SWE        Umeå  0.0   180.0   78.0  1973-09-09   \n",
       "\n",
       "   started_climbing  \n",
       "0            1996.0  \n",
       "1            1996.0  \n",
       "2            1990.0  \n",
       "3            1990.0  \n",
       "4            1995.0  \n",
       "\n",
       "[5 rows x 24 columns]"
      ]
     },
     "execution_count": 7,
     "metadata": {},
     "output_type": "execute_result"
    }
   ],
   "source": [
    "df.head(5)"
   ]
  },
  {
   "cell_type": "code",
   "execution_count": 8,
   "metadata": {
    "ExecuteTime": {
     "end_time": "2018-11-19T12:08:08.903212Z",
     "start_time": "2018-11-19T12:08:08.872117Z"
    }
   },
   "outputs": [
    {
     "data": {
      "text/plain": [
       "'There are 114,589 data entries in our dataset.'"
      ]
     },
     "execution_count": 8,
     "metadata": {},
     "output_type": "execute_result"
    },
    {
     "data": {
      "text/plain": [
       "'60,303 out of these contain a rating. That is approx. 52.63%'"
      ]
     },
     "execution_count": 8,
     "metadata": {},
     "output_type": "execute_result"
    }
   ],
   "source": [
    "records_count = df.shape[0]\n",
    "ratings_count = df[ df['rating'] == 0].shape[0]\n",
    "\n",
    "\n",
    "f'There are {records_count:,} data entries in our dataset.'\n",
    "f'{ratings_count:,} out of these contain a rating. That is approx. {ratings_count / records_count * 100:.2f}%'"
   ]
  },
  {
   "cell_type": "code",
   "execution_count": 9,
   "metadata": {
    "ExecuteTime": {
     "end_time": "2018-11-19T12:08:09.049977Z",
     "start_time": "2018-11-19T12:08:08.905607Z"
    }
   },
   "outputs": [
    {
     "name": "stdout",
     "output_type": "stream",
     "text": [
      "<class 'pandas.core.frame.DataFrame'>\n",
      "RangeIndex: 114589 entries, 0 to 114588\n",
      "Data columns (total 24 columns):\n",
      "id                  114589 non-null int64\n",
      "crag_country        114589 non-null object\n",
      "crag_id             114589 non-null int64\n",
      "crag                114589 non-null object\n",
      "sector_id           114589 non-null int64\n",
      "sector              114589 non-null object\n",
      "route               114589 non-null object\n",
      "grade_id            114589 non-null int64\n",
      "grade               114589 non-null object\n",
      "year                114589 non-null int64\n",
      "date                114589 non-null int64\n",
      "method_id           114589 non-null int64\n",
      "method              114589 non-null object\n",
      "notes               114589 non-null object\n",
      "raw_notes           114589 non-null int64\n",
      "rating              114589 non-null int64\n",
      "user_id             114589 non-null int64\n",
      "user_country        114587 non-null object\n",
      "user_city           114587 non-null object\n",
      "sex                 114587 non-null float64\n",
      "height              114587 non-null float64\n",
      "weight              114587 non-null float64\n",
      "birthdate           85770 non-null object\n",
      "started_climbing    114587 non-null float64\n",
      "dtypes: float64(4), int64(10), object(10)\n",
      "memory usage: 21.0+ MB\n"
     ]
    }
   ],
   "source": [
    "df.info()"
   ]
  },
  {
   "cell_type": "markdown",
   "metadata": {},
   "source": [
    "| <p align='left'>`Column` | <p align='left'>Description | <p align='center'> Datatype | <p align='center'> Use | \n",
    "|:------|:------|:------:|:------:| \n",
    "| <p align='left'>`crag_country` | <p align='left'>3-letter country code of the country where the crag is located. | <p align='center'> categorical | <p align='center'> no | \n",
    "| <p align='left'>`crag_id` | <p align='left'>Unique id for identifying each crag. | <p align='center'> int | <p align='center'> no | \n",
    "| <p align='left'>`crag` | <p align='left'>Name of the crag | <p align='center'> text | <p align='center'> no | \n",
    "| <p align='left'>`sector_id` | <p align='left'>Unique id for identifying each sector. | <p align='center'> int | <p align='center'> yes | \n",
    "| <p align='left'>`sector` | <p align='left'>Name of the sector. A sector is a specific area within a crag. | <p align='center'> text | <p align='center'> yes | \n",
    "| <p align='left'>`route` | <p align='left'>Name of the route the climber has climbed. | <p align='center'> text | <p align='center'> yes | \n",
    "| <p align='left'>`grade_id` | <p align='left'>Unique id for identifying each climbing grade. | <p align='center'> int | <p align='center'> statistics | \n",
    "| <p align='left'>`grade` | <p align='left'>Climbing grade given to that route as per the French grading system | <p align='center'> categorical | <p align='center'> statistics | \n",
    "| <p align='left'>`year` | <p align='left'>Year the route was climbed | <p align='center'> int | <p align='center'> statistics | \n",
    "| <p align='left'>`date` | <p align='left'>Date the route was climbed. The date format is number of seconds since 1970-01-01. | <p align='center'> int | <p align='center'> statistics | \n",
    "| <p align='left'>`method_id` | <p align='left'>Unique id for identifying each type of ascent. | <p align='center'> int | <p align='center'> statistics | \n",
    "| <p align='left'>`method` | <p align='left'>The type of ascent the climber made on that route. | <p align='center'> categorical | <p align='center'> statistics | \n",
    "| <p align='left'>`notes` | <p align='left'>Additional information the climber provided for this climb, e.g. Soft graded, i.e. fairly easy climb for the given grade | <p align='center'> categorical | <p align='center'> statistics | \n",
    "| <p align='left'>`raw_notes` | <p align='left'>Encoding of different notes and combination of notes | <p align='center'> int | <p align='center'> statistics | \n",
    "| <p align='left'>`rating` | <p align='left'>Rating given to the climb by this climber. This is our target attribute. | <p align='center'> int | <p align='center'> target | \n",
    "| <p align='left'>`user_id` | <p align='left'>Unique id for this climber. | <p align='center'> int | <p align='center'> yes | \n",
    "| <p align='left'>`user_country` | <p align='left'>3-letter country code of the country where this climber is from. | <p align='center'> categorical | <p align='center'> statistics | \n",
    "| <p align='left'>`user_city` | <p align='left'>City where this climber is from | <p align='center'> text | <p align='center'> statistics | \n",
    "| <p align='left'>`sex` | <p align='left'>The climber's sex. 0 indicates male, 1 indicates female. | <p align='center'> int | <p align='center'> statistics | \n",
    "| <p align='left'>`height` | <p align='left'>The climber's height in cm | <p align='center'> int | <p align='center'> statistics | \n",
    "| <p align='left'>`weight` | <p align='left'>The climber's weight in kg | <p align='center'> int | <p align='center'> statistics | \n",
    "| <p align='left'>`birthdate` | <p align='left'>The climber's date of birth | <p align='center'> date | <p align='center'> statistics | \n",
    "| <p align='left'>`started_climbing` | <p align='left'>The year the climber started climbing. | <p align='center'> int | <p align='center'> statistics | ![image.png](attachment:image.png)"
   ]
  },
  {
   "cell_type": "markdown",
   "metadata": {},
   "source": [
    "In the table above the column `Use` indicated how we plan to use the given column.\n",
    "- `target` - this is a target attribute.\n",
    "- `yes` - this column will be used during exploration and analysis.\n",
    "- `no` - not planned to use that column during analysis and exploration.\n",
    "- `statistics` - this column will not be used for analysis but may be interesting later on to do user statistics etc."
   ]
  },
  {
   "cell_type": "markdown",
   "metadata": {},
   "source": [
    "Drop unnecessary columns for analysis."
   ]
  },
  {
   "cell_type": "code",
   "execution_count": 10,
   "metadata": {
    "ExecuteTime": {
     "end_time": "2018-11-19T12:08:09.062865Z",
     "start_time": "2018-11-19T12:08:09.052023Z"
    }
   },
   "outputs": [],
   "source": [
    "df = df.drop(columns=['crag_country',\n",
    "                      'crag_id',\n",
    "                      'crag',\n",
    "                      'grade_id',\n",
    "                      'grade',\n",
    "                      'year',\n",
    "                      'date',\n",
    "                      'method_id',\n",
    "                      'method',\n",
    "                      'notes',\n",
    "                      'raw_notes',\n",
    "                      'user_country',\n",
    "                      'user_city',\n",
    "                      'sex',\n",
    "                      'height',\n",
    "                      'weight',\n",
    "                      'birthdate',\n",
    "                      'started_climbing'])"
   ]
  },
  {
   "cell_type": "markdown",
   "metadata": {},
   "source": [
    "Split train and test set to avoid bias"
   ]
  },
  {
   "cell_type": "code",
   "execution_count": 11,
   "metadata": {
    "ExecuteTime": {
     "end_time": "2018-11-19T12:08:09.184612Z",
     "start_time": "2018-11-19T12:08:09.065034Z"
    }
   },
   "outputs": [],
   "source": [
    "from sklearn.model_selection import train_test_split\n",
    "\n",
    "# y = df.pop('rating')\n",
    "X = df\n",
    "\n",
    "X_train, X_test = train_test_split(X, test_size=0.2)"
   ]
  },
  {
   "cell_type": "markdown",
   "metadata": {},
   "source": [
    "### Missing values\n",
    "\n",
    "Let us take a look if we have **missing values** or **zero values**.\n",
    "\n",
    "Number of missing values per column:"
   ]
  },
  {
   "cell_type": "code",
   "execution_count": 12,
   "metadata": {
    "ExecuteTime": {
     "end_time": "2018-11-19T12:08:09.222979Z",
     "start_time": "2018-11-19T12:08:09.186751Z"
    }
   },
   "outputs": [
    {
     "data": {
      "text/plain": [
       "id           0\n",
       "sector_id    0\n",
       "sector       0\n",
       "route        0\n",
       "rating       0\n",
       "user_id      0\n",
       "dtype: int64"
      ]
     },
     "execution_count": 12,
     "metadata": {},
     "output_type": "execute_result"
    }
   ],
   "source": [
    "X_train.isnull().sum()\n",
    "# y_train.isnull().sum()"
   ]
  },
  {
   "cell_type": "markdown",
   "metadata": {
    "ExecuteTime": {
     "end_time": "2018-11-15T22:29:42.784818Z",
     "start_time": "2018-11-15T22:29:42.780805Z"
    }
   },
   "source": [
    "Number of zero values per column:"
   ]
  },
  {
   "cell_type": "code",
   "execution_count": 13,
   "metadata": {
    "ExecuteTime": {
     "end_time": "2018-11-19T12:08:09.252674Z",
     "start_time": "2018-11-19T12:08:09.225159Z"
    }
   },
   "outputs": [
    {
     "data": {
      "text/plain": [
       "id               0\n",
       "sector_id    12282\n",
       "sector           0\n",
       "route            0\n",
       "rating       48188\n",
       "user_id          0\n",
       "dtype: int64"
      ]
     },
     "execution_count": 13,
     "metadata": {},
     "output_type": "execute_result"
    }
   ],
   "source": [
    "(X_train == 0).sum()\n",
    "# (y_train == 0).sum()"
   ]
  },
  {
   "cell_type": "markdown",
   "metadata": {},
   "source": [
    "### Unique values"
   ]
  },
  {
   "cell_type": "markdown",
   "metadata": {},
   "source": [
    "A naive estimate on the number of unique sectors and routes within these sectors. Submitted by a number of distinct users."
   ]
  },
  {
   "cell_type": "code",
   "execution_count": 14,
   "metadata": {
    "ExecuteTime": {
     "end_time": "2018-11-19T12:08:09.333974Z",
     "start_time": "2018-11-19T12:08:09.254848Z"
    }
   },
   "outputs": [
    {
     "data": {
      "text/plain": [
       "sector_id      351\n",
       "route        12468\n",
       "user_id       3302\n",
       "dtype: int64"
      ]
     },
     "execution_count": 14,
     "metadata": {},
     "output_type": "execute_result"
    }
   ],
   "source": [
    "X_train[['sector_id', 'route', 'user_id']].nunique()"
   ]
  },
  {
   "cell_type": "markdown",
   "metadata": {},
   "source": [
    "Why do we call the above estimate _naive_? \n",
    "\n",
    "According to (climb-europe.com)[http://www.climb-europe.com/RockClimbingGermany/RockClimbingFrankenjura.html] _there are approximately 1,000 crags spread out in a beautiful forest terrain_ (Note that _crags_ in the above quote is the same as _sectors_ in our dataset.) This seems fine since in our dataset there are 351 different sectors noted.\n",
    "\n",
    "In the article it continues to claim that _Frankenjura boasts in excess of 10,000 routes._ Now this is where we should get a little suspicious. In only 350 sectors our dataset apparently contains already more than 12,000 routes - which is well above the 10,000 mentioned in the article.\n",
    "\n",
    "Lets dig deeper here.\n"
   ]
  },
  {
   "cell_type": "markdown",
   "metadata": {},
   "source": [
    "What are the records where `sector_id` is 0?  \n",
    "We take a look at a number of samples."
   ]
  },
  {
   "cell_type": "code",
   "execution_count": 15,
   "metadata": {
    "ExecuteTime": {
     "end_time": "2018-11-19T12:08:09.349042Z",
     "start_time": "2018-11-19T12:08:09.336082Z"
    }
   },
   "outputs": [
    {
     "data": {
      "text/html": [
       "<div>\n",
       "<style scoped>\n",
       "    .dataframe tbody tr th:only-of-type {\n",
       "        vertical-align: middle;\n",
       "    }\n",
       "\n",
       "    .dataframe tbody tr th {\n",
       "        vertical-align: top;\n",
       "    }\n",
       "\n",
       "    .dataframe thead th {\n",
       "        text-align: right;\n",
       "    }\n",
       "</style>\n",
       "<table border=\"1\" class=\"dataframe\">\n",
       "  <thead>\n",
       "    <tr style=\"text-align: right;\">\n",
       "      <th></th>\n",
       "      <th>id</th>\n",
       "      <th>sector_id</th>\n",
       "      <th>sector</th>\n",
       "      <th>route</th>\n",
       "      <th>rating</th>\n",
       "      <th>user_id</th>\n",
       "    </tr>\n",
       "  </thead>\n",
       "  <tbody>\n",
       "    <tr>\n",
       "      <th>58187</th>\n",
       "      <td>2970992</td>\n",
       "      <td>0</td>\n",
       "      <td>Leumer Ged.-Wand</td>\n",
       "      <td>Exit</td>\n",
       "      <td>2</td>\n",
       "      <td>31909</td>\n",
       "    </tr>\n",
       "    <tr>\n",
       "      <th>2890</th>\n",
       "      <td>236335</td>\n",
       "      <td>0</td>\n",
       "      <td></td>\n",
       "      <td>bis zum b. ende</td>\n",
       "      <td>0</td>\n",
       "      <td>6572</td>\n",
       "    </tr>\n",
       "    <tr>\n",
       "      <th>37353</th>\n",
       "      <td>2083020</td>\n",
       "      <td>0</td>\n",
       "      <td></td>\n",
       "      <td>Don't know name</td>\n",
       "      <td>0</td>\n",
       "      <td>18295</td>\n",
       "    </tr>\n",
       "    <tr>\n",
       "      <th>31576</th>\n",
       "      <td>1793449</td>\n",
       "      <td>0</td>\n",
       "      <td>Schlossbergzwillinge</td>\n",
       "      <td>Netter Götz</td>\n",
       "      <td>0</td>\n",
       "      <td>4145</td>\n",
       "    </tr>\n",
       "    <tr>\n",
       "      <th>86496</th>\n",
       "      <td>3929465</td>\n",
       "      <td>0</td>\n",
       "      <td>Christinewand</td>\n",
       "      <td>Oh Captain, mein</td>\n",
       "      <td>0</td>\n",
       "      <td>44606</td>\n",
       "    </tr>\n",
       "    <tr>\n",
       "      <th>66746</th>\n",
       "      <td>3326112</td>\n",
       "      <td>0</td>\n",
       "      <td></td>\n",
       "      <td>Cumbawamba</td>\n",
       "      <td>0</td>\n",
       "      <td>53513</td>\n",
       "    </tr>\n",
       "    <tr>\n",
       "      <th>77554</th>\n",
       "      <td>3686929</td>\n",
       "      <td>0</td>\n",
       "      <td></td>\n",
       "      <td>Dickes B</td>\n",
       "      <td>1</td>\n",
       "      <td>5511</td>\n",
       "    </tr>\n",
       "    <tr>\n",
       "      <th>86595</th>\n",
       "      <td>3933214</td>\n",
       "      <td>0</td>\n",
       "      <td>Schossbergwände</td>\n",
       "      <td>Invading Celts</td>\n",
       "      <td>0</td>\n",
       "      <td>12478</td>\n",
       "    </tr>\n",
       "    <tr>\n",
       "      <th>26559</th>\n",
       "      <td>1629750</td>\n",
       "      <td>0</td>\n",
       "      <td>Aufsesstal Südwand</td>\n",
       "      <td>Pfeiler</td>\n",
       "      <td>0</td>\n",
       "      <td>21271</td>\n",
       "    </tr>\n",
       "    <tr>\n",
       "      <th>57076</th>\n",
       "      <td>2944115</td>\n",
       "      <td>0</td>\n",
       "      <td>Ailsbachtaler Block</td>\n",
       "      <td>RSI</td>\n",
       "      <td>2</td>\n",
       "      <td>18527</td>\n",
       "    </tr>\n",
       "  </tbody>\n",
       "</table>\n",
       "</div>"
      ],
      "text/plain": [
       "            id  sector_id                sector             route  rating  \\\n",
       "58187  2970992          0      Leumer Ged.-Wand              Exit       2   \n",
       "2890    236335          0                         bis zum b. ende       0   \n",
       "37353  2083020          0                         Don't know name       0   \n",
       "31576  1793449          0  Schlossbergzwillinge       Netter Götz       0   \n",
       "86496  3929465          0         Christinewand  Oh Captain, mein       0   \n",
       "66746  3326112          0                              Cumbawamba       0   \n",
       "77554  3686929          0                                Dickes B       1   \n",
       "86595  3933214          0       Schossbergwände    Invading Celts       0   \n",
       "26559  1629750          0    Aufsesstal Südwand           Pfeiler       0   \n",
       "57076  2944115          0   Ailsbachtaler Block               RSI       2   \n",
       "\n",
       "       user_id  \n",
       "58187    31909  \n",
       "2890      6572  \n",
       "37353    18295  \n",
       "31576     4145  \n",
       "86496    44606  \n",
       "66746    53513  \n",
       "77554     5511  \n",
       "86595    12478  \n",
       "26559    21271  \n",
       "57076    18527  "
      ]
     },
     "execution_count": 15,
     "metadata": {},
     "output_type": "execute_result"
    }
   ],
   "source": [
    "X_train[X_train['sector_id'] == 0].head(10)"
   ]
  },
  {
   "cell_type": "markdown",
   "metadata": {},
   "source": [
    "## Exploratory Visualization"
   ]
  },
  {
   "cell_type": "markdown",
   "metadata": {},
   "source": [
    "### Missing values\n",
    "\n",
    "Lets look at the **Missing** or **Zero values** per column."
   ]
  },
  {
   "cell_type": "code",
   "execution_count": 16,
   "metadata": {
    "ExecuteTime": {
     "end_time": "2018-11-19T12:08:09.712947Z",
     "start_time": "2018-11-19T12:08:09.351345Z"
    }
   },
   "outputs": [
    {
     "data": {
      "image/png": "[encoded data removed]",
      "text/plain": [
       "<Figure size 720x360 with 1 Axes>"
      ]
     },
     "metadata": {
      "needs_background": "light"
     },
     "output_type": "display_data"
    }
   ],
   "source": [
    "plot_helper.missing_values_overview(X_train)"
   ]
  },
  {
   "cell_type": "markdown",
   "metadata": {},
   "source": [
    "In our data set `0` is in indicator for missing values, except for `sex` where `0` indicates `male` (and `1` for `female`).\n",
    "\n",
    "From the graph above we can conclude that we have missing data in `sector_id`, `raw_notes`, `rating`, `height`, `weight`, `birth`, `started_climbing`.\n",
    "\n",
    "Since `sector_id` and `rating` are important for our analysis, we have to consider what to do about those missing values during Data Preparation later on."
   ]
  },
  {
   "cell_type": "markdown",
   "metadata": {},
   "source": [
    "## Analysis of our target variable `rating`"
   ]
  },
  {
   "cell_type": "markdown",
   "metadata": {},
   "source": [
    "What are the unique values of our target variable?"
   ]
  },
  {
   "cell_type": "code",
   "execution_count": 17,
   "metadata": {
    "ExecuteTime": {
     "end_time": "2018-11-19T12:08:09.720468Z",
     "start_time": "2018-11-19T12:08:09.715162Z"
    }
   },
   "outputs": [
    {
     "data": {
      "text/plain": [
       "array([2, 0, 3, 1])"
      ]
     },
     "execution_count": 17,
     "metadata": {},
     "output_type": "execute_result"
    }
   ],
   "source": [
    "y_train = X_train['rating']\n",
    "y_train.unique()"
   ]
  },
  {
   "cell_type": "markdown",
   "metadata": {},
   "source": [
    "And how is their distribution?\n"
   ]
  },
  {
   "cell_type": "code",
   "execution_count": 18,
   "metadata": {
    "ExecuteTime": {
     "end_time": "2018-11-19T12:08:09.742241Z",
     "start_time": "2018-11-19T12:08:09.722505Z"
    }
   },
   "outputs": [
    {
     "data": {
      "text/plain": [
       "0    52.6\n",
       "1    11.1\n",
       "2    18.7\n",
       "3    17.6\n",
       "Name: rating, dtype: float64"
      ]
     },
     "execution_count": 18,
     "metadata": {},
     "output_type": "execute_result"
    }
   ],
   "source": [
    "percentages = round(y_train.value_counts().sort_index() / y_train.count() * 100, 1)\n",
    "percentages"
   ]
  },
  {
   "cell_type": "code",
   "execution_count": 19,
   "metadata": {
    "ExecuteTime": {
     "end_time": "2018-11-19T12:08:09.893893Z",
     "start_time": "2018-11-19T12:08:09.744560Z"
    }
   },
   "outputs": [
    {
     "data": {
      "text/plain": [
       "<matplotlib.axes._subplots.AxesSubplot at 0x1a1a7a3c18>"
      ]
     },
     "execution_count": 19,
     "metadata": {},
     "output_type": "execute_result"
    },
    {
     "data": {
      "image/png": "[encoded data removed]",
      "text/plain": [
       "<Figure size 432x288 with 1 Axes>"
      ]
     },
     "metadata": {
      "needs_background": "light"
     },
     "output_type": "display_data"
    }
   ],
   "source": [
    "y_train.value_counts().sort_index().plot(\n",
    "    kind='bar', title='ratings occurrence', xticks=percentages)"
   ]
  },
  {
   "cell_type": "code",
   "execution_count": 20,
   "metadata": {
    "ExecuteTime": {
     "end_time": "2018-11-19T12:08:09.912685Z",
     "start_time": "2018-11-19T12:08:09.896880Z"
    }
   },
   "outputs": [
    {
     "data": {
      "text/plain": [
       "count    43483.000000\n",
       "mean         2.135639\n",
       "std          0.766220\n",
       "min          1.000000\n",
       "25%          2.000000\n",
       "50%          2.000000\n",
       "75%          3.000000\n",
       "max          3.000000\n",
       "Name: rating, dtype: float64"
      ]
     },
     "execution_count": 20,
     "metadata": {},
     "output_type": "execute_result"
    }
   ],
   "source": [
    "y_train[y_train != 0].describe()"
   ]
  },
  {
   "cell_type": "markdown",
   "metadata": {
    "ExecuteTime": {
     "end_time": "2018-11-15T23:40:18.226175Z",
     "start_time": "2018-11-15T23:40:18.222324Z"
    }
   },
   "source": [
    "Out of those climbs, that were rated, the average is 2.14."
   ]
  },
  {
   "cell_type": "markdown",
   "metadata": {},
   "source": [
    "What is the percentage of users that rated at least one climb?"
   ]
  },
  {
   "cell_type": "code",
   "execution_count": 21,
   "metadata": {
    "ExecuteTime": {
     "end_time": "2018-11-19T12:08:09.927483Z",
     "start_time": "2018-11-19T12:08:09.915029Z"
    }
   },
   "outputs": [
    {
     "data": {
      "text/plain": [
       "False    2247\n",
       "True     1055\n",
       "Name: rating, dtype: int64"
      ]
     },
     "execution_count": 21,
     "metadata": {},
     "output_type": "execute_result"
    }
   ],
   "source": [
    "(X_train.groupby('user_id')['rating'].sum() == 0).value_counts()"
   ]
  },
  {
   "cell_type": "markdown",
   "metadata": {
    "ExecuteTime": {
     "end_time": "2018-11-16T00:02:23.741029Z",
     "start_time": "2018-11-16T00:02:23.736576Z"
    }
   },
   "source": [
    "This means that approx. 2/3 of users have rated at least one item."
   ]
  },
  {
   "cell_type": "markdown",
   "metadata": {},
   "source": [
    "How many ratings are there per user?"
   ]
  },
  {
   "cell_type": "code",
   "execution_count": 22,
   "metadata": {
    "ExecuteTime": {
     "end_time": "2018-11-19T12:08:11.945944Z",
     "start_time": "2018-11-19T12:08:09.929475Z"
    }
   },
   "outputs": [
    {
     "data": {
      "text/plain": [
       "<matplotlib.axes._subplots.AxesSubplot at 0x1a1a0d0630>"
      ]
     },
     "execution_count": 22,
     "metadata": {},
     "output_type": "execute_result"
    },
    {
     "data": {
      "image/png": "[encoded data removed]",
      "text/plain": [
       "<Figure size 432x288 with 1 Axes>"
      ]
     },
     "metadata": {
      "needs_background": "light"
     },
     "output_type": "display_data"
    }
   ],
   "source": [
    "ratings_per_user = X_train.groupby('user_id')['rating'].apply(lambda x: x[x != 0].count())\n",
    "ratings_per_user.sort_values().plot(\n",
    "    kind='line', title='No. of ratings per user', use_index=False)"
   ]
  },
  {
   "cell_type": "markdown",
   "metadata": {},
   "source": [
    "From the above plot we can see that there must be one or several outliers with a large number of ratings (around 1600). Let's apply the logarithm on the y-axis."
   ]
  },
  {
   "cell_type": "code",
   "execution_count": 23,
   "metadata": {
    "ExecuteTime": {
     "end_time": "2018-11-19T12:08:12.521121Z",
     "start_time": "2018-11-19T12:08:11.947791Z"
    }
   },
   "outputs": [
    {
     "data": {
      "text/plain": [
       "<matplotlib.axes._subplots.AxesSubplot at 0x1a1a053e80>"
      ]
     },
     "execution_count": 23,
     "metadata": {},
     "output_type": "execute_result"
    },
    {
     "data": {
      "image/png": "[encoded data removed]",
      "text/plain": [
       "<Figure size 432x288 with 1 Axes>"
      ]
     },
     "metadata": {
      "needs_background": "light"
     },
     "output_type": "display_data"
    }
   ],
   "source": [
    "ratings_per_user.sort_values().plot(\n",
    "    kind='line', title='No. of ratings per user', use_index=False, logy=True)"
   ]
  },
  {
   "cell_type": "markdown",
   "metadata": {
    "ExecuteTime": {
     "end_time": "2018-11-17T13:04:14.897030Z",
     "start_time": "2018-11-17T13:04:14.893184Z"
    }
   },
   "source": [
    "Now, this has more information. We can see that approx. 30% of users gave no rating at all. And more than 90% of users gave less than 200 ratings.\n",
    "\n",
    "Let's look at the percentiles information in detail to confirm this."
   ]
  },
  {
   "cell_type": "code",
   "execution_count": 24,
   "metadata": {
    "ExecuteTime": {
     "end_time": "2018-11-19T12:08:12.534246Z",
     "start_time": "2018-11-19T12:08:12.523270Z"
    }
   },
   "outputs": [
    {
     "data": {
      "text/plain": [
       "count    3302.000000\n",
       "mean       13.168686\n",
       "std        49.493971\n",
       "min         0.000000\n",
       "25%         0.000000\n",
       "33%         1.000000\n",
       "50%         2.000000\n",
       "75%         9.000000\n",
       "90%        29.900000\n",
       "95%        54.000000\n",
       "99%       149.000000\n",
       "max      1639.000000\n",
       "Name: rating, dtype: float64"
      ]
     },
     "execution_count": 24,
     "metadata": {},
     "output_type": "execute_result"
    }
   ],
   "source": [
    "ratings_per_user.describe(percentiles=[.25, 0.33, .50, .75, .90, .95, .99])"
   ]
  },
  {
   "cell_type": "markdown",
   "metadata": {},
   "source": [
    "## Algorithms and Techniques"
   ]
  },
  {
   "cell_type": "markdown",
   "metadata": {},
   "source": [
    "## Benchmark"
   ]
  },
  {
   "cell_type": "markdown",
   "metadata": {},
   "source": [
    "# Methodology"
   ]
  },
  {
   "cell_type": "markdown",
   "metadata": {},
   "source": [
    "## Data Preprocessing"
   ]
  },
  {
   "cell_type": "markdown",
   "metadata": {},
   "source": [
    "Remove records from dataset where `sector_id == 0`"
   ]
  },
  {
   "cell_type": "code",
   "execution_count": 25,
   "metadata": {
    "ExecuteTime": {
     "end_time": "2018-11-19T12:08:12.548852Z",
     "start_time": "2018-11-19T12:08:12.536478Z"
    }
   },
   "outputs": [],
   "source": [
    "X_train = X_train[X_train['sector_id'] != 0]"
   ]
  },
  {
   "cell_type": "code",
   "execution_count": 26,
   "metadata": {
    "ExecuteTime": {
     "end_time": "2018-11-19T12:08:12.553312Z",
     "start_time": "2018-11-19T12:08:12.550963Z"
    }
   },
   "outputs": [],
   "source": [
    "# TODO\n",
    "# Consolidate sectors, e.g. sector_id: 839, 12382"
   ]
  },
  {
   "cell_type": "markdown",
   "metadata": {},
   "source": [
    "### Consolidate route names, remove duplicates"
   ]
  },
  {
   "cell_type": "markdown",
   "metadata": {
    "ExecuteTime": {
     "end_time": "2018-11-18T15:37:36.277416Z",
     "start_time": "2018-11-18T15:37:36.273212Z"
    }
   },
   "source": [
    "Since our data set does not provide a unique id for routes, we can only go by the name to identify a route. Unfortunately, there are many versions of route names as well as spelling mistakes. In order to arrive at a unique list of routes, we need to do some cleaning up.  \n",
    "\n",
    "The following example illustrates that."
   ]
  },
  {
   "cell_type": "code",
   "execution_count": 27,
   "metadata": {
    "ExecuteTime": {
     "end_time": "2018-11-19T12:08:12.611153Z",
     "start_time": "2018-11-19T12:08:12.555366Z"
    }
   },
   "outputs": [
    {
     "data": {
      "text/plain": [
       "103874      Adrspach weg\n",
       "43374       Adrspach Weg\n",
       "86487     Adrschpach Weg\n",
       "Name: route, dtype: object"
      ]
     },
     "execution_count": 27,
     "metadata": {},
     "output_type": "execute_result"
    }
   ],
   "source": [
    "X_train[X_train['route'].str.startswith('Adr')].drop_duplicates(subset=['route'])['route']"
   ]
  },
  {
   "cell_type": "markdown",
   "metadata": {},
   "source": [
    "Let's start by converting all route names to lowercase and removing special characters."
   ]
  },
  {
   "cell_type": "code",
   "execution_count": 28,
   "metadata": {
    "ExecuteTime": {
     "end_time": "2018-11-19T12:08:12.768699Z",
     "start_time": "2018-11-19T12:08:12.613411Z"
    }
   },
   "outputs": [],
   "source": [
    "X_train['route'] = X_train['route'].str.lower()"
   ]
  },
  {
   "cell_type": "code",
   "execution_count": 29,
   "metadata": {
    "ExecuteTime": {
     "end_time": "2018-11-19T12:08:12.901595Z",
     "start_time": "2018-11-19T12:08:12.770813Z"
    }
   },
   "outputs": [],
   "source": [
    "X_train['route'] = X_train['route'].str.replace('[^A-Za-z\\s]+', '')"
   ]
  },
  {
   "cell_type": "markdown",
   "metadata": {},
   "source": [
    "Remove records with non-alphanumeric entries in columns `sector` or `route`."
   ]
  },
  {
   "cell_type": "code",
   "execution_count": 30,
   "metadata": {
    "ExecuteTime": {
     "end_time": "2018-11-19T12:08:13.170674Z",
     "start_time": "2018-11-19T12:08:12.903860Z"
    },
    "code_folding": []
   },
   "outputs": [],
   "source": [
    "import re\n",
    "\n",
    "def removeNonAlpha(df, columns):\n",
    "    '''Removes rows from dataframe where value within column is completely non-alphanumeric.\n",
    "    Ex. '?', '???', '_-%$$'   '''\n",
    "    \n",
    "    # regex that matches non alphanumeric strings\n",
    "    pattern = '^[^a-zA-Z\\d\\s:]*$'\n",
    "        \n",
    "    for col in columns:\n",
    "        myfilter = df[col].str.contains(pattern)\n",
    "        df = df[~myfilter]\n",
    "    \n",
    "    return df\n",
    "\n",
    "df = removeNonAlpha(df, ['sector', 'route'])"
   ]
  },
  {
   "cell_type": "markdown",
   "metadata": {},
   "source": [
    "Get routes per sector"
   ]
  },
  {
   "cell_type": "code",
   "execution_count": 31,
   "metadata": {
    "ExecuteTime": {
     "end_time": "2018-11-19T12:08:13.177133Z",
     "start_time": "2018-11-19T12:08:13.173290Z"
    }
   },
   "outputs": [],
   "source": [
    "def get_routes_per_sector(df, sector_id):\n",
    "    '''Returns a series with route names as labels and count of route name occurrences as values'''\n",
    "\n",
    "    df_one_sector = df[df['sector_id'] == sector_id]\n",
    "    return df_one_sector['route'].value_counts()"
   ]
  },
  {
   "cell_type": "code",
   "execution_count": 32,
   "metadata": {
    "ExecuteTime": {
     "end_time": "2018-11-19T12:08:13.183222Z",
     "start_time": "2018-11-19T12:08:13.179068Z"
    }
   },
   "outputs": [],
   "source": [
    "sectors = X_train['sector_id'].drop_duplicates()"
   ]
  },
  {
   "cell_type": "code",
   "execution_count": 33,
   "metadata": {
    "ExecuteTime": {
     "end_time": "2018-11-19T12:08:13.192801Z",
     "start_time": "2018-11-19T12:08:13.185386Z"
    },
    "code_folding": [
     4
    ]
   },
   "outputs": [],
   "source": [
    "# http://www.coli.uni-saarland.de/courses/LT1/2011/slides/Python-Levenshtein.html\n",
    "# from Levenshtein import distance\n",
    "from Levenshtein import jaro_winkler\n",
    "\n",
    "def create_jaro_winkler(keys, prefix_weight=None):\n",
    "    '''Calculates Jaro-Winkler-Distance among all items of `keys` and returns calculation results as a matrix'''\n",
    "\n",
    "    # TODO  is there a more pythonic way of calculating this matrix?\n",
    "    \n",
    "    jaro_winkler_matrix = np.ones((len(keys), len(keys)))\n",
    "\n",
    "    i = 0\n",
    "    while i <= len(keys) - 1:\n",
    "        j = 0\n",
    "        while j <= len(keys) - 1:\n",
    "            if i != j:\n",
    "                jaro_winkler_matrix[i][j] = jaro_winkler(\n",
    "                    keys[i], keys[j]) if prefix_weight is None else jaro_winkler(keys[i], keys[j], prefix_weight)\n",
    "            j += 1\n",
    "        i += 1\n",
    "\n",
    "    return jaro_winkler_matrix"
   ]
  },
  {
   "cell_type": "code",
   "execution_count": 36,
   "metadata": {
    "ExecuteTime": {
     "end_time": "2018-11-19T12:08:13.226218Z",
     "start_time": "2018-11-19T12:08:13.222033Z"
    },
    "code_folding": [
     0
    ]
   },
   "outputs": [],
   "source": [
    "def remove_overlap(d):\n",
    "    '''Resolve 'paths' within the dictionary, e.g. \n",
    "     { A : B, B : C }  ->  { A : C, B : C }\n",
    "     Returns cleaned dictionary'''\n",
    "\n",
    "    set_keys = set(d.keys())\n",
    "    set_values = set(d.values())\n",
    "    set_intersect = set_keys.intersection(set_values)\n",
    "\n",
    "    for v in set_intersect:\n",
    "        new_target = d[v]\n",
    "\n",
    "        filtered_dict = {key: new_target for (\n",
    "            key, value) in d.items() if value == v}\n",
    "        filtered_dict\n",
    "\n",
    "        for i, j in d.items():\n",
    "            if i in filtered_dict.keys():\n",
    "                d[i] = filtered_dict[i]\n",
    "\n",
    "    return d"
   ]
  },
  {
   "cell_type": "code",
   "execution_count": 46,
   "metadata": {
    "ExecuteTime": {
     "end_time": "2018-11-19T12:12:51.782109Z",
     "start_time": "2018-11-19T12:12:51.774723Z"
    },
    "code_folding": [
     0
    ]
   },
   "outputs": [],
   "source": [
    "def clean_routes(df, sector_id, threshold=0.9, prefix_weight=1/1000, debug=False):\n",
    "    '''Replaces route name within given `sector_id` with the most similar matching name that has the most occurrences.'''\n",
    "\n",
    "    routes_per_sector = get_routes_per_sector(df, sector_id)\n",
    "    keys = routes_per_sector.keys()\n",
    "    values = routes_per_sector.values\n",
    "\n",
    "    # Create Jaro-Winkler-Matrix and fill diagonal with zeros, \n",
    "    # otherwise max value will always be 1.0 (as diagonal is always 1.0)\n",
    "    jaro_winkler_matrix = create_jaro_winkler(keys, prefix_weight)\n",
    "    np.fill_diagonal(jaro_winkler_matrix, 0)\n",
    "\n",
    "    # empty nested dictionary, for replacements of similar route names\n",
    "    replacements = {'route': {}}\n",
    "\n",
    "    # find max count of values above threshold\n",
    "    indices_above_threshold = np.transpose(\n",
    "        np.nonzero(jaro_winkler_matrix >= threshold))\n",
    "\n",
    "    first_values = [t[0] for t in indices_above_threshold]\n",
    "    unique_first_values = np.unique(first_values)\n",
    "\n",
    "    for u in unique_first_values:\n",
    "        tuples_list = [t for t in indices_above_threshold if t[0] == u]\n",
    "        counts_list = [values[t2[1]] for t2 in tuples_list]\n",
    "        val_max = max(counts_list)\n",
    "        index_max = counts_list.index(max(counts_list))\n",
    "        keys[tuples_list[index_max][1]]\n",
    "\n",
    "        if values[u] < values[tuples_list[index_max][1]]:\n",
    "            replacements['route'][keys[u]] = keys[tuples_list[index_max][1]]\n",
    "            if debug:\n",
    "                print(\n",
    "                    f'Replacement: {keys[u]}({values[u]}) : {keys[tuples_list[index_max][1]]}({values[tuples_list[index_max][1]]}) ')        \n",
    "\n",
    "    # Resolve overlaps in replacements\n",
    "    replacements['route'] = remove_overlap(replacements['route'])\n",
    "        \n",
    "    # Replace all found similar route names\n",
    "    df.loc[df_temp['sector_id'] == sector_id] = df_temp.replace(\n",
    "        to_replace=replacements)\n",
    "\n",
    "    return df"
   ]
  },
  {
   "cell_type": "code",
   "execution_count": 44,
   "metadata": {
    "ExecuteTime": {
     "end_time": "2018-11-19T12:09:36.973520Z",
     "start_time": "2018-11-19T12:09:36.970508Z"
    },
    "pixiedust": {
     "displayParams": {}
    }
   },
   "outputs": [],
   "source": [
    "# %%pixie_debugger\n",
    "\n",
    "# df_temp = X_train.copy()\n",
    "# df_temp = clean_routes(df_temp, 256, debug=True)"
   ]
  },
  {
   "cell_type": "code",
   "execution_count": 40,
   "metadata": {
    "ExecuteTime": {
     "end_time": "2018-11-19T12:08:41.583851Z",
     "start_time": "2018-11-19T12:08:13.415276Z"
    },
    "pixiedust": {
     "displayParams": {}
    }
   },
   "outputs": [
    {
     "name": "stdout",
     "output_type": "stream",
     "text": [
      "111\n",
      "2020\n",
      "5169\n",
      "132\n",
      "2693\n",
      "657\n",
      "348\n",
      "1333\n",
      "256\n",
      "389\n",
      "1631\n",
      "126\n",
      "359\n",
      "1844\n",
      "2674\n",
      "1807\n",
      "108\n",
      "156\n",
      "311\n",
      "3238\n",
      "10254\n",
      "1808\n",
      "2696\n",
      "5292\n",
      "1310\n",
      "903\n",
      "492\n",
      "210\n",
      "320\n",
      "234\n",
      "1309\n",
      "2860\n",
      "589\n",
      "664\n",
      "1783\n",
      "1324\n",
      "3161\n",
      "624\n",
      "380\n",
      "382\n",
      "10381\n",
      "2394\n",
      "2701\n",
      "522\n",
      "4990\n",
      "793\n",
      "2409\n",
      "2336\n",
      "2357\n",
      "659\n",
      "1546\n",
      "650\n",
      "360\n",
      "5204\n",
      "3585\n",
      "3327\n",
      "302\n",
      "10924\n",
      "1599\n",
      "4355\n",
      "706\n",
      "583\n",
      "177\n",
      "2961\n",
      "369\n",
      "625\n",
      "12229\n",
      "3438\n",
      "1687\n",
      "4646\n",
      "715\n",
      "2082\n",
      "800\n",
      "687\n",
      "4545\n",
      "5567\n",
      "608\n",
      "304\n",
      "911\n",
      "3087\n",
      "10204\n",
      "4455\n",
      "457\n",
      "12224\n",
      "4677\n",
      "97\n",
      "2415\n",
      "580\n",
      "1580\n",
      "1314\n",
      "10723\n",
      "6990\n",
      "6994\n",
      "238\n",
      "1315\n",
      "1327\n",
      "3193\n",
      "3675\n",
      "1773\n",
      "513\n",
      "587\n",
      "2638\n",
      "2269\n",
      "452\n",
      "1323\n",
      "2119\n",
      "3185\n",
      "1901\n",
      "5382\n",
      "833\n",
      "758\n",
      "13027\n",
      "2547\n",
      "2340\n",
      "2874\n",
      "6139\n",
      "3577\n",
      "2666\n",
      "12178\n",
      "184\n",
      "4858\n",
      "3180\n",
      "1824\n",
      "1544\n",
      "2751\n",
      "481\n",
      "459\n",
      "839\n",
      "5558\n",
      "1677\n",
      "909\n",
      "421\n",
      "2141\n",
      "5797\n",
      "700\n",
      "4507\n",
      "5692\n",
      "2798\n",
      "381\n",
      "5404\n",
      "4943\n",
      "422\n",
      "11312\n",
      "6443\n",
      "10352\n",
      "6036\n",
      "3630\n",
      "6610\n",
      "637\n",
      "1524\n",
      "2697\n",
      "593\n",
      "2517\n",
      "2356\n",
      "8810\n",
      "2571\n",
      "1282\n",
      "766\n",
      "9162\n",
      "915\n",
      "6441\n",
      "1660\n",
      "1831\n",
      "2984\n",
      "611\n",
      "2302\n",
      "1326\n",
      "525\n",
      "13017\n",
      "8129\n",
      "647\n",
      "5526\n",
      "5701\n",
      "2341\n",
      "5340\n",
      "12751\n",
      "3219\n",
      "2712\n",
      "3050\n",
      "616\n",
      "3267\n",
      "2046\n",
      "8469\n",
      "5527\n",
      "8550\n",
      "2388\n",
      "5232\n",
      "4227\n",
      "4697\n",
      "4784\n",
      "1638\n",
      "8281\n",
      "2661\n",
      "4843\n",
      "2271\n",
      "2428\n",
      "12451\n",
      "2337\n",
      "3337\n",
      "2529\n",
      "5272\n",
      "1312\n",
      "10975\n",
      "10160\n",
      "2433\n",
      "10289\n",
      "8404\n",
      "2283\n",
      "5358\n",
      "1676\n",
      "5866\n",
      "2676\n",
      "1657\n",
      "4833\n",
      "4689\n",
      "2997\n",
      "2272\n",
      "8341\n",
      "1597\n",
      "3314\n",
      "3038\n",
      "5047\n",
      "5911\n",
      "753\n",
      "2725\n",
      "3662\n",
      "10195\n",
      "2426\n",
      "3492\n",
      "2534\n",
      "5620\n",
      "4703\n",
      "5822\n",
      "10850\n",
      "6201\n",
      "10979\n",
      "10190\n",
      "651\n",
      "8433\n",
      "8722\n",
      "6487\n",
      "4940\n",
      "2756\n",
      "6431\n",
      "5658\n",
      "5579\n",
      "3316\n",
      "1321\n",
      "5229\n",
      "2663\n",
      "3289\n",
      "3481\n",
      "4885\n",
      "3126\n",
      "3245\n",
      "5931\n",
      "3308\n",
      "13007\n",
      "12322\n",
      "11120\n",
      "8381\n",
      "825\n",
      "6495\n",
      "4505\n",
      "4357\n",
      "2330\n",
      "5362\n",
      "4459\n",
      "10351\n",
      "11045\n",
      "9542\n",
      "4639\n",
      "8490\n",
      "5032\n",
      "2569\n",
      "11749\n",
      "2734\n",
      "10772\n",
      "405\n",
      "8777\n",
      "5212\n",
      "5612\n",
      "12382\n",
      "5722\n",
      "8128\n",
      "9132\n",
      "3159\n",
      "8507\n",
      "5966\n",
      "8076\n",
      "5998\n",
      "5530\n",
      "1336\n",
      "5606\n",
      "2729\n",
      "5602\n",
      "10081\n",
      "6791\n",
      "10338\n",
      "8121\n",
      "8551\n",
      "2448\n",
      "2745\n",
      "5759\n",
      "9416\n",
      "5710\n",
      "6500\n",
      "4271\n",
      "6144\n",
      "8237\n",
      "3037\n",
      "9268\n",
      "11888\n",
      "11739\n",
      "11743\n",
      "6992\n",
      "12431\n",
      "6329\n",
      "10258\n",
      "6649\n",
      "3227\n",
      "1346\n",
      "3547\n",
      "103\n",
      "4862\n",
      "12448\n",
      "8950\n",
      "5125\n",
      "6813\n",
      "6362\n",
      "6278\n",
      "12490\n",
      "10991\n",
      "6349\n",
      "10335\n",
      "12652\n",
      "10361\n",
      "5860\n",
      "11814\n",
      "10978\n",
      "10447\n",
      "10985\n",
      "10291\n",
      "11163\n",
      "11237\n",
      "12661\n",
      "8809\n",
      "12432\n",
      "10986\n",
      "12091\n"
     ]
    }
   ],
   "source": [
    "\n",
    "# df_temp = clean_routes(X_train, 513)\n",
    "\n",
    "df_temp = X_train.copy()\n",
    "\n",
    "for sector in sectors:\n",
    "    df_temp = clean_routes(df_temp, sector)"
   ]
  },
  {
   "cell_type": "code",
   "execution_count": 51,
   "metadata": {
    "ExecuteTime": {
     "end_time": "2018-11-19T12:15:38.445236Z",
     "start_time": "2018-11-19T12:15:38.389904Z"
    }
   },
   "outputs": [
    {
     "data": {
      "text/html": [
       "<div>\n",
       "<style scoped>\n",
       "    .dataframe tbody tr th:only-of-type {\n",
       "        vertical-align: middle;\n",
       "    }\n",
       "\n",
       "    .dataframe tbody tr th {\n",
       "        vertical-align: top;\n",
       "    }\n",
       "\n",
       "    .dataframe thead th {\n",
       "        text-align: right;\n",
       "    }\n",
       "</style>\n",
       "<table border=\"1\" class=\"dataframe\">\n",
       "  <thead>\n",
       "    <tr style=\"text-align: right;\">\n",
       "      <th></th>\n",
       "      <th>id</th>\n",
       "      <th>sector_id</th>\n",
       "      <th>sector</th>\n",
       "      <th>route</th>\n",
       "      <th>rating</th>\n",
       "      <th>user_id</th>\n",
       "    </tr>\n",
       "  </thead>\n",
       "  <tbody>\n",
       "    <tr>\n",
       "      <th>65057</th>\n",
       "      <td>3282474</td>\n",
       "      <td>513</td>\n",
       "      <td>Kalte Wand</td>\n",
       "      <td>kalter knig</td>\n",
       "      <td>3</td>\n",
       "      <td>32640</td>\n",
       "    </tr>\n",
       "    <tr>\n",
       "      <th>55490</th>\n",
       "      <td>2888614</td>\n",
       "      <td>4784</td>\n",
       "      <td>Loreley</td>\n",
       "      <td>kalypso</td>\n",
       "      <td>0</td>\n",
       "      <td>18527</td>\n",
       "    </tr>\n",
       "    <tr>\n",
       "      <th>21985</th>\n",
       "      <td>1348863</td>\n",
       "      <td>2341</td>\n",
       "      <td>Schiefer Tod</td>\n",
       "      <td>kalter hauch</td>\n",
       "      <td>1</td>\n",
       "      <td>18348</td>\n",
       "    </tr>\n",
       "    <tr>\n",
       "      <th>102510</th>\n",
       "      <td>4523255</td>\n",
       "      <td>513</td>\n",
       "      <td>Kalte Wand</td>\n",
       "      <td>kalte schorle</td>\n",
       "      <td>1</td>\n",
       "      <td>20095</td>\n",
       "    </tr>\n",
       "    <tr>\n",
       "      <th>58986</th>\n",
       "      <td>2988245</td>\n",
       "      <td>647</td>\n",
       "      <td>Obere Gößweinsteiner Wände</td>\n",
       "      <td>kalauer</td>\n",
       "      <td>0</td>\n",
       "      <td>42769</td>\n",
       "    </tr>\n",
       "    <tr>\n",
       "      <th>48542</th>\n",
       "      <td>2559522</td>\n",
       "      <td>513</td>\n",
       "      <td>Kalte Wand</td>\n",
       "      <td>kalter knig</td>\n",
       "      <td>0</td>\n",
       "      <td>12478</td>\n",
       "    </tr>\n",
       "    <tr>\n",
       "      <th>31344</th>\n",
       "      <td>1774973</td>\n",
       "      <td>4784</td>\n",
       "      <td>Loreley</td>\n",
       "      <td>kalypso</td>\n",
       "      <td>3</td>\n",
       "      <td>23550</td>\n",
       "    </tr>\n",
       "    <tr>\n",
       "      <th>111406</th>\n",
       "      <td>4852305</td>\n",
       "      <td>513</td>\n",
       "      <td>Kalte Wand</td>\n",
       "      <td>kalter knig</td>\n",
       "      <td>1</td>\n",
       "      <td>34917</td>\n",
       "    </tr>\n",
       "    <tr>\n",
       "      <th>112935</th>\n",
       "      <td>4881134</td>\n",
       "      <td>3481</td>\n",
       "      <td>Eibenwände</td>\n",
       "      <td>kalte zeiten</td>\n",
       "      <td>0</td>\n",
       "      <td>50735</td>\n",
       "    </tr>\n",
       "    <tr>\n",
       "      <th>36484</th>\n",
       "      <td>2052662</td>\n",
       "      <td>647</td>\n",
       "      <td>Obere Gößweinsteiner Wände</td>\n",
       "      <td>kalauer</td>\n",
       "      <td>2</td>\n",
       "      <td>15312</td>\n",
       "    </tr>\n",
       "    <tr>\n",
       "      <th>106570</th>\n",
       "      <td>4750886</td>\n",
       "      <td>2984</td>\n",
       "      <td>Dornröschenwand</td>\n",
       "      <td>kalte finger</td>\n",
       "      <td>2</td>\n",
       "      <td>26302</td>\n",
       "    </tr>\n",
       "    <tr>\n",
       "      <th>15058</th>\n",
       "      <td>993724</td>\n",
       "      <td>513</td>\n",
       "      <td>Kalte Wand</td>\n",
       "      <td>kalter knig</td>\n",
       "      <td>2</td>\n",
       "      <td>13548</td>\n",
       "    </tr>\n",
       "    <tr>\n",
       "      <th>34746</th>\n",
       "      <td>2008904</td>\n",
       "      <td>647</td>\n",
       "      <td>Obere Gößweinsteiner Wände</td>\n",
       "      <td>kalauer</td>\n",
       "      <td>2</td>\n",
       "      <td>34315</td>\n",
       "    </tr>\n",
       "    <tr>\n",
       "      <th>79923</th>\n",
       "      <td>3798911</td>\n",
       "      <td>5292</td>\n",
       "      <td>Stierberger Gemsenwand</td>\n",
       "      <td>kaltstart</td>\n",
       "      <td>1</td>\n",
       "      <td>20095</td>\n",
       "    </tr>\n",
       "    <tr>\n",
       "      <th>107123</th>\n",
       "      <td>4762884</td>\n",
       "      <td>513</td>\n",
       "      <td>Kalte Wand</td>\n",
       "      <td>kalter knig</td>\n",
       "      <td>0</td>\n",
       "      <td>31214</td>\n",
       "    </tr>\n",
       "    <tr>\n",
       "      <th>4917</th>\n",
       "      <td>354443</td>\n",
       "      <td>4784</td>\n",
       "      <td>Loreley</td>\n",
       "      <td>kalypso</td>\n",
       "      <td>3</td>\n",
       "      <td>4820</td>\n",
       "    </tr>\n",
       "    <tr>\n",
       "      <th>83484</th>\n",
       "      <td>3867519</td>\n",
       "      <td>513</td>\n",
       "      <td>Kalte Wand</td>\n",
       "      <td>kalter knig</td>\n",
       "      <td>3</td>\n",
       "      <td>49229</td>\n",
       "    </tr>\n",
       "    <tr>\n",
       "      <th>83459</th>\n",
       "      <td>3867188</td>\n",
       "      <td>513</td>\n",
       "      <td>Kalte Wand</td>\n",
       "      <td>kalte schorle</td>\n",
       "      <td>3</td>\n",
       "      <td>41254</td>\n",
       "    </tr>\n",
       "    <tr>\n",
       "      <th>68516</th>\n",
       "      <td>3372921</td>\n",
       "      <td>647</td>\n",
       "      <td>Obere Gößweinsteiner Wände</td>\n",
       "      <td>kalauer</td>\n",
       "      <td>0</td>\n",
       "      <td>28604</td>\n",
       "    </tr>\n",
       "    <tr>\n",
       "      <th>28771</th>\n",
       "      <td>1695916</td>\n",
       "      <td>647</td>\n",
       "      <td>Obere Gößweinsteiner Wände</td>\n",
       "      <td>kalauer</td>\n",
       "      <td>1</td>\n",
       "      <td>33070</td>\n",
       "    </tr>\n",
       "    <tr>\n",
       "      <th>42674</th>\n",
       "      <td>2413280</td>\n",
       "      <td>647</td>\n",
       "      <td>Obere Gößweinsteiner Wände</td>\n",
       "      <td>kalauer</td>\n",
       "      <td>2</td>\n",
       "      <td>38848</td>\n",
       "    </tr>\n",
       "    <tr>\n",
       "      <th>8820</th>\n",
       "      <td>652514</td>\n",
       "      <td>647</td>\n",
       "      <td>Obere Gößweinsteiner Wände</td>\n",
       "      <td>kalauer</td>\n",
       "      <td>3</td>\n",
       "      <td>16414</td>\n",
       "    </tr>\n",
       "    <tr>\n",
       "      <th>25366</th>\n",
       "      <td>1588329</td>\n",
       "      <td>4784</td>\n",
       "      <td>Loreley</td>\n",
       "      <td>kalypso</td>\n",
       "      <td>2</td>\n",
       "      <td>5512</td>\n",
       "    </tr>\n",
       "    <tr>\n",
       "      <th>76012</th>\n",
       "      <td>3539931</td>\n",
       "      <td>513</td>\n",
       "      <td>Kalte Wand</td>\n",
       "      <td>kalter knig</td>\n",
       "      <td>0</td>\n",
       "      <td>17509</td>\n",
       "    </tr>\n",
       "    <tr>\n",
       "      <th>80900</th>\n",
       "      <td>3813499</td>\n",
       "      <td>513</td>\n",
       "      <td>Kalte Wand</td>\n",
       "      <td>kalte schorle</td>\n",
       "      <td>3</td>\n",
       "      <td>51871</td>\n",
       "    </tr>\n",
       "    <tr>\n",
       "      <th>91165</th>\n",
       "      <td>4159628</td>\n",
       "      <td>513</td>\n",
       "      <td>Kalte Wand</td>\n",
       "      <td>kalte schorle</td>\n",
       "      <td>0</td>\n",
       "      <td>164</td>\n",
       "    </tr>\n",
       "    <tr>\n",
       "      <th>102000</th>\n",
       "      <td>4489400</td>\n",
       "      <td>4689</td>\n",
       "      <td>Grünreuther Wand</td>\n",
       "      <td>kalktraum</td>\n",
       "      <td>0</td>\n",
       "      <td>20095</td>\n",
       "    </tr>\n",
       "    <tr>\n",
       "      <th>68117</th>\n",
       "      <td>3363129</td>\n",
       "      <td>2341</td>\n",
       "      <td>Schiefer Tod</td>\n",
       "      <td>kalter hauch</td>\n",
       "      <td>3</td>\n",
       "      <td>27157</td>\n",
       "    </tr>\n",
       "    <tr>\n",
       "      <th>84701</th>\n",
       "      <td>3896501</td>\n",
       "      <td>513</td>\n",
       "      <td>Kalte Wand</td>\n",
       "      <td>kalter kaffee</td>\n",
       "      <td>3</td>\n",
       "      <td>54623</td>\n",
       "    </tr>\n",
       "    <tr>\n",
       "      <th>96060</th>\n",
       "      <td>4346587</td>\n",
       "      <td>513</td>\n",
       "      <td>Kalte Wand</td>\n",
       "      <td>kalter knig</td>\n",
       "      <td>2</td>\n",
       "      <td>37676</td>\n",
       "    </tr>\n",
       "    <tr>\n",
       "      <th>...</th>\n",
       "      <td>...</td>\n",
       "      <td>...</td>\n",
       "      <td>...</td>\n",
       "      <td>...</td>\n",
       "      <td>...</td>\n",
       "      <td>...</td>\n",
       "    </tr>\n",
       "    <tr>\n",
       "      <th>4889</th>\n",
       "      <td>353245</td>\n",
       "      <td>4784</td>\n",
       "      <td>Loreley</td>\n",
       "      <td>kalypso</td>\n",
       "      <td>0</td>\n",
       "      <td>4740</td>\n",
       "    </tr>\n",
       "    <tr>\n",
       "      <th>58879</th>\n",
       "      <td>2987669</td>\n",
       "      <td>513</td>\n",
       "      <td>Kalte Wand</td>\n",
       "      <td>kalter knig</td>\n",
       "      <td>0</td>\n",
       "      <td>6292</td>\n",
       "    </tr>\n",
       "    <tr>\n",
       "      <th>64769</th>\n",
       "      <td>3270656</td>\n",
       "      <td>513</td>\n",
       "      <td>Kalte Wand</td>\n",
       "      <td>kalter knig</td>\n",
       "      <td>0</td>\n",
       "      <td>50368</td>\n",
       "    </tr>\n",
       "    <tr>\n",
       "      <th>57768</th>\n",
       "      <td>2960267</td>\n",
       "      <td>647</td>\n",
       "      <td>Obere Gößweinsteiner Wände</td>\n",
       "      <td>kalauer</td>\n",
       "      <td>3</td>\n",
       "      <td>30065</td>\n",
       "    </tr>\n",
       "    <tr>\n",
       "      <th>73777</th>\n",
       "      <td>3473988</td>\n",
       "      <td>4784</td>\n",
       "      <td>Loreley</td>\n",
       "      <td>kalypso</td>\n",
       "      <td>2</td>\n",
       "      <td>29143</td>\n",
       "    </tr>\n",
       "    <tr>\n",
       "      <th>33454</th>\n",
       "      <td>1969242</td>\n",
       "      <td>513</td>\n",
       "      <td>Kalte Wand</td>\n",
       "      <td>kalter knig</td>\n",
       "      <td>0</td>\n",
       "      <td>26180</td>\n",
       "    </tr>\n",
       "    <tr>\n",
       "      <th>57704</th>\n",
       "      <td>2958301</td>\n",
       "      <td>647</td>\n",
       "      <td>Obere Gößweinsteiner Wände</td>\n",
       "      <td>kalauer</td>\n",
       "      <td>3</td>\n",
       "      <td>39180</td>\n",
       "    </tr>\n",
       "    <tr>\n",
       "      <th>93007</th>\n",
       "      <td>4264106</td>\n",
       "      <td>513</td>\n",
       "      <td>Kalte Wand</td>\n",
       "      <td>kalter kaffee</td>\n",
       "      <td>2</td>\n",
       "      <td>62412</td>\n",
       "    </tr>\n",
       "    <tr>\n",
       "      <th>80507</th>\n",
       "      <td>3806721</td>\n",
       "      <td>2984</td>\n",
       "      <td>Dornröschenwand</td>\n",
       "      <td>kalte finger</td>\n",
       "      <td>1</td>\n",
       "      <td>33617</td>\n",
       "    </tr>\n",
       "    <tr>\n",
       "      <th>88098</th>\n",
       "      <td>3964365</td>\n",
       "      <td>513</td>\n",
       "      <td>Kalte Wand</td>\n",
       "      <td>kalter kaffee</td>\n",
       "      <td>3</td>\n",
       "      <td>33808</td>\n",
       "    </tr>\n",
       "    <tr>\n",
       "      <th>85661</th>\n",
       "      <td>3911178</td>\n",
       "      <td>513</td>\n",
       "      <td>Kalte Wand</td>\n",
       "      <td>kalter knig</td>\n",
       "      <td>0</td>\n",
       "      <td>34865</td>\n",
       "    </tr>\n",
       "    <tr>\n",
       "      <th>3920</th>\n",
       "      <td>321709</td>\n",
       "      <td>513</td>\n",
       "      <td>Kalte Wand</td>\n",
       "      <td>kalter knig</td>\n",
       "      <td>0</td>\n",
       "      <td>910</td>\n",
       "    </tr>\n",
       "    <tr>\n",
       "      <th>20401</th>\n",
       "      <td>1285835</td>\n",
       "      <td>513</td>\n",
       "      <td>Kalte Wand</td>\n",
       "      <td>kalter knig</td>\n",
       "      <td>0</td>\n",
       "      <td>26815</td>\n",
       "    </tr>\n",
       "    <tr>\n",
       "      <th>100178</th>\n",
       "      <td>4440672</td>\n",
       "      <td>647</td>\n",
       "      <td>Obere Gößweinsteiner Wände</td>\n",
       "      <td>kalauer</td>\n",
       "      <td>2</td>\n",
       "      <td>50173</td>\n",
       "    </tr>\n",
       "    <tr>\n",
       "      <th>87780</th>\n",
       "      <td>3959148</td>\n",
       "      <td>513</td>\n",
       "      <td>Kalte Wand</td>\n",
       "      <td>kalte schorle</td>\n",
       "      <td>1</td>\n",
       "      <td>36539</td>\n",
       "    </tr>\n",
       "    <tr>\n",
       "      <th>68545</th>\n",
       "      <td>3373592</td>\n",
       "      <td>647</td>\n",
       "      <td>Obere Gößweinsteiner Wände</td>\n",
       "      <td>kalauer</td>\n",
       "      <td>1</td>\n",
       "      <td>27650</td>\n",
       "    </tr>\n",
       "    <tr>\n",
       "      <th>113353</th>\n",
       "      <td>4888553</td>\n",
       "      <td>513</td>\n",
       "      <td>Kalte Wand</td>\n",
       "      <td>kalter knig</td>\n",
       "      <td>3</td>\n",
       "      <td>29398</td>\n",
       "    </tr>\n",
       "    <tr>\n",
       "      <th>10108</th>\n",
       "      <td>704473</td>\n",
       "      <td>513</td>\n",
       "      <td>Kalte Wand</td>\n",
       "      <td>kalter knig</td>\n",
       "      <td>0</td>\n",
       "      <td>9654</td>\n",
       "    </tr>\n",
       "    <tr>\n",
       "      <th>101443</th>\n",
       "      <td>4486025</td>\n",
       "      <td>5530</td>\n",
       "      <td>Naifertaler Klettergarten</td>\n",
       "      <td>kalter rauch</td>\n",
       "      <td>0</td>\n",
       "      <td>20095</td>\n",
       "    </tr>\n",
       "    <tr>\n",
       "      <th>100473</th>\n",
       "      <td>4450869</td>\n",
       "      <td>513</td>\n",
       "      <td>Kalte Wand</td>\n",
       "      <td>kalter knig</td>\n",
       "      <td>0</td>\n",
       "      <td>63995</td>\n",
       "    </tr>\n",
       "    <tr>\n",
       "      <th>70016</th>\n",
       "      <td>3404370</td>\n",
       "      <td>513</td>\n",
       "      <td>Kalte Wand</td>\n",
       "      <td>kalte schorle</td>\n",
       "      <td>3</td>\n",
       "      <td>37228</td>\n",
       "    </tr>\n",
       "    <tr>\n",
       "      <th>100837</th>\n",
       "      <td>4462975</td>\n",
       "      <td>513</td>\n",
       "      <td>Kalte Wand</td>\n",
       "      <td>kalter knig</td>\n",
       "      <td>0</td>\n",
       "      <td>59029</td>\n",
       "    </tr>\n",
       "    <tr>\n",
       "      <th>64186</th>\n",
       "      <td>3239397</td>\n",
       "      <td>513</td>\n",
       "      <td>Kalte Wand</td>\n",
       "      <td>kalte schorle</td>\n",
       "      <td>3</td>\n",
       "      <td>23550</td>\n",
       "    </tr>\n",
       "    <tr>\n",
       "      <th"
      ],
      "text/plain": [
       "             id  sector_id                      sector          route  rating  \\\n",
       "65057   3282474        513                  Kalte Wand    kalter knig       3   \n",
       "55490   2888614       4784                     Loreley        kalypso       0   \n",
       "21985   1348863       2341                Schiefer Tod   kalter hauch       1   \n",
       "102510  4523255        513                  Kalte Wand  kalte schorle       1   \n",
       "58986   2988245        647  Obere Gößweinsteiner Wände        kalauer       0   \n",
       "48542   2559522        513                  Kalte Wand    kalter knig       0   \n",
       "31344   1774973       4784                     Loreley        kalypso       3   \n",
       "111406  4852305        513                  Kalte Wand    kalter knig       1   \n",
       "112935  4881134       3481                  Eibenwände   kalte zeiten       0   \n",
       "36484   2052662        647  Obere Gößweinsteiner Wände        kalauer       2   \n",
       "106570  4750886       2984             Dornröschenwand   kalte finger       2   \n",
       "15058    993724        513                  Kalte Wand    kalter knig       2   \n",
       "34746   2008904        647  Obere Gößweinsteiner Wände        kalauer       2   \n",
       "79923   3798911       5292      Stierberger Gemsenwand      kaltstart       1   \n",
       "107123  4762884        513                  Kalte Wand    kalter knig       0   \n",
       "4917     354443       4784                     Loreley        kalypso       3   \n",
       "83484   3867519        513                  Kalte Wand    kalter knig       3   \n",
       "83459   3867188        513                  Kalte Wand  kalte schorle       3   \n",
       "68516   3372921        647  Obere Gößweinsteiner Wände        kalauer       0   \n",
       "28771   1695916        647  Obere Gößweinsteiner Wände        kalauer       1   \n",
       "42674   2413280        647  Obere Gößweinsteiner Wände        kalauer       2   \n",
       "8820     652514        647  Obere Gößweinsteiner Wände        kalauer       3   \n",
       "25366   1588329       4784                     Loreley        kalypso       2   \n",
       "76012   3539931        513                  Kalte Wand    kalter knig       0   \n",
       "80900   3813499        513                  Kalte Wand  kalte schorle       3   \n",
       "91165   4159628        513                  Kalte Wand  kalte schorle       0   \n",
       "102000  4489400       4689            Grünreuther Wand      kalktraum       0   \n",
       "68117   3363129       2341                Schiefer Tod   kalter hauch       3   \n",
       "84701   3896501        513                  Kalte Wand  kalter kaffee       3   \n",
       "96060   4346587        513                  Kalte Wand    kalter knig       2   \n",
       "...         ...        ...                         ...            ...     ...   \n",
       "4889     353245       4784                     Loreley        kalypso       0   \n",
       "58879   2987669        513                  Kalte Wand    kalter knig       0   \n",
       "64769   3270656        513                  Kalte Wand    kalter knig       0   \n",
       "57768   2960267        647  Obere Gößweinsteiner Wände        kalauer       3   \n",
       "73777   3473988       4784                     Loreley        kalypso       2   \n",
       "33454   1969242        513                  Kalte Wand    kalter knig       0   \n",
       "57704   2958301        647  Obere Gößweinsteiner Wände        kalauer       3   \n",
       "93007   4264106        513                  Kalte Wand  kalter kaffee       2   \n",
       "80507   3806721       2984             Dornröschenwand   kalte finger       1   \n",
       "88098   3964365        513                  Kalte Wand  kalter kaffee       3   \n",
       "85661   3911178        513                  Kalte Wand    kalter knig       0   \n",
       "3920     321709        513                  Kalte Wand    kalter knig       0   \n",
       "20401   1285835        513                  Kalte Wand    kalter knig       0   \n",
       "100178  4440672        647  Obere Gößweinsteiner Wände        kalauer       2   \n",
       "87780   3959148        513                  Kalte Wand  kalte schorle       1   \n",
       "68545   3373592        647  Obere Gößweinsteiner Wände        kalauer       1   \n",
       "113353  4888553        513                  Kalte Wand    kalter knig       3   \n",
       "10108    704473        513                  Kalte Wand    kalter knig       0   \n",
       "101443  4486025       5530   Naifertaler Klettergarten   kalter rauch       0   \n",
       "100473  4450869        513                  Kalte Wand    kalter knig       0   \n",
       "70016   3404370        513                  Kalte Wand  kalte schorle       3   \n",
       "100837  4462975        513                  Kalte Wand    kalter knig       0   \n",
       "64186   3239397        513                  Kalte Wand  kalte schorle       3   \n",
       "7507     515057       4784                     Loreley        kalypso       1   \n",
       "92498   4255646       4784                     Loreley        kalypso       2   \n",
       "42594   2409619        647  Obere Gößweinsteiner Wände        kalauer       3   \n",
       "27669   1667357        513                  Kalte Wand    kalter knig       0   \n",
       "107119  4762876        513                  Kalte Wand    kalter knig       0   \n",
       "81208   3816270        513                  Kalte Wand  kalter kaffee       0   \n",
       "8643     637405        513                  Kalte Wand  kalter kaffee       1   \n",
       "\n",
       "        user_id  \n",
       "65057     32640  \n",
       "55490     18527  \n",
       "21985     18348  \n",
       "102510    20095  \n",
       "58986     42769  \n",
       "48542     12478  \n",
       "31344     23550  \n",
       "111406    34917  \n",
       "112935    50735  \n",
       "36484     15312  \n",
       "106570    26302  \n",
       "15058     13548  \n",
       "34746     34315  \n",
       "79923     20095  \n",
       "107123    31214  \n",
       "4917       4820  \n",
       "83484     49229  \n",
       "83459     41254  \n",
       "68516     28604  \n",
       "28771     33070  \n",
       "42674     38848  \n",
       "8820      16414  \n",
       "25366      5512  \n",
       "76012     17509  \n",
       "80900     51871  \n",
       "91165       164  \n",
       "102000    20095  \n",
       "68117     27157  \n",
       "84701     54623  \n",
       "96060     37676  \n",
       "...         ...  \n",
       "4889       4740  \n",
       "58879      6292  \n",
       "64769     50368  \n",
       "57768     30065  \n",
       "73777     29143  \n",
       "33454     26180  \n",
       "57704     39180  \n",
       "93007     62412  \n",
       "80507     33617  \n",
       "88098     33808  \n",
       "85661     34865  \n",
       "3920        910  \n",
       "20401     26815  \n",
       "100178    50173  \n",
       "87780     36539  \n",
       "68545     27650  \n",
       "113353    29398  \n",
       "10108      9654  \n",
       "101443    20095  \n",
       "100473    63995  \n",
       "70016     37228  \n",
       "100837    59029  \n",
       "64186     23550  \n",
       "7507       8928  \n",
       "92498     30099  \n",
       "42594     41254  \n",
       "27669     25362  \n",
       "107119    31214  \n",
       "81208     59705  \n",
       "8643       7007  \n",
       "\n",
       "[263 rows x 6 columns]"
      ]
     },
     "execution_count": 51,
     "metadata": {},
     "output_type": "execute_result"
    },
    {
     "data": {
      "text/html": [
       "<b>limit_output extension: Maximum message size of 10000 exceeded with 11246 characters</b>"
      ]
     },
     "metadata": {},
     "output_type": "display_data"
    }
   ],
   "source": [
    "df_temp[df_temp['route'].str.startswith('kal')]"
   ]
  },
  {
   "cell_type": "code",
   "execution_count": null,
   "metadata": {},
   "outputs": [],
   "source": []
  },
  {
   "cell_type": "code",
   "execution_count": null,
   "metadata": {},
   "outputs": [],
   "source": []
  },
  {
   "cell_type": "markdown",
   "metadata": {},
   "source": [
    "Extract all the individual routes"
   ]
  },
  {
   "cell_type": "code",
   "execution_count": 42,
   "metadata": {
    "ExecuteTime": {
     "end_time": "2018-11-19T12:08:41.706197Z",
     "start_time": "2018-11-19T12:08:41.648026Z"
    }
   },
   "outputs": [
    {
     "data": {
      "text/html": [
       "<div>\n",
       "<style scoped>\n",
       "    .dataframe tbody tr th:only-of-type {\n",
       "        vertical-align: middle;\n",
       "    }\n",
       "\n",
       "    .dataframe tbody tr th {\n",
       "        vertical-align: top;\n",
       "    }\n",
       "\n",
       "    .dataframe thead th {\n",
       "        text-align: right;\n",
       "    }\n",
       "</style>\n",
       "<table border=\"1\" class=\"dataframe\">\n",
       "  <thead>\n",
       "    <tr style=\"text-align: right;\">\n",
       "      <th></th>\n",
       "      <th>sector_id</th>\n",
       "      <th>sector</th>\n",
       "      <th>route</th>\n",
       "    </tr>\n",
       "  </thead>\n",
       "  <tbody>\n",
       "    <tr>\n",
       "      <th>94682</th>\n",
       "      <td>111</td>\n",
       "      <td>Marientaler Wände</td>\n",
       "      <td>geisterbahn</td>\n",
       "    </tr>\n",
       "    <tr>\n",
       "      <th>44736</th>\n",
       "      <td>111</td>\n",
       "      <td>Marientaler Wände</td>\n",
       "      <td>left side of darkness</td>\n",
       "    </tr>\n",
       "    <tr>\n",
       "      <th>9203</th>\n",
       "      <td>2020</td>\n",
       "      <td>Graischer Bleisteinwande</td>\n",
       "      <td>anne sofi</td>\n",
       "    </tr>\n",
       "    <tr>\n",
       "      <th>106174</th>\n",
       "      <td>5169</td>\n",
       "      <td>Jungfernriss</td>\n",
       "      <td>schotterweg</td>\n",
       "    </tr>\n",
       "    <tr>\n",
       "      <th>84724</th>\n",
       "      <td>132</td>\n",
       "      <td>Diebesloch</td>\n",
       "      <td>quergang</td>\n",
       "    </tr>\n",
       "    <tr>\n",
       "      <th>11722</th>\n",
       "      <td>2693</td>\n",
       "      <td>Rodenstein</td>\n",
       "      <td>malmriss</td>\n",
       "    </tr>\n",
       "    <tr>\n",
       "      <th>43458</th>\n",
       "      <td>657</td>\n",
       "      <td>Zehnerstein</td>\n",
       "      <td>westschleife</td>\n",
       "    </tr>\n",
       "    <tr>\n",
       "      <th>82309</th>\n",
       "      <td>348</td>\n",
       "      <td>Rote Wand</td>\n",
       "      <td>direkter gipfelstrmer</td>\n",
       "    </tr>\n",
       "    <tr>\n",
       "      <th>22057</th>\n",
       "      <td>1333</td>\n",
       "      <td>Mader Ged.-Wand</td>\n",
       "      <td>stalingrad</td>\n",
       "    </tr>\n",
       "    <tr>\n",
       "      <th>35729</th>\n",
       "      <td>256</td>\n",
       "      <td>Krottenseer Turm</td>\n",
       "      <td>westwand</td>\n",
       "    </tr>\n",
       "  </tbody>\n",
       "</table>\n",
       "</div>"
      ],
      "text/plain": [
       "        sector_id                    sector                  route\n",
       "94682         111         Marientaler Wände            geisterbahn\n",
       "44736         111         Marientaler Wände  left side of darkness\n",
       "9203         2020  Graischer Bleisteinwande             anne sofi \n",
       "106174       5169              Jungfernriss            schotterweg\n",
       "84724         132                Diebesloch               quergang\n",
       "11722        2693                Rodenstein               malmriss\n",
       "43458         657               Zehnerstein           westschleife\n",
       "82309         348                 Rote Wand  direkter gipfelstrmer\n",
       "22057        1333           Mader Ged.-Wand             stalingrad\n",
       "35729         256          Krottenseer Turm               westwand"
      ]
     },
     "execution_count": 42,
     "metadata": {},
     "output_type": "execute_result"
    }
   ],
   "source": [
    "X_train_routes = X_train[['sector_id', 'sector', 'route']].drop_duplicates()\n",
    "X_train_routes.head(10)"
   ]
  },
  {
   "cell_type": "code",
   "execution_count": 43,
   "metadata": {
    "ExecuteTime": {
     "end_time": "2018-11-19T12:08:41.719984Z",
     "start_time": "2018-11-19T12:08:41.710229Z"
    }
   },
   "outputs": [
    {
     "data": {
      "text/html": [
       "<div>\n",
       "<style scoped>\n",
       "    .dataframe tbody tr th:only-of-type {\n",
       "        vertical-align: middle;\n",
       "    }\n",
       "\n",
       "    .dataframe tbody tr th {\n",
       "        vertical-align: top;\n",
       "    }\n",
       "\n",
       "    .dataframe thead th {\n",
       "        text-align: right;\n",
       "    }\n",
       "</style>\n",
       "<table border=\"1\" class=\"dataframe\">\n",
       "  <thead>\n",
       "    <tr style=\"text-align: right;\">\n",
       "      <th></th>\n",
       "      <th>sector_id</th>\n",
       "      <th>sector</th>\n",
       "      <th>route</th>\n",
       "    </tr>\n",
       "  </thead>\n",
       "  <tbody>\n",
       "    <tr>\n",
       "      <th>0</th>\n",
       "      <td>111</td>\n",
       "      <td>Marientaler Wände</td>\n",
       "      <td>geisterbahn</td>\n",
       "    </tr>\n",
       "    <tr>\n",
       "      <th>1</th>\n",
       "      <td>111</td>\n",
       "      <td>Marientaler Wände</td>\n",
       "      <td>left side of darkness</td>\n",
       "    </tr>\n",
       "    <tr>\n",
       "      <th>2</th>\n",
       "      <td>2020</td>\n",
       "      <td>Graischer Bleisteinwande</td>\n",
       "      <td>anne sofi</td>\n",
       "    </tr>\n",
       "    <tr>\n",
       "      <th>3</th>\n",
       "      <td>5169</td>\n",
       "      <td>Jungfernriss</td>\n",
       "      <td>schotterweg</td>\n",
       "    </tr>\n",
       "    <tr>\n",
       "      <th>4</th>\n",
       "      <td>132</td>\n",
       "      <td>Diebesloch</td>\n",
       "      <td>quergang</td>\n",
       "    </tr>\n",
       "    <tr>\n",
       "      <th>5</th>\n",
       "      <td>2693</td>\n",
       "      <td>Rodenstein</td>\n",
       "      <td>malmriss</td>\n",
       "    </tr>\n",
       "    <tr>\n",
       "      <th>6</th>\n",
       "      <td>657</td>\n",
       "      <td>Zehnerstein</td>\n",
       "      <td>westschleife</td>\n",
       "    </tr>\n",
       "    <tr>\n",
       "      <th>7</th>\n",
       "      <td>348</td>\n",
       "      <td>Rote Wand</td>\n",
       "      <td>direkter gipfelstrmer</td>\n",
       "    </tr>\n",
       "    <tr>\n",
       "      <th>8</th>\n",
       "      <td>1333</td>\n",
       "      <td>Mader Ged.-Wand</td>\n",
       "      <td>stalingrad</td>\n",
       "    </tr>\n",
       "    <tr>\n",
       "      <th>9</th>\n",
       "      <td>256</td>\n",
       "      <td>Krottenseer Turm</td>\n",
       "      <td>westwand</td>\n",
       "    </tr>\n",
       "  </tbody>\n",
       "</table>\n",
       "</div>"
      ],
      "text/plain": [
       "   sector_id                    sector                  route\n",
       "0        111         Marientaler Wände            geisterbahn\n",
       "1        111         Marientaler Wände  left side of darkness\n",
       "2       2020  Graischer Bleisteinwande             anne sofi \n",
       "3       5169              Jungfernriss            schotterweg\n",
       "4        132                Diebesloch               quergang\n",
       "5       2693                Rodenstein               malmriss\n",
       "6        657               Zehnerstein           westschleife\n",
       "7        348                 Rote Wand  direkter gipfelstrmer\n",
       "8       1333           Mader Ged.-Wand             stalingrad\n",
       "9        256          Krottenseer Turm               westwand"
      ]
     },
     "execution_count": 43,
     "metadata": {},
     "output_type": "execute_result"
    }
   ],
   "source": [
    "X_train_routes.reset_index(inplace=True, drop=True)\n",
    "# X_train_routes = X_train_routes.drop(columns=['index'])\n",
    "X_train_routes.head(10)"
   ]
  },
  {
   "cell_type": "markdown",
   "metadata": {
    "heading_collapsed": true
   },
   "source": [
    "## Implementation"
   ]
  },
  {
   "cell_type": "markdown",
   "metadata": {},
   "source": [
    "## Refinement"
   ]
  },
  {
   "cell_type": "markdown",
   "metadata": {},
   "source": [
    "# Results"
   ]
  },
  {
   "cell_type": "markdown",
   "metadata": {},
   "source": [
    "## Model Evaluation and Validation"
   ]
  },
  {
   "cell_type": "markdown",
   "metadata": {},
   "source": [
    "## Justification"
   ]
  },
  {
   "cell_type": "markdown",
   "metadata": {},
   "source": [
    "# Conclusion"
   ]
  },
  {
   "cell_type": "markdown",
   "metadata": {},
   "source": [
    "## Free-Form Visualization"
   ]
  },
  {
   "cell_type": "markdown",
   "metadata": {},
   "source": [
    "## Reflection"
   ]
  },
  {
   "cell_type": "markdown",
   "metadata": {},
   "source": [
    "## Improvement"
   ]
  }
 ],
 "metadata": {
  "hide_input": false,
  "kernelspec": {
   "display_name": "Python 3",
   "language": "python",
   "name": "python3"
  },
  "language_info": {
   "codemirror_mode": {
    "name": "ipython",
    "version": 3
   },
   "file_extension": ".py",
   "mimetype": "text/x-python",
   "name": "python",
   "nbconvert_exporter": "python",
   "pygments_lexer": "ipython3",
   "version": "3.6.6"
  },
  "toc": {
   "nav_menu": {},
   "number_sections": true,
   "sideBar": true,
   "skip_h1_title": false,
   "toc_cell": false,
   "toc_position": {},
   "toc_section_display": "block",
   "toc_window_display": false
  },
  "varInspector": {
   "cols": {
    "lenName": 16,
    "lenType": 16,
    "lenVar": 40
   },
   "kernels_config": {
    "python": {
     "delete_cmd_postfix": "",
     "delete_cmd_prefix": "del ",
     "library": "var_list.py",
     "varRefreshCmd": "print(var_dic_list())"
    },
    "r": {
     "delete_cmd_postfix": ") ",
     "delete_cmd_prefix": "rm(",
     "library": "var_list.r",
     "varRefreshCmd": "cat(var_dic_list()) "
    }
   },
   "oldHeight": 419,
   "position": {
    "height": "514px",
    "left": "771px",
    "right": "20px",
    "top": "146px",
    "width": "559px"
   },
   "types_to_exclude": [
    "module",
    "function",
    "builtin_function_or_method",
    "instance",
    "_Feature"
   ],
   "varInspector_section_display": "block",
   "window_display": false
  }
 },
 "nbformat": 4,
 "nbformat_minor": 2
}
