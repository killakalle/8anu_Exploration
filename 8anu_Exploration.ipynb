{
 "cells": [
  {
   "cell_type": "markdown",
   "metadata": {},
   "source": [
    "# Definition"
   ]
  },
  {
   "cell_type": "markdown",
   "metadata": {},
   "source": [
    "## Project Overview"
   ]
  },
  {
   "cell_type": "markdown",
   "metadata": {},
   "source": [
    "## Problem Statement"
   ]
  },
  {
   "cell_type": "markdown",
   "metadata": {},
   "source": [
    "## Metrics"
   ]
  },
  {
   "cell_type": "markdown",
   "metadata": {},
   "source": [
    "# Analysis"
   ]
  },
  {
   "cell_type": "markdown",
   "metadata": {},
   "source": [
    "## Data Exploration"
   ]
  },
  {
   "cell_type": "code",
   "execution_count": 1,
   "metadata": {
    "ExecuteTime": {
     "end_time": "2018-11-15T23:53:05.605835Z",
     "start_time": "2018-11-15T23:53:04.749772Z"
    }
   },
   "outputs": [],
   "source": [
    "import sqlite3\n",
    "import pandas as pd\n",
    "import numpy as np\n",
    "import matplotlib.pyplot as plt\n",
    "import xlsxwriter\n",
    "%matplotlib inline\n",
    "\n",
    "import plot_helper"
   ]
  },
  {
   "cell_type": "code",
   "execution_count": 2,
   "metadata": {
    "ExecuteTime": {
     "end_time": "2018-11-15T23:53:05.610862Z",
     "start_time": "2018-11-15T23:53:05.607908Z"
    }
   },
   "outputs": [],
   "source": [
    "from IPython.core.interactiveshell import InteractiveShell\n",
    "InteractiveShell.ast_node_interactivity = \"all\""
   ]
  },
  {
   "cell_type": "markdown",
   "metadata": {},
   "source": [
    "The data set for this project was downloaded from Kaggle at  \n",
    "[8anu climbing logbook](https://www.kaggle.com/dcohen21/8anu-climbing-logbook)"
   ]
  },
  {
   "cell_type": "code",
   "execution_count": 3,
   "metadata": {
    "ExecuteTime": {
     "end_time": "2018-11-15T23:53:10.544771Z",
     "start_time": "2018-11-15T23:53:05.612844Z"
    }
   },
   "outputs": [],
   "source": [
    "# Connect to db\n",
    "conn = sqlite3.connect('data/8anu.sqlite')\n",
    "\n",
    "# Read data into pandas\n",
    "sql = ('SELECT a.id, a.country AS crag_country, a.crag_id, a.crag, a.sector_id, a.sector, a.name AS route, '\n",
    "       'a.grade_id, g.fra_routes AS grade, a.year, a.date, a.method_id, m.shorthand AS method, a.notes, a.raw_notes, a.rating, '\n",
    "       'a.user_id, u.country AS user_country, u.city AS user_city, u.sex, u.height, u.weight, u.birth AS birthdate, u.started AS started_climbing '\n",
    "       'FROM ('\n",
    "           'SELECT * '\n",
    "           'FROM ascent '\n",
    "           'WHERE crag=\\'Frankenjura\\' AND climb_type=0'\n",
    "       ') AS a '\n",
    "       'LEFT OUTER JOIN grade AS g ON a.grade_id=g.id '\n",
    "       'LEFT OUTER JOIN method AS m ON a.method_id=m.id '\n",
    "       'LEFT OUTER JOIN user AS u ON a.user_id=u.id '\n",
    "       )\n",
    "df = pd.read_sql_query(sql, conn)\n",
    "\n",
    "# Close db connection\n",
    "conn.close()"
   ]
  },
  {
   "cell_type": "code",
   "execution_count": 4,
   "metadata": {
    "ExecuteTime": {
     "end_time": "2018-11-15T23:53:10.548838Z",
     "start_time": "2018-11-15T23:53:10.546700Z"
    }
   },
   "outputs": [],
   "source": [
    "# Export to .csv for submitting Project Proposal to Udacity\n",
    "#df.to_csv('data/8anu_franken.csv', sep=';')"
   ]
  },
  {
   "cell_type": "code",
   "execution_count": 5,
   "metadata": {
    "ExecuteTime": {
     "end_time": "2018-11-15T23:53:10.553762Z",
     "start_time": "2018-11-15T23:53:10.550985Z"
    }
   },
   "outputs": [],
   "source": [
    "# Export to .xlsx\n",
    "# Create a Pandas Excel writer using XlsxWriter as the engine.\n",
    "#writer = pd.ExcelWriter('data/8anu_franken.xlsx', engine='xlsxwriter')\n",
    "\n",
    "# Convert the dataframe to an XlsxWriter Excel object.\n",
    "#df.to_excel(writer, sheet_name='Sheet1')\n",
    "\n",
    "# Close the Pandas Excel writer and output the Excel file.\n",
    "#writer.save()"
   ]
  },
  {
   "cell_type": "markdown",
   "metadata": {},
   "source": [
    "### General information about the data set"
   ]
  },
  {
   "cell_type": "code",
   "execution_count": 6,
   "metadata": {
    "ExecuteTime": {
     "end_time": "2018-11-15T23:53:10.563717Z",
     "start_time": "2018-11-15T23:53:10.556377Z"
    }
   },
   "outputs": [
    {
     "data": {
      "text/plain": [
       "Index(['id', 'crag_country', 'crag_id', 'crag', 'sector_id', 'sector', 'route',\n",
       "       'grade_id', 'grade', 'year', 'date', 'method_id', 'method', 'notes',\n",
       "       'raw_notes', 'rating', 'user_id', 'user_country', 'user_city', 'sex',\n",
       "       'height', 'weight', 'birthdate', 'started_climbing'],\n",
       "      dtype='object')"
      ]
     },
     "execution_count": 6,
     "metadata": {},
     "output_type": "execute_result"
    }
   ],
   "source": [
    "## Get a list of all columns\n",
    "df.columns"
   ]
  },
  {
   "cell_type": "code",
   "execution_count": 7,
   "metadata": {
    "ExecuteTime": {
     "end_time": "2018-11-15T23:53:10.614745Z",
     "start_time": "2018-11-15T23:53:10.566747Z"
    }
   },
   "outputs": [
    {
     "data": {
      "text/html": [
       "<div>\n",
       "<style scoped>\n",
       "    .dataframe tbody tr th:only-of-type {\n",
       "        vertical-align: middle;\n",
       "    }\n",
       "\n",
       "    .dataframe tbody tr th {\n",
       "        vertical-align: top;\n",
       "    }\n",
       "\n",
       "    .dataframe thead th {\n",
       "        text-align: right;\n",
       "    }\n",
       "</style>\n",
       "<table border=\"1\" class=\"dataframe\">\n",
       "  <thead>\n",
       "    <tr style=\"text-align: right;\">\n",
       "      <th></th>\n",
       "      <th>id</th>\n",
       "      <th>crag_country</th>\n",
       "      <th>crag_id</th>\n",
       "      <th>crag</th>\n",
       "      <th>sector_id</th>\n",
       "      <th>sector</th>\n",
       "      <th>route</th>\n",
       "      <th>grade_id</th>\n",
       "      <th>grade</th>\n",
       "      <th>year</th>\n",
       "      <th>...</th>\n",
       "      <th>raw_notes</th>\n",
       "      <th>rating</th>\n",
       "      <th>user_id</th>\n",
       "      <th>user_country</th>\n",
       "      <th>user_city</th>\n",
       "      <th>sex</th>\n",
       "      <th>height</th>\n",
       "      <th>weight</th>\n",
       "      <th>birthdate</th>\n",
       "      <th>started_climbing</th>\n",
       "    </tr>\n",
       "  </thead>\n",
       "  <tbody>\n",
       "    <tr>\n",
       "      <th>0</th>\n",
       "      <td>582</td>\n",
       "      <td>DEU</td>\n",
       "      <td>16600</td>\n",
       "      <td>Frankenjura</td>\n",
       "      <td>126</td>\n",
       "      <td>Grüne Hölle</td>\n",
       "      <td>Isolation</td>\n",
       "      <td>46</td>\n",
       "      <td>6c+</td>\n",
       "      <td>2000</td>\n",
       "      <td>...</td>\n",
       "      <td>0</td>\n",
       "      <td>0</td>\n",
       "      <td>39</td>\n",
       "      <td>NLD</td>\n",
       "      <td>Eindhoven</td>\n",
       "      <td>0.0</td>\n",
       "      <td>178.0</td>\n",
       "      <td>78.0</td>\n",
       "      <td>1972-10-16</td>\n",
       "      <td>1996.0</td>\n",
       "    </tr>\n",
       "    <tr>\n",
       "      <th>1</th>\n",
       "      <td>805</td>\n",
       "      <td>DEU</td>\n",
       "      <td>16600</td>\n",
       "      <td>Frankenjura</td>\n",
       "      <td>111</td>\n",
       "      <td>Marientaler Wände</td>\n",
       "      <td>Kraftfeld</td>\n",
       "      <td>59</td>\n",
       "      <td>7c+</td>\n",
       "      <td>1999</td>\n",
       "      <td>...</td>\n",
       "      <td>0</td>\n",
       "      <td>0</td>\n",
       "      <td>32</td>\n",
       "      <td>SWE</td>\n",
       "      <td>Gothenburg</td>\n",
       "      <td>0.0</td>\n",
       "      <td>174.0</td>\n",
       "      <td>0.0</td>\n",
       "      <td>1976-06-15</td>\n",
       "      <td>1996.0</td>\n",
       "    </tr>\n",
       "    <tr>\n",
       "      <th>2</th>\n",
       "      <td>902</td>\n",
       "      <td>DEU</td>\n",
       "      <td>16600</td>\n",
       "      <td>Frankenjura</td>\n",
       "      <td>1309</td>\n",
       "      <td>Obere Schlossbergwände</td>\n",
       "      <td>Ursus</td>\n",
       "      <td>49</td>\n",
       "      <td>7a</td>\n",
       "      <td>2000</td>\n",
       "      <td>...</td>\n",
       "      <td>0</td>\n",
       "      <td>0</td>\n",
       "      <td>49</td>\n",
       "      <td>SWE</td>\n",
       "      <td>GÖTEBORG</td>\n",
       "      <td>0.0</td>\n",
       "      <td>0.0</td>\n",
       "      <td>0.0</td>\n",
       "      <td>None</td>\n",
       "      <td>1990.0</td>\n",
       "    </tr>\n",
       "    <tr>\n",
       "      <th>3</th>\n",
       "      <td>903</td>\n",
       "      <td>DEU</td>\n",
       "      <td>16600</td>\n",
       "      <td>Frankenjura</td>\n",
       "      <td>0</td>\n",
       "      <td></td>\n",
       "      <td>Don't know name</td>\n",
       "      <td>46</td>\n",
       "      <td>6c+</td>\n",
       "      <td>2000</td>\n",
       "      <td>...</td>\n",
       "      <td>0</td>\n",
       "      <td>0</td>\n",
       "      <td>49</td>\n",
       "      <td>SWE</td>\n",
       "      <td>GÖTEBORG</td>\n",
       "      <td>0.0</td>\n",
       "      <td>0.0</td>\n",
       "      <td>0.0</td>\n",
       "      <td>None</td>\n",
       "      <td>1990.0</td>\n",
       "    </tr>\n",
       "    <tr>\n",
       "      <th>4</th>\n",
       "      <td>935</td>\n",
       "      <td>DEU</td>\n",
       "      <td>16600</td>\n",
       "      <td>Frankenjura</td>\n",
       "      <td>422</td>\n",
       "      <td>Richard Wagner Fels</td>\n",
       "      <td>Fight Gravity</td>\n",
       "      <td>53</td>\n",
       "      <td>7b</td>\n",
       "      <td>1999</td>\n",
       "      <td>...</td>\n",
       "      <td>0</td>\n",
       "      <td>0</td>\n",
       "      <td>3</td>\n",
       "      <td>SWE</td>\n",
       "      <td>Umeå</td>\n",
       "      <td>0.0</td>\n",
       "      <td>180.0</td>\n",
       "      <td>78.0</td>\n",
       "      <td>1973-09-09</td>\n",
       "      <td>1995.0</td>\n",
       "    </tr>\n",
       "  </tbody>\n",
       "</table>\n",
       "<p>5 rows × 24 columns</p>\n",
       "</div>"
      ],
      "text/plain": [
       "    id crag_country  crag_id         crag  sector_id                  sector  \\\n",
       "0  582          DEU    16600  Frankenjura        126             Grüne Hölle   \n",
       "1  805          DEU    16600  Frankenjura        111       Marientaler Wände   \n",
       "2  902          DEU    16600  Frankenjura       1309  Obere Schlossbergwände   \n",
       "3  903          DEU    16600  Frankenjura          0                           \n",
       "4  935          DEU    16600  Frankenjura        422     Richard Wagner Fels   \n",
       "\n",
       "             route  grade_id grade  year        ...         raw_notes  rating  \\\n",
       "0        Isolation        46   6c+  2000        ...                 0       0   \n",
       "1        Kraftfeld        59   7c+  1999        ...                 0       0   \n",
       "2            Ursus        49    7a  2000        ...                 0       0   \n",
       "3  Don't know name        46   6c+  2000        ...                 0       0   \n",
       "4    Fight Gravity        53    7b  1999        ...                 0       0   \n",
       "\n",
       "  user_id user_country   user_city  sex  height weight   birthdate  \\\n",
       "0      39          NLD   Eindhoven  0.0   178.0   78.0  1972-10-16   \n",
       "1      32          SWE  Gothenburg  0.0   174.0    0.0  1976-06-15   \n",
       "2      49          SWE    GÖTEBORG  0.0     0.0    0.0        None   \n",
       "3      49          SWE    GÖTEBORG  0.0     0.0    0.0        None   \n",
       "4       3          SWE        Umeå  0.0   180.0   78.0  1973-09-09   \n",
       "\n",
       "   started_climbing  \n",
       "0            1996.0  \n",
       "1            1996.0  \n",
       "2            1990.0  \n",
       "3            1990.0  \n",
       "4            1995.0  \n",
       "\n",
       "[5 rows x 24 columns]"
      ]
     },
     "execution_count": 7,
     "metadata": {},
     "output_type": "execute_result"
    }
   ],
   "source": [
    "df.head(5)"
   ]
  },
  {
   "cell_type": "code",
   "execution_count": 8,
   "metadata": {
    "ExecuteTime": {
     "end_time": "2018-11-15T23:53:10.651791Z",
     "start_time": "2018-11-15T23:53:10.617133Z"
    }
   },
   "outputs": [
    {
     "data": {
      "text/plain": [
       "'There are 114,589 data entries in our dataset.'"
      ]
     },
     "execution_count": 8,
     "metadata": {},
     "output_type": "execute_result"
    },
    {
     "data": {
      "text/plain": [
       "'60,303 out of these contain a rating. That is approx. 52.63%'"
      ]
     },
     "execution_count": 8,
     "metadata": {},
     "output_type": "execute_result"
    }
   ],
   "source": [
    "records_count = df.shape[0]\n",
    "ratings_count = df[ df['rating'] == 0].shape[0]\n",
    "\n",
    "\n",
    "f'There are {records_count:,} data entries in our dataset.'\n",
    "f'{ratings_count:,} out of these contain a rating. That is approx. {ratings_count / records_count * 100:.2f}%'"
   ]
  },
  {
   "cell_type": "code",
   "execution_count": 9,
   "metadata": {
    "ExecuteTime": {
     "end_time": "2018-11-15T23:53:10.788609Z",
     "start_time": "2018-11-15T23:53:10.653899Z"
    }
   },
   "outputs": [
    {
     "name": "stdout",
     "output_type": "stream",
     "text": [
      "<class 'pandas.core.frame.DataFrame'>\n",
      "RangeIndex: 114589 entries, 0 to 114588\n",
      "Data columns (total 24 columns):\n",
      "id                  114589 non-null int64\n",
      "crag_country        114589 non-null object\n",
      "crag_id             114589 non-null int64\n",
      "crag                114589 non-null object\n",
      "sector_id           114589 non-null int64\n",
      "sector              114589 non-null object\n",
      "route               114589 non-null object\n",
      "grade_id            114589 non-null int64\n",
      "grade               114589 non-null object\n",
      "year                114589 non-null int64\n",
      "date                114589 non-null int64\n",
      "method_id           114589 non-null int64\n",
      "method              114589 non-null object\n",
      "notes               114589 non-null object\n",
      "raw_notes           114589 non-null int64\n",
      "rating              114589 non-null int64\n",
      "user_id             114589 non-null int64\n",
      "user_country        114587 non-null object\n",
      "user_city           114587 non-null object\n",
      "sex                 114587 non-null float64\n",
      "height              114587 non-null float64\n",
      "weight              114587 non-null float64\n",
      "birthdate           85770 non-null object\n",
      "started_climbing    114587 non-null float64\n",
      "dtypes: float64(4), int64(10), object(10)\n",
      "memory usage: 21.0+ MB\n"
     ]
    }
   ],
   "source": [
    "df.info()"
   ]
  },
  {
   "cell_type": "markdown",
   "metadata": {},
   "source": [
    "| <p align='left'>`Column` | <p align='left'>Description | <p align='center'> Datatype | <p align='center'> Use | \n",
    "|:------|:------|:------:|:------:| \n",
    "| <p align='left'>`crag_country` | <p align='left'>3-letter country code of the country where the crag is located. | <p align='center'> categorical | <p align='center'> no | \n",
    "| <p align='left'>`crag_id` | <p align='left'>Unique id for identifying each crag. | <p align='center'> int | <p align='center'> no | \n",
    "| <p align='left'>`crag` | <p align='left'>Name of the crag | <p align='center'> text | <p align='center'> no | \n",
    "| <p align='left'>`sector_id` | <p align='left'>Unique id for identifying each sector. | <p align='center'> int | <p align='center'> yes | \n",
    "| <p align='left'>`sector` | <p align='left'>Name of the sector. A sector is a specific area within a crag. | <p align='center'> text | <p align='center'> yes | \n",
    "| <p align='left'>`route` | <p align='left'>Name of the route the climber has climbed. | <p align='center'> text | <p align='center'> yes | \n",
    "| <p align='left'>`grade_id` | <p align='left'>Unique id for identifying each climbing grade. | <p align='center'> int | <p align='center'> statistics | \n",
    "| <p align='left'>`grade` | <p align='left'>Climbing grade given to that route as per the French grading system | <p align='center'> categorical | <p align='center'> statistics | \n",
    "| <p align='left'>`year` | <p align='left'>Year the route was climbed | <p align='center'> int | <p align='center'> statistics | \n",
    "| <p align='left'>`date` | <p align='left'>Date the route was climbed. The date format is number of seconds since 1970-01-01. | <p align='center'> int | <p align='center'> statistics | \n",
    "| <p align='left'>`method_id` | <p align='left'>Unique id for identifying each type of ascent. | <p align='center'> int | <p align='center'> statistics | \n",
    "| <p align='left'>`method` | <p align='left'>The type of ascent the climber made on that route. | <p align='center'> categorical | <p align='center'> statistics | \n",
    "| <p align='left'>`notes` | <p align='left'>Additional information the climber provided for this climb, e.g. Soft graded, i.e. fairly easy climb for the given grade | <p align='center'> categorical | <p align='center'> statistics | \n",
    "| <p align='left'>`raw_notes` | <p align='left'>Encoding of different notes and combination of notes | <p align='center'> int | <p align='center'> statistics | \n",
    "| <p align='left'>`rating` | <p align='left'>Rating given to the climb by this climber. This is our target attribute. | <p align='center'> int | <p align='center'> target | \n",
    "| <p align='left'>`user_id` | <p align='left'>Unique id for this climber. | <p align='center'> int | <p align='center'> yes | \n",
    "| <p align='left'>`user_country` | <p align='left'>3-letter country code of the country where this climber is from. | <p align='center'> categorical | <p align='center'> statistics | \n",
    "| <p align='left'>`user_city` | <p align='left'>City where this climber is from | <p align='center'> text | <p align='center'> statistics | \n",
    "| <p align='left'>`sex` | <p align='left'>The climber's sex. 0 indicates male, 1 indicates female. | <p align='center'> int | <p align='center'> statistics | \n",
    "| <p align='left'>`height` | <p align='left'>The climber's height in cm | <p align='center'> int | <p align='center'> statistics | \n",
    "| <p align='left'>`weight` | <p align='left'>The climber's weight in kg | <p align='center'> int | <p align='center'> statistics | \n",
    "| <p align='left'>`birthdate` | <p align='left'>The climber's date of birth | <p align='center'> date | <p align='center'> statistics | \n",
    "| <p align='left'>`started_climbing` | <p align='left'>The year the climber started climbing. | <p align='center'> int | <p align='center'> statistics | ![image.png](attachment:image.png)"
   ]
  },
  {
   "cell_type": "markdown",
   "metadata": {},
   "source": [
    "In the table above the column `Use` indicated how we plan to use the given column.\n",
    "- `target` - this is a target attribute.\n",
    "- `yes` - this column will be used during exploration and analysis.\n",
    "- `no` - not planned to use that column during analysis and exploration.\n",
    "- `statistics` - this column will not be used for analysis but may be interesting later on to do user statistics etc."
   ]
  },
  {
   "cell_type": "markdown",
   "metadata": {},
   "source": [
    "Drop unnecessary columns for analysis."
   ]
  },
  {
   "cell_type": "code",
   "execution_count": 10,
   "metadata": {
    "ExecuteTime": {
     "end_time": "2018-11-15T23:53:10.801019Z",
     "start_time": "2018-11-15T23:53:10.790697Z"
    }
   },
   "outputs": [],
   "source": [
    "df = df.drop(columns=['crag_country',\n",
    "                      'crag_id',\n",
    "                      'crag',\n",
    "                      'grade_id',\n",
    "                      'grade',\n",
    "                      'year',\n",
    "                      'date',\n",
    "                      'method_id',\n",
    "                      'method',\n",
    "                      'notes',\n",
    "                      'raw_notes',\n",
    "                      'user_country',\n",
    "                      'user_city',\n",
    "                      'sex',\n",
    "                      'height',\n",
    "                      'weight',\n",
    "                      'birthdate',\n",
    "                      'started_climbing'])"
   ]
  },
  {
   "cell_type": "markdown",
   "metadata": {},
   "source": [
    "Split train and test set to avoid bias"
   ]
  },
  {
   "cell_type": "code",
   "execution_count": 11,
   "metadata": {
    "ExecuteTime": {
     "end_time": "2018-11-15T23:53:11.279849Z",
     "start_time": "2018-11-15T23:53:10.802880Z"
    }
   },
   "outputs": [],
   "source": [
    "from sklearn.model_selection import train_test_split\n",
    "\n",
    "y = df.pop('rating')\n",
    "X = df\n",
    "\n",
    "X_train, X_test, y_train, y_test = train_test_split(X, y, test_size=0.2)"
   ]
  },
  {
   "cell_type": "markdown",
   "metadata": {},
   "source": [
    "### Missing values\n",
    "\n",
    "Let us take a look if we have **missing values** or **zero values**.\n",
    "\n",
    "Number of missing values per column:"
   ]
  },
  {
   "cell_type": "code",
   "execution_count": 12,
   "metadata": {
    "ExecuteTime": {
     "end_time": "2018-11-15T23:53:11.321529Z",
     "start_time": "2018-11-15T23:53:11.281738Z"
    }
   },
   "outputs": [
    {
     "data": {
      "text/plain": [
       "id           0\n",
       "sector_id    0\n",
       "sector       0\n",
       "route        0\n",
       "user_id      0\n",
       "dtype: int64"
      ]
     },
     "execution_count": 12,
     "metadata": {},
     "output_type": "execute_result"
    },
    {
     "data": {
      "text/plain": [
       "0"
      ]
     },
     "execution_count": 12,
     "metadata": {},
     "output_type": "execute_result"
    }
   ],
   "source": [
    "X_train.isnull().sum()\n",
    "y_train.isnull().sum()"
   ]
  },
  {
   "cell_type": "markdown",
   "metadata": {
    "ExecuteTime": {
     "end_time": "2018-11-15T22:29:42.784818Z",
     "start_time": "2018-11-15T22:29:42.780805Z"
    }
   },
   "source": [
    "Number of zero values per column:"
   ]
  },
  {
   "cell_type": "code",
   "execution_count": 13,
   "metadata": {
    "ExecuteTime": {
     "end_time": "2018-11-15T23:53:11.352437Z",
     "start_time": "2018-11-15T23:53:11.323619Z"
    }
   },
   "outputs": [
    {
     "data": {
      "text/plain": [
       "id               0\n",
       "sector_id    12276\n",
       "sector           0\n",
       "route            0\n",
       "user_id          0\n",
       "dtype: int64"
      ]
     },
     "execution_count": 13,
     "metadata": {},
     "output_type": "execute_result"
    },
    {
     "data": {
      "text/plain": [
       "48160"
      ]
     },
     "execution_count": 13,
     "metadata": {},
     "output_type": "execute_result"
    }
   ],
   "source": [
    "(X_train == 0).sum()\n",
    "(y_train == 0).sum()"
   ]
  },
  {
   "cell_type": "markdown",
   "metadata": {},
   "source": [
    "### Unique values"
   ]
  },
  {
   "cell_type": "markdown",
   "metadata": {},
   "source": [
    "A naive estimate on the number of unique sectors and routes within these sectors. Submitted by a number of distinct users."
   ]
  },
  {
   "cell_type": "code",
   "execution_count": 14,
   "metadata": {
    "ExecuteTime": {
     "end_time": "2018-11-15T23:53:11.434104Z",
     "start_time": "2018-11-15T23:53:11.354334Z"
    }
   },
   "outputs": [
    {
     "data": {
      "text/plain": [
       "sector_id      350\n",
       "route        12445\n",
       "user_id       3298\n",
       "dtype: int64"
      ]
     },
     "execution_count": 14,
     "metadata": {},
     "output_type": "execute_result"
    }
   ],
   "source": [
    "X_train[['sector_id', 'route', 'user_id']].nunique()"
   ]
  },
  {
   "cell_type": "markdown",
   "metadata": {},
   "source": [
    "Why do we call the above estimate _naive_? \n",
    "\n",
    "According to (climb-europe.com)[http://www.climb-europe.com/RockClimbingGermany/RockClimbingFrankenjura.html] _there are approximately 1,000 crags spread out in a beautiful forest terrain_ (Note that _crags_ in the above quote is the same as _sectors_ in our dataset.) This seems fine since in our dataset there are 351 different sectors noted.\n",
    "\n",
    "In the article it continues to claim that _Frankenjura boasts in excess of 10,000 routes._ Now this is where we should get a little suspicious. In only 350 sectors our dataset apparently contains already more than 12,000 routes - which is well above the 10,000 mentioned in the article.\n",
    "\n",
    "Lets dig deeper here.\n"
   ]
  },
  {
   "cell_type": "markdown",
   "metadata": {},
   "source": [
    "What are the records where `sector_id` is 0?  \n",
    "We take a look at a number of samples."
   ]
  },
  {
   "cell_type": "code",
   "execution_count": 15,
   "metadata": {
    "ExecuteTime": {
     "end_time": "2018-11-15T23:53:11.450082Z",
     "start_time": "2018-11-15T23:53:11.437140Z"
    }
   },
   "outputs": [
    {
     "data": {
      "text/html": [
       "<div>\n",
       "<style scoped>\n",
       "    .dataframe tbody tr th:only-of-type {\n",
       "        vertical-align: middle;\n",
       "    }\n",
       "\n",
       "    .dataframe tbody tr th {\n",
       "        vertical-align: top;\n",
       "    }\n",
       "\n",
       "    .dataframe thead th {\n",
       "        text-align: right;\n",
       "    }\n",
       "</style>\n",
       "<table border=\"1\" class=\"dataframe\">\n",
       "  <thead>\n",
       "    <tr style=\"text-align: right;\">\n",
       "      <th></th>\n",
       "      <th>id</th>\n",
       "      <th>sector_id</th>\n",
       "      <th>sector</th>\n",
       "      <th>route</th>\n",
       "      <th>user_id</th>\n",
       "    </tr>\n",
       "  </thead>\n",
       "  <tbody>\n",
       "    <tr>\n",
       "      <th>68971</th>\n",
       "      <td>3382731</td>\n",
       "      <td>0</td>\n",
       "      <td></td>\n",
       "      <td>Ohne name</td>\n",
       "      <td>27670</td>\n",
       "    </tr>\n",
       "    <tr>\n",
       "      <th>31882</th>\n",
       "      <td>1825241</td>\n",
       "      <td>0</td>\n",
       "      <td>Shlosbergwand</td>\n",
       "      <td>Erwin's Project</td>\n",
       "      <td>4424</td>\n",
       "    </tr>\n",
       "    <tr>\n",
       "      <th>46268</th>\n",
       "      <td>2498911</td>\n",
       "      <td>0</td>\n",
       "      <td>Hintere Treunitzer Wand</td>\n",
       "      <td>Alfatier</td>\n",
       "      <td>33829</td>\n",
       "    </tr>\n",
       "    <tr>\n",
       "      <th>31946</th>\n",
       "      <td>1838835</td>\n",
       "      <td>0</td>\n",
       "      <td></td>\n",
       "      <td>supermakro</td>\n",
       "      <td>34789</td>\n",
       "    </tr>\n",
       "    <tr>\n",
       "      <th>3244</th>\n",
       "      <td>265901</td>\n",
       "      <td>0</td>\n",
       "      <td></td>\n",
       "      <td>Nordwestkante</td>\n",
       "      <td>7455</td>\n",
       "    </tr>\n",
       "    <tr>\n",
       "      <th>13252</th>\n",
       "      <td>925241</td>\n",
       "      <td>0</td>\n",
       "      <td></td>\n",
       "      <td>Mungersdorfer stadion</td>\n",
       "      <td>17636</td>\n",
       "    </tr>\n",
       "    <tr>\n",
       "      <th>27908</th>\n",
       "      <td>1675974</td>\n",
       "      <td>0</td>\n",
       "      <td>Huttenriss</td>\n",
       "      <td>Menschenfresser</td>\n",
       "      <td>5017</td>\n",
       "    </tr>\n",
       "    <tr>\n",
       "      <th>93256</th>\n",
       "      <td>4266734</td>\n",
       "      <td>0</td>\n",
       "      <td></td>\n",
       "      <td>Treibjagd</td>\n",
       "      <td>25398</td>\n",
       "    </tr>\n",
       "    <tr>\n",
       "      <th>28962</th>\n",
       "      <td>1700919</td>\n",
       "      <td>0</td>\n",
       "      <td></td>\n",
       "      <td>Coffin Surfer</td>\n",
       "      <td>11481</td>\n",
       "    </tr>\n",
       "    <tr>\n",
       "      <th>77410</th>\n",
       "      <td>3683726</td>\n",
       "      <td>0</td>\n",
       "      <td></td>\n",
       "      <td>Shatreng</td>\n",
       "      <td>5511</td>\n",
       "    </tr>\n",
       "  </tbody>\n",
       "</table>\n",
       "</div>"
      ],
      "text/plain": [
       "            id  sector_id                   sector                  route  \\\n",
       "68971  3382731          0                                       Ohne name   \n",
       "31882  1825241          0            Shlosbergwand        Erwin's Project   \n",
       "46268  2498911          0  Hintere Treunitzer Wand               Alfatier   \n",
       "31946  1838835          0                                      supermakro   \n",
       "3244    265901          0                                   Nordwestkante   \n",
       "13252   925241          0                           Mungersdorfer stadion   \n",
       "27908  1675974          0               Huttenriss        Menschenfresser   \n",
       "93256  4266734          0                                       Treibjagd   \n",
       "28962  1700919          0                                   Coffin Surfer   \n",
       "77410  3683726          0                                        Shatreng   \n",
       "\n",
       "       user_id  \n",
       "68971    27670  \n",
       "31882     4424  \n",
       "46268    33829  \n",
       "31946    34789  \n",
       "3244      7455  \n",
       "13252    17636  \n",
       "27908     5017  \n",
       "93256    25398  \n",
       "28962    11481  \n",
       "77410     5511  "
      ]
     },
     "execution_count": 15,
     "metadata": {},
     "output_type": "execute_result"
    }
   ],
   "source": [
    "X_train[X_train['sector_id'] == 0].head(10)"
   ]
  },
  {
   "cell_type": "markdown",
   "metadata": {},
   "source": [
    "## Exploratory Visualization"
   ]
  },
  {
   "cell_type": "markdown",
   "metadata": {},
   "source": [
    "### Missing values\n",
    "\n",
    "Lets look at the **Missing** or **Zero values** per column."
   ]
  },
  {
   "cell_type": "code",
   "execution_count": 16,
   "metadata": {
    "ExecuteTime": {
     "end_time": "2018-11-15T23:53:11.781414Z",
     "start_time": "2018-11-15T23:53:11.452095Z"
    }
   },
   "outputs": [
    {
     "data": {
      "image/png": "[encoded data removed]",
      "text/plain": [
       "<Figure size 720x360 with 1 Axes>"
      ]
     },
     "metadata": {
      "needs_background": "light"
     },
     "output_type": "display_data"
    }
   ],
   "source": [
    "plot_helper.missing_values_overview(X_train)"
   ]
  },
  {
   "cell_type": "markdown",
   "metadata": {},
   "source": [
    "In our data set `0` is in indicator for missing values, except for `sex` where `0` indicates `male` (and `1` for `female`).\n",
    "\n",
    "From the graph above we can conclude that we have missing data in `sector_id`, `raw_notes`, `rating`, `height`, `weight`, `birth`, `started_climbing`.\n",
    "\n",
    "Since `sector_id` and `rating` are important for our analysis, we have to consider what to do about those missing values during Data Preparation later on."
   ]
  },
  {
   "cell_type": "markdown",
   "metadata": {},
   "source": [
    "## Analysis of our target variable `rating`"
   ]
  },
  {
   "cell_type": "markdown",
   "metadata": {},
   "source": [
    "What are the unique values of our target variable?"
   ]
  },
  {
   "cell_type": "code",
   "execution_count": 17,
   "metadata": {
    "ExecuteTime": {
     "end_time": "2018-11-15T23:53:11.788290Z",
     "start_time": "2018-11-15T23:53:11.783548Z"
    }
   },
   "outputs": [
    {
     "data": {
      "text/plain": [
       "array([2, 1, 3, 0])"
      ]
     },
     "execution_count": 17,
     "metadata": {},
     "output_type": "execute_result"
    }
   ],
   "source": [
    "y_train.unique()"
   ]
  },
  {
   "cell_type": "markdown",
   "metadata": {},
   "source": [
    "And how is their distribution?\n"
   ]
  },
  {
   "cell_type": "code",
   "execution_count": 18,
   "metadata": {
    "ExecuteTime": {
     "end_time": "2018-11-15T23:53:11.808340Z",
     "start_time": "2018-11-15T23:53:11.790392Z"
    }
   },
   "outputs": [
    {
     "data": {
      "text/plain": [
       "0    52.5\n",
       "1    11.1\n",
       "2    18.7\n",
       "3    17.6\n",
       "Name: rating, dtype: float64"
      ]
     },
     "execution_count": 18,
     "metadata": {},
     "output_type": "execute_result"
    }
   ],
   "source": [
    "percentages = round(y_train.value_counts().sort_index() / y_train.count() * 100, 1)\n",
    "percentages"
   ]
  },
  {
   "cell_type": "code",
   "execution_count": 19,
   "metadata": {
    "ExecuteTime": {
     "end_time": "2018-11-15T23:53:11.962852Z",
     "start_time": "2018-11-15T23:53:11.810605Z"
    }
   },
   "outputs": [
    {
     "data": {
      "text/plain": [
       "<matplotlib.axes._subplots.AxesSubplot at 0x113da0860>"
      ]
     },
     "execution_count": 19,
     "metadata": {},
     "output_type": "execute_result"
    },
    {
     "data": {
      "image/png": "[encoded data removed]",
      "text/plain": [
       "<Figure size 432x288 with 1 Axes>"
      ]
     },
     "metadata": {
      "needs_background": "light"
     },
     "output_type": "display_data"
    }
   ],
   "source": [
    "y_train.value_counts().sort_index().plot(\n",
    "    kind='bar', title='ratings occurrence', xticks=percentages)"
   ]
  },
  {
   "cell_type": "code",
   "execution_count": 20,
   "metadata": {
    "ExecuteTime": {
     "end_time": "2018-11-15T23:53:11.976487Z",
     "start_time": "2018-11-15T23:53:11.965047Z"
    }
   },
   "outputs": [
    {
     "data": {
      "text/plain": [
       "count    43511.000000\n",
       "mean         2.137735\n",
       "std          0.766147\n",
       "min          1.000000\n",
       "25%          2.000000\n",
       "50%          2.000000\n",
       "75%          3.000000\n",
       "max          3.000000\n",
       "Name: rating, dtype: float64"
      ]
     },
     "execution_count": 20,
     "metadata": {},
     "output_type": "execute_result"
    }
   ],
   "source": [
    "y_train[y_train != 0].describe()"
   ]
  },
  {
   "cell_type": "markdown",
   "metadata": {
    "ExecuteTime": {
     "end_time": "2018-11-15T23:40:18.226175Z",
     "start_time": "2018-11-15T23:40:18.222324Z"
    }
   },
   "source": [
    "Out of those climbs, that were rated, the average is 2.14."
   ]
  },
  {
   "cell_type": "markdown",
   "metadata": {},
   "source": [
    "What is the percentage of users that rated at least one climb?"
   ]
  },
  {
   "cell_type": "code",
   "execution_count": 36,
   "metadata": {
    "ExecuteTime": {
     "end_time": "2018-11-16T00:00:46.575787Z",
     "start_time": "2018-11-16T00:00:46.544049Z"
    }
   },
   "outputs": [
    {
     "data": {
      "text/plain": [
       "False    2238\n",
       "True     1060\n",
       "Name: rating, dtype: int64"
      ]
     },
     "execution_count": 36,
     "metadata": {},
     "output_type": "execute_result"
    }
   ],
   "source": [
    "df_train_joined = X_train.copy()\n",
    "df_train_joined['rating'] = y\n",
    "(df_train_joined.groupby('user_id')['rating'].sum() == 0).value_counts()"
   ]
  },
  {
   "cell_type": "markdown",
   "metadata": {
    "ExecuteTime": {
     "end_time": "2018-11-16T00:02:23.741029Z",
     "start_time": "2018-11-16T00:02:23.736576Z"
    }
   },
   "source": [
    "This means that approx. 2/3 of users have rated at least one item."
   ]
  },
  {
   "cell_type": "markdown",
   "metadata": {},
   "source": [
    "## Algorithms and Techniques"
   ]
  },
  {
   "cell_type": "markdown",
   "metadata": {},
   "source": [
    "## Benchmark"
   ]
  },
  {
   "cell_type": "markdown",
   "metadata": {},
   "source": [
    "# Methodology"
   ]
  },
  {
   "cell_type": "markdown",
   "metadata": {},
   "source": [
    "## Data Preprocessing"
   ]
  },
  {
   "cell_type": "code",
   "execution_count": 22,
   "metadata": {
    "ExecuteTime": {
     "end_time": "2018-11-15T23:53:12.053191Z",
     "start_time": "2018-11-15T23:53:12.029704Z"
    }
   },
   "outputs": [
    {
     "data": {
      "text/html": [
       "<div>\n",
       "<style scoped>\n",
       "    .dataframe tbody tr th:only-of-type {\n",
       "        vertical-align: middle;\n",
       "    }\n",
       "\n",
       "    .dataframe tbody tr th {\n",
       "        vertical-align: top;\n",
       "    }\n",
       "\n",
       "    .dataframe thead th {\n",
       "        text-align: right;\n",
       "    }\n",
       "</style>\n",
       "<table border=\"1\" class=\"dataframe\">\n",
       "  <thead>\n",
       "    <tr style=\"text-align: right;\">\n",
       "      <th></th>\n",
       "      <th>id</th>\n",
       "      <th>sector_id</th>\n",
       "      <th>sector</th>\n",
       "      <th>route</th>\n",
       "      <th>user_id</th>\n",
       "    </tr>\n",
       "  </thead>\n",
       "  <tbody>\n",
       "    <tr>\n",
       "      <th>196</th>\n",
       "      <td>12446</td>\n",
       "      <td>0</td>\n",
       "      <td>Wolfsberger Felsentor</td>\n",
       "      <td>Himmelsleiter</td>\n",
       "      <td>493</td>\n",
       "    </tr>\n",
       "    <tr>\n",
       "      <th>109457</th>\n",
       "      <td>4806425</td>\n",
       "      <td>0</td>\n",
       "      <td>Wolfsberger Felsentor</td>\n",
       "      <td>Flying Duck</td>\n",
       "      <td>64408</td>\n",
       "    </tr>\n",
       "  </tbody>\n",
       "</table>\n",
       "</div>"
      ],
      "text/plain": [
       "             id  sector_id                 sector          route  user_id\n",
       "196       12446          0  Wolfsberger Felsentor  Himmelsleiter      493\n",
       "109457  4806425          0  Wolfsberger Felsentor    Flying Duck    64408"
      ]
     },
     "execution_count": 22,
     "metadata": {},
     "output_type": "execute_result"
    }
   ],
   "source": [
    "df[df['sector'] == 'Wolfsberger Felsentor'].head(10)"
   ]
  },
  {
   "cell_type": "code",
   "execution_count": 23,
   "metadata": {
    "ExecuteTime": {
     "end_time": "2018-11-15T23:53:12.064840Z",
     "start_time": "2018-11-15T23:53:12.055918Z"
    }
   },
   "outputs": [
    {
     "data": {
      "text/plain": [
       "0.9682285035226212"
      ]
     },
     "execution_count": 23,
     "metadata": {},
     "output_type": "execute_result"
    }
   ],
   "source": [
    "from Levenshtein import distance    #http://www.coli.uni-saarland.de/courses/LT1/2011/slides/Python-Levenshtein.html\n",
    "from Levenshtein import jaro_winkler\n",
    "import time\n",
    "\n",
    "# def \n",
    "jaro_winkler('Toni Schmid Ged.-Wand', 'Toni Schidt Gedenkwand')\n",
    "# jaro_winkler('Toni Schmid Ged.-Wand', 'Toni Schmid Ge. Wand')\n",
    "# jaro_winkler('Toni Schmid Ged.-Wand', 'Toni-Schid Gedenkwand')\n",
    "# jaro_winkler('Toni Schmid Ged.-Wand', 'Toni-Schmid-Ged.W.')\n",
    "# jaro_winkler('Toni Schmid Ged.-Wand', 'Toni-Schmid')\n",
    "# jaro_winkler('Toni Schmid Ged.-Wand', 'Todesstern')"
   ]
  },
  {
   "cell_type": "code",
   "execution_count": 24,
   "metadata": {
    "ExecuteTime": {
     "end_time": "2018-11-15T23:53:12.070756Z",
     "start_time": "2018-11-15T23:53:12.066754Z"
    },
    "code_folding": []
   },
   "outputs": [],
   "source": [
    "import re\n",
    "\n",
    "def removeNonAlpha(df, columns):\n",
    "    '''Removes rows from dataframe where value within column is completely non-alphanumeric.\n",
    "    Ex. '?', '???', '_-%$$'   '''\n",
    "    \n",
    "    # regex that matches non alphanumeric strings\n",
    "    pattern = '^[^a-zA-Z\\d\\s:]*$'\n",
    "        \n",
    "    for col in columns:\n",
    "        myfilter = df[col].str.contains(pattern)\n",
    "        df = df[~myfilter]\n",
    "    \n",
    "    return df"
   ]
  },
  {
   "cell_type": "markdown",
   "metadata": {},
   "source": [
    "Remove records with non-alphanumeric entries in columns `sector` or `route`."
   ]
  },
  {
   "cell_type": "code",
   "execution_count": 25,
   "metadata": {
    "ExecuteTime": {
     "end_time": "2018-11-15T23:53:12.298197Z",
     "start_time": "2018-11-15T23:53:12.073099Z"
    },
    "scrolled": true
   },
   "outputs": [],
   "source": [
    "df = removeNonAlpha(df, ['sector', 'route'])"
   ]
  },
  {
   "cell_type": "code",
   "execution_count": 26,
   "metadata": {
    "ExecuteTime": {
     "end_time": "2018-11-15T23:53:12.310338Z",
     "start_time": "2018-11-15T23:53:12.300245Z"
    }
   },
   "outputs": [
    {
     "data": {
      "text/html": [
       "<div>\n",
       "<style scoped>\n",
       "    .dataframe tbody tr th:only-of-type {\n",
       "        vertical-align: middle;\n",
       "    }\n",
       "\n",
       "    .dataframe tbody tr th {\n",
       "        vertical-align: top;\n",
       "    }\n",
       "\n",
       "    .dataframe thead th {\n",
       "        text-align: right;\n",
       "    }\n",
       "</style>\n",
       "<table border=\"1\" class=\"dataframe\">\n",
       "  <thead>\n",
       "    <tr style=\"text-align: right;\">\n",
       "      <th></th>\n",
       "      <th>sector_id</th>\n",
       "      <th>sector</th>\n",
       "    </tr>\n",
       "  </thead>\n",
       "  <tbody>\n",
       "    <tr>\n",
       "      <th>17</th>\n",
       "      <td>0</td>\n",
       "      <td>Kainachtaler Riesenüberhang</td>\n",
       "    </tr>\n",
       "    <tr>\n",
       "      <th>55</th>\n",
       "      <td>0</td>\n",
       "      <td>Spaßwand</td>\n",
       "    </tr>\n",
       "    <tr>\n",
       "      <th>121</th>\n",
       "      <td>0</td>\n",
       "      <td>Kaiserbachtaler Riesenüberhang</td>\n",
       "    </tr>\n",
       "    <tr>\n",
       "      <th>129</th>\n",
       "      <td>0</td>\n",
       "      <td>Kleinziegenfelder Wände (Klinge)</td>\n",
       "    </tr>\n",
       "    <tr>\n",
       "      <th>170</th>\n",
       "      <td>0</td>\n",
       "      <td>Spaßwand</td>\n",
       "    </tr>\n",
       "  </tbody>\n",
       "</table>\n",
       "</div>"
      ],
      "text/plain": [
       "     sector_id                            sector\n",
       "17           0       Kainachtaler Riesenüberhang\n",
       "55           0                          Spaßwand\n",
       "121          0    Kaiserbachtaler Riesenüberhang\n",
       "129          0  Kleinziegenfelder Wände (Klinge)\n",
       "170          0                          Spaßwand"
      ]
     },
     "execution_count": 26,
     "metadata": {},
     "output_type": "execute_result"
    }
   ],
   "source": [
    "df_sectorsZero = df[df['sector_id'] == 0][['sector_id', 'sector']]\n",
    "df_sectorsZero.head(5)"
   ]
  },
  {
   "cell_type": "code",
   "execution_count": 27,
   "metadata": {
    "ExecuteTime": {
     "end_time": "2018-11-15T23:53:12.334283Z",
     "start_time": "2018-11-15T23:53:12.312507Z"
    }
   },
   "outputs": [
    {
     "data": {
      "text/html": [
       "<div>\n",
       "<style scoped>\n",
       "    .dataframe tbody tr th:only-of-type {\n",
       "        vertical-align: middle;\n",
       "    }\n",
       "\n",
       "    .dataframe tbody tr th {\n",
       "        vertical-align: top;\n",
       "    }\n",
       "\n",
       "    .dataframe thead th {\n",
       "        text-align: right;\n",
       "    }\n",
       "</style>\n",
       "<table border=\"1\" class=\"dataframe\">\n",
       "  <thead>\n",
       "    <tr style=\"text-align: right;\">\n",
       "      <th></th>\n",
       "      <th>sector_id</th>\n",
       "      <th>sector</th>\n",
       "    </tr>\n",
       "  </thead>\n",
       "  <tbody>\n",
       "    <tr>\n",
       "      <th>0</th>\n",
       "      <td>126</td>\n",
       "      <td>Grüne Hölle</td>\n",
       "    </tr>\n",
       "    <tr>\n",
       "      <th>1</th>\n",
       "      <td>111</td>\n",
       "      <td>Marientaler Wände</td>\n",
       "    </tr>\n",
       "    <tr>\n",
       "      <th>2</th>\n",
       "      <td>1309</td>\n",
       "      <td>Obere Schlossbergwände</td>\n",
       "    </tr>\n",
       "    <tr>\n",
       "      <th>4</th>\n",
       "      <td>422</td>\n",
       "      <td>Richard Wagner Fels</td>\n",
       "    </tr>\n",
       "    <tr>\n",
       "      <th>5</th>\n",
       "      <td>234</td>\n",
       "      <td>Stadeltenne</td>\n",
       "    </tr>\n",
       "  </tbody>\n",
       "</table>\n",
       "</div>"
      ],
      "text/plain": [
       "   sector_id                  sector\n",
       "0        126             Grüne Hölle\n",
       "1        111       Marientaler Wände\n",
       "2       1309  Obere Schlossbergwände\n",
       "4        422     Richard Wagner Fels\n",
       "5        234             Stadeltenne"
      ]
     },
     "execution_count": 27,
     "metadata": {},
     "output_type": "execute_result"
    }
   ],
   "source": [
    "df_sectorsNonZero = df[df['sector_id'] != 0].drop_duplicates('sector_id')[['sector_id', 'sector']]\n",
    "df_sectorsNonZero.head(5)"
   ]
  },
  {
   "cell_type": "code",
   "execution_count": 28,
   "metadata": {
    "ExecuteTime": {
     "end_time": "2018-11-15T23:53:12.956012Z",
     "start_time": "2018-11-15T23:53:12.336405Z"
    }
   },
   "outputs": [
    {
     "data": {
      "text/plain": [
       "'This cell took 0.6114389896392822 seconds to execute.'"
      ]
     },
     "execution_count": 28,
     "metadata": {},
     "output_type": "execute_result"
    }
   ],
   "source": [
    "start = time.time()\n",
    "\n",
    "\n",
    "\n",
    "routes_unique = df['route'].unique()\n",
    "levenshtein_matrix = np.ones((routes_unique.size, routes_unique.size))\n",
    "\n",
    "# examples = 0\n",
    "# i = 0        \n",
    "# while i <= len(routes_unique) - 1:\n",
    "#     j = i + 1\n",
    "#     while j <= len(routes_unique) - 1:\n",
    "#         dist = distance(routes_unique[i], routes_unique[j])\n",
    "#         if dist != 0:\n",
    "#             levenshtein_matrix[i][j] = 1. / dist\n",
    "#             if examples <= 10 and dist <= 3:\n",
    "#                 f'{routes_unique[i]}, {routes_unique[j]}, {levenshtein_matrix[i][j]}, i={i}, j={j}'\n",
    "#                 examples += 1\n",
    "#         j += 1\n",
    "#     i += 1\n",
    "    \n",
    "# threshold = 1. / 3\n",
    "\n",
    "# levenshtein_matrix[levenshtein_matrix > threshold] = 1\n",
    "# levenshtein_matrix\n",
    "\n",
    "# i = 0        \n",
    "# while i <= len(routes_unique) - 1:\n",
    "#     j = 0\n",
    "#     while j <= len(routes_unique) - 1:\n",
    "#         if i != j and levenshtein_matrix[i][j] >= threshold:\n",
    "# #             f'{routes_unique[i]}, {routes_unique[j]}, {levenshtein_matrix[i][j]}, i={i}, j={j}'\n",
    "#         j += 1\n",
    "#     i += 1\n",
    "\n",
    "end = time.time()\n",
    "\n",
    "f'This cell took {end - start} seconds to execute.'\n",
    "        "
   ]
  },
  {
   "cell_type": "markdown",
   "metadata": {},
   "source": [
    "## Implementation"
   ]
  },
  {
   "cell_type": "markdown",
   "metadata": {},
   "source": [
    "## Refinement"
   ]
  },
  {
   "cell_type": "markdown",
   "metadata": {},
   "source": [
    "# Results"
   ]
  },
  {
   "cell_type": "markdown",
   "metadata": {},
   "source": [
    "## Model Evaluation and Validation"
   ]
  },
  {
   "cell_type": "markdown",
   "metadata": {},
   "source": [
    "## Justification"
   ]
  },
  {
   "cell_type": "markdown",
   "metadata": {},
   "source": [
    "# Conclusion"
   ]
  },
  {
   "cell_type": "markdown",
   "metadata": {},
   "source": [
    "## Free-Form Visualization"
   ]
  },
  {
   "cell_type": "markdown",
   "metadata": {},
   "source": [
    "## Reflection"
   ]
  },
  {
   "cell_type": "markdown",
   "metadata": {},
   "source": [
    "## Improvement"
   ]
  }
 ],
 "metadata": {
  "hide_input": false,
  "kernelspec": {
   "display_name": "Python 3",
   "language": "python",
   "name": "python3"
  },
  "language_info": {
   "codemirror_mode": {
    "name": "ipython",
    "version": 3
   },
   "file_extension": ".py",
   "mimetype": "text/x-python",
   "name": "python",
   "nbconvert_exporter": "python",
   "pygments_lexer": "ipython3",
   "version": "3.6.6"
  },
  "toc": {
   "nav_menu": {},
   "number_sections": true,
   "sideBar": true,
   "skip_h1_title": false,
   "toc_cell": false,
   "toc_position": {},
   "toc_section_display": "block",
   "toc_window_display": false
  },
  "varInspector": {
   "cols": {
    "lenName": 16,
    "lenType": 16,
    "lenVar": 40
   },
   "kernels_config": {
    "python": {
     "delete_cmd_postfix": "",
     "delete_cmd_prefix": "del ",
     "library": "var_list.py",
     "varRefreshCmd": "print(var_dic_list())"
    },
    "r": {
     "delete_cmd_postfix": ") ",
     "delete_cmd_prefix": "rm(",
     "library": "var_list.r",
     "varRefreshCmd": "cat(var_dic_list()) "
    }
   },
   "oldHeight": 226,
   "position": {
    "height": "57px",
    "left": "484px",
    "right": "20px",
    "top": "131px",
    "width": "350px"
   },
   "types_to_exclude": [
    "module",
    "function",
    "builtin_function_or_method",
    "instance",
    "_Feature"
   ],
   "varInspector_section_display": "none",
   "window_display": false
  }
 },
 "nbformat": 4,
 "nbformat_minor": 2
}
