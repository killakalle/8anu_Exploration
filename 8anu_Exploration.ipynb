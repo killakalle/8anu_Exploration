{
 "cells": [
  {
   "cell_type": "markdown",
   "metadata": {},
   "source": [
    "# Definition"
   ]
  },
  {
   "cell_type": "markdown",
   "metadata": {},
   "source": [
    "## Project Overview"
   ]
  },
  {
   "cell_type": "markdown",
   "metadata": {},
   "source": [
    "## Problem Statement"
   ]
  },
  {
   "cell_type": "markdown",
   "metadata": {},
   "source": [
    "## Metrics"
   ]
  },
  {
   "cell_type": "markdown",
   "metadata": {},
   "source": [
    "# Analysis"
   ]
  },
  {
   "cell_type": "markdown",
   "metadata": {},
   "source": [
    "## Data Exploration"
   ]
  },
  {
   "cell_type": "code",
   "execution_count": 1,
   "metadata": {
    "ExecuteTime": {
     "end_time": "2018-11-27T00:33:21.629675Z",
     "start_time": "2018-11-27T00:33:18.545515Z"
    },
    "pixiedust": {
     "displayParams": {}
    }
   },
   "outputs": [
    {
     "name": "stdout",
     "output_type": "stream",
     "text": [
      "Pixiedust database opened successfully\n"
     ]
    },
    {
     "data": {
      "text/html": [
       "\n",
       "        <div style=\"margin:10px\">\n",
       "            <a href=\"https://github.com/ibm-watson-data-lab/pixiedust\" target=\"_new\">\n",
       "                <img src=\"https://github.com/ibm-watson-data-lab/pixiedust/raw/master/docs/_static/pd_icon32.png\" style=\"float:left;margin-right:10px\"/>\n",
       "            </a>\n",
       "            <span>Pixiedust version 1.1.14</span>\n",
       "        </div>\n",
       "        "
      ],
      "text/plain": [
       "<IPython.core.display.HTML object>"
      ]
     },
     "metadata": {},
     "output_type": "display_data"
    }
   ],
   "source": [
    "import sqlite3\n",
    "import pandas as pd\n",
    "import numpy as np\n",
    "import matplotlib.pyplot as plt\n",
    "import xlsxwriter\n",
    "import pixiedust\n",
    "from IPython.display import Markdown as md\n",
    "from scipy.sparse import csr_matrix\n",
    "\n",
    "%matplotlib inline\n",
    "\n",
    "import plot_helper"
   ]
  },
  {
   "cell_type": "code",
   "execution_count": 2,
   "metadata": {
    "ExecuteTime": {
     "end_time": "2018-11-27T00:33:21.634437Z",
     "start_time": "2018-11-27T00:33:21.631861Z"
    }
   },
   "outputs": [],
   "source": [
    "from IPython.core.interactiveshell import InteractiveShell\n",
    "InteractiveShell.ast_node_interactivity = \"all\""
   ]
  },
  {
   "cell_type": "markdown",
   "metadata": {},
   "source": [
    "The data set for this project was downloaded from Kaggle at  \n",
    "[8anu climbing logbook](https://www.kaggle.com/dcohen21/8anu-climbing-logbook)"
   ]
  },
  {
   "cell_type": "code",
   "execution_count": 3,
   "metadata": {
    "ExecuteTime": {
     "end_time": "2018-11-27T00:33:29.555344Z",
     "start_time": "2018-11-27T00:33:21.636609Z"
    }
   },
   "outputs": [],
   "source": [
    "# Connect to db\n",
    "conn = sqlite3.connect('data/8anu.sqlite')\n",
    "\n",
    "# Read data into pandas\n",
    "sql = ('SELECT a.id, a.country AS crag_country, a.crag_id, a.crag, a.sector_id, a.sector, a.name AS route, '\n",
    "       'a.grade_id, g.fra_routes AS grade, a.year, a.date, a.method_id, m.shorthand AS method, a.notes, a.raw_notes, a.rating, '\n",
    "       'a.user_id, u.country AS user_country, u.city AS user_city, u.sex, u.height, u.weight, u.birth AS birthdate, u.started AS started_climbing '\n",
    "       'FROM ('\n",
    "           'SELECT * '\n",
    "           'FROM ascent '\n",
    "           'WHERE crag=\\'Frankenjura\\' AND climb_type=0'\n",
    "       ') AS a '\n",
    "       'LEFT OUTER JOIN grade AS g ON a.grade_id=g.id '\n",
    "       'LEFT OUTER JOIN method AS m ON a.method_id=m.id '\n",
    "       'LEFT OUTER JOIN user AS u ON a.user_id=u.id '\n",
    "       )\n",
    "df = pd.read_sql_query(sql, conn)\n",
    "\n",
    "# Close db connection\n",
    "conn.close()"
   ]
  },
  {
   "cell_type": "code",
   "execution_count": 4,
   "metadata": {
    "ExecuteTime": {
     "end_time": "2018-11-27T00:33:29.559861Z",
     "start_time": "2018-11-27T00:33:29.557429Z"
    }
   },
   "outputs": [],
   "source": [
    "# Export to .csv for submitting Project Proposal to Udacity\n",
    "#df.to_csv('data/8anu_franken.csv', sep=';')"
   ]
  },
  {
   "cell_type": "code",
   "execution_count": 5,
   "metadata": {
    "ExecuteTime": {
     "end_time": "2018-11-27T00:33:29.564275Z",
     "start_time": "2018-11-27T00:33:29.561392Z"
    }
   },
   "outputs": [],
   "source": [
    "# Export to .xlsx\n",
    "# Create a Pandas Excel writer using XlsxWriter as the engine.\n",
    "#writer = pd.ExcelWriter('data/8anu_franken.xlsx', engine='xlsxwriter')\n",
    "\n",
    "# Convert the dataframe to an XlsxWriter Excel object.\n",
    "#df.to_excel(writer, sheet_name='Sheet1')\n",
    "\n",
    "# Close the Pandas Excel writer and output the Excel file.\n",
    "#writer.save()"
   ]
  },
  {
   "cell_type": "markdown",
   "metadata": {},
   "source": [
    "### General information about the data set"
   ]
  },
  {
   "cell_type": "code",
   "execution_count": 6,
   "metadata": {
    "ExecuteTime": {
     "end_time": "2018-11-27T00:33:29.572085Z",
     "start_time": "2018-11-27T00:33:29.566706Z"
    }
   },
   "outputs": [
    {
     "data": {
      "text/plain": [
       "Index(['id', 'crag_country', 'crag_id', 'crag', 'sector_id', 'sector', 'route',\n",
       "       'grade_id', 'grade', 'year', 'date', 'method_id', 'method', 'notes',\n",
       "       'raw_notes', 'rating', 'user_id', 'user_country', 'user_city', 'sex',\n",
       "       'height', 'weight', 'birthdate', 'started_climbing'],\n",
       "      dtype='object')"
      ]
     },
     "execution_count": 6,
     "metadata": {},
     "output_type": "execute_result"
    }
   ],
   "source": [
    "## Get a list of all columns\n",
    "df.columns"
   ]
  },
  {
   "cell_type": "code",
   "execution_count": 7,
   "metadata": {
    "ExecuteTime": {
     "end_time": "2018-11-27T00:33:29.607874Z",
     "start_time": "2018-11-27T00:33:29.574316Z"
    }
   },
   "outputs": [
    {
     "data": {
      "text/html": [
       "<div>\n",
       "<style scoped>\n",
       "    .dataframe tbody tr th:only-of-type {\n",
       "        vertical-align: middle;\n",
       "    }\n",
       "\n",
       "    .dataframe tbody tr th {\n",
       "        vertical-align: top;\n",
       "    }\n",
       "\n",
       "    .dataframe thead th {\n",
       "        text-align: right;\n",
       "    }\n",
       "</style>\n",
       "<table border=\"1\" class=\"dataframe\">\n",
       "  <thead>\n",
       "    <tr style=\"text-align: right;\">\n",
       "      <th></th>\n",
       "      <th>id</th>\n",
       "      <th>crag_country</th>\n",
       "      <th>crag_id</th>\n",
       "      <th>crag</th>\n",
       "      <th>sector_id</th>\n",
       "      <th>sector</th>\n",
       "      <th>route</th>\n",
       "      <th>grade_id</th>\n",
       "      <th>grade</th>\n",
       "      <th>year</th>\n",
       "      <th>...</th>\n",
       "      <th>raw_notes</th>\n",
       "      <th>rating</th>\n",
       "      <th>user_id</th>\n",
       "      <th>user_country</th>\n",
       "      <th>user_city</th>\n",
       "      <th>sex</th>\n",
       "      <th>height</th>\n",
       "      <th>weight</th>\n",
       "      <th>birthdate</th>\n",
       "      <th>started_climbing</th>\n",
       "    </tr>\n",
       "  </thead>\n",
       "  <tbody>\n",
       "    <tr>\n",
       "      <th>0</th>\n",
       "      <td>582</td>\n",
       "      <td>DEU</td>\n",
       "      <td>16600</td>\n",
       "      <td>Frankenjura</td>\n",
       "      <td>126</td>\n",
       "      <td>Grüne Hölle</td>\n",
       "      <td>Isolation</td>\n",
       "      <td>46</td>\n",
       "      <td>6c+</td>\n",
       "      <td>2000</td>\n",
       "      <td>...</td>\n",
       "      <td>0</td>\n",
       "      <td>0</td>\n",
       "      <td>39</td>\n",
       "      <td>NLD</td>\n",
       "      <td>Eindhoven</td>\n",
       "      <td>0.0</td>\n",
       "      <td>178.0</td>\n",
       "      <td>78.0</td>\n",
       "      <td>1972-10-16</td>\n",
       "      <td>1996.0</td>\n",
       "    </tr>\n",
       "    <tr>\n",
       "      <th>1</th>\n",
       "      <td>805</td>\n",
       "      <td>DEU</td>\n",
       "      <td>16600</td>\n",
       "      <td>Frankenjura</td>\n",
       "      <td>111</td>\n",
       "      <td>Marientaler Wände</td>\n",
       "      <td>Kraftfeld</td>\n",
       "      <td>59</td>\n",
       "      <td>7c+</td>\n",
       "      <td>1999</td>\n",
       "      <td>...</td>\n",
       "      <td>0</td>\n",
       "      <td>0</td>\n",
       "      <td>32</td>\n",
       "      <td>SWE</td>\n",
       "      <td>Gothenburg</td>\n",
       "      <td>0.0</td>\n",
       "      <td>174.0</td>\n",
       "      <td>0.0</td>\n",
       "      <td>1976-06-15</td>\n",
       "      <td>1996.0</td>\n",
       "    </tr>\n",
       "    <tr>\n",
       "      <th>2</th>\n",
       "      <td>902</td>\n",
       "      <td>DEU</td>\n",
       "      <td>16600</td>\n",
       "      <td>Frankenjura</td>\n",
       "      <td>1309</td>\n",
       "      <td>Obere Schlossbergwände</td>\n",
       "      <td>Ursus</td>\n",
       "      <td>49</td>\n",
       "      <td>7a</td>\n",
       "      <td>2000</td>\n",
       "      <td>...</td>\n",
       "      <td>0</td>\n",
       "      <td>0</td>\n",
       "      <td>49</td>\n",
       "      <td>SWE</td>\n",
       "      <td>GÖTEBORG</td>\n",
       "      <td>0.0</td>\n",
       "      <td>0.0</td>\n",
       "      <td>0.0</td>\n",
       "      <td>None</td>\n",
       "      <td>1990.0</td>\n",
       "    </tr>\n",
       "    <tr>\n",
       "      <th>3</th>\n",
       "      <td>903</td>\n",
       "      <td>DEU</td>\n",
       "      <td>16600</td>\n",
       "      <td>Frankenjura</td>\n",
       "      <td>0</td>\n",
       "      <td></td>\n",
       "      <td>Don't know name</td>\n",
       "      <td>46</td>\n",
       "      <td>6c+</td>\n",
       "      <td>2000</td>\n",
       "      <td>...</td>\n",
       "      <td>0</td>\n",
       "      <td>0</td>\n",
       "      <td>49</td>\n",
       "      <td>SWE</td>\n",
       "      <td>GÖTEBORG</td>\n",
       "      <td>0.0</td>\n",
       "      <td>0.0</td>\n",
       "      <td>0.0</td>\n",
       "      <td>None</td>\n",
       "      <td>1990.0</td>\n",
       "    </tr>\n",
       "    <tr>\n",
       "      <th>4</th>\n",
       "      <td>935</td>\n",
       "      <td>DEU</td>\n",
       "      <td>16600</td>\n",
       "      <td>Frankenjura</td>\n",
       "      <td>422</td>\n",
       "      <td>Richard Wagner Fels</td>\n",
       "      <td>Fight Gravity</td>\n",
       "      <td>53</td>\n",
       "      <td>7b</td>\n",
       "      <td>1999</td>\n",
       "      <td>...</td>\n",
       "      <td>0</td>\n",
       "      <td>0</td>\n",
       "      <td>3</td>\n",
       "      <td>SWE</td>\n",
       "      <td>Umeå</td>\n",
       "      <td>0.0</td>\n",
       "      <td>180.0</td>\n",
       "      <td>78.0</td>\n",
       "      <td>1973-09-09</td>\n",
       "      <td>1995.0</td>\n",
       "    </tr>\n",
       "  </tbody>\n",
       "</table>\n",
       "<p>5 rows × 24 columns</p>\n",
       "</div>"
      ],
      "text/plain": [
       "    id crag_country  crag_id         crag  sector_id                  sector  \\\n",
       "0  582          DEU    16600  Frankenjura        126             Grüne Hölle   \n",
       "1  805          DEU    16600  Frankenjura        111       Marientaler Wände   \n",
       "2  902          DEU    16600  Frankenjura       1309  Obere Schlossbergwände   \n",
       "3  903          DEU    16600  Frankenjura          0                           \n",
       "4  935          DEU    16600  Frankenjura        422     Richard Wagner Fels   \n",
       "\n",
       "             route  grade_id grade  year        ...         raw_notes  rating  \\\n",
       "0        Isolation        46   6c+  2000        ...                 0       0   \n",
       "1        Kraftfeld        59   7c+  1999        ...                 0       0   \n",
       "2            Ursus        49    7a  2000        ...                 0       0   \n",
       "3  Don't know name        46   6c+  2000        ...                 0       0   \n",
       "4    Fight Gravity        53    7b  1999        ...                 0       0   \n",
       "\n",
       "  user_id user_country   user_city  sex  height weight   birthdate  \\\n",
       "0      39          NLD   Eindhoven  0.0   178.0   78.0  1972-10-16   \n",
       "1      32          SWE  Gothenburg  0.0   174.0    0.0  1976-06-15   \n",
       "2      49          SWE    GÖTEBORG  0.0     0.0    0.0        None   \n",
       "3      49          SWE    GÖTEBORG  0.0     0.0    0.0        None   \n",
       "4       3          SWE        Umeå  0.0   180.0   78.0  1973-09-09   \n",
       "\n",
       "   started_climbing  \n",
       "0            1996.0  \n",
       "1            1996.0  \n",
       "2            1990.0  \n",
       "3            1990.0  \n",
       "4            1995.0  \n",
       "\n",
       "[5 rows x 24 columns]"
      ]
     },
     "execution_count": 7,
     "metadata": {},
     "output_type": "execute_result"
    }
   ],
   "source": [
    "df.head(5)"
   ]
  },
  {
   "cell_type": "code",
   "execution_count": 8,
   "metadata": {
    "ExecuteTime": {
     "end_time": "2018-11-27T00:33:29.638568Z",
     "start_time": "2018-11-27T00:33:29.609711Z"
    }
   },
   "outputs": [
    {
     "data": {
      "text/plain": [
       "'There are 114,589 data entries in our dataset.'"
      ]
     },
     "execution_count": 8,
     "metadata": {},
     "output_type": "execute_result"
    },
    {
     "data": {
      "text/plain": [
       "'60,303 out of these contain a rating. That is approx. 52.63%'"
      ]
     },
     "execution_count": 8,
     "metadata": {},
     "output_type": "execute_result"
    }
   ],
   "source": [
    "records_count = df.shape[0]\n",
    "ratings_count = df[ df['rating'] == 0].shape[0]\n",
    "\n",
    "\n",
    "f'There are {records_count:,} data entries in our dataset.'\n",
    "f'{ratings_count:,} out of these contain a rating. That is approx. {ratings_count / records_count * 100:.2f}%'"
   ]
  },
  {
   "cell_type": "code",
   "execution_count": 9,
   "metadata": {
    "ExecuteTime": {
     "end_time": "2018-11-27T00:33:29.757384Z",
     "start_time": "2018-11-27T00:33:29.640508Z"
    }
   },
   "outputs": [
    {
     "name": "stdout",
     "output_type": "stream",
     "text": [
      "<class 'pandas.core.frame.DataFrame'>\n",
      "RangeIndex: 114589 entries, 0 to 114588\n",
      "Data columns (total 24 columns):\n",
      "id                  114589 non-null int64\n",
      "crag_country        114589 non-null object\n",
      "crag_id             114589 non-null int64\n",
      "crag                114589 non-null object\n",
      "sector_id           114589 non-null int64\n",
      "sector              114589 non-null object\n",
      "route               114589 non-null object\n",
      "grade_id            114589 non-null int64\n",
      "grade               114589 non-null object\n",
      "year                114589 non-null int64\n",
      "date                114589 non-null int64\n",
      "method_id           114589 non-null int64\n",
      "method              114589 non-null object\n",
      "notes               114589 non-null object\n",
      "raw_notes           114589 non-null int64\n",
      "rating              114589 non-null int64\n",
      "user_id             114589 non-null int64\n",
      "user_country        114587 non-null object\n",
      "user_city           114587 non-null object\n",
      "sex                 114587 non-null float64\n",
      "height              114587 non-null float64\n",
      "weight              114587 non-null float64\n",
      "birthdate           85770 non-null object\n",
      "started_climbing    114587 non-null float64\n",
      "dtypes: float64(4), int64(10), object(10)\n",
      "memory usage: 21.0+ MB\n"
     ]
    }
   ],
   "source": [
    "df.info()"
   ]
  },
  {
   "cell_type": "markdown",
   "metadata": {},
   "source": [
    "| <p align='left'>`Column` | <p align='left'>Description | <p align='center'> Datatype | <p align='center'> Use | \n",
    "|:------|:------|:------:|:------:| \n",
    "| <p align='left'>`crag_country` | <p align='left'>3-letter country code of the country where the crag is located. | <p align='center'> categorical | <p align='center'> no | \n",
    "| <p align='left'>`crag_id` | <p align='left'>Unique id for identifying each crag. | <p align='center'> int | <p align='center'> no | \n",
    "| <p align='left'>`crag` | <p align='left'>Name of the crag | <p align='center'> text | <p align='center'> no | \n",
    "| <p align='left'>`sector_id` | <p align='left'>Unique id for identifying each sector. | <p align='center'> int | <p align='center'> yes | \n",
    "| <p align='left'>`sector` | <p align='left'>Name of the sector. A sector is a specific area within a crag. | <p align='center'> text | <p align='center'> yes | \n",
    "| <p align='left'>`route` | <p align='left'>Name of the route the climber has climbed. | <p align='center'> text | <p align='center'> yes | \n",
    "| <p align='left'>`grade_id` | <p align='left'>Unique id for identifying each climbing grade. | <p align='center'> int | <p align='center'> statistics | \n",
    "| <p align='left'>`grade` | <p align='left'>Climbing grade given to that route as per the French grading system | <p align='center'> categorical | <p align='center'> statistics | \n",
    "| <p align='left'>`year` | <p align='left'>Year the route was climbed | <p align='center'> int | <p align='center'> statistics | \n",
    "| <p align='left'>`date` | <p align='left'>Date the route was climbed. The date format is number of seconds since 1970-01-01. | <p align='center'> int | <p align='center'> statistics | \n",
    "| <p align='left'>`method_id` | <p align='left'>Unique id for identifying each type of ascent. | <p align='center'> int | <p align='center'> statistics | \n",
    "| <p align='left'>`method` | <p align='left'>The type of ascent the climber made on that route. | <p align='center'> categorical | <p align='center'> statistics | \n",
    "| <p align='left'>`notes` | <p align='left'>Additional information the climber provided for this climb, e.g. Soft graded, i.e. fairly easy climb for the given grade | <p align='center'> categorical | <p align='center'> statistics | \n",
    "| <p align='left'>`raw_notes` | <p align='left'>Encoding of different notes and combination of notes | <p align='center'> int | <p align='center'> statistics | \n",
    "| <p align='left'>`rating` | <p align='left'>Rating given to the climb by this climber. This is our target attribute. | <p align='center'> int | <p align='center'> target | \n",
    "| <p align='left'>`user_id` | <p align='left'>Unique id for this climber. | <p align='center'> int | <p align='center'> yes | \n",
    "| <p align='left'>`user_country` | <p align='left'>3-letter country code of the country where this climber is from. | <p align='center'> categorical | <p align='center'> statistics | \n",
    "| <p align='left'>`user_city` | <p align='left'>City where this climber is from | <p align='center'> text | <p align='center'> statistics | \n",
    "| <p align='left'>`sex` | <p align='left'>The climber's sex. 0 indicates male, 1 indicates female. | <p align='center'> int | <p align='center'> statistics | \n",
    "| <p align='left'>`height` | <p align='left'>The climber's height in cm | <p align='center'> int | <p align='center'> statistics | \n",
    "| <p align='left'>`weight` | <p align='left'>The climber's weight in kg | <p align='center'> int | <p align='center'> statistics | \n",
    "| <p align='left'>`birthdate` | <p align='left'>The climber's date of birth | <p align='center'> date | <p align='center'> statistics | \n",
    "| <p align='left'>`started_climbing` | <p align='left'>The year the climber started climbing. | <p align='center'> int | <p align='center'> statistics | ![image.png](attachment:image.png)"
   ]
  },
  {
   "cell_type": "markdown",
   "metadata": {},
   "source": [
    "In the table above the column `Use` indicated how we plan to use the given column.\n",
    "- `target` - this is a target attribute.\n",
    "- `yes` - this column will be used during exploration and analysis.\n",
    "- `no` - not planned to use that column during analysis and exploration.\n",
    "- `statistics` - this column will not be used for analysis but may be interesting later on to do user statistics etc."
   ]
  },
  {
   "cell_type": "code",
   "execution_count": 10,
   "metadata": {
    "ExecuteTime": {
     "end_time": "2018-11-27T00:33:30.233366Z",
     "start_time": "2018-11-27T00:33:29.760188Z"
    }
   },
   "outputs": [
    {
     "data": {
      "text/plain": [
       "<matplotlib.axes._subplots.AxesSubplot at 0x1a19850cf8>"
      ]
     },
     "execution_count": 10,
     "metadata": {},
     "output_type": "execute_result"
    },
    {
     "data": {
      "image/png": "[encoded data removed]",
      "text/plain": [
       "<Figure size 432x288 with 1 Axes>"
      ]
     },
     "metadata": {
      "needs_background": "light"
     },
     "output_type": "display_data"
    }
   ],
   "source": [
    "df.groupby('grade').count()['id'].plot(kind='bar', color='b')"
   ]
  },
  {
   "cell_type": "markdown",
   "metadata": {},
   "source": [
    "\n",
    "<img src=\"climbing_grades_comparison.png\" alt=\"Grade comparison table\" width=\"500\" align=\"left\" />\n"
   ]
  },
  {
   "cell_type": "code",
   "execution_count": 11,
   "metadata": {
    "ExecuteTime": {
     "end_time": "2018-11-27T00:33:31.557026Z",
     "start_time": "2018-11-27T00:33:30.235438Z"
    }
   },
   "outputs": [
    {
     "data": {
      "text/plain": [
       "<matplotlib.axes._subplots.AxesSubplot at 0x1a17f23470>"
      ]
     },
     "execution_count": 11,
     "metadata": {},
     "output_type": "execute_result"
    },
    {
     "data": {
      "image/png": "[encoded data removed]",
      "text/plain": [
       "<Figure size 432x288 with 1 Axes>"
      ]
     },
     "metadata": {
      "needs_background": "light"
     },
     "output_type": "display_data"
    }
   ],
   "source": [
    "df_grade_adjusted = df.copy()\n",
    "df_grade_adjusted.loc[df_grade_adjusted['grade'] == '6c'] = '6b+'\n",
    "df_grade_adjusted.loc[df_grade_adjusted['grade'] == '7b'] = '7a+'\n",
    "df_grade_adjusted.groupby('grade').count()['id'].plot(kind='bar', color='b')"
   ]
  },
  {
   "cell_type": "markdown",
   "metadata": {},
   "source": [
    "Drop unnecessary columns for analysis."
   ]
  },
  {
   "cell_type": "code",
   "execution_count": 12,
   "metadata": {
    "ExecuteTime": {
     "end_time": "2018-11-27T00:33:31.573597Z",
     "start_time": "2018-11-27T00:33:31.559351Z"
    }
   },
   "outputs": [],
   "source": [
    "df = df.drop(columns=['crag_country',\n",
    "                      'crag_id',\n",
    "                      'crag',\n",
    "                      'grade_id',\n",
    "                      'grade',\n",
    "                      'year',\n",
    "                      'date',\n",
    "                      'method_id',\n",
    "                      'method',\n",
    "                      'notes',\n",
    "                      'raw_notes',\n",
    "                      'user_country',\n",
    "                      'user_city',\n",
    "                      'sex',\n",
    "                      'height',\n",
    "                      'weight',\n",
    "                      'birthdate',\n",
    "                      'started_climbing'])"
   ]
  },
  {
   "cell_type": "markdown",
   "metadata": {},
   "source": [
    "Split train and test set to avoid bias"
   ]
  },
  {
   "cell_type": "code",
   "execution_count": 13,
   "metadata": {
    "ExecuteTime": {
     "end_time": "2018-11-27T00:33:31.671579Z",
     "start_time": "2018-11-27T00:33:31.576461Z"
    }
   },
   "outputs": [],
   "source": [
    "from sklearn.model_selection import train_test_split\n",
    "\n",
    "# y = df.pop('rating')\n",
    "X = df\n",
    "\n",
    "X_train, X_test = train_test_split(X, test_size=0.2, random_state=42)"
   ]
  },
  {
   "cell_type": "markdown",
   "metadata": {},
   "source": [
    "### Missing values\n",
    "\n",
    "Let us take a look if we have **missing values** or **zero values**.\n",
    "\n",
    "Number of missing values per column:"
   ]
  },
  {
   "cell_type": "code",
   "execution_count": 14,
   "metadata": {
    "ExecuteTime": {
     "end_time": "2018-11-27T00:33:31.716746Z",
     "start_time": "2018-11-27T00:33:31.673659Z"
    }
   },
   "outputs": [
    {
     "data": {
      "text/plain": [
       "id           0\n",
       "sector_id    0\n",
       "sector       0\n",
       "route        0\n",
       "rating       0\n",
       "user_id      0\n",
       "dtype: int64"
      ]
     },
     "execution_count": 14,
     "metadata": {},
     "output_type": "execute_result"
    }
   ],
   "source": [
    "X_train.isnull().sum()\n",
    "# y_train.isnull().sum()"
   ]
  },
  {
   "cell_type": "markdown",
   "metadata": {
    "ExecuteTime": {
     "end_time": "2018-11-15T22:29:42.784818Z",
     "start_time": "2018-11-15T22:29:42.780805Z"
    }
   },
   "source": [
    "Number of zero values per column:"
   ]
  },
  {
   "cell_type": "code",
   "execution_count": 15,
   "metadata": {
    "ExecuteTime": {
     "end_time": "2018-11-27T00:33:31.755911Z",
     "start_time": "2018-11-27T00:33:31.719770Z"
    }
   },
   "outputs": [
    {
     "data": {
      "text/plain": [
       "id               0\n",
       "sector_id    12301\n",
       "sector           0\n",
       "route            0\n",
       "rating       48291\n",
       "user_id          0\n",
       "dtype: int64"
      ]
     },
     "execution_count": 15,
     "metadata": {},
     "output_type": "execute_result"
    }
   ],
   "source": [
    "(X_train == 0).sum()\n",
    "# (y_train == 0).sum()"
   ]
  },
  {
   "cell_type": "markdown",
   "metadata": {},
   "source": [
    "### Unique values"
   ]
  },
  {
   "cell_type": "markdown",
   "metadata": {},
   "source": [
    "A naive estimate on the number of unique sectors and routes within these sectors. Submitted by a number of distinct users."
   ]
  },
  {
   "cell_type": "code",
   "execution_count": 16,
   "metadata": {
    "ExecuteTime": {
     "end_time": "2018-11-27T00:33:31.842079Z",
     "start_time": "2018-11-27T00:33:31.757869Z"
    }
   },
   "outputs": [
    {
     "data": {
      "text/plain": [
       "sector_id      350\n",
       "route        12471\n",
       "user_id       3292\n",
       "dtype: int64"
      ]
     },
     "execution_count": 16,
     "metadata": {},
     "output_type": "execute_result"
    }
   ],
   "source": [
    "X_train[['sector_id', 'route', 'user_id']].nunique()"
   ]
  },
  {
   "cell_type": "markdown",
   "metadata": {},
   "source": [
    "Why do we call the above estimate _naive_? \n",
    "\n",
    "According to (climb-europe.com)[http://www.climb-europe.com/RockClimbingGermany/RockClimbingFrankenjura.html] _there are approximately 1,000 crags spread out in a beautiful forest terrain_ (Note that _crags_ in the above quote is the same as _sectors_ in our dataset.) This seems fine since in our dataset there are 351 different sectors noted.\n",
    "\n",
    "In the article it continues to claim that _Frankenjura boasts in excess of 10,000 routes._ Now this is where we should get a little suspicious. In only 350 sectors our dataset apparently contains already more than 12,000 routes - which is well above the 10,000 mentioned in the article.\n",
    "\n",
    "Lets dig deeper here.\n"
   ]
  },
  {
   "cell_type": "markdown",
   "metadata": {},
   "source": [
    "What are the records where `sector_id` is 0?  \n",
    "We take a look at a number of samples."
   ]
  },
  {
   "cell_type": "code",
   "execution_count": 17,
   "metadata": {
    "ExecuteTime": {
     "end_time": "2018-11-27T00:33:31.857607Z",
     "start_time": "2018-11-27T00:33:31.844308Z"
    }
   },
   "outputs": [
    {
     "data": {
      "text/html": [
       "<div>\n",
       "<style scoped>\n",
       "    .dataframe tbody tr th:only-of-type {\n",
       "        vertical-align: middle;\n",
       "    }\n",
       "\n",
       "    .dataframe tbody tr th {\n",
       "        vertical-align: top;\n",
       "    }\n",
       "\n",
       "    .dataframe thead th {\n",
       "        text-align: right;\n",
       "    }\n",
       "</style>\n",
       "<table border=\"1\" class=\"dataframe\">\n",
       "  <thead>\n",
       "    <tr style=\"text-align: right;\">\n",
       "      <th></th>\n",
       "      <th>id</th>\n",
       "      <th>sector_id</th>\n",
       "      <th>sector</th>\n",
       "      <th>route</th>\n",
       "      <th>rating</th>\n",
       "      <th>user_id</th>\n",
       "    </tr>\n",
       "  </thead>\n",
       "  <tbody>\n",
       "    <tr>\n",
       "      <th>22531</th>\n",
       "      <td>1366698</td>\n",
       "      <td>0</td>\n",
       "      <td></td>\n",
       "      <td>Gelegenheit macht Diebe</td>\n",
       "      <td>3</td>\n",
       "      <td>9660</td>\n",
       "    </tr>\n",
       "    <tr>\n",
       "      <th>72926</th>\n",
       "      <td>3458547</td>\n",
       "      <td>0</td>\n",
       "      <td>Gumpenwand</td>\n",
       "      <td>Zollfrei</td>\n",
       "      <td>0</td>\n",
       "      <td>16195</td>\n",
       "    </tr>\n",
       "    <tr>\n",
       "      <th>94967</th>\n",
       "      <td>4322459</td>\n",
       "      <td>0</td>\n",
       "      <td></td>\n",
       "      <td>Doppelpack</td>\n",
       "      <td>2</td>\n",
       "      <td>9493</td>\n",
       "    </tr>\n",
       "    <tr>\n",
       "      <th>101666</th>\n",
       "      <td>4487349</td>\n",
       "      <td>0</td>\n",
       "      <td>Hintere Reibertsbergwand</td>\n",
       "      <td>Schnecke</td>\n",
       "      <td>0</td>\n",
       "      <td>20095</td>\n",
       "    </tr>\n",
       "    <tr>\n",
       "      <th>75222</th>\n",
       "      <td>3511955</td>\n",
       "      <td>0</td>\n",
       "      <td></td>\n",
       "      <td>Glaspatronenmatch</td>\n",
       "      <td>3</td>\n",
       "      <td>9255</td>\n",
       "    </tr>\n",
       "    <tr>\n",
       "      <th>32469</th>\n",
       "      <td>1921878</td>\n",
       "      <td>0</td>\n",
       "      <td></td>\n",
       "      <td>Rayando el sol</td>\n",
       "      <td>0</td>\n",
       "      <td>11628</td>\n",
       "    </tr>\n",
       "    <tr>\n",
       "      <th>71909</th>\n",
       "      <td>3442794</td>\n",
       "      <td>0</td>\n",
       "      <td>Vogelherdwand</td>\n",
       "      <td>Rechts außen</td>\n",
       "      <td>0</td>\n",
       "      <td>10264</td>\n",
       "    </tr>\n",
       "    <tr>\n",
       "      <th>45119</th>\n",
       "      <td>2463848</td>\n",
       "      <td>0</td>\n",
       "      <td></td>\n",
       "      <td>Wo Ist Dein Paradies?</td>\n",
       "      <td>3</td>\n",
       "      <td>3166</td>\n",
       "    </tr>\n",
       "    <tr>\n",
       "      <th>54809</th>\n",
       "      <td>2869412</td>\n",
       "      <td>0</td>\n",
       "      <td></td>\n",
       "      <td>Ninja Turtle</td>\n",
       "      <td>0</td>\n",
       "      <td>18285</td>\n",
       "    </tr>\n",
       "    <tr>\n",
       "      <th>62462</th>\n",
       "      <td>3070359</td>\n",
       "      <td>0</td>\n",
       "      <td>Mosenberger Block</td>\n",
       "      <td>Görglesweg</td>\n",
       "      <td>0</td>\n",
       "      <td>37450</td>\n",
       "    </tr>\n",
       "  </tbody>\n",
       "</table>\n",
       "</div>"
      ],
      "text/plain": [
       "             id  sector_id                    sector                    route  \\\n",
       "22531   1366698          0                            Gelegenheit macht Diebe   \n",
       "72926   3458547          0                Gumpenwand                 Zollfrei   \n",
       "94967   4322459          0                                         Doppelpack   \n",
       "101666  4487349          0  Hintere Reibertsbergwand                 Schnecke   \n",
       "75222   3511955          0                                  Glaspatronenmatch   \n",
       "32469   1921878          0                                     Rayando el sol   \n",
       "71909   3442794          0             Vogelherdwand             Rechts außen   \n",
       "45119   2463848          0                              Wo Ist Dein Paradies?   \n",
       "54809   2869412          0                                       Ninja Turtle   \n",
       "62462   3070359          0         Mosenberger Block               Görglesweg   \n",
       "\n",
       "        rating  user_id  \n",
       "22531        3     9660  \n",
       "72926        0    16195  \n",
       "94967        2     9493  \n",
       "101666       0    20095  \n",
       "75222        3     9255  \n",
       "32469        0    11628  \n",
       "71909        0    10264  \n",
       "45119        3     3166  \n",
       "54809        0    18285  \n",
       "62462        0    37450  "
      ]
     },
     "execution_count": 17,
     "metadata": {},
     "output_type": "execute_result"
    }
   ],
   "source": [
    "X_train[X_train['sector_id'] == 0].head(10)"
   ]
  },
  {
   "cell_type": "markdown",
   "metadata": {},
   "source": [
    "## Exploratory Visualization"
   ]
  },
  {
   "cell_type": "markdown",
   "metadata": {},
   "source": [
    "### Missing values\n",
    "\n",
    "Lets look at the **Missing** or **Zero values** per column."
   ]
  },
  {
   "cell_type": "code",
   "execution_count": 18,
   "metadata": {
    "ExecuteTime": {
     "end_time": "2018-11-27T00:33:32.201058Z",
     "start_time": "2018-11-27T00:33:31.860466Z"
    }
   },
   "outputs": [
    {
     "data": {
      "image/png": "[encoded data removed]",
      "text/plain": [
       "<Figure size 720x360 with 1 Axes>"
      ]
     },
     "metadata": {
      "needs_background": "light"
     },
     "output_type": "display_data"
    }
   ],
   "source": [
    "plot_helper.missing_values_overview(X_train)"
   ]
  },
  {
   "cell_type": "markdown",
   "metadata": {},
   "source": [
    "In our data set `0` is in indicator for missing values, except for `sex` where `0` indicates `male` (and `1` for `female`).\n",
    "\n",
    "From the graph above we can conclude that we have missing data in `sector_id`, `raw_notes`, `rating`, `height`, `weight`, `birth`, `started_climbing`.\n",
    "\n",
    "Since `sector_id` and `rating` are important for our analysis, we have to consider what to do about those missing values during Data Preparation later on."
   ]
  },
  {
   "cell_type": "markdown",
   "metadata": {},
   "source": [
    "## Analysis of our target variable `rating`"
   ]
  },
  {
   "cell_type": "markdown",
   "metadata": {},
   "source": [
    "What are the unique values of our target variable?"
   ]
  },
  {
   "cell_type": "code",
   "execution_count": 19,
   "metadata": {
    "ExecuteTime": {
     "end_time": "2018-11-27T00:33:32.207999Z",
     "start_time": "2018-11-27T00:33:32.203326Z"
    }
   },
   "outputs": [
    {
     "data": {
      "text/plain": [
       "array([0, 1, 3, 2])"
      ]
     },
     "execution_count": 19,
     "metadata": {},
     "output_type": "execute_result"
    }
   ],
   "source": [
    "y_train = X_train['rating']\n",
    "y_train.unique()"
   ]
  },
  {
   "cell_type": "markdown",
   "metadata": {},
   "source": [
    "And how is their distribution?\n"
   ]
  },
  {
   "cell_type": "code",
   "execution_count": 20,
   "metadata": {
    "ExecuteTime": {
     "end_time": "2018-11-27T00:33:32.226306Z",
     "start_time": "2018-11-27T00:33:32.210053Z"
    }
   },
   "outputs": [
    {
     "data": {
      "text/plain": [
       "0    52.7\n",
       "1    11.0\n",
       "2    18.8\n",
       "3    17.5\n",
       "Name: rating, dtype: float64"
      ]
     },
     "execution_count": 20,
     "metadata": {},
     "output_type": "execute_result"
    }
   ],
   "source": [
    "percentages = round(y_train.value_counts().sort_index() / y_train.count() * 100, 1)\n",
    "percentages"
   ]
  },
  {
   "cell_type": "code",
   "execution_count": 21,
   "metadata": {
    "ExecuteTime": {
     "end_time": "2018-11-27T00:33:32.372545Z",
     "start_time": "2018-11-27T00:33:32.228730Z"
    }
   },
   "outputs": [
    {
     "data": {
      "text/plain": [
       "<matplotlib.axes._subplots.AxesSubplot at 0x1a1d7e78d0>"
      ]
     },
     "execution_count": 21,
     "metadata": {},
     "output_type": "execute_result"
    },
    {
     "data": {
      "image/png": "[encoded data removed]",
      "text/plain": [
       "<Figure size 432x288 with 1 Axes>"
      ]
     },
     "metadata": {
      "needs_background": "light"
     },
     "output_type": "display_data"
    }
   ],
   "source": [
    "y_train.value_counts().sort_index().plot(\n",
    "    kind='bar', title='ratings occurrence', xticks=percentages)"
   ]
  },
  {
   "cell_type": "code",
   "execution_count": 22,
   "metadata": {
    "ExecuteTime": {
     "end_time": "2018-11-27T00:33:32.388018Z",
     "start_time": "2018-11-27T00:33:32.374744Z"
    }
   },
   "outputs": [
    {
     "data": {
      "text/plain": [
       "count    43380.000000\n",
       "mean         2.137091\n",
       "std          0.764778\n",
       "min          1.000000\n",
       "25%          2.000000\n",
       "50%          2.000000\n",
       "75%          3.000000\n",
       "max          3.000000\n",
       "Name: rating, dtype: float64"
      ]
     },
     "execution_count": 22,
     "metadata": {},
     "output_type": "execute_result"
    }
   ],
   "source": [
    "y_train[y_train != 0].describe()"
   ]
  },
  {
   "cell_type": "markdown",
   "metadata": {
    "ExecuteTime": {
     "end_time": "2018-11-15T23:40:18.226175Z",
     "start_time": "2018-11-15T23:40:18.222324Z"
    }
   },
   "source": [
    "Out of those climbs, that were rated, the average is 2.14."
   ]
  },
  {
   "cell_type": "markdown",
   "metadata": {},
   "source": [
    "What is the percentage of users that rated at least one climb?"
   ]
  },
  {
   "cell_type": "code",
   "execution_count": 23,
   "metadata": {
    "ExecuteTime": {
     "end_time": "2018-11-27T00:33:32.399501Z",
     "start_time": "2018-11-27T00:33:32.390138Z"
    }
   },
   "outputs": [
    {
     "data": {
      "text/plain": [
       "False    2242\n",
       "True     1050\n",
       "Name: rating, dtype: int64"
      ]
     },
     "execution_count": 23,
     "metadata": {},
     "output_type": "execute_result"
    }
   ],
   "source": [
    "(X_train.groupby('user_id')['rating'].sum() == 0).value_counts()"
   ]
  },
  {
   "cell_type": "markdown",
   "metadata": {
    "ExecuteTime": {
     "end_time": "2018-11-16T00:02:23.741029Z",
     "start_time": "2018-11-16T00:02:23.736576Z"
    }
   },
   "source": [
    "This means that approx. 2/3 of users have rated at least one item."
   ]
  },
  {
   "cell_type": "markdown",
   "metadata": {},
   "source": [
    "How many ratings are there per user?"
   ]
  },
  {
   "cell_type": "code",
   "execution_count": 24,
   "metadata": {
    "ExecuteTime": {
     "end_time": "2018-11-27T00:33:34.299539Z",
     "start_time": "2018-11-27T00:33:32.401565Z"
    }
   },
   "outputs": [
    {
     "data": {
      "text/plain": [
       "<matplotlib.axes._subplots.AxesSubplot at 0x1a1d5624e0>"
      ]
     },
     "execution_count": 24,
     "metadata": {},
     "output_type": "execute_result"
    },
    {
     "data": {
      "image/png": "[encoded data removed]",
      "text/plain": [
       "<Figure size 432x288 with 1 Axes>"
      ]
     },
     "metadata": {
      "needs_background": "light"
     },
     "output_type": "display_data"
    }
   ],
   "source": [
    "ratings_per_user = X_train.groupby('user_id')['rating'].apply(lambda x: x[x != 0].count())\n",
    "ratings_per_user.sort_values().plot(\n",
    "    kind='line', title='No. of ratings per user', use_index=False)"
   ]
  },
  {
   "cell_type": "markdown",
   "metadata": {},
   "source": [
    "From the above plot we can see that there must be one or several outliers with a large number of ratings (around 1600). Let's apply the logarithm on the y-axis."
   ]
  },
  {
   "cell_type": "code",
   "execution_count": 25,
   "metadata": {
    "ExecuteTime": {
     "end_time": "2018-11-27T00:33:34.899749Z",
     "start_time": "2018-11-27T00:33:34.301613Z"
    }
   },
   "outputs": [
    {
     "data": {
      "text/plain": [
       "<matplotlib.axes._subplots.AxesSubplot at 0x1a1d4214a8>"
      ]
     },
     "execution_count": 25,
     "metadata": {},
     "output_type": "execute_result"
    },
    {
     "data": {
      "image/png": "[encoded data removed]",
      "text/plain": [
       "<Figure size 432x288 with 1 Axes>"
      ]
     },
     "metadata": {
      "needs_background": "light"
     },
     "output_type": "display_data"
    }
   ],
   "source": [
    "ratings_per_user.sort_values().plot(\n",
    "    kind='line', title='No. of ratings per user', use_index=False, logy=True)"
   ]
  },
  {
   "cell_type": "markdown",
   "metadata": {
    "ExecuteTime": {
     "end_time": "2018-11-17T13:04:14.897030Z",
     "start_time": "2018-11-17T13:04:14.893184Z"
    }
   },
   "source": [
    "Now, this has more information. We can see that approx. 30% of users gave no rating at all. And more than 90% of users gave less than 200 ratings.\n",
    "\n",
    "Let's look at the percentiles information in detail to confirm this."
   ]
  },
  {
   "cell_type": "code",
   "execution_count": 26,
   "metadata": {
    "ExecuteTime": {
     "end_time": "2018-11-27T00:33:34.911319Z",
     "start_time": "2018-11-27T00:33:34.901773Z"
    }
   },
   "outputs": [
    {
     "data": {
      "text/plain": [
       "count    3292.000000\n",
       "mean       13.177400\n",
       "std        49.680102\n",
       "min         0.000000\n",
       "25%         0.000000\n",
       "33%         1.000000\n",
       "50%         2.000000\n",
       "75%         9.000000\n",
       "90%        29.000000\n",
       "95%        53.000000\n",
       "99%       153.270000\n",
       "max      1665.000000\n",
       "Name: rating, dtype: float64"
      ]
     },
     "execution_count": 26,
     "metadata": {},
     "output_type": "execute_result"
    }
   ],
   "source": [
    "ratings_per_user.describe(percentiles=[.25, 0.33, .50, .75, .90, .95, .99])"
   ]
  },
  {
   "cell_type": "markdown",
   "metadata": {},
   "source": [
    "## Algorithms and Techniques"
   ]
  },
  {
   "cell_type": "markdown",
   "metadata": {},
   "source": [
    "## Benchmark"
   ]
  },
  {
   "cell_type": "markdown",
   "metadata": {},
   "source": [
    "# Methodology"
   ]
  },
  {
   "cell_type": "markdown",
   "metadata": {},
   "source": [
    "## Data Preprocessing"
   ]
  },
  {
   "cell_type": "markdown",
   "metadata": {},
   "source": [
    "Remove records from dataset where `sector_id == 0`"
   ]
  },
  {
   "cell_type": "code",
   "execution_count": 27,
   "metadata": {
    "ExecuteTime": {
     "end_time": "2018-11-27T00:33:34.926588Z",
     "start_time": "2018-11-27T00:33:34.913008Z"
    }
   },
   "outputs": [],
   "source": [
    "\n",
    "X_train = X_train[X_train['sector_id'] != 0]"
   ]
  },
  {
   "cell_type": "code",
   "execution_count": 28,
   "metadata": {
    "ExecuteTime": {
     "end_time": "2018-11-27T00:33:34.930270Z",
     "start_time": "2018-11-27T00:33:34.928458Z"
    },
    "code_folding": []
   },
   "outputs": [],
   "source": [
    "# TODO\n",
    "# Consolidate sectors, e.g. sector_id: 839, 12382"
   ]
  },
  {
   "cell_type": "markdown",
   "metadata": {},
   "source": [
    "### Consolidate route names, remove duplicates"
   ]
  },
  {
   "cell_type": "markdown",
   "metadata": {
    "ExecuteTime": {
     "end_time": "2018-11-18T15:37:36.277416Z",
     "start_time": "2018-11-18T15:37:36.273212Z"
    }
   },
   "source": [
    "Since our data set does not provide a unique id for routes, we can only go by the name to identify a route. Unfortunately, there are many versions of route names as well as spelling mistakes. In order to arrive at a unique list of routes, we need to do some cleaning up.  \n",
    "\n",
    "The following example illustrates that."
   ]
  },
  {
   "cell_type": "code",
   "execution_count": 29,
   "metadata": {
    "ExecuteTime": {
     "end_time": "2018-11-27T00:33:34.985731Z",
     "start_time": "2018-11-27T00:33:34.932315Z"
    }
   },
   "outputs": [
    {
     "data": {
      "text/plain": [
       "8849      Adrspach weg\n",
       "100234    Adrspach Weg\n",
       "Name: route, dtype: object"
      ]
     },
     "execution_count": 29,
     "metadata": {},
     "output_type": "execute_result"
    }
   ],
   "source": [
    "X_train[X_train['route'].str.startswith('Adr')].drop_duplicates(subset=['route'])['route']"
   ]
  },
  {
   "cell_type": "markdown",
   "metadata": {},
   "source": [
    "Let's start by converting all route names to lowercase and removing special characters."
   ]
  },
  {
   "cell_type": "code",
   "execution_count": 30,
   "metadata": {
    "ExecuteTime": {
     "end_time": "2018-11-27T00:33:35.280310Z",
     "start_time": "2018-11-27T00:33:34.987763Z"
    },
    "code_folding": [
     0
    ]
   },
   "outputs": [],
   "source": [
    "def string_cleaning(df, columns):\n",
    "    '''Remove special characters and convert to lowercase. Apply to all columns as specified'''\n",
    "\n",
    "    df[columns] = df[columns].applymap(lambda s: s.lower())\n",
    "\n",
    "    # Need to use Series because regular replace() cannot handle RegEx\n",
    "    for c in columns:\n",
    "        df[c] = df[c].str.replace('[^A-Za-z\\s]+', '') # TODO keep numbers??\n",
    "        \n",
    "        # Remove rows with empty values as they are unusable\n",
    "        df = df[df[c] != '']\n",
    "\n",
    "    return df\n",
    "\n",
    "X_train = string_cleaning(X_train, ['route'])"
   ]
  },
  {
   "cell_type": "markdown",
   "metadata": {},
   "source": [
    "Next, let's define a couple of functions that will help us to clean up duplicate route names within sectors."
   ]
  },
  {
   "cell_type": "code",
   "execution_count": 31,
   "metadata": {
    "ExecuteTime": {
     "end_time": "2018-11-27T00:33:35.291690Z",
     "start_time": "2018-11-27T00:33:35.282710Z"
    },
    "code_folding": [
     3,
     22
    ]
   },
   "outputs": [],
   "source": [
    "# http://www.coli.uni-saarland.de/courses/LT1/2011/slides/Python-Levenshtein.html\n",
    "from Levenshtein import jaro_winkler\n",
    "\n",
    "def create_jaro_winkler(keys, prefix_weight=None):\n",
    "    '''Calculates Jaro-Winkler-Distance among all items of `keys` and returns calculation results as a matrix'''\n",
    "\n",
    "    # TODO  is there a more pythonic way of calculating this matrix?\n",
    "    \n",
    "    jaro_winkler_matrix = np.ones((len(keys), len(keys)))\n",
    "\n",
    "    i = 0\n",
    "    while i <= len(keys) - 1:\n",
    "        j = 0\n",
    "        while j <= len(keys) - 1:\n",
    "            if i != j:\n",
    "                jaro_winkler_matrix[i][j] = jaro_winkler(\n",
    "                    keys[i], keys[j]) if prefix_weight is None else jaro_winkler(keys[i], keys[j], prefix_weight)\n",
    "            j += 1\n",
    "        i += 1\n",
    "\n",
    "    return jaro_winkler_matrix\n",
    "\n",
    "def remove_overlap(d):\n",
    "    '''Resolve 'paths' within the dictionary, e.g. \n",
    "     { A : B, B : C }  ->  { A : C, B : C }\n",
    "     Returns cleaned dictionary'''\n",
    "\n",
    "    set_keys = set(d.keys())\n",
    "    set_values = set(d.values())\n",
    "    set_intersect = set_keys.intersection(set_values)\n",
    "\n",
    "    for v in set_intersect:\n",
    "        new_target = d[v]\n",
    "\n",
    "        filtered_dict = {key: new_target for (\n",
    "            key, value) in d.items() if value == v}\n",
    "        filtered_dict\n",
    "\n",
    "        for i, j in d.items():\n",
    "            if i in filtered_dict.keys():\n",
    "                d[i] = filtered_dict[i]\n",
    "\n",
    "    return d"
   ]
  },
  {
   "cell_type": "code",
   "execution_count": 32,
   "metadata": {
    "ExecuteTime": {
     "end_time": "2018-11-27T00:33:35.304548Z",
     "start_time": "2018-11-27T00:33:35.294047Z"
    },
    "code_folding": [
     0,
     6,
     50
    ]
   },
   "outputs": [],
   "source": [
    "def get_routes_per_sector(df, sector_id):\n",
    "    '''Returns a series with route names as labels and count of route name occurrences as values'''\n",
    "\n",
    "    df_one_sector = df[df['sector_id'] == sector_id]\n",
    "    return df_one_sector['route'].value_counts()\n",
    "\n",
    "def clean_route_names_sector(df, sector_id, threshold=0.9, prefix_weight=1/100, debug=False):\n",
    "    '''Replaces route name within given `sector_id` with the most similar matching name that has the most occurrences.'''\n",
    "\n",
    "    routes_per_sector = get_routes_per_sector(df, sector_id)\n",
    "    keys = routes_per_sector.keys()\n",
    "    values = routes_per_sector.values\n",
    "\n",
    "    # Create Jaro-Winkler-Matrix and fill diagonal with zeros, \n",
    "    # otherwise max value will always be 1.0 (as diagonal is always 1.0)\n",
    "    jaro_winkler_matrix = create_jaro_winkler(keys, prefix_weight)\n",
    "    np.fill_diagonal(jaro_winkler_matrix, 0)\n",
    "\n",
    "    # empty nested dictionary, for replacements of similar route names\n",
    "    replacements = {'route': {}}\n",
    "\n",
    "    # find max count of values above threshold\n",
    "    indices_above_threshold = np.transpose(\n",
    "        np.nonzero(jaro_winkler_matrix >= threshold))\n",
    "\n",
    "    first_values = [t[0] for t in indices_above_threshold]\n",
    "    unique_first_values = np.unique(first_values)\n",
    "\n",
    "    for u in unique_first_values:\n",
    "        tuples_list = [t for t in indices_above_threshold if t[0] == u]\n",
    "        counts_list = [values[t2[1]] for t2 in tuples_list]\n",
    "        val_max = max(counts_list)\n",
    "        index_max = counts_list.index(max(counts_list))\n",
    "        keys[tuples_list[index_max][1]]\n",
    "\n",
    "        if values[u] < values[tuples_list[index_max][1]]:\n",
    "            replacements['route'][keys[u]] = keys[tuples_list[index_max][1]]\n",
    "            if debug:\n",
    "                print(\n",
    "                    f'Replacement: {keys[u]}({values[u]}) : {keys[tuples_list[index_max][1]]}({values[tuples_list[index_max][1]]}) ')        \n",
    "\n",
    "    # Resolve overlaps in replacements\n",
    "    replacements['route'] = remove_overlap(replacements['route'])\n",
    "        \n",
    "    # Replace all found similar route names\n",
    "    df.loc[df['sector_id'] == sector_id] = df.replace(\n",
    "        to_replace=replacements)\n",
    "\n",
    "    return df\n",
    "\n",
    "def clean_route_names(df):\n",
    "    '''Cleans up duplicate route names within sectors.'''\n",
    "    \n",
    "    for sid in df['sector_id'].unique():\n",
    "        df = clean_route_names_sector(df, sid)\n",
    "    return df   "
   ]
  },
  {
   "cell_type": "code",
   "execution_count": 33,
   "metadata": {
    "ExecuteTime": {
     "end_time": "2018-11-27T00:34:02.073392Z",
     "start_time": "2018-11-27T00:33:35.306691Z"
    },
    "pixiedust": {
     "displayParams": {}
    }
   },
   "outputs": [],
   "source": [
    "X_train = clean_route_names(X_train)"
   ]
  },
  {
   "cell_type": "code",
   "execution_count": 34,
   "metadata": {
    "ExecuteTime": {
     "end_time": "2018-11-27T00:34:02.145070Z",
     "start_time": "2018-11-27T00:34:02.075555Z"
    }
   },
   "outputs": [
    {
     "data": {
      "text/html": [
       "<div>\n",
       "<style scoped>\n",
       "    .dataframe tbody tr th:only-of-type {\n",
       "        vertical-align: middle;\n",
       "    }\n",
       "\n",
       "    .dataframe tbody tr th {\n",
       "        vertical-align: top;\n",
       "    }\n",
       "\n",
       "    .dataframe thead th {\n",
       "        text-align: right;\n",
       "    }\n",
       "</style>\n",
       "<table border=\"1\" class=\"dataframe\">\n",
       "  <thead>\n",
       "    <tr style=\"text-align: right;\">\n",
       "      <th></th>\n",
       "      <th>id</th>\n",
       "      <th>sector_id</th>\n",
       "      <th>sector</th>\n",
       "      <th>route</th>\n",
       "      <th>rating</th>\n",
       "      <th>user_id</th>\n",
       "    </tr>\n",
       "  </thead>\n",
       "  <tbody>\n",
       "    <tr>\n",
       "      <th>8849</th>\n",
       "      <td>653580</td>\n",
       "      <td>839</td>\n",
       "      <td>Leupoldsteiner wand</td>\n",
       "      <td>adrspach weg</td>\n",
       "      <td>2</td>\n",
       "      <td>493</td>\n",
       "    </tr>\n",
       "    <tr>\n",
       "      <th>72720</th>\n",
       "      <td>3455818</td>\n",
       "      <td>839</td>\n",
       "      <td>Leupoldsteiner wand</td>\n",
       "      <td>adrspach weg</td>\n",
       "      <td>2</td>\n",
       "      <td>35939</td>\n",
       "    </tr>\n",
       "    <tr>\n",
       "      <th>100234</th>\n",
       "      <td>4442345</td>\n",
       "      <td>839</td>\n",
       "      <td>Leupoldsteiner Wand</td>\n",
       "      <td>adrspach weg</td>\n",
       "      <td>2</td>\n",
       "      <td>63837</td>\n",
       "    </tr>\n",
       "    <tr>\n",
       "      <th>108437</th>\n",
       "      <td>4784525</td>\n",
       "      <td>839</td>\n",
       "      <td>Leupoldsteiner Wand</td>\n",
       "      <td>adrspach weg</td>\n",
       "      <td>0</td>\n",
       "      <td>49724</td>\n",
       "    </tr>\n",
       "    <tr>\n",
       "      <th>83951</th>\n",
       "      <td>3876112</td>\n",
       "      <td>839</td>\n",
       "      <td>Leupoldsteiner Wand</td>\n",
       "      <td>adrspach weg</td>\n",
       "      <td>0</td>\n",
       "      <td>50842</td>\n",
       "    </tr>\n",
       "    <tr>\n",
       "      <th>18543</th>\n",
       "      <td>1210005</td>\n",
       "      <td>839</td>\n",
       "      <td>Leupoldsteiner Wand</td>\n",
       "      <td>adrspach weg</td>\n",
       "      <td>2</td>\n",
       "      <td>13622</td>\n",
       "    </tr>\n",
       "    <tr>\n",
       "      <th>57253</th>\n",
       "      <td>2950046</td>\n",
       "      <td>839</td>\n",
       "      <td>Leupoldsteiner Wand</td>\n",
       "      <td>adrspach weg</td>\n",
       "      <td>0</td>\n",
       "      <td>5184</td>\n",
       "    </tr>\n",
       "    <tr>\n",
       "      <th>103874</th>\n",
       "      <td>4660072</td>\n",
       "      <td>839</td>\n",
       "      <td>Leupoldsteiner wand</td>\n",
       "      <td>adrspach weg</td>\n",
       "      <td>0</td>\n",
       "      <td>65237</td>\n",
       "    </tr>\n",
       "    <tr>\n",
       "      <th>43374</th>\n",
       "      <td>2423630</td>\n",
       "      <td>839</td>\n",
       "      <td>Leupoldsteiner Wand</td>\n",
       "      <td>adrspach weg</td>\n",
       "      <td>0</td>\n",
       "      <td>42457</td>\n",
       "    </tr>\n",
       "    <tr>\n",
       "      <th>108529</th>\n",
       "      <td>4785752</td>\n",
       "      <td>839</td>\n",
       "      <td>Leupoldsteiner Wand</td>\n",
       "      <td>adrspach weg</td>\n",
       "      <td>0</td>\n",
       "      <td>64806</td>\n",
       "    </tr>\n",
       "    <tr>\n",
       "      <th>73694</th>\n",
       "      <td>3472578</td>\n",
       "      <td>839</td>\n",
       "      <td>Leupoldsteiner Wand</td>\n",
       "      <td>adrspach weg</td>\n",
       "      <td>0</td>\n",
       "      <td>42086</td>\n",
       "    </tr>\n",
       "    <tr>\n",
       "      <th>42940</th>\n",
       "      <td>2416444</td>\n",
       "      <td>839</td>\n",
       "      <td>Leupoldsteiner Wand</td>\n",
       "      <td>adrspach weg</td>\n",
       "      <td>3</td>\n",
       "      <td>15014</td>\n",
       "    </tr>\n",
       "  </tbody>\n",
       "</table>\n",
       "</div>"
      ],
      "text/plain": [
       "             id  sector_id               sector         route  rating  user_id\n",
       "8849     653580        839  Leupoldsteiner wand  adrspach weg       2      493\n",
       "72720   3455818        839  Leupoldsteiner wand  adrspach weg       2    35939\n",
       "100234  4442345        839  Leupoldsteiner Wand  adrspach weg       2    63837\n",
       "108437  4784525        839  Leupoldsteiner Wand  adrspach weg       0    49724\n",
       "83951   3876112        839  Leupoldsteiner Wand  adrspach weg       0    50842\n",
       "18543   1210005        839  Leupoldsteiner Wand  adrspach weg       2    13622\n",
       "57253   2950046        839  Leupoldsteiner Wand  adrspach weg       0     5184\n",
       "103874  4660072        839  Leupoldsteiner wand  adrspach weg       0    65237\n",
       "43374   2423630        839  Leupoldsteiner Wand  adrspach weg       0    42457\n",
       "108529  4785752        839  Leupoldsteiner Wand  adrspach weg       0    64806\n",
       "73694   3472578        839  Leupoldsteiner Wand  adrspach weg       0    42086\n",
       "42940   2416444        839  Leupoldsteiner Wand  adrspach weg       3    15014"
      ]
     },
     "execution_count": 34,
     "metadata": {},
     "output_type": "execute_result"
    }
   ],
   "source": [
    "# jaro_winkler('adrschpach weg', 'adrspach weg', 1/100)\n",
    "X_train[X_train['route'].str.startswith('adr')].drop_duplicates()"
   ]
  },
  {
   "cell_type": "markdown",
   "metadata": {},
   "source": [
    "### Get list of unique routes"
   ]
  },
  {
   "cell_type": "markdown",
   "metadata": {},
   "source": [
    "Extract all the individual routes. We also keep `sector_id` here, because there can be routes with the same name that lie in different sectors."
   ]
  },
  {
   "cell_type": "code",
   "execution_count": 35,
   "metadata": {
    "ExecuteTime": {
     "end_time": "2018-11-27T00:34:02.179789Z",
     "start_time": "2018-11-27T00:34:02.148715Z"
    }
   },
   "outputs": [
    {
     "data": {
      "text/markdown": [
       "So, our new count for routes is **6754**, which is a lot less than what our naive count was."
      ],
      "text/plain": [
       "<IPython.core.display.Markdown object>"
      ]
     },
     "execution_count": 35,
     "metadata": {},
     "output_type": "execute_result"
    }
   ],
   "source": [
    "X_train_routes = X_train[['sector_id', 'route']].drop_duplicates(['sector_id', 'route'])\n",
    "a = X_train_routes.shape[0]\n",
    "md(f'So, our new count for routes is **{a}**, which is a lot less than what our naive count was.')"
   ]
  },
  {
   "cell_type": "markdown",
   "metadata": {
    "ExecuteTime": {
     "end_time": "2018-11-20T00:50:26.805548Z",
     "start_time": "2018-11-20T00:50:26.801700Z"
    }
   },
   "source": [
    "Reset the index of our consolidated list of routes."
   ]
  },
  {
   "cell_type": "code",
   "execution_count": 36,
   "metadata": {
    "ExecuteTime": {
     "end_time": "2018-11-27T00:34:02.194956Z",
     "start_time": "2018-11-27T00:34:02.182988Z"
    }
   },
   "outputs": [
    {
     "data": {
      "text/html": [
       "<div>\n",
       "<style scoped>\n",
       "    .dataframe tbody tr th:only-of-type {\n",
       "        vertical-align: middle;\n",
       "    }\n",
       "\n",
       "    .dataframe tbody tr th {\n",
       "        vertical-align: top;\n",
       "    }\n",
       "\n",
       "    .dataframe thead th {\n",
       "        text-align: right;\n",
       "    }\n",
       "</style>\n",
       "<table border=\"1\" class=\"dataframe\">\n",
       "  <thead>\n",
       "    <tr style=\"text-align: right;\">\n",
       "      <th></th>\n",
       "      <th>route_id</th>\n",
       "      <th>sector_id</th>\n",
       "      <th>route</th>\n",
       "    </tr>\n",
       "  </thead>\n",
       "  <tbody>\n",
       "    <tr>\n",
       "      <th>0</th>\n",
       "      <td>85331</td>\n",
       "      <td>10081</td>\n",
       "      <td>victoria</td>\n",
       "    </tr>\n",
       "    <tr>\n",
       "      <th>1</th>\n",
       "      <td>74439</td>\n",
       "      <td>360</td>\n",
       "      <td>via donatella</td>\n",
       "    </tr>\n",
       "    <tr>\n",
       "      <th>2</th>\n",
       "      <td>12478</td>\n",
       "      <td>2745</td>\n",
       "      <td>viecherei</td>\n",
       "    </tr>\n",
       "    <tr>\n",
       "      <th>3</th>\n",
       "      <td>100249</td>\n",
       "      <td>111</td>\n",
       "      <td>geisterbahn</td>\n",
       "    </tr>\n",
       "    <tr>\n",
       "      <th>4</th>\n",
       "      <td>42745</td>\n",
       "      <td>525</td>\n",
       "      <td>fun</td>\n",
       "    </tr>\n",
       "  </tbody>\n",
       "</table>\n",
       "</div>"
      ],
      "text/plain": [
       "   route_id  sector_id          route\n",
       "0     85331      10081       victoria\n",
       "1     74439        360  via donatella\n",
       "2     12478       2745      viecherei\n",
       "3    100249        111    geisterbahn\n",
       "4     42745        525            fun"
      ]
     },
     "execution_count": 36,
     "metadata": {},
     "output_type": "execute_result"
    }
   ],
   "source": [
    "X_train_routes.index.name = 'route_id'\n",
    "X_train_routes.reset_index(inplace=True)\n",
    "# X_train_routes = X_train_routes.drop(columns=['index'])\n",
    "X_train_routes.head(5)"
   ]
  },
  {
   "cell_type": "markdown",
   "metadata": {},
   "source": [
    "### Get list of unique users"
   ]
  },
  {
   "cell_type": "code",
   "execution_count": 37,
   "metadata": {
    "ExecuteTime": {
     "end_time": "2018-11-27T00:34:02.207824Z",
     "start_time": "2018-11-27T00:34:02.198069Z"
    }
   },
   "outputs": [
    {
     "data": {
      "text/plain": [
       "0    11314\n",
       "1    32996\n",
       "2    20095\n",
       "3    63659\n",
       "4    35674\n",
       "Name: user_id, dtype: int64"
      ]
     },
     "execution_count": 37,
     "metadata": {},
     "output_type": "execute_result"
    }
   ],
   "source": [
    "X_train_users = X_train['user_id'].drop_duplicates()\n",
    "X_train_users.reset_index(inplace=True, drop=True)\n",
    "X_train_users.head(5)"
   ]
  },
  {
   "cell_type": "markdown",
   "metadata": {
    "ExecuteTime": {
     "end_time": "2018-11-20T00:54:30.111003Z",
     "start_time": "2018-11-20T00:54:30.107092Z"
    }
   },
   "source": [
    "### Get list of ratings"
   ]
  },
  {
   "cell_type": "code",
   "execution_count": 38,
   "metadata": {
    "ExecuteTime": {
     "end_time": "2018-11-27T00:34:02.409555Z",
     "start_time": "2018-11-27T00:34:02.210613Z"
    }
   },
   "outputs": [
    {
     "data": {
      "text/html": [
       "<div>\n",
       "<style scoped>\n",
       "    .dataframe tbody tr th:only-of-type {\n",
       "        vertical-align: middle;\n",
       "    }\n",
       "\n",
       "    .dataframe tbody tr th {\n",
       "        vertical-align: top;\n",
       "    }\n",
       "\n",
       "    .dataframe thead th {\n",
       "        text-align: right;\n",
       "    }\n",
       "</style>\n",
       "<table border=\"1\" class=\"dataframe\">\n",
       "  <thead>\n",
       "    <tr style=\"text-align: right;\">\n",
       "      <th></th>\n",
       "      <th>route_id</th>\n",
       "      <th>sector</th>\n",
       "      <th>route</th>\n",
       "      <th>user_id</th>\n",
       "      <th>rating</th>\n",
       "      <th>sector_route</th>\n",
       "    </tr>\n",
       "  </thead>\n",
       "  <tbody>\n",
       "    <tr>\n",
       "      <th>0</th>\n",
       "      <td>85331</td>\n",
       "      <td>Rammstein</td>\n",
       "      <td>victoria</td>\n",
       "      <td>11314</td>\n",
       "      <td>0</td>\n",
       "      <td>Rammstein_victoria</td>\n",
       "    </tr>\n",
       "    <tr>\n",
       "      <th>1</th>\n",
       "      <td>85331</td>\n",
       "      <td>Rammstein</td>\n",
       "      <td>victoria</td>\n",
       "      <td>228</td>\n",
       "      <td>0</td>\n",
       "      <td>Rammstein_victoria</td>\n",
       "    </tr>\n",
       "    <tr>\n",
       "      <th>2</th>\n",
       "      <td>85331</td>\n",
       "      <td>Rammstein</td>\n",
       "      <td>victoria</td>\n",
       "      <td>18214</td>\n",
       "      <td>2</td>\n",
       "      <td>Rammstein_victoria</td>\n",
       "    </tr>\n",
       "    <tr>\n",
       "      <th>3</th>\n",
       "      <td>85331</td>\n",
       "      <td>Rammstein</td>\n",
       "      <td>victoria</td>\n",
       "      <td>16968</td>\n",
       "      <td>0</td>\n",
       "      <td>Rammstein_victoria</td>\n",
       "    </tr>\n",
       "    <tr>\n",
       "      <th>4</th>\n",
       "      <td>85331</td>\n",
       "      <td>Rammstein</td>\n",
       "      <td>victoria</td>\n",
       "      <td>22780</td>\n",
       "      <td>0</td>\n",
       "      <td>Rammstein_victoria</td>\n",
       "    </tr>\n",
       "  </tbody>\n",
       "</table>\n",
       "</div>"
      ],
      "text/plain": [
       "   route_id     sector     route  user_id  rating        sector_route\n",
       "0     85331  Rammstein  victoria    11314       0  Rammstein_victoria\n",
       "1     85331  Rammstein  victoria      228       0  Rammstein_victoria\n",
       "2     85331  Rammstein  victoria    18214       2  Rammstein_victoria\n",
       "3     85331  Rammstein  victoria    16968       0  Rammstein_victoria\n",
       "4     85331  Rammstein  victoria    22780       0  Rammstein_victoria"
      ]
     },
     "execution_count": 38,
     "metadata": {},
     "output_type": "execute_result"
    }
   ],
   "source": [
    "X_train_ratings = pd.merge(X_train_routes, X_train, on=['sector_id', 'route'])[['route_id', 'sector', 'route', 'user_id', 'rating']]\n",
    "X_train_ratings['sector_route'] = X_train_ratings['sector'] + '_' + X_train_ratings['route']\n",
    "X_train_ratings.head(5)"
   ]
  },
  {
   "cell_type": "markdown",
   "metadata": {},
   "source": [
    "## Implementation"
   ]
  },
  {
   "cell_type": "code",
   "execution_count": 39,
   "metadata": {
    "ExecuteTime": {
     "end_time": "2018-11-27T00:34:03.404600Z",
     "start_time": "2018-11-27T00:34:02.411830Z"
    }
   },
   "outputs": [
    {
     "name": "stdout",
     "output_type": "stream",
     "text": [
      "dataset dimensions:  (3149, 7566) \n",
      "\n",
      "Subset example:\n"
     ]
    },
    {
     "data": {
      "text/html": [
       "<div>\n",
       "<style scoped>\n",
       "    .dataframe tbody tr th:only-of-type {\n",
       "        vertical-align: middle;\n",
       "    }\n",
       "\n",
       "    .dataframe tbody tr th {\n",
       "        vertical-align: top;\n",
       "    }\n",
       "\n",
       "    .dataframe thead th {\n",
       "        text-align: right;\n",
       "    }\n",
       "</style>\n",
       "<table border=\"1\" class=\"dataframe\">\n",
       "  <thead>\n",
       "    <tr style=\"text-align: right;\">\n",
       "      <th>sector_route</th>\n",
       "      <th>AMPHITHEATER_angel dust</th>\n",
       "      <th>AMPHITHEATER_die dunkle seite</th>\n",
       "      <th>Affentheater_affenhitze</th>\n",
       "      <th>Affentheater_affenkante</th>\n",
       "      <th>Affentheater_affenplatte</th>\n",
       "      <th>Affentheater_affensex</th>\n",
       "      <th>Affentheater_affentanz</th>\n",
       "      <th>Affentheater_bonobo</th>\n",
       "      <th>Affentheater_chimpanzee</th>\n",
       "      <th>Affentheater_decision</th>\n",
       "    </tr>\n",
       "    <tr>\n",
       "      <th>user_id</th>\n",
       "      <th></th>\n",
       "      <th></th>\n",
       "      <th></th>\n",
       "      <th></th>\n",
       "      <th></th>\n",
       "      <th></th>\n",
       "      <th></th>\n",
       "      <th></th>\n",
       "      <th></th>\n",
       "      <th></th>\n",
       "    </tr>\n",
       "  </thead>\n",
       "  <tbody>\n",
       "    <tr>\n",
       "      <th>3</th>\n",
       "      <td>NaN</td>\n",
       "      <td>NaN</td>\n",
       "      <td>NaN</td>\n",
       "      <td>NaN</td>\n",
       "      <td>NaN</td>\n",
       "      <td>NaN</td>\n",
       "      <td>NaN</td>\n",
       "      <td>NaN</td>\n",
       "      <td>NaN</td>\n",
       "      <td>NaN</td>\n",
       "    </tr>\n",
       "    <tr>\n",
       "      <th>10</th>\n",
       "      <td>NaN</td>\n",
       "      <td>NaN</td>\n",
       "      <td>NaN</td>\n",
       "      <td>NaN</td>\n",
       "      <td>NaN</td>\n",
       "      <td>NaN</td>\n",
       "      <td>NaN</td>\n",
       "      <td>NaN</td>\n",
       "      <td>NaN</td>\n",
       "      <td>NaN</td>\n",
       "    </tr>\n",
       "    <tr>\n",
       "      <th>15</th>\n",
       "      <td>NaN</td>\n",
       "      <td>NaN</td>\n",
       "      <td>NaN</td>\n",
       "      <td>NaN</td>\n",
       "      <td>NaN</td>\n",
       "      <td>NaN</td>\n",
       "      <td>NaN</td>\n",
       "      <td>NaN</td>\n",
       "      <td>NaN</td>\n",
       "      <td>NaN</td>\n",
       "    </tr>\n",
       "    <tr>\n",
       "      <th>18</th>\n",
       "      <td>NaN</td>\n",
       "      <td>NaN</td>\n",
       "      <td>NaN</td>\n",
       "      <td>NaN</td>\n",
       "      <td>NaN</td>\n",
       "      <td>NaN</td>\n",
       "      <td>NaN</td>\n",
       "      <td>NaN</td>\n",
       "      <td>NaN</td>\n",
       "      <td>NaN</td>\n",
       "    </tr>\n",
       "    <tr>\n",
       "      <th>32</th>\n",
       "      <td>NaN</td>\n",
       "      <td>NaN</td>\n",
       "      <td>NaN</td>\n",
       "      <td>NaN</td>\n",
       "      <td>NaN</td>\n",
       "      <td>NaN</td>\n",
       "      <td>NaN</td>\n",
       "      <td>NaN</td>\n",
       "      <td>NaN</td>\n",
       "      <td>NaN</td>\n",
       "    </tr>\n",
       "    <tr>\n",
       "      <th>38</th>\n",
       "      <td>NaN</td>\n",
       "      <td>NaN</td>\n",
       "      <td>NaN</td>\n",
       "      <td>NaN</td>\n",
       "      <td>NaN</td>\n",
       "      <td>NaN</td>\n",
       "      <td>NaN</td>\n",
       "      <td>NaN</td>\n",
       "      <td>NaN</td>\n",
       "      <td>NaN</td>\n",
       "    </tr>\n",
       "  </tbody>\n",
       "</table>\n",
       "</div>"
      ],
      "text/plain": [
       "sector_route  AMPHITHEATER_angel dust  AMPHITHEATER_die dunkle seite  \\\n",
       "user_id                                                                \n",
       "3                                 NaN                            NaN   \n",
       "10                                NaN                            NaN   \n",
       "15                                NaN                            NaN   \n",
       "18                                NaN                            NaN   \n",
       "32                                NaN                            NaN   \n",
       "38                                NaN                            NaN   \n",
       "\n",
       "sector_route  Affentheater_affenhitze  Affentheater_affenkante  \\\n",
       "user_id                                                          \n",
       "3                                 NaN                      NaN   \n",
       "10                                NaN                      NaN   \n",
       "15                                NaN                      NaN   \n",
       "18                                NaN                      NaN   \n",
       "32                                NaN                      NaN   \n",
       "38                                NaN                      NaN   \n",
       "\n",
       "sector_route  Affentheater_affenplatte  Affentheater_affensex  \\\n",
       "user_id                                                         \n",
       "3                                  NaN                    NaN   \n",
       "10                                 NaN                    NaN   \n",
       "15                                 NaN                    NaN   \n",
       "18                                 NaN                    NaN   \n",
       "32                                 NaN                    NaN   \n",
       "38                                 NaN                    NaN   \n",
       "\n",
       "sector_route  Affentheater_affentanz  Affentheater_bonobo  \\\n",
       "user_id                                                     \n",
       "3                                NaN                  NaN   \n",
       "10                               NaN                  NaN   \n",
       "15                               NaN                  NaN   \n",
       "18                               NaN                  NaN   \n",
       "32                               NaN                  NaN   \n",
       "38                               NaN                  NaN   \n",
       "\n",
       "sector_route  Affentheater_chimpanzee  Affentheater_decision  \n",
       "user_id                                                       \n",
       "3                                 NaN                    NaN  \n",
       "10                                NaN                    NaN  \n",
       "15                                NaN                    NaN  \n",
       "18                                NaN                    NaN  \n",
       "32                                NaN                    NaN  \n",
       "38                                NaN                    NaN  "
      ]
     },
     "execution_count": 39,
     "metadata": {},
     "output_type": "execute_result"
    }
   ],
   "source": [
    "\n",
    "user_route_ratings = pd.pivot_table(X_train_ratings, index='user_id', columns= 'sector_route', values='rating')\n",
    "\n",
    "print('dataset dimensions: ', user_route_ratings.shape, '\\n\\nSubset example:')\n",
    "user_route_ratings.iloc[:6, :10]"
   ]
  },
  {
   "cell_type": "code",
   "execution_count": 40,
   "metadata": {
    "ExecuteTime": {
     "end_time": "2018-11-27T00:34:03.420239Z",
     "start_time": "2018-11-27T00:34:03.407900Z"
    }
   },
   "outputs": [
    {
     "data": {
      "text/html": [
       "<div>\n",
       "<style scoped>\n",
       "    .dataframe tbody tr th:only-of-type {\n",
       "        vertical-align: middle;\n",
       "    }\n",
       "\n",
       "    .dataframe tbody tr th {\n",
       "        vertical-align: top;\n",
       "    }\n",
       "\n",
       "    .dataframe thead th {\n",
       "        text-align: right;\n",
       "    }\n",
       "</style>\n",
       "<table border=\"1\" class=\"dataframe\">\n",
       "  <thead>\n",
       "    <tr style=\"text-align: right;\">\n",
       "      <th></th>\n",
       "      <th>id</th>\n",
       "      <th>sector_id</th>\n",
       "      <th>sector</th>\n",
       "      <th>route</th>\n",
       "      <th>rating</th>\n",
       "      <th>user_id</th>\n",
       "    </tr>\n",
       "  </thead>\n",
       "  <tbody>\n",
       "    <tr>\n",
       "      <th>0</th>\n",
       "      <td>582</td>\n",
       "      <td>126</td>\n",
       "      <td>Grüne Hölle</td>\n",
       "      <td>Isolation</td>\n",
       "      <td>0</td>\n",
       "      <td>39</td>\n",
       "    </tr>\n",
       "  </tbody>\n",
       "</table>\n",
       "</div>"
      ],
      "text/plain": [
       "    id  sector_id       sector      route  rating  user_id\n",
       "0  582        126  Grüne Hölle  Isolation       0       39"
      ]
     },
     "execution_count": 40,
     "metadata": {},
     "output_type": "execute_result"
    }
   ],
   "source": [
    "user_id = 39\n",
    "# user_id = 35939\n",
    "X_test[X_test['user_id'] == user_id]\n",
    "# user_route_ratings.loc[user_id]"
   ]
  },
  {
   "cell_type": "code",
   "execution_count": 41,
   "metadata": {
    "ExecuteTime": {
     "end_time": "2018-11-27T00:34:03.430033Z",
     "start_time": "2018-11-27T00:34:03.423116Z"
    },
    "code_folding": [
     0,
     10,
     22
    ]
   },
   "outputs": [],
   "source": [
    "def get_most_rated_routes(user_route_ratings, max_number_of_routes):\n",
    "    # 1- Count\n",
    "    user_route_ratings = user_route_ratings.append(user_route_ratings.count(), ignore_index=True)\n",
    "    # 2- sort\n",
    "    user_route_ratings_sorted = user_route_ratings.sort_values(len(user_route_ratings)-1, axis=1, ascending=False)\n",
    "    user_route_ratings_sorted = user_route_ratings_sorted.drop(user_route_ratings_sorted.tail(1).index)\n",
    "    # 3- slice\n",
    "    most_rated_routes = user_route_ratings_sorted.iloc[:, :max_number_of_routes]\n",
    "    return most_rated_routes\n",
    "\n",
    "def get_users_who_rate_the_most(most_rated_routes, max_number_of_routes):\n",
    "    # Get most voting users\n",
    "    # 1- Count\n",
    "    most_rated_routes['counts'] = pd.Series(most_rated_routes.count(axis=1))\n",
    "    # 2- Sort\n",
    "    most_rated_routes_users = most_rated_routes.sort_values('counts', ascending=False)\n",
    "    # 3- Slice\n",
    "    most_rated_routes_users_selection = most_rated_routes_users.iloc[:max_number_of_routes, :]\n",
    "    most_rated_routes_users_selection = most_rated_routes_users_selection.drop(['counts'], axis=1)\n",
    "    \n",
    "    return most_rated_routes_users_selection\n",
    "\n",
    "def sort_by_rating_density(user_route_ratings, n_routes, n_users):\n",
    "    most_rated_routes = get_most_rated_routes(user_route_ratings, n_routes)\n",
    "    most_rated_routes = get_users_who_rate_the_most(most_rated_routes, n_users)\n",
    "    return most_rated_routes"
   ]
  },
  {
   "cell_type": "code",
   "execution_count": 42,
   "metadata": {
    "ExecuteTime": {
     "end_time": "2018-11-27T00:34:04.383886Z",
     "start_time": "2018-11-27T00:34:03.432933Z"
    }
   },
   "outputs": [
    {
     "name": "stdout",
     "output_type": "stream",
     "text": [
      "dataset dimensions:  (18, 30)\n"
     ]
    },
    {
     "data": {
      "text/html": [
       "<div>\n",
       "<style scoped>\n",
       "    .dataframe tbody tr th:only-of-type {\n",
       "        vertical-align: middle;\n",
       "    }\n",
       "\n",
       "    .dataframe tbody tr th {\n",
       "        vertical-align: top;\n",
       "    }\n",
       "\n",
       "    .dataframe thead th {\n",
       "        text-align: right;\n",
       "    }\n",
       "</style>\n",
       "<table border=\"1\" class=\"dataframe\">\n",
       "  <thead>\n",
       "    <tr style=\"text-align: right;\">\n",
       "      <th>sector_route</th>\n",
       "      <th>Weißenstein_dampfhammer</th>\n",
       "      <th>Obere Schlossbergwände_dala</th>\n",
       "      <th>Grüne Hölle_isolation</th>\n",
       "      <th>Obere Schlossbergwände_liebe ohne chance</th>\n",
       "      <th>Marientaler Wände_saftfeld</th>\n",
       "      <th>Richard Wagner Fels_fight gravity</th>\n",
       "      <th>Grüne Hölle_solid rock</th>\n",
       "      <th>Heldwand_heldbru</th>\n",
       "      <th>Diebesloch_blutspur</th>\n",
       "      <th>Marientaler Wände_opa falkenstein</th>\n",
       "      <th>...</th>\n",
       "      <th>Diebesloch_beavis  butthead</th>\n",
       "      <th>Krottenseer Turm_westwand</th>\n",
       "      <th>Obere Schlossbergwände_dezentraler energiepfad</th>\n",
       "      <th>Andeltodrom_kauabouga</th>\n",
       "      <th>Soranger Wand_second chance</th>\n",
       "      <th>Grüne Hölle_range rover</th>\n",
       "      <th>Bärenschlucht_herkules</th>\n",
       "      <th>Soranger Wand_massaker</th>\n",
       "      <th>Wolfsberger Grotte_orang utan</th>\n",
       "      <th>Weißenstein_baggi ned</th>\n",
       "    </tr>\n",
       "  </thead>\n",
       "  <tbody>\n",
       "    <tr>\n",
       "      <th>341</th>\n",
       "      <td>3.0</td>\n",
       "      <td>1.0</td>\n",
       "      <td>2.0</td>\n",
       "      <td>3.0</td>\n",
       "      <td>2.0</td>\n",
       "      <td>3.0</td>\n",
       "      <td>2.0</td>\n",
       "      <td>3.0</td>\n",
       "      <td>3.0</td>\n",
       "      <td>2.0</td>\n",
       "      <td>...</td>\n",
       "      <td>3.0</td>\n",
       "      <td>3.0</td>\n",
       "      <td>3.0</td>\n",
       "      <td>1.0</td>\n",
       "      <td>1.0</td>\n",
       "      <td>NaN</td>\n",
       "      <td>NaN</td>\n",
       "      <td>2.0</td>\n",
       "      <td>3.0</td>\n",
       "      <td>2.0</td>\n",
       "    </tr>\n",
       "    <tr>\n",
       "      <th>1603</th>\n",
       "      <td>3.0</td>\n",
       "      <td>0.0</td>\n",
       "      <td>0.0</td>\n",
       "      <td>3.0</td>\n",
       "      <td>0.0</td>\n",
       "      <td>3.0</td>\n",
       "      <td>0.0</td>\n",
       "      <td>3.0</td>\n",
       "      <td>0.0</td>\n",
       "      <td>0.0</td>\n",
       "      <td>...</td>\n",
       "      <td>3.0</td>\n",
       "      <td>NaN</td>\n",
       "      <td>0.0</td>\n",
       "      <td>0.0</td>\n",
       "      <td>NaN</td>\n",
       "      <td>0.0</td>\n",
       "      <td>NaN</td>\n",
       "      <td>NaN</td>\n",
       "      <td>3.0</td>\n",
       "      <td>0.0</td>\n",
       "    </tr>\n",
       "    <tr>\n",
       "      <th>1501</th>\n",
       "      <td>0.0</td>\n",
       "      <td>0.0</td>\n",
       "      <td>0.0</td>\n",
       "      <td>0.0</td>\n",
       "      <td>0.0</td>\n",
       "      <td>0.0</td>\n",
       "      <td>NaN</td>\n",
       "      <td>0.0</td>\n",
       "      <td>0.0</td>\n",
       "      <td>0.0</td>\n",
       "      <td>...</td>\n",
       "      <td>NaN</td>\n",
       "      <td>0.0</td>\n",
       "      <td>NaN</td>\n",
       "      <td>0.0</td>\n",
       "      <td>0.0</td>\n",
       "      <td>NaN</td>\n",
       "      <td>0.0</td>\n",
       "      <td>0.0</td>\n",
       "      <td>0.0</td>\n",
       "      <td>NaN</td>\n",
       "    </tr>\n",
       "    <tr>\n",
       "      <th>1258</th>\n",
       "      <td>3.0</td>\n",
       "      <td>3.0</td>\n",
       "      <td>2.0</td>\n",
       "      <td>3.0</td>\n",
       "      <td>2.0</td>\n",
       "      <td>3.0</td>\n",
       "      <td>2.0</td>\n",
       "      <td>NaN</td>\n",
       "      <td>2.0</td>\n",
       "      <td>NaN</td>\n",
       "      <td>...</td>\n",
       "      <td>3.0</td>\n",
       "      <td>NaN</td>\n",
       "      <td>2.0</td>\n",
       "      <td>1.0</td>\n",
       "      <td>1.0</td>\n",
       "      <td>0.0</td>\n",
       "      <td>3.0</td>\n",
       "      <td>0.0</td>\n",
       "      <td>NaN</td>\n",
       "      <td>3.0</td>\n",
       "    </tr>\n",
       "    <tr>\n",
       "      <th>2086</th>\n",
       "      <td>3.0</td>\n",
       "      <td>1.0</td>\n",
       "      <td>2.0</td>\n",
       "      <td>3.0</td>\n",
       "      <td>2.0</td>\n",
       "      <td>3.0</td>\n",
       "      <td>NaN</td>\n",
       "      <td>1.5</td>\n",
       "      <td>2.0</td>\n",
       "      <td>0.0</td>\n",
       "      <td>...</td>\n",
       "      <td>3.0</td>\n",
       "      <td>0.0</td>\n",
       "      <td>0.0</td>\n",
       "      <td>NaN</td>\n",
       "      <td>1.0</td>\n",
       "      <td>NaN</td>\n",
       "      <td>NaN</td>\n",
       "      <td>NaN</td>\n",
       "      <td>3.0</td>\n",
       "      <td>0.0</td>\n",
       "    </tr>\n",
       "  </tbody>\n",
       "</table>\n",
       "<p>5 rows × 30 columns</p>\n",
       "</div>"
      ],
      "text/plain": [
       "sector_route  Weißenstein_dampfhammer  Obere Schlossbergwände_dala  \\\n",
       "341                               3.0                          1.0   \n",
       "1603                              3.0                          0.0   \n",
       "1501                              0.0                          0.0   \n",
       "1258                              3.0                          3.0   \n",
       "2086                              3.0                          1.0   \n",
       "\n",
       "sector_route  Grüne Hölle_isolation  Obere Schlossbergwände_liebe ohne chance  \\\n",
       "341                             2.0                                       3.0   \n",
       "1603                            0.0                                       3.0   \n",
       "1501                            0.0                                       0.0   \n",
       "1258                            2.0                                       3.0   \n",
       "2086                            2.0                                       3.0   \n",
       "\n",
       "sector_route  Marientaler Wände_saftfeld  Richard Wagner Fels_fight gravity  \\\n",
       "341                                  2.0                                3.0   \n",
       "1603                                 0.0                                3.0   \n",
       "1501                                 0.0                                0.0   \n",
       "1258                                 2.0                                3.0   \n",
       "2086                                 2.0                                3.0   \n",
       "\n",
       "sector_route  Grüne Hölle_solid rock  Heldwand_heldbru  Diebesloch_blutspur  \\\n",
       "341                              2.0               3.0                  3.0   \n",
       "1603                             0.0               3.0                  0.0   \n",
       "1501                             NaN               0.0                  0.0   \n",
       "1258                             2.0               NaN                  2.0   \n",
       "2086                             NaN               1.5                  2.0   \n",
       "\n",
       "sector_route  Marientaler Wände_opa falkenstein          ...            \\\n",
       "341                                         2.0          ...             \n",
       "1603                                        0.0          ...             \n",
       "1501                                        0.0          ...             \n",
       "1258                                        NaN          ...             \n",
       "2086                                        0.0          ...             \n",
       "\n",
       "sector_route  Diebesloch_beavis  butthead  Krottenseer Turm_westwand  \\\n",
       "341                                   3.0                        3.0   \n",
       "1603                                  3.0                        NaN   \n",
       "1501                                  NaN                        0.0   \n",
       "1258                                  3.0                        NaN   \n",
       "2086                                  3.0                        0.0   \n",
       "\n",
       "sector_route  Obere Schlossbergwände_dezentraler energiepfad  \\\n",
       "341                                                      3.0   \n",
       "1603                                                     0.0   \n",
       "1501                                                     NaN   \n",
       "1258                                                     2.0   \n",
       "2086                                                     0.0   \n",
       "\n",
       "sector_route  Andeltodrom_kauabouga  Soranger Wand_second chance  \\\n",
       "341                             1.0                          1.0   \n",
       "1603                            0.0                          NaN   \n",
       "1501                            0.0                          0.0   \n",
       "1258                            1.0                          1.0   \n",
       "2086                            NaN                          1.0   \n",
       "\n",
       "sector_route  Grüne Hölle_range rover  Bärenschlucht_herkules  \\\n",
       "341                               NaN                     NaN   \n",
       "1603                              0.0                     NaN   \n",
       "1501                              NaN                     0.0   \n",
       "1258                              0.0                     3.0   \n",
       "2086                              NaN                     NaN   \n",
       "\n",
       "sector_route  Soranger Wand_massaker  Wolfsberger Grotte_orang utan  \\\n",
       "341                              2.0                            3.0   \n",
       "1603                             NaN                            3.0   \n",
       "1501                             0.0                            0.0   \n",
       "1258                             0.0                            NaN   \n",
       "2086                             NaN                            3.0   \n",
       "\n",
       "sector_route  Weißenstein_baggi ned  \n",
       "341                             2.0  \n",
       "1603                            0.0  \n",
       "1501                            NaN  \n",
       "1258                            3.0  \n",
       "2086                            0.0  \n",
       "\n",
       "[5 rows x 30 columns]"
      ]
     },
     "execution_count": 42,
     "metadata": {},
     "output_type": "execute_result"
    }
   ],
   "source": [
    "n_routes = 30\n",
    "n_users = 18\n",
    "most_rated_routes_users_selection = sort_by_rating_density(user_route_ratings, n_routes, n_users)\n",
    "\n",
    "print('dataset dimensions: ', most_rated_routes_users_selection.shape)\n",
    "most_rated_routes_users_selection.head()"
   ]
  },
  {
   "cell_type": "code",
   "execution_count": 43,
   "metadata": {
    "ExecuteTime": {
     "end_time": "2018-11-27T00:34:04.401003Z",
     "start_time": "2018-11-27T00:34:04.385967Z"
    },
    "code_folding": [
     3
    ]
   },
   "outputs": [],
   "source": [
    "from mpl_toolkits.axes_grid1 import make_axes_locatable\n",
    "\n",
    "\n",
    "def draw_routes_heatmap(most_rated_routes_users_selection, axis_labels=True):\n",
    "\n",
    "    # Reverse to match the order of the printed dataframe\n",
    "    #most_rated_routes_users_selection = most_rated_routes_users_selection.iloc[::-1]\n",
    "\n",
    "    fig = plt.figure(figsize=(15, 4))\n",
    "    ax = plt.gca()\n",
    "\n",
    "    # Draw heatmap\n",
    "    heatmap = ax.imshow(most_rated_routes_users_selection,\n",
    "                        interpolation='nearest', vmin=0, vmax=3, aspect='auto')\n",
    "\n",
    "    if axis_labels:\n",
    "        ax.set_yticks(\n",
    "            np.arange(most_rated_routes_users_selection.shape[0]), minor=False)\n",
    "        ax.set_xticks(\n",
    "            np.arange(most_rated_routes_users_selection.shape[1]), minor=False)\n",
    "        ax.invert_yaxis()\n",
    "        ax.xaxis.tick_top()\n",
    "        labels = most_rated_routes_users_selection.columns.str[:40]\n",
    "        ax.set_xticklabels(labels, minor=False)\n",
    "        ax.set_yticklabels(\n",
    "            most_rated_routes_users_selection.index, minor=False)\n",
    "        plt.setp(ax.get_xticklabels(), rotation=90)\n",
    "    else:\n",
    "        ax.get_xaxis().set_visible(False)\n",
    "        ax.get_yaxis().set_visible(False)\n",
    "\n",
    "    ax.grid(False)\n",
    "    ax.set_ylabel('User id')\n",
    "\n",
    "    # Separate heatmap from color bar\n",
    "    divider = make_axes_locatable(ax)\n",
    "    cax = divider.append_axes(\"right\", size=\"5%\", pad=0.05)\n",
    "\n",
    "    # Color bar\n",
    "    cbar = fig.colorbar(heatmap, ticks=[3, 2, 1, 0], cax=cax)\n",
    "    cbar.ax.set_yticklabels(['3 stars', '2 stars', '1 stars', '0 stars'])\n",
    "\n",
    "    plt.show()"
   ]
  },
  {
   "cell_type": "code",
   "execution_count": 44,
   "metadata": {
    "ExecuteTime": {
     "end_time": "2018-11-27T00:34:05.041630Z",
     "start_time": "2018-11-27T00:34:04.403211Z"
    }
   },
   "outputs": [
    {
     "data": {
      "image/png": "[encoded data removed]",
      "text/plain": [
       "<Figure size 1080x288 with 2 Axes>"
      ]
     },
     "metadata": {
      "needs_background": "light"
     },
     "output_type": "display_data"
    }
   ],
   "source": [
    "draw_routes_heatmap(most_rated_routes_users_selection)"
   ]
  },
  {
   "cell_type": "code",
   "execution_count": 45,
   "metadata": {
    "ExecuteTime": {
     "end_time": "2018-11-27T00:34:07.612572Z",
     "start_time": "2018-11-27T00:34:05.043776Z"
    }
   },
   "outputs": [],
   "source": [
    "# user_route_ratings_str = user_route_ratings.copy()\n",
    "# user_route_ratings_str.columns = user_route_ratings_str.columns.astype(str)\n",
    "# sparse_ratings = csr_matrix(pd.SparseDataFrame(user_route_ratings_str).to_coo())\n",
    "\n",
    "sparse_ratings = csr_matrix(pd.SparseDataFrame(user_route_ratings).to_coo())"
   ]
  },
  {
   "cell_type": "markdown",
   "metadata": {},
   "source": [
    "### Clustering"
   ]
  },
  {
   "cell_type": "code",
   "execution_count": 46,
   "metadata": {
    "ExecuteTime": {
     "end_time": "2018-11-27T00:34:13.714529Z",
     "start_time": "2018-11-27T00:34:07.614991Z"
    }
   },
   "outputs": [],
   "source": [
    "from sklearn.cluster import KMeans\n",
    "\n",
    "# TODO find number of clusters\n",
    "\n",
    "# 20 clusters\n",
    "predictions = KMeans(n_clusters=20, algorithm='full').fit_predict(sparse_ratings)"
   ]
  },
  {
   "cell_type": "code",
   "execution_count": 47,
   "metadata": {
    "ExecuteTime": {
     "end_time": "2018-11-27T00:34:13.726333Z",
     "start_time": "2018-11-27T00:34:13.717302Z"
    }
   },
   "outputs": [
    {
     "data": {
      "text/plain": [
       "3149"
      ]
     },
     "execution_count": 47,
     "metadata": {},
     "output_type": "execute_result"
    },
    {
     "data": {
      "text/plain": [
       "(3149, 7566)"
      ]
     },
     "execution_count": 47,
     "metadata": {},
     "output_type": "execute_result"
    },
    {
     "data": {
      "text/plain": [
       "(3149, 7566)"
      ]
     },
     "execution_count": 47,
     "metadata": {},
     "output_type": "execute_result"
    }
   ],
   "source": [
    "len(predictions)\n",
    "sparse_ratings.shape\n",
    "user_route_ratings.shape\n",
    "# predictions\n",
    "# user_route_ratings"
   ]
  },
  {
   "cell_type": "code",
   "execution_count": 48,
   "metadata": {
    "ExecuteTime": {
     "end_time": "2018-11-27T00:34:13.737503Z",
     "start_time": "2018-11-27T00:34:13.729144Z"
    }
   },
   "outputs": [
    {
     "data": {
      "text/plain": [
       "{0: 2775,\n",
       " 1: 1,\n",
       " 2: 1,\n",
       " 3: 1,\n",
       " 4: 150,\n",
       " 5: 1,\n",
       " 6: 1,\n",
       " 7: 1,\n",
       " 8: 1,\n",
       " 9: 1,\n",
       " 10: 1,\n",
       " 11: 1,\n",
       " 12: 1,\n",
       " 13: 1,\n",
       " 14: 1,\n",
       " 15: 1,\n",
       " 16: 19,\n",
       " 17: 1,\n",
       " 18: 1,\n",
       " 19: 189}"
      ]
     },
     "execution_count": 48,
     "metadata": {},
     "output_type": "execute_result"
    }
   ],
   "source": [
    "unique, counts = np.unique(predictions, return_counts=True)\n",
    "dict(zip(unique, counts))"
   ]
  },
  {
   "cell_type": "code",
   "execution_count": 49,
   "metadata": {
    "ExecuteTime": {
     "end_time": "2018-11-27T00:34:13.753381Z",
     "start_time": "2018-11-27T00:34:13.740548Z"
    },
    "code_folding": [
     0
    ]
   },
   "outputs": [],
   "source": [
    "def draw_route_clusters(clustered, max_users, max_routes):\n",
    "    c = 1\n",
    "    for cluster_id in clustered.group.unique():\n",
    "        # To improve visibility, we're showing at most max_users users and max_routes routes per cluster.\n",
    "        # You can change these values to see more users & routes per cluster\n",
    "        d = clustered[clustered.group == cluster_id].drop(\n",
    "            ['user_id', 'group'], axis=1)\n",
    "        n_users_in_cluster = d.shape[0]\n",
    "\n",
    "        d = sort_by_rating_density(d, max_routes, max_users)\n",
    "\n",
    "        d = d.reindex_axis(d.mean().sort_values(ascending=False).index, axis=1)\n",
    "        d = d.reindex_axis(d.count(axis=1).sort_values(ascending=False).index)\n",
    "        d = d.iloc[:max_users, :max_routes]\n",
    "        n_users_in_plot = d.shape[0]\n",
    "\n",
    "        # We're only selecting to show clusters that have more than 9 users, otherwise, they're less interesting\n",
    "        if len(d) > 9:\n",
    "            print('cluster # {}'.format(cluster_id))\n",
    "            print('# of users in cluster: {}.'.format(n_users_in_cluster),\n",
    "                  '# of users in plot: {}'.format(n_users_in_plot))\n",
    "            fig = plt.figure(figsize=(15, 4))\n",
    "            ax = plt.gca()\n",
    "\n",
    "            ax.invert_yaxis()\n",
    "            ax.xaxis.tick_top()\n",
    "            labels = d.columns.str[:40]\n",
    "\n",
    "            ax.set_yticks(np.arange(d.shape[0]), minor=False)\n",
    "            ax.set_xticks(np.arange(d.shape[1]), minor=False)\n",
    "\n",
    "            ax.set_xticklabels(labels, minor=False)\n",
    "\n",
    "            ax.get_yaxis().set_visible(False)\n",
    "\n",
    "            # Heatmap\n",
    "            heatmap = plt.imshow(d, vmin=0, vmax=3, aspect='auto')\n",
    "\n",
    "            ax.set_xlabel('routes')\n",
    "            ax.set_ylabel('User id')\n",
    "\n",
    "            divider = make_axes_locatable(ax)\n",
    "            cax = divider.append_axes(\"right\", size=\"5%\", pad=0.05)\n",
    "\n",
    "            # Color bar\n",
    "            cbar = fig.colorbar(heatmap, ticks=[3, 2, 1, 0], cax=cax)\n",
    "            cbar.ax.set_yticklabels(\n",
    "                ['3 stars', '2 stars', '1 stars', '0 stars'])\n",
    "\n",
    "            plt.setp(ax.get_xticklabels(), rotation=90, fontsize=9)\n",
    "            plt.tick_params(axis='both', which='both', bottom='off',\n",
    "                            top='off', left='off', labelbottom='off', labelleft='off')\n",
    "            # print('cluster # {} \\n(Showing at most {} users and {} routes)'.format(cluster_id, max_users, max_routes))\n",
    "\n",
    "            plt.show()\n",
    "\n",
    "            # Let's only show 5 clusters\n",
    "            # Remove the next three lines if you want to see all the clusters\n",
    "            # Contribution welcomed: Pythonic way of achieving this\n",
    "            # c = c+1\n",
    "            # if c > 6:\n",
    "            #    break"
   ]
  },
  {
   "cell_type": "code",
   "execution_count": 50,
   "metadata": {
    "ExecuteTime": {
     "end_time": "2018-11-27T00:34:14.510665Z",
     "start_time": "2018-11-27T00:34:13.756514Z"
    }
   },
   "outputs": [
    {
     "data": {
      "text/html": [
       "<div>\n",
       "<style scoped>\n",
       "    .dataframe tbody tr th:only-of-type {\n",
       "        vertical-align: middle;\n",
       "    }\n",
       "\n",
       "    .dataframe tbody tr th {\n",
       "        vertical-align: top;\n",
       "    }\n",
       "\n",
       "    .dataframe thead th {\n",
       "        text-align: right;\n",
       "    }\n",
       "</style>\n",
       "<table border=\"1\" class=\"dataframe\">\n",
       "  <thead>\n",
       "    <tr style=\"text-align: right;\">\n",
       "      <th></th>\n",
       "      <th>user_id</th>\n",
       "      <th>AMPHITHEATER_angel dust</th>\n",
       "      <th>AMPHITHEATER_die dunkle seite</th>\n",
       "      <th>Affentheater_affenhitze</th>\n",
       "      <th>Affentheater_affenkante</th>\n",
       "      <th>Affentheater_affenplatte</th>\n",
       "      <th>Affentheater_affensex</th>\n",
       "      <th>Affentheater_affentanz</th>\n",
       "      <th>Affentheater_bonobo</th>\n",
       "      <th>Affentheater_chimpanzee</th>\n",
       "      <th>...</th>\n",
       "      <th>zimmerbergwände_starfighter kandidatenweg</th>\n",
       "      <th>zwergenschloss_born to be alive</th>\n",
       "      <th>zwergenschloss_ich habs wollen wissen</th>\n",
       "      <th>zwergenschloss_linie</th>\n",
       "      <th>zwergenschloss_magnesiapower</th>\n",
       "      <th>zwergenschloss_panic room</th>\n",
       "      <th>zwergenschloss_starlight express</th>\n",
       "      <th>zwergenschloss_uschi mach keinen quatsch</th>\n",
       "      <th>zwergenschloss_zentrifuge</th>\n",
       "      <th>group</th>\n",
       "    </tr>\n",
       "  </thead>\n",
       "  <tbody>\n",
       "    <tr>\n",
       "      <th>0</th>\n",
       "      <td>3</td>\n",
       "      <td>NaN</td>\n",
       "      <td>NaN</td>\n",
       "      <td>NaN</td>\n",
       "      <td>NaN</td>\n",
       "      <td>NaN</td>\n",
       "      <td>NaN</td>\n",
       "      <td>NaN</td>\n",
       "      <td>NaN</td>\n",
       "      <td>NaN</td>\n",
       "      <td>...</td>\n",
       "      <td>NaN</td>\n",
       "      <td>NaN</td>\n",
       "      <td>NaN</td>\n",
       "      <td>NaN</td>\n",
       "      <td>NaN</td>\n",
       "      <td>NaN</td>\n",
       "      <td>NaN</td>\n",
       "      <td>NaN</td>\n",
       "      <td>NaN</td>\n",
       "      <td>0</td>\n",
       "    </tr>\n",
       "    <tr>\n",
       "      <th>1</th>\n",
       "      <td>10</td>\n",
       "      <td>NaN</td>\n",
       "      <td>NaN</td>\n",
       "      <td>NaN</td>\n",
       "      <td>NaN</td>\n",
       "      <td>NaN</td>\n",
       "      <td>NaN</td>\n",
       "      <td>NaN</td>\n",
       "      <td>NaN</td>\n",
       "      <td>NaN</td>\n",
       "      <td>...</td>\n",
       "      <td>NaN</td>\n",
       "      <td>NaN</td>\n",
       "      <td>NaN</td>\n",
       "      <td>NaN</td>\n",
       "      <td>NaN</td>\n",
       "      <td>NaN</td>\n",
       "      <td>NaN</td>\n",
       "      <td>NaN</td>\n",
       "      <td>NaN</td>\n",
       "      <td>0</td>\n",
       "    </tr>\n",
       "    <tr>\n",
       "      <th>2</th>\n",
       "      <td>15</td>\n",
       "      <td>NaN</td>\n",
       "      <td>NaN</td>\n",
       "      <td>NaN</td>\n",
       "      <td>NaN</td>\n",
       "      <td>NaN</td>\n",
       "      <td>NaN</td>\n",
       "      <td>NaN</td>\n",
       "      <td>NaN</td>\n",
       "      <td>NaN</td>\n",
       "      <td>...</td>\n",
       "      <td>NaN</td>\n",
       "      <td>NaN</td>\n",
       "      <td>NaN</td>\n",
       "      <td>NaN</td>\n",
       "      <td>NaN</td>\n",
       "      <td>NaN</td>\n",
       "      <td>NaN</td>\n",
       "      <td>NaN</td>\n",
       "      <td>NaN</td>\n",
       "      <td>0</td>\n",
       "    </tr>\n",
       "  </tbody>\n",
       "</table>\n",
       "<p>3 rows × 7568 columns</p>\n",
       "</div>"
      ],
      "text/plain": [
       "   user_id  AMPHITHEATER_angel dust  AMPHITHEATER_die dunkle seite  \\\n",
       "0        3                      NaN                            NaN   \n",
       "1       10                      NaN                            NaN   \n",
       "2       15                      NaN                            NaN   \n",
       "\n",
       "   Affentheater_affenhitze  Affentheater_affenkante  Affentheater_affenplatte  \\\n",
       "0                      NaN                      NaN                       NaN   \n",
       "1                      NaN                      NaN                       NaN   \n",
       "2                      NaN                      NaN                       NaN   \n",
       "\n",
       "   Affentheater_affensex  Affentheater_affentanz  Affentheater_bonobo  \\\n",
       "0                    NaN                     NaN                  NaN   \n",
       "1                    NaN                     NaN                  NaN   \n",
       "2                    NaN                     NaN                  NaN   \n",
       "\n",
       "   Affentheater_chimpanzee  ...    zimmerbergwände_starfighter kandidatenweg  \\\n",
       "0                      NaN  ...                                          NaN   \n",
       "1                      NaN  ...                                          NaN   \n",
       "2                      NaN  ...                                          NaN   \n",
       "\n",
       "   zwergenschloss_born to be alive  zwergenschloss_ich habs wollen wissen  \\\n",
       "0                              NaN                                    NaN   \n",
       "1                              NaN                                    NaN   \n",
       "2                              NaN                                    NaN   \n",
       "\n",
       "   zwergenschloss_linie   zwergenschloss_magnesiapower  \\\n",
       "0                    NaN                           NaN   \n",
       "1                    NaN                           NaN   \n",
       "2                    NaN                           NaN   \n",
       "\n",
       "   zwergenschloss_panic room  zwergenschloss_starlight express  \\\n",
       "0                        NaN                               NaN   \n",
       "1                        NaN                               NaN   \n",
       "2                        NaN                               NaN   \n",
       "\n",
       "   zwergenschloss_uschi mach keinen quatsch  zwergenschloss_zentrifuge  group  \n",
       "0                                       NaN                        NaN      0  \n",
       "1                                       NaN                        NaN      0  \n",
       "2                                       NaN                        NaN      0  \n",
       "\n",
       "[3 rows x 7568 columns]"
      ]
     },
     "execution_count": 50,
     "metadata": {},
     "output_type": "execute_result"
    },
    {
     "data": {
      "text/html": [
       "<div>\n",
       "<style scoped>\n",
       "    .dataframe tbody tr th:only-of-type {\n",
       "        vertical-align: middle;\n",
       "    }\n",
       "\n",
       "    .dataframe tbody tr th {\n",
       "        vertical-align: top;\n",
       "    }\n",
       "\n",
       "    .dataframe thead th {\n",
       "        text-align: right;\n",
       "    }\n",
       "</style>\n",
       "<table border=\"1\" class=\"dataframe\">\n",
       "  <thead>\n",
       "    <tr style=\"text-align: right;\">\n",
       "      <th></th>\n",
       "      <th>AMPHITHEATER_angel dust</th>\n",
       "      <th>AMPHITHEATER_die dunkle seite</th>\n",
       "      <th>Affentheater_affenhitze</th>\n",
       "      <th>Affentheater_affenkante</th>\n",
       "      <th>Affentheater_affenplatte</th>\n",
       "      <th>Affentheater_affensex</th>\n",
       "      <th>Affentheater_affentanz</th>\n",
       "      <th>Affentheater_bonobo</th>\n",
       "      <th>Affentheater_chimpanzee</th>\n",
       "      <th>Affentheater_decision</th>\n",
       "      <th>...</th>\n",
       "      <th>zimmerbergwände_starfighter kandidatenweg</th>\n",
       "      <th>zwergenschloss_born to be alive</th>\n",
       "      <th>zwergenschloss_ich habs wollen wissen</th>\n",
       "      <th>zwergenschloss_linie</th>\n",
       "      <th>zwergenschloss_magnesiapower</th>\n",
       "      <th>zwergenschloss_panic room</th>\n",
       "      <th>zwergenschloss_starlight express</th>\n",
       "      <th>zwergenschloss_uschi mach keinen quatsch</th>\n",
       "      <th>zwergenschloss_zentrifuge</th>\n",
       "      <th>group</th>\n",
       "    </tr>\n",
       "    <tr>\n",
       "      <th>user_id</th>\n",
       "      <th></th>\n",
       "      <th></th>\n",
       "      <th></th>\n",
       "      <th></th>\n",
       "      <th></th>\n",
       "      <th></th>\n",
       "      <th></th>\n",
       "      <th></th>\n",
       "      <th></th>\n",
       "      <th></th>\n",
       "      <th></th>\n",
       "      <th></th>\n",
       "      <th></th>\n",
       "      <th></th>\n",
       "      <th></th>\n",
       "      <th></th>\n",
       "      <th></th>\n",
       "      <th></th>\n",
       "      <th></th>\n",
       "      <th></th>\n",
       "      <th></th>\n",
       "    </tr>\n",
       "  </thead>\n",
       "  <tbody>\n",
       "    <tr>\n",
       "      <th>3</th>\n",
       "      <td>NaN</td>\n",
       "      <td>NaN</td>\n",
       "      <td>NaN</td>\n",
       "      <td>NaN</td>\n",
       "      <td>NaN</td>\n",
       "      <td>NaN</td>\n",
       "      <td>NaN</td>\n",
       "      <td>NaN</td>\n",
       "      <td>NaN</td>\n",
       "      <td>NaN</td>\n",
       "      <td>...</td>\n",
       "      <td>NaN</td>\n",
       "      <td>NaN</td>\n",
       "      <td>NaN</td>\n",
       "      <td>NaN</td>\n",
       "      <td>NaN</td>\n",
       "      <td>NaN</td>\n",
       "      <td>NaN</td>\n",
       "      <td>NaN</td>\n",
       "      <td>NaN</td>\n",
       "      <td>0</td>\n",
       "    </tr>\n",
       "    <tr>\n",
       "      <th>10</th>\n",
       "      <td>NaN</td>\n",
       "      <td>NaN</td>\n",
       "      <td>NaN</td>\n",
       "      <td>NaN</td>\n",
       "      <td>NaN</td>\n",
       "      <td>NaN</td>\n",
       "      <td>NaN</td>\n",
       "      <td>NaN</td>\n",
       "      <td>NaN</td>\n",
       "      <td>NaN</td>\n",
       "      <td>...</td>\n",
       "      <td>NaN</td>\n",
       "      <td>NaN</td>\n",
       "      <td>NaN</td>\n",
       "      <td>NaN</td>\n",
       "      <td>NaN</td>\n",
       "      <td>NaN</td>\n",
       "      <td>NaN</td>\n",
       "      <td>NaN</td>\n",
       "      <td>NaN</td>\n",
       "      <td>0</td>\n",
       "    </tr>\n",
       "    <tr>\n",
       "      <th>15</th>\n",
       "      <td>NaN</td>\n",
       "      <td>NaN</td>\n",
       "      <td>NaN</td>\n",
       "      <td>NaN</td>\n",
       "      <td>NaN</td>\n",
       "      <td>NaN</td>\n",
       "      <td>NaN</td>\n",
       "      <td>NaN</td>\n",
       "      <td>NaN</td>\n",
       "      <td>NaN</td>\n",
       "      <td>...</td>\n",
       "      <td>NaN</td>\n",
       "      <td>NaN</td>\n",
       "      <td>NaN</td>\n",
       "      <td>NaN</td>\n",
       "      <td>NaN</td>\n",
       "      <td>NaN</td>\n",
       "      <td>NaN</td>\n",
       "      <td>NaN</td>\n",
       "      <td>NaN</td>\n",
       "      <td>0</td>\n",
       "    </tr>\n",
       "  </tbody>\n",
       "</table>\n",
       "<p>3 rows × 7567 columns</p>\n",
       "</div>"
      ],
      "text/plain": [
       "         AMPHITHEATER_angel dust  AMPHITHEATER_die dunkle seite  \\\n",
       "user_id                                                           \n",
       "3                            NaN                            NaN   \n",
       "10                           NaN                            NaN   \n",
       "15                           NaN                            NaN   \n",
       "\n",
       "         Affentheater_affenhitze  Affentheater_affenkante  \\\n",
       "user_id                                                     \n",
       "3                            NaN                      NaN   \n",
       "10                           NaN                      NaN   \n",
       "15                           NaN                      NaN   \n",
       "\n",
       "         Affentheater_affenplatte  Affentheater_affensex  \\\n",
       "user_id                                                    \n",
       "3                             NaN                    NaN   \n",
       "10                            NaN                    NaN   \n",
       "15                            NaN                    NaN   \n",
       "\n",
       "         Affentheater_affentanz  Affentheater_bonobo  Affentheater_chimpanzee  \\\n",
       "user_id                                                                         \n",
       "3                           NaN                  NaN                      NaN   \n",
       "10                          NaN                  NaN                      NaN   \n",
       "15                          NaN                  NaN                      NaN   \n",
       "\n",
       "         Affentheater_decision  ...    \\\n",
       "user_id                         ...     \n",
       "3                          NaN  ...     \n",
       "10                         NaN  ...     \n",
       "15                         NaN  ...     \n",
       "\n",
       "         zimmerbergwände_starfighter kandidatenweg  \\\n",
       "user_id                                              \n",
       "3                                              NaN   \n",
       "10                                             NaN   \n",
       "15                                             NaN   \n",
       "\n",
       "         zwergenschloss_born to be alive  \\\n",
       "user_id                                    \n",
       "3                                    NaN   \n",
       "10                                   NaN   \n",
       "15                                   NaN   \n",
       "\n",
       "         zwergenschloss_ich habs wollen wissen  zwergenschloss_linie   \\\n",
       "user_id                                                                 \n",
       "3                                          NaN                    NaN   \n",
       "10                                         NaN                    NaN   \n",
       "15                                         NaN                    NaN   \n",
       "\n",
       "         zwergenschloss_magnesiapower  zwergenschloss_panic room  \\\n",
       "user_id                                                            \n",
       "3                                 NaN                        NaN   \n",
       "10                                NaN                        NaN   \n",
       "15                                NaN                        NaN   \n",
       "\n",
       "         zwergenschloss_starlight express  \\\n",
       "user_id                                     \n",
       "3                                     NaN   \n",
       "10                                    NaN   \n",
       "15                                    NaN   \n",
       "\n",
       "         zwergenschloss_uschi mach keinen quatsch  zwergenschloss_zentrifuge  \\\n",
       "user_id                                                                        \n",
       "3                                             NaN                        NaN   \n",
       "10                                            NaN                        NaN   \n",
       "15                                            NaN                        NaN   \n",
       "\n",
       "         group  \n",
       "user_id         \n",
       "3            0  \n",
       "10           0  \n",
       "15           0  \n",
       "\n",
       "[3 rows x 7567 columns]"
      ]
     },
     "execution_count": 50,
     "metadata": {},
     "output_type": "execute_result"
    },
    {
     "data": {
      "text/html": [
       "<div>\n",
       "<style scoped>\n",
       "    .dataframe tbody tr th:only-of-type {\n",
       "        vertical-align: middle;\n",
       "    }\n",
       "\n",
       "    .dataframe tbody tr th {\n",
       "        vertical-align: top;\n",
       "    }\n",
       "\n",
       "    .dataframe thead th {\n",
       "        text-align: right;\n",
       "    }\n",
       "</style>\n",
       "<table border=\"1\" class=\"dataframe\">\n",
       "  <thead>\n",
       "    <tr style=\"text-align: right;\">\n",
       "      <th></th>\n",
       "      <th>AMPHITHEATER_angel dust</th>\n",
       "      <th>AMPHITHEATER_die dunkle seite</th>\n",
       "      <th>Affentheater_affenhitze</th>\n",
       "      <th>Affentheater_affenkante</th>\n",
       "      <th>Affentheater_affenplatte</th>\n",
       "      <th>Affentheater_affensex</th>\n",
       "      <th>Affentheater_affentanz</th>\n",
       "      <th>Affentheater_bonobo</th>\n",
       "      <th>Affentheater_chimpanzee</th>\n",
       "      <th>Affentheater_decision</th>\n",
       "      <th>...</th>\n",
       "      <th>zwergenschloss_born to be alive</th>\n",
       "      <th>zwergenschloss_ich habs wollen wissen</th>\n",
       "      <th>zwergenschloss_linie</th>\n",
       "      <th>zwergenschloss_magnesiapower</th>\n",
       "      <th>zwergenschloss_panic room</th>\n",
       "      <th>zwergenschloss_starlight express</th>\n",
       "      <th>zwergenschloss_uschi mach keinen quatsch</th>\n",
       "      <th>zwergenschloss_zentrifuge</th>\n",
       "      <th>group</th>\n",
       "      <th>user_id</th>\n",
       "    </tr>\n",
       "    <tr>\n",
       "      <th>user_id</th>\n",
       "      <th></th>\n",
       "      <th></th>\n",
       "      <th></th>\n",
       "      <th></th>\n",
       "      <th></th>\n",
       "      <th></th>\n",
       "      <th></th>\n",
       "      <th></th>\n",
       "      <th></th>\n",
       "      <th></th>\n",
       "      <th></th>\n",
       "      <th></th>\n",
       "      <th></th>\n",
       "      <th></th>\n",
       "      <th></th>\n",
       "      <th></th>\n",
       "      <th></th>\n",
       "      <th></th>\n",
       "      <th></th>\n",
       "      <th></th>\n",
       "      <th></th>\n",
       "    </tr>\n",
       "  </thead>\n",
       "  <tbody>\n",
       "    <tr>\n",
       "      <th>3</th>\n",
       "      <td>NaN</td>\n",
       "      <td>NaN</td>\n",
       "      <td>NaN</td>\n",
       "      <td>NaN</td>\n",
       "      <td>NaN</td>\n",
       "      <td>NaN</td>\n",
       "      <td>NaN</td>\n",
       "      <td>NaN</td>\n",
       "      <td>NaN</td>\n",
       "      <td>NaN</td>\n",
       "      <td>...</td>\n",
       "      <td>NaN</td>\n",
       "      <td>NaN</td>\n",
       "      <td>NaN</td>\n",
       "      <td>NaN</td>\n",
       "      <td>NaN</td>\n",
       "      <td>NaN</td>\n",
       "      <td>NaN</td>\n",
       "      <td>NaN</td>\n",
       "      <td>0</td>\n",
       "      <td>3</td>\n",
       "    </tr>\n",
       "    <tr>\n",
       "      <th>10</th>\n",
       "      <td>NaN</td>\n",
       "      <td>NaN</td>\n",
       "      <td>NaN</td>\n",
       "      <td>NaN</td>\n",
       "      <td>NaN</td>\n",
       "      <td>NaN</td>\n",
       "      <td>NaN</td>\n",
       "      <td>NaN</td>\n",
       "      <td>NaN</td>\n",
       "      <td>NaN</td>\n",
       "      <td>...</td>\n",
       "      <td>NaN</td>\n",
       "      <td>NaN</td>\n",
       "      <td>NaN</td>\n",
       "      <td>NaN</td>\n",
       "      <td>NaN</td>\n",
       "      <td>NaN</td>\n",
       "      <td>NaN</td>\n",
       "      <td>NaN</td>\n",
       "      <td>0</td>\n",
       "      <td>10</td>\n",
       "    </tr>\n",
       "    <tr>\n",
       "      <th>15</th>\n",
       "      <td>NaN</td>\n",
       "      <td>NaN</td>\n",
       "      <td>NaN</td>\n",
       "      <td>NaN</td>\n",
       "      <td>NaN</td>\n",
       "      <td>NaN</td>\n",
       "      <td>NaN</td>\n",
       "      <td>NaN</td>\n",
       "      <td>NaN</td>\n",
       "      <td>NaN</td>\n",
       "      <td>...</td>\n",
       "      <td>NaN</td>\n",
       "      <td>NaN</td>\n",
       "      <td>NaN</td>\n",
       "      <td>NaN</td>\n",
       "      <td>NaN</td>\n",
       "      <td>NaN</td>\n",
       "      <td>NaN</td>\n",
       "      <td>NaN</td>\n",
       "      <td>0</td>\n",
       "      <td>15</td>\n",
       "    </tr>\n",
       "  </tbody>\n",
       "</table>\n",
       "<p>3 rows × 7568 columns</p>\n",
       "</div>"
      ],
      "text/plain": [
       "         AMPHITHEATER_angel dust  AMPHITHEATER_die dunkle seite  \\\n",
       "user_id                                                           \n",
       "3                            NaN                            NaN   \n",
       "10                           NaN                            NaN   \n",
       "15                           NaN                            NaN   \n",
       "\n",
       "         Affentheater_affenhitze  Affentheater_affenkante  \\\n",
       "user_id                                                     \n",
       "3                            NaN                      NaN   \n",
       "10                           NaN                      NaN   \n",
       "15                           NaN                      NaN   \n",
       "\n",
       "         Affentheater_affenplatte  Affentheater_affensex  \\\n",
       "user_id                                                    \n",
       "3                             NaN                    NaN   \n",
       "10                            NaN                    NaN   \n",
       "15                            NaN                    NaN   \n",
       "\n",
       "         Affentheater_affentanz  Affentheater_bonobo  Affentheater_chimpanzee  \\\n",
       "user_id                                                                         \n",
       "3                           NaN                  NaN                      NaN   \n",
       "10                          NaN                  NaN                      NaN   \n",
       "15                          NaN                  NaN                      NaN   \n",
       "\n",
       "         Affentheater_decision   ...     zwergenschloss_born to be alive  \\\n",
       "user_id                          ...                                       \n",
       "3                          NaN   ...                                 NaN   \n",
       "10                         NaN   ...                                 NaN   \n",
       "15                         NaN   ...                                 NaN   \n",
       "\n",
       "         zwergenschloss_ich habs wollen wissen  zwergenschloss_linie   \\\n",
       "user_id                                                                 \n",
       "3                                          NaN                    NaN   \n",
       "10                                         NaN                    NaN   \n",
       "15                                         NaN                    NaN   \n",
       "\n",
       "         zwergenschloss_magnesiapower  zwergenschloss_panic room  \\\n",
       "user_id                                                            \n",
       "3                                 NaN                        NaN   \n",
       "10                                NaN                        NaN   \n",
       "15                                NaN                        NaN   \n",
       "\n",
       "         zwergenschloss_starlight express  \\\n",
       "user_id                                     \n",
       "3                                     NaN   \n",
       "10                                    NaN   \n",
       "15                                    NaN   \n",
       "\n",
       "         zwergenschloss_uschi mach keinen quatsch  zwergenschloss_zentrifuge  \\\n",
       "user_id                                                                        \n",
       "3                                             NaN                        NaN   \n",
       "10                                            NaN                        NaN   \n",
       "15                                            NaN                        NaN   \n",
       "\n",
       "         group  user_id  \n",
       "user_id                  \n",
       "3            0        3  \n",
       "10           0       10  \n",
       "15           0       15  \n",
       "\n",
       "[3 rows x 7568 columns]"
      ]
     },
     "execution_count": 50,
     "metadata": {},
     "output_type": "execute_result"
    }
   ],
   "source": [
    "max_users = 70\n",
    "max_routes = 50\n",
    "\n",
    "# is this line messing up my user_id?\n",
    "clustered = pd.concat([user_route_ratings.reset_index(),\n",
    "                       pd.DataFrame({'group': predictions})], axis=1)\n",
    "# clustered = clustered.rename_axis('user_id')\n",
    "# clustered = pd.concat([user_route_ratings,\n",
    "#                        pd.DataFrame({'group': predictions})], axis=1)\n",
    "# clustered[clustered['group'].isnull()]\n",
    "# clustered['user_id'] = clustered.index\n",
    "clustered.head(3)\n",
    "clustered = clustered.set_index('user_id')\n",
    "clustered.head(3)\n",
    "clustered['user_id'] = clustered.index\n",
    "clustered.head(3)"
   ]
  },
  {
   "cell_type": "code",
   "execution_count": 51,
   "metadata": {
    "ExecuteTime": {
     "end_time": "2018-11-27T00:34:14.554344Z",
     "start_time": "2018-11-27T00:34:14.513862Z"
    }
   },
   "outputs": [
    {
     "data": {
      "text/html": [
       "<div>\n",
       "<style scoped>\n",
       "    .dataframe tbody tr th:only-of-type {\n",
       "        vertical-align: middle;\n",
       "    }\n",
       "\n",
       "    .dataframe tbody tr th {\n",
       "        vertical-align: top;\n",
       "    }\n",
       "\n",
       "    .dataframe thead th {\n",
       "        text-align: right;\n",
       "    }\n",
       "</style>\n",
       "<table border=\"1\" class=\"dataframe\">\n",
       "  <thead>\n",
       "    <tr style=\"text-align: right;\">\n",
       "      <th></th>\n",
       "      <th>AMPHITHEATER_angel dust</th>\n",
       "      <th>AMPHITHEATER_die dunkle seite</th>\n",
       "      <th>Affentheater_affenhitze</th>\n",
       "      <th>Affentheater_affenkante</th>\n",
       "      <th>Affentheater_affenplatte</th>\n",
       "      <th>Affentheater_affensex</th>\n",
       "      <th>Affentheater_affentanz</th>\n",
       "      <th>Affentheater_bonobo</th>\n",
       "      <th>Affentheater_chimpanzee</th>\n",
       "      <th>Affentheater_decision</th>\n",
       "      <th>...</th>\n",
       "      <th>zwergenschloss_born to be alive</th>\n",
       "      <th>zwergenschloss_ich habs wollen wissen</th>\n",
       "      <th>zwergenschloss_linie</th>\n",
       "      <th>zwergenschloss_magnesiapower</th>\n",
       "      <th>zwergenschloss_panic room</th>\n",
       "      <th>zwergenschloss_starlight express</th>\n",
       "      <th>zwergenschloss_uschi mach keinen quatsch</th>\n",
       "      <th>zwergenschloss_zentrifuge</th>\n",
       "      <th>group</th>\n",
       "      <th>user_id</th>\n",
       "    </tr>\n",
       "    <tr>\n",
       "      <th>user_id</th>\n",
       "      <th></th>\n",
       "      <th></th>\n",
       "      <th></th>\n",
       "      <th></th>\n",
       "      <th></th>\n",
       "      <th></th>\n",
       "      <th></th>\n",
       "      <th></th>\n",
       "      <th></th>\n",
       "      <th></th>\n",
       "      <th></th>\n",
       "      <th></th>\n",
       "      <th></th>\n",
       "      <th></th>\n",
       "      <th></th>\n",
       "      <th></th>\n",
       "      <th></th>\n",
       "      <th></th>\n",
       "      <th></th>\n",
       "      <th></th>\n",
       "      <th></th>\n",
       "    </tr>\n",
       "  </thead>\n",
       "  <tbody>\n",
       "  </tbody>\n",
       "</table>\n",
       "<p>0 rows × 7568 columns</p>\n",
       "</div>"
      ],
      "text/plain": [
       "Empty DataFrame\n",
       "Columns: [AMPHITHEATER_angel dust, AMPHITHEATER_die dunkle seite, Affentheater_affenhitze, Affentheater_affenkante, Affentheater_affenplatte, Affentheater_affensex, Affentheater_affentanz, Affentheater_bonobo, Affentheater_chimpanzee, Affentheater_decision, Affentheater_fiese sau, Affentheater_ganz schn affig, Affentheater_geffel, Affentheater_gib dem affen zucker, Affentheater_hypersupermegaturbotittenaffengeil, Affentheater_klammeraffe, Affentheater_klemmeraffe, Affentheater_louobba, Affentheater_makakke, Affentheater_nasenaffe, Affentheater_paviankante, Affentheater_schlaffer affe, Affentheater_schluchtenscheier, Ailsbachtaler Turm_ nr  schwertner fhrer  auflage, Ailsbachtaler Turm_beamtenseufzer, Ailsbachtaler Turm_freak, Ailsbachtaler Turm_italienisches reitturnier, Ailsbachtaler Turm_junge, Ailsbachtaler Turm_meins, Ailsbachtaler Turm_ponv, Ailsbachtaler Turm_rsi, Ailsbachtaler Turm_someday, Ailsbachtaler Turm_strong, Ailsbachtaler Turm_succi, Ailsbachtaler Turm_un emozione per sempre, Ailsbachtaler Turm_wellenreiter, Ailsbachtaler turm_wellenreiter, Algersdorfer Wand_alter pfeilerweg, Algersdorfer Wand_aufreier, Algersdorfer Wand_brennpunkt, Algersdorfer Wand_brennpunkt direkt, Algersdorfer Wand_brent spar, Algersdorfer Wand_dont know name, Algersdorfer Wand_dynamo, Algersdorfer Wand_dynamo algersdorf, Algersdorfer Wand_flora soft, Algersdorfer Wand_frevel, Algersdorfer Wand_geile zeit, Algersdorfer Wand_haasenhochzeit, Algersdorfer Wand_hhenkoller, Algersdorfer Wand_illusion, Algersdorfer Wand_limbus enterprise, Algersdorfer Wand_mururoa, Algersdorfer Wand_paul preu gedweg, Algersdorfer Wand_paulpreugedenkweg, Algersdorfer Wand_petite fleur, Algersdorfer Wand_pfeilerweg, Algersdorfer Wand_polyphem, Algersdorfer Wand_robontop, Algersdorfer Wand_spontan, Algersdorfer Wand_streiflicht, Algersdorfer wand_brennpunkt direkt, Algersdorfer wand_brent spar, Algersdorfer wand_dynamo, Almoser Wand_almosen, Almoser Wand_alter weg direkt, Almoser Wand_ascweg, Almoser Wand_brennesselplatte, Almoser Wand_helis idee, Almoser Wand_ijz, Almoser Wand_kante, Almoser Wand_lass aussi die sau, Almoser Wand_morgenstern, Almoser Wand_stachelbeerweg, Almoser wand_helis idee, Altbabawand_bamberger weg, Altbabawand_brchens wunderbare reise, Altbabawand_brchens wunderbare reise durch mittelbaba, Altbabawand_coburger weg, Altbabawand_didaktische jahresplanung, Altbabawand_eckenschnitt, Altbabawand_felsteuferla, Altbabawand_for you, Altbabawand_hosenscheier, Altbabawand_kurz  super, Altbabawand_kurz und super, Altbabawand_manche mgen das, Altbabawand_mike bergang tyson, Altbabawand_miniatur, Altbabawand_natz bramslinger, Altbabawand_nordlicht, Altbabawand_sptlese, Altbabawand_way of schwuchtel, Amerikanische Botschaft_achse des bsen, Amerikanische Botschaft_agent orange, Amerikanische Botschaft_bic mac, Amerikanische Botschaft_big mac, Amerikanische Botschaft_burger king, Amerikanische Botschaft_bushtrommel, Amerikanische Botschaft_caesars palace, ...]\n",
       "Index: []\n",
       "\n",
       "[0 rows x 7568 columns]"
      ]
     },
     "execution_count": 51,
     "metadata": {},
     "output_type": "execute_result"
    }
   ],
   "source": [
    "clustered[clustered['group'].isnull()]"
   ]
  },
  {
   "cell_type": "code",
   "execution_count": 52,
   "metadata": {
    "ExecuteTime": {
     "end_time": "2018-11-27T00:34:14.565204Z",
     "start_time": "2018-11-27T00:34:14.557069Z"
    }
   },
   "outputs": [
    {
     "data": {
      "text/plain": [
       "0     2775\n",
       "19     189\n",
       "4      150\n",
       "Name: group, dtype: int64"
      ]
     },
     "execution_count": 52,
     "metadata": {},
     "output_type": "execute_result"
    }
   ],
   "source": [
    "# Get a random cluster number with cluster size >= threshold\n",
    "threshold = 20\n",
    "group_counts = clustered['group'].value_counts()\n",
    "group_counts = group_counts[group_counts >= threshold]\n",
    "group_counts\n",
    "random_cluster_number = group_counts.sample(1).index[0]"
   ]
  },
  {
   "cell_type": "code",
   "execution_count": 53,
   "metadata": {
    "ExecuteTime": {
     "end_time": "2018-11-27T00:34:14.570141Z",
     "start_time": "2018-11-27T00:34:14.567879Z"
    }
   },
   "outputs": [],
   "source": [
    "# clustered.tail(20)"
   ]
  },
  {
   "cell_type": "code",
   "execution_count": 54,
   "metadata": {
    "ExecuteTime": {
     "end_time": "2018-11-27T00:34:20.842760Z",
     "start_time": "2018-11-27T00:34:14.572901Z"
    }
   },
   "outputs": [
    {
     "name": "stderr",
     "output_type": "stream",
     "text": [
      "/Users/dominik/anaconda3/lib/python3.6/site-packages/ipykernel_launcher.py:12: FutureWarning: '.reindex_axis' is deprecated and will be removed in a future version. Use '.reindex' instead.\n",
      "  if sys.path[0] == '':\n",
      "/Users/dominik/anaconda3/lib/python3.6/site-packages/ipykernel_launcher.py:13: FutureWarning: '.reindex_axis' is deprecated and will be removed in a future version. Use '.reindex' instead.\n",
      "  del sys.path[0]\n",
      "/Users/dominik/anaconda3/lib/python3.6/site-packages/matplotlib/cbook/deprecation.py:107: MatplotlibDeprecationWarning: Passing one of 'on', 'true', 'off', 'false' as a boolean is deprecated; use an actual boolean (True/False) instead.\n",
      "  warnings.warn(message, mplDeprecation, stacklevel=1)\n"
     ]
    },
    {
     "name": "stdout",
     "output_type": "stream",
     "text": [
      "cluster # 0\n",
      "# of users in cluster: 2775. # of users in plot: 70\n"
     ]
    },
    {
     "data": {
      "image/png": "[encoded data removed]",
      "text/plain": [
       "<Figure size 1080x288 with 2 Axes>"
      ]
     },
     "metadata": {
      "needs_background": "light"
     },
     "output_type": "display_data"
    },
    {
     "name": "stdout",
     "output_type": "stream",
     "text": [
      "cluster # 4\n",
      "# of users in cluster: 150. # of users in plot: 70\n"
     ]
    },
    {
     "data": {
      "image/png": "[encoded data removed]",
      "text/plain": [
       "<Figure size 1080x288 with 2 Axes>"
      ]
     },
     "metadata": {
      "needs_background": "light"
     },
     "output_type": "display_data"
    },
    {
     "name": "stdout",
     "output_type": "stream",
     "text": [
      "cluster # 16\n",
      "# of users in cluster: 19. # of users in plot: 19\n"
     ]
    },
    {
     "data": {
      "image/png": "[encoded data removed]",
      "text/plain": [
       "<Figure size 1080x288 with 2 Axes>"
      ]
     },
     "metadata": {
      "needs_background": "light"
     },
     "output_type": "display_data"
    },
    {
     "name": "stdout",
     "output_type": "stream",
     "text": [
      "cluster # 19\n",
      "# of users in cluster: 189. # of users in plot: 70\n"
     ]
    },
    {
     "data": {
      "image/png": "[encoded data removed]",
      "text/plain": [
       "<Figure size 1080x288 with 2 Axes>"
      ]
     },
     "metadata": {
      "needs_background": "light"
     },
     "output_type": "display_data"
    }
   ],
   "source": [
    "draw_route_clusters(clustered, max_users, max_routes)"
   ]
  },
  {
   "cell_type": "markdown",
   "metadata": {},
   "source": [
    "\n",
    "## Prediction\n",
    "Let's pick a cluster and a specific user and see what useful things this clustering will allow us to do.\n",
    "\n",
    "Let's first pick a cluster:"
   ]
  },
  {
   "cell_type": "code",
   "execution_count": 55,
   "metadata": {
    "ExecuteTime": {
     "end_time": "2018-11-27T00:34:20.848327Z",
     "start_time": "2018-11-27T00:34:20.845120Z"
    },
    "code_folding": []
   },
   "outputs": [],
   "source": [
    "def get_cluster(clustered, cluster_number):\n",
    "    \n",
    "#     cluster = clustered[clustered.group == cluster_number].drop(['user_id', 'group'], axis=1)\n",
    "    cluster = clustered[clustered.group == cluster_number].drop(['group'], axis=1)\n",
    "    cluster = cluster.set_index('user_id')\n",
    "    cluster = cluster.rename_axis('user_id')\n",
    "    \n",
    "    return cluster"
   ]
  },
  {
   "cell_type": "code",
   "execution_count": 56,
   "metadata": {
    "ExecuteTime": {
     "end_time": "2018-11-27T00:34:23.157623Z",
     "start_time": "2018-11-27T00:34:20.851246Z"
    }
   },
   "outputs": [
    {
     "data": {
      "image/png": "[encoded data removed]",
      "text/plain": [
       "<Figure size 1080x288 with 2 Axes>"
      ]
     },
     "metadata": {
      "needs_background": "light"
     },
     "output_type": "display_data"
    }
   ],
   "source": [
    "# TODO: Pick a cluster ID from the clusters above\n",
    "cluster_number = random_cluster_number\n",
    "\n",
    "# Let's filter to only see the region of the dataset with the most number of values \n",
    "n_users = 75\n",
    "n_routes = 300\n",
    "cluster = get_cluster(clustered, cluster_number)\n",
    "\n",
    "cluster = sort_by_rating_density(cluster, n_routes, n_users)\n",
    "draw_routes_heatmap(cluster, axis_labels=False)\n",
    "\n",
    "# set cluster back to original (because sort_by_rating_density() modifies cluster)\n",
    "cluster = get_cluster(clustered, cluster_number) "
   ]
  },
  {
   "cell_type": "code",
   "execution_count": 57,
   "metadata": {
    "ExecuteTime": {
     "end_time": "2018-11-27T00:34:23.164341Z",
     "start_time": "2018-11-27T00:34:23.160764Z"
    }
   },
   "outputs": [],
   "source": [
    "# cluster.fillna('').head()"
   ]
  },
  {
   "cell_type": "code",
   "execution_count": 58,
   "metadata": {
    "ExecuteTime": {
     "end_time": "2018-11-27T00:34:23.178850Z",
     "start_time": "2018-11-27T00:34:23.166940Z"
    }
   },
   "outputs": [
    {
     "data": {
      "text/plain": [
       "0.7777777777777778"
      ]
     },
     "execution_count": 58,
     "metadata": {},
     "output_type": "execute_result"
    }
   ],
   "source": [
    "route_name = 'Wolfsberger Grotte_panda'\n",
    "\n",
    "cluster[route_name].mean()"
   ]
  },
  {
   "cell_type": "code",
   "execution_count": 59,
   "metadata": {
    "ExecuteTime": {
     "end_time": "2018-11-27T00:34:23.188250Z",
     "start_time": "2018-11-27T00:34:23.182312Z"
    }
   },
   "outputs": [],
   "source": [
    "# cluster.mean().sort_values()"
   ]
  },
  {
   "cell_type": "code",
   "execution_count": 60,
   "metadata": {
    "ExecuteTime": {
     "end_time": "2018-11-27T00:34:23.197155Z",
     "start_time": "2018-11-27T00:34:23.192172Z"
    }
   },
   "outputs": [],
   "source": [
    "def cluster_membership(clustered, user_id):\n",
    "    '''given a clustered dataframe, returns the cluster number that user_id is a member of'''\n",
    "    \n",
    "    return clustered[clustered['user_id'] == user_id]['group'].iloc[0]"
   ]
  },
  {
   "cell_type": "code",
   "execution_count": 61,
   "metadata": {
    "ExecuteTime": {
     "end_time": "2018-11-27T00:34:23.207110Z",
     "start_time": "2018-11-27T00:34:23.199851Z"
    }
   },
   "outputs": [
    {
     "data": {
      "text/latex": [
       "\n",
       "Weighted Rating (WR) = $(\\frac{v}{v + m} \\cdot R) + (\\frac{m}{v + m} \\cdot C)$"
      ],
      "text/plain": [
       "<IPython.core.display.Latex object>"
      ]
     },
     "metadata": {},
     "output_type": "display_data"
    }
   ],
   "source": [
    "%%latex\n",
    "\n",
    "Weighted Rating (WR) = $(\\frac{v}{v + m} \\cdot R) + (\\frac{m}{v + m} \\cdot C)$"
   ]
  },
  {
   "cell_type": "markdown",
   "metadata": {
    "ExecuteTime": {
     "end_time": "2018-11-24T22:53:41.247684Z",
     "start_time": "2018-11-24T22:53:41.242855Z"
    }
   },
   "source": [
    "where\n",
    "- *v* is the number of ratings for that route\n",
    "- *m* is the minimum ratings required to be listed in the chart\n",
    "- *R* is the average rating of the route\n",
    "- *C* is the mean vote across the whole report"
   ]
  },
  {
   "cell_type": "code",
   "execution_count": 62,
   "metadata": {
    "ExecuteTime": {
     "end_time": "2018-11-27T00:34:23.214944Z",
     "start_time": "2018-11-27T00:34:23.210694Z"
    }
   },
   "outputs": [],
   "source": [
    "def weighted_rating(x):\n",
    "    v = x['rating_count']\n",
    "    R = x['rating_average']\n",
    "    return (v/(v+m) * R) + (m/(m+v) * C)"
   ]
  },
  {
   "cell_type": "code",
   "execution_count": 63,
   "metadata": {
    "ExecuteTime": {
     "end_time": "2018-11-27T00:34:23.222718Z",
     "start_time": "2018-11-27T00:34:23.218373Z"
    }
   },
   "outputs": [],
   "source": [
    "# Count ratings and calculate mean rating per route\n",
    "def calc_rating_avg_count(x):\n",
    "    d = {}\n",
    "    d['rating_count'] = x['rating'].count()\n",
    "    d['rating_average'] = x['rating'].mean()\n",
    "    return pd.Series(d, index=['rating_average', 'rating_count'])\n",
    "\n",
    "# X_train_ratings.groupby('route_id').apply(calc_rating_avg_count)\n",
    "\n",
    "# X_train_ratings.groupby()"
   ]
  },
  {
   "cell_type": "code",
   "execution_count": 64,
   "metadata": {
    "ExecuteTime": {
     "end_time": "2018-11-27T00:34:23.231239Z",
     "start_time": "2018-11-27T00:34:23.225984Z"
    }
   },
   "outputs": [],
   "source": [
    "def cluster_avg_count(cluster):\n",
    "    '''Given a cluster, calculate each route's avg rating and count of ratings. '''\n",
    "    \n",
    "    df = pd.DataFrame()\n",
    "    df['sector_route'] = cluster.columns\n",
    "\n",
    "    for i, row in df.iterrows():\n",
    "        rating_average = cluster[row['sector_route']].mean()\n",
    "        rating_count = cluster[row['sector_route']].count()\n",
    "        df.at[i,'rating_average'] = rating_average\n",
    "        df.at[i,'rating_count'] = rating_count\n",
    "        \n",
    "    return df\n",
    "\n",
    "# cluster_avg_count(cluster).head(3)"
   ]
  },
  {
   "cell_type": "code",
   "execution_count": 65,
   "metadata": {
    "ExecuteTime": {
     "end_time": "2018-11-27T00:34:23.245045Z",
     "start_time": "2018-11-27T00:34:23.234350Z"
    }
   },
   "outputs": [],
   "source": [
    "def top_n_routes_cluster(cluster, n=0):\n",
    "    '''Calculate weighted rating of all routes. Return top-n routes. If n==0, return all routes'''\n",
    "\n",
    "    percentile = 0.85\n",
    "\n",
    "    # get count and mean of ratings per route for this cluster\n",
    "    df_counts_average = cluster_avg_count(cluster)\n",
    "\n",
    "    C = df_counts_average['rating_average'].mean()\n",
    "    m = df_counts_average['rating_count'].quantile(percentile)\n",
    "\n",
    "    # Filter for routes that have ratings above threshold m\n",
    "    qualified = df_counts_average[(df_counts_average['rating_count'] >= m) & (\n",
    "        df_counts_average['rating_count'].notnull()) & (df_counts_average['rating_average'].notnull())]\n",
    "\n",
    "    # calculate weighted rating for each route\n",
    "    qualified['wr'] = qualified.apply(lambda x: (x['rating_count']/(x['rating_count']+m)\n",
    "                                                 * x['rating_average']) + (m/(m+x['rating_count']) * C), axis=1)\n",
    "\n",
    "    # Sort by rating\n",
    "    qualified = qualified.sort_values(\n",
    "        'wr', ascending=False) if n == 0 else qualified.sort_values('wr', ascending=False).head(n)\n",
    "\n",
    "    # Return the top n routes\n",
    "    return qualified\n",
    "\n",
    "\n",
    "def top_n_routes_user(clustered, user_id, n):\n",
    "    '''Return top n routes of a user'''\n",
    "\n",
    "    # get cluster number\n",
    "    cluster_number = cluster_membership(clustered, user_id)\n",
    "\n",
    "    # retrieve cluster by cluster number\n",
    "    cluster = get_cluster(clustered, cluster_number)\n",
    "\n",
    "    # retrieve top routes by cluster\n",
    "    df_top_routes_cluster = top_n_routes_cluster(cluster)\n",
    "\n",
    "    # subtract user's already climbed and rated routes from result\n",
    "    df_top_routes_cluster_without_user = df_top_routes_cluster.drop(\n",
    "        df_top_routes_cluster[df_top_routes_cluster['sector_route'].isin(cluster.loc[user_id].dropna().index)].index)\n",
    "\n",
    "    return df_top_routes_cluster_without_user.head(n)"
   ]
  },
  {
   "cell_type": "code",
   "execution_count": 66,
   "metadata": {
    "ExecuteTime": {
     "end_time": "2018-11-27T00:34:23.285149Z",
     "start_time": "2018-11-27T00:34:23.248532Z"
    }
   },
   "outputs": [
    {
     "data": {
      "text/html": [
       "<div>\n",
       "<style scoped>\n",
       "    .dataframe tbody tr th:only-of-type {\n",
       "        vertical-align: middle;\n",
       "    }\n",
       "\n",
       "    .dataframe tbody tr th {\n",
       "        vertical-align: top;\n",
       "    }\n",
       "\n",
       "    .dataframe thead th {\n",
       "        text-align: right;\n",
       "    }\n",
       "</style>\n",
       "<table border=\"1\" class=\"dataframe\">\n",
       "  <thead>\n",
       "    <tr style=\"text-align: right;\">\n",
       "      <th></th>\n",
       "      <th>AMPHITHEATER_angel dust</th>\n",
       "      <th>AMPHITHEATER_die dunkle seite</th>\n",
       "      <th>Affentheater_affenhitze</th>\n",
       "      <th>Affentheater_affenkante</th>\n",
       "      <th>Affentheater_affenplatte</th>\n",
       "      <th>Affentheater_affensex</th>\n",
       "      <th>Affentheater_affentanz</th>\n",
       "      <th>Affentheater_bonobo</th>\n",
       "      <th>Affentheater_chimpanzee</th>\n",
       "      <th>Affentheater_decision</th>\n",
       "      <th>...</th>\n",
       "      <th>zwergenschloss_born to be alive</th>\n",
       "      <th>zwergenschloss_ich habs wollen wissen</th>\n",
       "      <th>zwergenschloss_linie</th>\n",
       "      <th>zwergenschloss_magnesiapower</th>\n",
       "      <th>zwergenschloss_panic room</th>\n",
       "      <th>zwergenschloss_starlight express</th>\n",
       "      <th>zwergenschloss_uschi mach keinen quatsch</th>\n",
       "      <th>zwergenschloss_zentrifuge</th>\n",
       "      <th>group</th>\n",
       "      <th>user_id</th>\n",
       "    </tr>\n",
       "    <tr>\n",
       "      <th>user_id</th>\n",
       "      <th></th>\n",
       "      <th></th>\n",
       "      <th></th>\n",
       "      <th></th>\n",
       "      <th></th>\n",
       "      <th></th>\n",
       "      <th></th>\n",
       "      <th></th>\n",
       "      <th></th>\n",
       "      <th></th>\n",
       "      <th></th>\n",
       "      <th></th>\n",
       "      <th></th>\n",
       "      <th></th>\n",
       "      <th></th>\n",
       "      <th></th>\n",
       "      <th></th>\n",
       "      <th></th>\n",
       "      <th></th>\n",
       "      <th></th>\n",
       "      <th></th>\n",
       "    </tr>\n",
       "  </thead>\n",
       "  <tbody>\n",
       "    <tr>\n",
       "      <th>32</th>\n",
       "      <td>NaN</td>\n",
       "      <td>NaN</td>\n",
       "      <td>NaN</td>\n",
       "      <td>NaN</td>\n",
       "      <td>NaN</td>\n",
       "      <td>NaN</td>\n",
       "      <td>NaN</td>\n",
       "      <td>NaN</td>\n",
       "      <td>NaN</td>\n",
       "      <td>NaN</td>\n",
       "      <td>...</td>\n",
       "      <td>NaN</td>\n",
       "      <td>NaN</td>\n",
       "      <td>NaN</td>\n",
       "      <td>NaN</td>\n",
       "      <td>NaN</td>\n",
       "      <td>NaN</td>\n",
       "      <td>NaN</td>\n",
       "      <td>NaN</td>\n",
       "      <td>0</td>\n",
       "      <td>32</td>\n",
       "    </tr>\n",
       "  </tbody>\n",
       "</table>\n",
       "<p>1 rows × 7568 columns</p>\n",
       "</div>"
      ],
      "text/plain": [
       "         AMPHITHEATER_angel dust  AMPHITHEATER_die dunkle seite  \\\n",
       "user_id                                                           \n",
       "32                           NaN                            NaN   \n",
       "\n",
       "         Affentheater_affenhitze  Affentheater_affenkante  \\\n",
       "user_id                                                     \n",
       "32                           NaN                      NaN   \n",
       "\n",
       "         Affentheater_affenplatte  Affentheater_affensex  \\\n",
       "user_id                                                    \n",
       "32                            NaN                    NaN   \n",
       "\n",
       "         Affentheater_affentanz  Affentheater_bonobo  Affentheater_chimpanzee  \\\n",
       "user_id                                                                         \n",
       "32                          NaN                  NaN                      NaN   \n",
       "\n",
       "         Affentheater_decision   ...     zwergenschloss_born to be alive  \\\n",
       "user_id                          ...                                       \n",
       "32                         NaN   ...                                 NaN   \n",
       "\n",
       "         zwergenschloss_ich habs wollen wissen  zwergenschloss_linie   \\\n",
       "user_id                                                                 \n",
       "32                                         NaN                    NaN   \n",
       "\n",
       "         zwergenschloss_magnesiapower  zwergenschloss_panic room  \\\n",
       "user_id                                                            \n",
       "32                                NaN                        NaN   \n",
       "\n",
       "         zwergenschloss_starlight express  \\\n",
       "user_id                                     \n",
       "32                                    NaN   \n",
       "\n",
       "         zwergenschloss_uschi mach keinen quatsch  zwergenschloss_zentrifuge  \\\n",
       "user_id                                                                        \n",
       "32                                            NaN                        NaN   \n",
       "\n",
       "         group  user_id  \n",
       "user_id                  \n",
       "32           0       32  \n",
       "\n",
       "[1 rows x 7568 columns]"
      ]
     },
     "execution_count": 66,
     "metadata": {},
     "output_type": "execute_result"
    }
   ],
   "source": [
    "user_id = 32\n",
    "# user_id = 35939\n",
    "clustered[clustered['user_id'] == user_id]"
   ]
  },
  {
   "cell_type": "code",
   "execution_count": 67,
   "metadata": {
    "ExecuteTime": {
     "end_time": "2018-11-27T00:34:26.493615Z",
     "start_time": "2018-11-27T00:34:23.289248Z"
    }
   },
   "outputs": [
    {
     "data": {
      "text/plain": [
       "'cluster_number: 0'"
      ]
     },
     "execution_count": 67,
     "metadata": {},
     "output_type": "execute_result"
    },
    {
     "data": {
      "text/html": [
       "<div>\n",
       "<style scoped>\n",
       "    .dataframe tbody tr th:only-of-type {\n",
       "        vertical-align: middle;\n",
       "    }\n",
       "\n",
       "    .dataframe tbody tr th {\n",
       "        vertical-align: top;\n",
       "    }\n",
       "\n",
       "    .dataframe thead th {\n",
       "        text-align: right;\n",
       "    }\n",
       "</style>\n",
       "<table border=\"1\" class=\"dataframe\">\n",
       "  <thead>\n",
       "    <tr style=\"text-align: right;\">\n",
       "      <th></th>\n",
       "      <th>AMPHITHEATER_angel dust</th>\n",
       "      <th>AMPHITHEATER_die dunkle seite</th>\n",
       "      <th>Affentheater_affenhitze</th>\n",
       "      <th>Affentheater_affenkante</th>\n",
       "      <th>Affentheater_affenplatte</th>\n",
       "      <th>Affentheater_affensex</th>\n",
       "      <th>Affentheater_affentanz</th>\n",
       "      <th>Affentheater_bonobo</th>\n",
       "      <th>Affentheater_chimpanzee</th>\n",
       "      <th>Affentheater_decision</th>\n",
       "      <th>...</th>\n",
       "      <th>zimmerbergwände_knig ludwig superstar</th>\n",
       "      <th>zimmerbergwände_starfighter kandidatenweg</th>\n",
       "      <th>zwergenschloss_born to be alive</th>\n",
       "      <th>zwergenschloss_ich habs wollen wissen</th>\n",
       "      <th>zwergenschloss_linie</th>\n",
       "      <th>zwergenschloss_magnesiapower</th>\n",
       "      <th>zwergenschloss_panic room</th>\n",
       "      <th>zwergenschloss_starlight express</th>\n",
       "      <th>zwergenschloss_uschi mach keinen quatsch</th>\n",
       "      <th>zwergenschloss_zentrifuge</th>\n",
       "    </tr>\n",
       "    <tr>\n",
       "      <th>user_id</th>\n",
       "      <th></th>\n",
       "      <th></th>\n",
       "      <th></th>\n",
       "      <th></th>\n",
       "      <th></th>\n",
       "      <th></th>\n",
       "      <th></th>\n",
       "      <th></th>\n",
       "      <th></th>\n",
       "      <th></th>\n",
       "      <th></th>\n",
       "      <th></th>\n",
       "      <th></th>\n",
       "      <th></th>\n",
       "      <th></th>\n",
       "      <th></th>\n",
       "      <th></th>\n",
       "      <th></th>\n",
       "      <th></th>\n",
       "      <th></th>\n",
       "      <th></th>\n",
       "    </tr>\n",
       "  </thead>\n",
       "  <tbody>\n",
       "    <tr>\n",
       "      <th>3</th>\n",
       "      <td>NaN</td>\n",
       "      <td>NaN</td>\n",
       "      <td>NaN</td>\n",
       "      <td>NaN</td>\n",
       "      <td>NaN</td>\n",
       "      <td>NaN</td>\n",
       "      <td>NaN</td>\n",
       "      <td>NaN</td>\n",
       "      <td>NaN</td>\n",
       "      <td>NaN</td>\n",
       "      <td>...</td>\n",
       "      <td>NaN</td>\n",
       "      <td>NaN</td>\n",
       "      <td>NaN</td>\n",
       "      <td>NaN</td>\n",
       "      <td>NaN</td>\n",
       "      <td>NaN</td>\n",
       "      <td>NaN</td>\n",
       "      <td>NaN</td>\n",
       "      <td>NaN</td>\n",
       "      <td>NaN</td>\n",
       "    </tr>\n",
       "    <tr>\n",
       "      <th>10</th>\n",
       "      <td>NaN</td>\n",
       "      <td>NaN</td>\n",
       "      <td>NaN</td>\n",
       "      <td>NaN</td>\n",
       "      <td>NaN</td>\n",
       "      <td>NaN</td>\n",
       "      <td>NaN</td>\n",
       "      <td>NaN</td>\n",
       "      <td>NaN</td>\n",
       "      <td>NaN</td>\n",
       "      <td>...</td>\n",
       "      <td>NaN</td>\n",
       "      <td>NaN</td>\n",
       "      <td>NaN</td>\n",
       "      <td>NaN</td>\n",
       "      <td>NaN</td>\n",
       "      <td>NaN</td>\n",
       "      <td>NaN</td>\n",
       "      <td>NaN</td>\n",
       "      <td>NaN</td>\n",
       "      <td>NaN</td>\n",
       "    </tr>\n",
       "    <tr>\n",
       "      <th>15</th>\n",
       "      <td>NaN</td>\n",
       "      <td>NaN</td>\n",
       "      <td>NaN</td>\n",
       "      <td>NaN</td>\n",
       "      <td>NaN</td>\n",
       "      <td>NaN</td>\n",
       "      <td>NaN</td>\n",
       "      <td>NaN</td>\n",
       "      <td>NaN</td>\n",
       "      <td>NaN</td>\n",
       "      <td>...</td>\n",
       "      <td>NaN</td>\n",
       "      <td>NaN</td>\n",
       "      <td>NaN</td>\n",
       "      <td>NaN</td>\n",
       "      <td>NaN</td>\n",
       "      <td>NaN</td>\n",
       "      <td>NaN</td>\n",
       "      <td>NaN</td>\n",
       "      <td>NaN</td>\n",
       "      <td>NaN</td>\n",
       "    </tr>\n",
       "    <tr>\n",
       "      <th>18</th>\n",
       "      <td>NaN</td>\n",
       "      <td>NaN</td>\n",
       "      <td>NaN</td>\n",
       "      <td>NaN</td>\n",
       "      <td>NaN</td>\n",
       "      <td>NaN</td>\n",
       "      <td>NaN</td>\n",
       "      <td>NaN</td>\n",
       "      <td>NaN</td>\n",
       "      <td>NaN</td>\n",
       "      <td>...</td>\n",
       "      <td>NaN</td>\n",
       "      <td>NaN</td>\n",
       "      <td>NaN</td>\n",
       "      <td>NaN</td>\n",
       "      <td>NaN</td>\n",
       "      <td>NaN</td>\n",
       "      <td>NaN</td>\n",
       "      <td>NaN</td>\n",
       "      <td>NaN</td>\n",
       "      <td>NaN</td>\n",
       "    </tr>\n",
       "    <tr>\n",
       "      <th>32</th>\n",
       "      <td>NaN</td>\n",
       "      <td>NaN</td>\n",
       "      <td>NaN</td>\n",
       "      <td>NaN</td>\n",
       "      <td>NaN</td>\n",
       "      <td>NaN</td>\n",
       "      <td>NaN</td>\n",
       "      <td>NaN</td>\n",
       "      <td>NaN</td>\n",
       "      <td>NaN</td>\n",
       "      <td>...</td>\n",
       "      <td>NaN</td>\n",
       "      <td>NaN</td>\n",
       "      <td>NaN</td>\n",
       "      <td>NaN</td>\n",
       "      <td>NaN</td>\n",
       "      <td>NaN</td>\n",
       "      <td>NaN</td>\n",
       "      <td>NaN</td>\n",
       "      <td>NaN</td>\n",
       "      <td>NaN</td>\n",
       "    </tr>\n",
       "    <tr>\n",
       "      <th>38</th>\n",
       "      <td>NaN</td>\n",
       "      <td>NaN</td>\n",
       "      <td>NaN</td>\n",
       "      <td>NaN</td>\n",
       "      <td>NaN</td>\n",
       "      <td>NaN</td>\n",
       "      <td>NaN</td>\n",
       "      <td>NaN</td>\n",
       "      <td>NaN</td>\n",
       "      <td>NaN</td>\n",
       "      <td>...</td>\n",
       "      <td>NaN</td>\n",
       "      <td>NaN</td>\n",
       "      <td>NaN</td>\n",
       "      <td>NaN</td>\n",
       "      <td>NaN</td>\n",
       "      <td>NaN</td>\n",
       "      <td>NaN</td>\n",
       "      <td>NaN</td>\n",
       "      <td>NaN</td>\n",
       "      <td>NaN</td>\n",
       "    </tr>\n",
       "    <tr>\n",
       "      <th>49</th>\n",
       "      <td>NaN</td>\n",
       "      <td>NaN</td>\n",
       "      <td>NaN</td>\n",
       "      <td>NaN</td>\n",
       "      <td>NaN</td>\n",
       "      <td>NaN</td>\n",
       "      <td>NaN</td>\n",
       "      <td>NaN</td>\n",
       "      <td>NaN</td>\n",
       "      <td>NaN</td>\n",
       "      <td>...</td>\n",
       "      <td>NaN</td>\n",
       "      <td>NaN</td>\n",
       "      <td>NaN</td>\n",
       "      <td>NaN</td>\n",
       "      <td>NaN</td>\n",
       "      <td>NaN</td>\n",
       "      <td>NaN</td>\n",
       "      <td>NaN</td>\n",
       "      <td>NaN</td>\n",
       "      <td>NaN</td>\n",
       "    </tr>\n",
       "    <tr>\n",
       "      <th>78</th>\n",
       "      <td>NaN</td>\n",
       "      <td>NaN</td>\n",
       "      <td>NaN</td>\n",
       "      <td>NaN</td>\n",
       "      <td>NaN</td>\n",
       "      <td>NaN</td>\n",
       "      <td>NaN</td>\n",
       "      <td>NaN</td>\n",
       "      <td>NaN</td>\n",
       "      <td>NaN</td>\n",
       "      <td>...</td>\n",
       "      <td>NaN</td>\n",
       "      <td>NaN</td>\n",
       "      <td>NaN</td>\n",
       "      <td>NaN</td>\n",
       "      <td>NaN</td>\n",
       "      <td>NaN</td>\n",
       "      <td>NaN</td>\n",
       "      <td>NaN</td>\n",
       "      <td>NaN</td>\n",
       "      <td>NaN</td>\n",
       "    </tr>\n",
       "    <tr>\n",
       "      <th>88</th>\n",
       "      <td>NaN</td>\n",
       "      <td>NaN</td>\n",
       "      <td>NaN</td>\n",
       "      <td>NaN</td>\n",
       "      <td>NaN</td>\n",
       "      <td>NaN</td>\n",
       "      <td>NaN</td>\n",
       "      <td>NaN</td>\n",
       "      <td>NaN</td>\n",
       "      <td>NaN</td>\n",
       "      <td>...</td>\n",
       "      <td>NaN</td>\n",
       "      <td>NaN</td>\n",
       "      <td>NaN</td>\n",
       "      <td>NaN</td>\n",
       "      <td>NaN</td>\n",
       "      <td>NaN</td>\n",
       "      <td>NaN</td>\n",
       "      <td>NaN</td>\n",
       "      <td>NaN</td>\n",
       "      <td>NaN</td>\n",
       "    </tr>\n",
       "    <tr>\n",
       "      <th>118</th>\n",
       "      <td>NaN</td>\n",
       "      <td>NaN</td>\n",
       "      <td>NaN</td>\n",
       "      <td>NaN</td>\n",
       "      <td>NaN</td>\n",
       "      <td>NaN</td>\n",
       "      <td>NaN</td>\n",
       "      <td>NaN</td>\n",
       "      <td>NaN</td>\n",
       "      <td>NaN</td>\n",
       "      <td>...</td>\n",
       "      <td>NaN</td>\n",
       "      <td>NaN</td>\n",
       "      <td>NaN</td>\n",
       "      <td>NaN</td>\n",
       "      <td>NaN</td>\n",
       "      <td>NaN</td>\n",
       "      <td>NaN</td>\n",
       "      <td>NaN</td>\n",
       "      <td>NaN</td>\n",
       "      <td>NaN</td>\n",
       "    </tr>\n",
       "    <tr>\n",
       "      <th>128</th>\n",
       "      <td>NaN</td>\n",
       "      <td>NaN</td>\n",
       "      <td>NaN</td>\n",
       "      <td>NaN</td>\n",
       "      <td>NaN</td>\n",
       "      <td>NaN</td>\n",
       "      <td>NaN</td>\n",
       "      <td>NaN</td>\n",
       "      <td>NaN</td>\n",
       "      <td>NaN</td>\n",
       "      <td>...</td>\n",
       "      <td>NaN</td>\n",
       "      <td>NaN</td>\n",
       "      <td>NaN</td>\n",
       "      <td>NaN</td>\n",
       "      <td>NaN</td>\n",
       "      <td>NaN</td>\n",
       "      <td>NaN</td>\n",
       "      <td>NaN</td>\n",
       "      <td>NaN</td>\n",
       "      <td>NaN</td>\n",
       "    </tr>\n",
       "    <tr>\n",
       "      <th>145</th>\n",
       "      <td>NaN</td>\n",
       "      <td>NaN</td>\n",
       "      <td>NaN</td>\n",
       "      <td>NaN</td>\n",
       "      <td>NaN</td>\n",
       "      <td>NaN</td>\n",
       "      <td>NaN</td>\n",
       "      <td>NaN</td>\n",
       "      <td>NaN</td>\n",
       "      <td>NaN</td>\n",
       "      <td>...</td>\n",
       "      <td>NaN</td>\n",
       "      <td>NaN</td>\n",
       "      <td>NaN</td>\n",
       "      <td>NaN</td>\n",
       "      <td>NaN</td>\n",
       "      <td>NaN</td>\n",
       "      <td>NaN</td>\n",
       "      <td>NaN</td>\n",
       "      <td>NaN</td>\n",
       "      <td>NaN</td>\n",
       "    </tr>\n",
       "    <tr>\n",
       "      <th>149</th>\n",
       "      <td>NaN</td>\n",
       "      <td>NaN</td>\n",
       "      <td>NaN</td>\n",
       "      <td>NaN</td>\n",
       "      <td>NaN</td>\n",
       "      <td>NaN</td>\n",
       "      <td>NaN</td>\n",
       "      <td>NaN</td>\n",
       "      <td>NaN</td>\n",
       "      <td>NaN</td>\n",
       "      <td>...</td>\n",
       "      <td>NaN</td>\n",
       "      <td>NaN</td>\n",
       "      <td>NaN</td>\n",
       "      <td>NaN</td>\n",
       "      <td>NaN</td>\n",
       "      <td>NaN</td>\n",
       "      <td>NaN</td>\n",
       "      <td>NaN</td>\n",
       "      <td>NaN</td>\n",
       "      <td>NaN</td>\n",
       "    </tr>\n",
       "    <tr>\n",
       "      <th>155</th>\n",
       "      <td>NaN</td>\n",
       "      <td>NaN</td>\n",
       "      <td>NaN</td>\n",
       "      <td>NaN</td>\n",
       "      <td>NaN</td>\n",
       "      <td>NaN</td>\n",
       "      <td>NaN</td>\n",
       "      <td>NaN</td>\n",
       "      <td>NaN</td>\n",
       "      <td>NaN</td>\n",
       "      <td>...</td>\n",
       "      <td>NaN</td>\n",
       "      <td>NaN</td>\n",
       "      <td>NaN</td>\n",
       "      <td>NaN</td>\n",
       "      <td>NaN</td>\n",
       "      <td>NaN</td>\n",
       "      <td>NaN</td>\n",
       "      <td>NaN</td>\n",
       "      <td>NaN</td>\n",
       "      <td>NaN</td>\n",
       "    </tr>\n",
       "    <tr>\n",
       "      <th>206</th>\n",
       "      <td>NaN</td>\n",
       "      <td>NaN</td>\n",
       "      <td>NaN</td>\n",
       "      <td>NaN</td>\n",
       "      <td>NaN</td>\n",
       "      <td>NaN</td>\n",
       "      <td>NaN</td>\n",
       "      <td>NaN</td>\n",
       "      <td>NaN</td>\n",
       "      <td>NaN</td>\n",
       "      <td>...</td>\n",
       "      <td>NaN</td>\n",
       "      <td>NaN</td>\n",
       "      <td>NaN</td>\n",
       "      <td>NaN</td>\n",
       "      <td>NaN</td>\n",
       "      <td>NaN</td>\n",
       "      <td>NaN</td>\n",
       "      <td>NaN</td>\n",
       "      <td>NaN</td>\n",
       "      <td>NaN</td>\n",
       "    </tr>\n",
       "    <tr>\n",
       "      <th>212</th>\n",
       "      <td>NaN</td>\n",
       "      <td>NaN</td>\n",
       "      <td>NaN</td>\n",
       "      <td>NaN</td>\n",
       "      <td>NaN</td>\n",
       "      <td>NaN</td>\n",
       "      <td>NaN</td>\n",
       "      <td>NaN</td>\n",
       "      <td>NaN</td>\n",
       "      <td>NaN</td>\n",
       "      <td>...</td>\n",
       "      <td>NaN</td>\n",
       "      <td>NaN</td>\n",
       "      <td>NaN</td>\n",
       "      <td>NaN</td>\n",
       "      <td>NaN</td>\n",
       "      <td>NaN</td>\n",
       "      <td>NaN</td>\n",
       "      <td>NaN</td>\n",
       "      <td>NaN</td>\n",
       "      <td>NaN</td>\n",
       "    </tr>\n",
       "    <tr>\n",
       "      <th>228</th>\n",
       "      <td>NaN</td>\n",
       "      <td>NaN</td>\n",
       "      <td>NaN</td>\n",
       "      <td>NaN</td>\n",
       "      <td>NaN</td>\n",
       "      <td>NaN</td>\n",
       "      <td>NaN</td>\n",
       "      <td>NaN</td>\n",
       "      <td>NaN</td>\n",
       "      <td>NaN</td>\n",
       "      <td>...</td>\n",
       "      <td>NaN</td>\n",
       "      <td>NaN</td>\n",
       "      <td>NaN</td>\n",
       "      <td>NaN</td>\n",
       "      <td>NaN</td>\n",
       "      <td>NaN</td>\n",
       "      <td>NaN</td>\n",
       "      <td>NaN</td>\n",
       "      <td>NaN</td>\n",
       "      <td>NaN</td>\n",
       "    </tr>\n",
       "    <tr>\n",
       "      <th>240</th>\n",
       "      <td>NaN</td>\n",
       "      <td>NaN</td>\n",
       "      <td>NaN</td>\n",
       "      <td>NaN</td>\n",
       "      <td>NaN</td>\n",
       "      <td>NaN</td>\n",
       "      <td>NaN</td>\n",
       "      <td>NaN</td>\n",
       "      <td>NaN</td>\n",
       "      <td>NaN</td>\n",
       "      <td>...</td>\n",
       "      <td>NaN</td>\n",
       "      <td>NaN</td>\n",
       "      <td>NaN</td>\n",
       "      <td>NaN</td>\n",
       "      <td>NaN</td>\n",
       "      <td>NaN</td>\n",
       "      <td>NaN</td>\n",
       "      <td>NaN</td>\n",
       "      <td>NaN</td>\n",
       "      <td>NaN</td>\n",
       "    </tr>\n",
       "    <tr>\n",
       "      <th>249</th>\n",
       "      <td>NaN</td>\n",
       "      <td>NaN</td>\n",
       "      <td>NaN</td>\n",
       "      <td>NaN</td>\n",
       "      <td>NaN</td>\n",
       "      <td>NaN</td>\n",
       "      <td>NaN</td>\n",
       "      <td>NaN</td>\n",
       "      <td>NaN</td>\n",
       "      <td>NaN</td>\n",
       "      <td>...</td>\n",
       "      <td>NaN</td>\n",
       "      <td>NaN</td>\n",
       "      <td>NaN</td>\n",
       "      <td>NaN</td>\n",
       "      <td>NaN</td>\n",
       "      <td>NaN</td>\n",
       "      <td>NaN</td>\n",
       "      <td>NaN</td>\n",
       "      <td>NaN</td>\n",
       "      <td>NaN</td>\n",
       "    </tr>\n",
       "    <tr>\n",
       "      <th>276</th>\n",
       "      <td>NaN</td>\n",
       "      <td>NaN</"
      ],
      "text/plain": [
       "         AMPHITHEATER_angel dust  AMPHITHEATER_die dunkle seite  \\\n",
       "user_id                                                           \n",
       "3                            NaN                            NaN   \n",
       "10                           NaN                            NaN   \n",
       "15                           NaN                            NaN   \n",
       "18                           NaN                            NaN   \n",
       "32                           NaN                            NaN   \n",
       "38                           NaN                            NaN   \n",
       "49                           NaN                            NaN   \n",
       "78                           NaN                            NaN   \n",
       "88                           NaN                            NaN   \n",
       "118                          NaN                            NaN   \n",
       "128                          NaN                            NaN   \n",
       "145                          NaN                            NaN   \n",
       "149                          NaN                            NaN   \n",
       "155                          NaN                            NaN   \n",
       "206                          NaN                            NaN   \n",
       "212                          NaN                            NaN   \n",
       "228                          NaN                            NaN   \n",
       "240                          NaN                            NaN   \n",
       "249                          NaN                            NaN   \n",
       "276                          NaN                            NaN   \n",
       "296                          NaN                            NaN   \n",
       "384                          NaN                            NaN   \n",
       "394                          NaN                            NaN   \n",
       "404                          NaN                            NaN   \n",
       "436                          NaN                            NaN   \n",
       "442                          NaN                            NaN   \n",
       "459                          NaN                            NaN   \n",
       "476                          NaN                            NaN   \n",
       "486                          NaN                            NaN   \n",
       "489                          NaN                            NaN   \n",
       "...                          ...                            ...   \n",
       "65977                        NaN                            NaN   \n",
       "66074                        NaN                            NaN   \n",
       "66183                        NaN                            NaN   \n",
       "66197                        NaN                            NaN   \n",
       "66214                        NaN                            NaN   \n",
       "66230                        NaN                            NaN   \n",
       "66248                        NaN                            NaN   \n",
       "66250                        NaN                            NaN   \n",
       "66261                        NaN                            NaN   \n",
       "66300                        NaN                            NaN   \n",
       "66307                        NaN                            NaN   \n",
       "66309                        NaN                            NaN   \n",
       "66311                        NaN                            NaN   \n",
       "66313                        NaN                            NaN   \n",
       "66321                        NaN                            NaN   \n",
       "66351                        NaN                            NaN   \n",
       "66377                        NaN                            NaN   \n",
       "66466                        NaN                            NaN   \n",
       "66470                        NaN                            NaN   \n",
       "66522                        NaN                            NaN   \n",
       "66562                        NaN                            NaN   \n",
       "66724                        NaN                            NaN   \n",
       "66738                        NaN                            NaN   \n",
       "66740                        NaN                            NaN   \n",
       "66742                        NaN                            NaN   \n",
       "66801                        NaN                            NaN   \n",
       "66804                        NaN                            NaN   \n",
       "66842                        NaN                            NaN   \n",
       "66943                        NaN                            NaN   \n",
       "66965                        NaN                            NaN   \n",
       "\n",
       "         Affentheater_affenhitze  Affentheater_affenkante  \\\n",
       "user_id                                                     \n",
       "3                            NaN                      NaN   \n",
       "10                           NaN                      NaN   \n",
       "15                           NaN                      NaN   \n",
       "18                           NaN                      NaN   \n",
       "32                           NaN                      NaN   \n",
       "38                           NaN                      NaN   \n",
       "49                           NaN                      NaN   \n",
       "78                           NaN                      NaN   \n",
       "88                           NaN                      NaN   \n",
       "118                          NaN                      NaN   \n",
       "128                          NaN                      NaN   \n",
       "145                          NaN                      NaN   \n",
       "149                          NaN                      NaN   \n",
       "155                          NaN                      NaN   \n",
       "206                          NaN                      NaN   \n",
       "212                          NaN                      NaN   \n",
       "228                          NaN                      NaN   \n",
       "240                          NaN                      NaN   \n",
       "249                          NaN                      NaN   \n",
       "276                          NaN                      NaN   \n",
       "296                          NaN                      NaN   \n",
       "384                          NaN                      NaN   \n",
       "394                          NaN                      NaN   \n",
       "404                          NaN                      NaN   \n",
       "436                          NaN                      NaN   \n",
       "442                          NaN                      NaN   \n",
       "459                          NaN                      NaN   \n",
       "476                          NaN                      NaN   \n",
       "486                          NaN                      NaN   \n",
       "489                          NaN                      NaN   \n",
       "...                          ...                      ...   \n",
       "65977                        NaN                      NaN   \n",
       "66074                        NaN                      NaN   \n",
       "66183                        NaN                      NaN   \n",
       "66197                        NaN                      NaN   \n",
       "66214                        NaN                      NaN   \n",
       "66230                        NaN                      NaN   \n",
       "66248                        NaN                      NaN   \n",
       "66250                        NaN                      NaN   \n",
       "66261                        NaN                      NaN   \n",
       "66300                        NaN                      NaN   \n",
       "66307                        NaN                      NaN   \n",
       "66309                        NaN                      NaN   \n",
       "66311                        NaN                      NaN   \n",
       "66313                        NaN                      NaN   \n",
       "66321                        NaN                      NaN   \n",
       "66351                        NaN                      NaN   \n",
       "66377                        NaN                      NaN   \n",
       "66466                        NaN                      NaN   \n",
       "66470                        NaN                      NaN   \n",
       "66522                        NaN                      NaN   \n",
       "66562                        NaN                      NaN   \n",
       "66724                        NaN                      NaN   \n",
       "66738                        NaN                      NaN   \n",
       "66740                        NaN                      NaN   \n",
       "66742                        NaN                      NaN   \n",
       "66801                        NaN                      NaN   \n",
       "66804                        NaN                      NaN   \n",
       "66842                        NaN                      NaN   \n",
       "66943                        NaN                      NaN   \n",
       "66965                        NaN                      NaN   \n",
       "\n",
       "         Affentheater_affenplatte  Affentheater_affensex  \\\n",
       "user_id                                                    \n",
       "3                             NaN                    NaN   \n",
       "10                            NaN                    NaN   \n",
       "15                            NaN                    NaN   \n",
       "18                            NaN                    NaN   \n",
       "32                            NaN                    NaN   \n",
       "38                            NaN                    NaN   \n",
       "49                            NaN                    NaN   \n",
       "78                            NaN                    NaN   \n",
       "88                            NaN                    NaN   \n",
       "118                           NaN                    NaN   \n",
       "128                           NaN                    NaN   \n",
       "145                           NaN                    NaN   \n",
       "149                           NaN                    NaN   \n",
       "155                           NaN                    NaN   \n",
       "206                           NaN                    NaN   \n",
       "212                           NaN                    NaN   \n",
       "228                           NaN                    NaN   \n",
       "240                           NaN                    NaN   \n",
       "249                           NaN                    NaN   \n",
       "276                           NaN                    NaN   \n",
       "296                           NaN                    NaN   \n",
       "384                           NaN                    NaN   \n",
       "394                           NaN                    NaN   \n",
       "404                           NaN                    NaN   \n",
       "436                           NaN                    NaN   \n",
       "442                           NaN                    NaN   \n",
       "459                           NaN                    NaN   \n",
       "476                           NaN                    NaN   \n",
       "486                           NaN                    NaN   \n",
       "489                           NaN                    Na"
      ]
     },
     "execution_count": 67,
     "metadata": {},
     "output_type": "execute_result"
    },
    {
     "data": {
      "text/html": [
       "<b>limit_output extension: Maximum message size of 10000 exceeded with 46866 characters</b>"
      ]
     },
     "metadata": {},
     "output_type": "display_data"
    }
   ],
   "source": [
    "user_id = 32\n",
    "# user_id = 35939\n",
    "\n",
    "cluster_number = cluster_membership(clustered, user_id)\n",
    "f'cluster_number: {cluster_number}'\n",
    "cluster = get_cluster(clustered, cluster_number)\n",
    "cluster\n",
    "\n",
    "top_n = top_n_routes_cluster(cluster)\n",
    "top_n.shape\n",
    "# top_n.head(5)\n",
    "# top_n['sector_route'].isin(cluster.loc[18].dropna().index)\n",
    "# cluster.index\n",
    "top_n_without_user = top_n.drop(\n",
    "    top_n[top_n['sector_route'].isin(cluster.loc[user_id].dropna().index)].index)\n",
    "# top_n_without_user.head(5)\n",
    "top_n_without_user.shape"
   ]
  },
  {
   "cell_type": "code",
   "execution_count": 68,
   "metadata": {
    "ExecuteTime": {
     "end_time": "2018-11-27T00:34:27.107408Z",
     "start_time": "2018-11-27T00:34:26.495510Z"
    }
   },
   "outputs": [
    {
     "data": {
      "text/html": [
       "<div>\n",
       "<style scoped>\n",
       "    .dataframe tbody tr th:only-of-type {\n",
       "        vertical-align: middle;\n",
       "    }\n",
       "\n",
       "    .dataframe tbody tr th {\n",
       "        vertical-align: top;\n",
       "    }\n",
       "\n",
       "    .dataframe thead th {\n",
       "        text-align: right;\n",
       "    }\n",
       "</style>\n",
       "<table border=\"1\" class=\"dataframe\">\n",
       "  <thead>\n",
       "    <tr style=\"text-align: right;\">\n",
       "      <th></th>\n",
       "      <th>AMPHITHEATER_angel dust</th>\n",
       "      <th>AMPHITHEATER_die dunkle seite</th>\n",
       "      <th>Affentheater_affenhitze</th>\n",
       "      <th>Affentheater_affenkante</th>\n",
       "      <th>Affentheater_affenplatte</th>\n",
       "      <th>Affentheater_affensex</th>\n",
       "      <th>Affentheater_affentanz</th>\n",
       "      <th>Affentheater_bonobo</th>\n",
       "      <th>Affentheater_chimpanzee</th>\n",
       "      <th>Affentheater_decision</th>\n",
       "      <th>...</th>\n",
       "      <th>zimmerbergwände_knig ludwig superstar</th>\n",
       "      <th>zimmerbergwände_starfighter kandidatenweg</th>\n",
       "      <th>zwergenschloss_born to be alive</th>\n",
       "      <th>zwergenschloss_ich habs wollen wissen</th>\n",
       "      <th>zwergenschloss_linie</th>\n",
       "      <th>zwergenschloss_magnesiapower</th>\n",
       "      <th>zwergenschloss_panic room</th>\n",
       "      <th>zwergenschloss_starlight express</th>\n",
       "      <th>zwergenschloss_uschi mach keinen quatsch</th>\n",
       "      <th>zwergenschloss_zentrifuge</th>\n",
       "    </tr>\n",
       "    <tr>\n",
       "      <th>user_id</th>\n",
       "      <th></th>\n",
       "      <th></th>\n",
       "      <th></th>\n",
       "      <th></th>\n",
       "      <th></th>\n",
       "      <th></th>\n",
       "      <th></th>\n",
       "      <th></th>\n",
       "      <th></th>\n",
       "      <th></th>\n",
       "      <th></th>\n",
       "      <th></th>\n",
       "      <th></th>\n",
       "      <th></th>\n",
       "      <th></th>\n",
       "      <th></th>\n",
       "      <th></th>\n",
       "      <th></th>\n",
       "      <th></th>\n",
       "      <th></th>\n",
       "      <th></th>\n",
       "    </tr>\n",
       "  </thead>\n",
       "  <tbody>\n",
       "    <tr>\n",
       "      <th>66562</th>\n",
       "      <td>NaN</td>\n",
       "      <td>NaN</td>\n",
       "      <td>NaN</td>\n",
       "      <td>NaN</td>\n",
       "      <td>NaN</td>\n",
       "      <td>NaN</td>\n",
       "      <td>NaN</td>\n",
       "      <td>NaN</td>\n",
       "      <td>NaN</td>\n",
       "      <td>NaN</td>\n",
       "      <td>...</td>\n",
       "      <td>NaN</td>\n",
       "      <td>NaN</td>\n",
       "      <td>NaN</td>\n",
       "      <td>NaN</td>\n",
       "      <td>NaN</td>\n",
       "      <td>NaN</td>\n",
       "      <td>NaN</td>\n",
       "      <td>NaN</td>\n",
       "      <td>NaN</td>\n",
       "      <td>NaN</td>\n",
       "    </tr>\n",
       "    <tr>\n",
       "      <th>66724</th>\n",
       "      <td>NaN</td>\n",
       "      <td>NaN</td>\n",
       "      <td>NaN</td>\n",
       "      <td>NaN</td>\n",
       "      <td>NaN</td>\n",
       "      <td>NaN</td>\n",
       "      <td>NaN</td>\n",
       "      <td>NaN</td>\n",
       "      <td>NaN</td>\n",
       "      <td>NaN</td>\n",
       "      <td>...</td>\n",
       "      <td>NaN</td>\n",
       "      <td>NaN</td>\n",
       "      <td>NaN</td>\n",
       "      <td>NaN</td>\n",
       "      <td>NaN</td>\n",
       "      <td>NaN</td>\n",
       "      <td>NaN</td>\n",
       "      <td>NaN</td>\n",
       "      <td>NaN</td>\n",
       "      <td>NaN</td>\n",
       "    </tr>\n",
       "    <tr>\n",
       "      <th>66738</th>\n",
       "      <td>NaN</td>\n",
       "      <td>NaN</td>\n",
       "      <td>NaN</td>\n",
       "      <td>NaN</td>\n",
       "      <td>NaN</td>\n",
       "      <td>NaN</td>\n",
       "      <td>NaN</td>\n",
       "      <td>NaN</td>\n",
       "      <td>NaN</td>\n",
       "      <td>NaN</td>\n",
       "      <td>...</td>\n",
       "      <td>NaN</td>\n",
       "      <td>NaN</td>\n",
       "      <td>NaN</td>\n",
       "      <td>NaN</td>\n",
       "      <td>NaN</td>\n",
       "      <td>NaN</td>\n",
       "      <td>NaN</td>\n",
       "      <td>NaN</td>\n",
       "      <td>NaN</td>\n",
       "      <td>NaN</td>\n",
       "    </tr>\n",
       "    <tr>\n",
       "      <th>66740</th>\n",
       "      <td>NaN</td>\n",
       "      <td>NaN</td>\n",
       "      <td>NaN</td>\n",
       "      <td>NaN</td>\n",
       "      <td>NaN</td>\n",
       "      <td>NaN</td>\n",
       "      <td>NaN</td>\n",
       "      <td>NaN</td>\n",
       "      <td>NaN</td>\n",
       "      <td>NaN</td>\n",
       "      <td>...</td>\n",
       "      <td>NaN</td>\n",
       "      <td>NaN</td>\n",
       "      <td>NaN</td>\n",
       "      <td>NaN</td>\n",
       "      <td>NaN</td>\n",
       "      <td>NaN</td>\n",
       "      <td>NaN</td>\n",
       "      <td>NaN</td>\n",
       "      <td>NaN</td>\n",
       "      <td>NaN</td>\n",
       "    </tr>\n",
       "    <tr>\n",
       "      <th>66742</th>\n",
       "      <td>NaN</td>\n",
       "      <td>NaN</td>\n",
       "      <td>NaN</td>\n",
       "      <td>NaN</td>\n",
       "      <td>NaN</td>\n",
       "      <td>NaN</td>\n",
       "      <td>NaN</td>\n",
       "      <td>NaN</td>\n",
       "      <td>NaN</td>\n",
       "      <td>NaN</td>\n",
       "      <td>...</td>\n",
       "      <td>NaN</td>\n",
       "      <td>NaN</td>\n",
       "      <td>NaN</td>\n",
       "      <td>NaN</td>\n",
       "      <td>NaN</td>\n",
       "      <td>NaN</td>\n",
       "      <td>NaN</td>\n",
       "      <td>NaN</td>\n",
       "      <td>NaN</td>\n",
       "      <td>NaN</td>\n",
       "    </tr>\n",
       "    <tr>\n",
       "      <th>66801</th>\n",
       "      <td>NaN</td>\n",
       "      <td>NaN</td>\n",
       "      <td>NaN</td>\n",
       "      <td>NaN</td>\n",
       "      <td>NaN</td>\n",
       "      <td>NaN</td>\n",
       "      <td>NaN</td>\n",
       "      <td>NaN</td>\n",
       "      <td>NaN</td>\n",
       "      <td>NaN</td>\n",
       "      <td>...</td>\n",
       "      <td>NaN</td>\n",
       "      <td>NaN</td>\n",
       "      <td>NaN</td>\n",
       "      <td>NaN</td>\n",
       "      <td>NaN</td>\n",
       "      <td>NaN</td>\n",
       "      <td>NaN</td>\n",
       "      <td>NaN</td>\n",
       "      <td>NaN</td>\n",
       "      <td>NaN</td>\n",
       "    </tr>\n",
       "    <tr>\n",
       "      <th>66804</th>\n",
       "      <td>NaN</td>\n",
       "      <td>NaN</td>\n",
       "      <td>NaN</td>\n",
       "      <td>NaN</td>\n",
       "      <td>NaN</td>\n",
       "      <td>NaN</td>\n",
       "      <td>NaN</td>\n",
       "      <td>NaN</td>\n",
       "      <td>NaN</td>\n",
       "      <td>NaN</td>\n",
       "      <td>...</td>\n",
       "      <td>NaN</td>\n",
       "      <td>NaN</td>\n",
       "      <td>NaN</td>\n",
       "      <td>NaN</td>\n",
       "      <td>NaN</td>\n",
       "      <td>NaN</td>\n",
       "      <td>NaN</td>\n",
       "      <td>NaN</td>\n",
       "      <td>NaN</td>\n",
       "      <td>NaN</td>\n",
       "    </tr>\n",
       "    <tr>\n",
       "      <th>66842</th>\n",
       "      <td>NaN</td>\n",
       "      <td>NaN</td>\n",
       "      <td>NaN</td>\n",
       "      <td>NaN</td>\n",
       "      <td>NaN</td>\n",
       "      <td>NaN</td>\n",
       "      <td>NaN</td>\n",
       "      <td>NaN</td>\n",
       "      <td>NaN</td>\n",
       "      <td>NaN</td>\n",
       "      <td>...</td>\n",
       "      <td>NaN</td>\n",
       "      <td>NaN</td>\n",
       "      <td>NaN</td>\n",
       "      <td>NaN</td>\n",
       "      <td>NaN</td>\n",
       "      <td>NaN</td>\n",
       "      <td>NaN</td>\n",
       "      <td>NaN</td>\n",
       "      <td>NaN</td>\n",
       "      <td>NaN</td>\n",
       "    </tr>\n",
       "    <tr>\n",
       "      <th>66943</th>\n",
       "      <td>NaN</td>\n",
       "      <td>NaN</td>\n",
       "      <td>NaN</td>\n",
       "      <td>NaN</td>\n",
       "      <td>NaN</td>\n",
       "      <td>NaN</td>\n",
       "      <td>NaN</td>\n",
       "      <td>NaN</td>\n",
       "      <td>NaN</td>\n",
       "      <td>NaN</td>\n",
       "      <td>...</td>\n",
       "      <td>NaN</td>\n",
       "      <td>NaN</td>\n",
       "      <td>NaN</td>\n",
       "      <td>NaN</td>\n",
       "      <td>NaN</td>\n",
       "      <td>NaN</td>\n",
       "      <td>NaN</td>\n",
       "      <td>NaN</td>\n",
       "      <td>NaN</td>\n",
       "      <td>NaN</td>\n",
       "    </tr>\n",
       "    <tr>\n",
       "      <th>66965</th>\n",
       "      <td>NaN</td>\n",
       "      <td>NaN</td>\n",
       "      <td>NaN</td>\n",
       "      <td>NaN</td>\n",
       "      <td>NaN</td>\n",
       "      <td>NaN</td>\n",
       "      <td>NaN</td>\n",
       "      <td>NaN</td>\n",
       "      <td>NaN</td>\n",
       "      <td>NaN</td>\n",
       "      <td>...</td>\n",
       "      <td>NaN</td>\n",
       "      <td>NaN</td>\n",
       "      <td>NaN</td>\n",
       "      <td>NaN</td>\n",
       "      <td>NaN</td>\n",
       "      <td>NaN</td>\n",
       "      <td>NaN</td>\n",
       "      <td>NaN</td>\n",
       "      <td>NaN</td>\n",
       "      <td>NaN</td>\n",
       "    </tr>\n",
       "  </tbody>\n",
       "</table>\n",
       "<p>10 rows × 7566 columns</p>\n",
       "</div>"
      ],
      "text/plain": [
       "         AMPHITHEATER_angel dust  AMPHITHEATER_die dunkle seite  \\\n",
       "user_id                                                           \n",
       "66562                        NaN                            NaN   \n",
       "66724                        NaN                            NaN   \n",
       "66738                        NaN                            NaN   \n",
       "66740                        NaN                            NaN   \n",
       "66742                        NaN                            NaN   \n",
       "66801                        NaN                            NaN   \n",
       "66804                        NaN                            NaN   \n",
       "66842                        NaN                            NaN   \n",
       "66943                        NaN                            NaN   \n",
       "66965                        NaN                            NaN   \n",
       "\n",
       "         Affentheater_affenhitze  Affentheater_affenkante  \\\n",
       "user_id                                                     \n",
       "66562                        NaN                      NaN   \n",
       "66724                        NaN                      NaN   \n",
       "66738                        NaN                      NaN   \n",
       "66740                        NaN                      NaN   \n",
       "66742                        NaN                      NaN   \n",
       "66801                        NaN                      NaN   \n",
       "66804                        NaN                      NaN   \n",
       "66842                        NaN                      NaN   \n",
       "66943                        NaN                      NaN   \n",
       "66965                        NaN                      NaN   \n",
       "\n",
       "         Affentheater_affenplatte  Affentheater_affensex  \\\n",
       "user_id                                                    \n",
       "66562                         NaN                    NaN   \n",
       "66724                         NaN                    NaN   \n",
       "66738                         NaN                    NaN   \n",
       "66740                         NaN                    NaN   \n",
       "66742                         NaN                    NaN   \n",
       "66801                         NaN                    NaN   \n",
       "66804                         NaN                    NaN   \n",
       "66842                         NaN                    NaN   \n",
       "66943                         NaN                    NaN   \n",
       "66965                         NaN                    NaN   \n",
       "\n",
       "         Affentheater_affentanz  Affentheater_bonobo  Affentheater_chimpanzee  \\\n",
       "user_id                                                                         \n",
       "66562                       NaN                  NaN                      NaN   \n",
       "66724                       NaN                  NaN                      NaN   \n",
       "66738                       NaN                  NaN                      NaN   \n",
       "66740                       NaN                  NaN                      NaN   \n",
       "66742                       NaN                  NaN                      NaN   \n",
       "66801                       NaN                  NaN                      NaN   \n",
       "66804                       NaN                  NaN                      NaN   \n",
       "66842                       NaN                  NaN                      NaN   \n",
       "66943                       NaN                  NaN                      NaN   \n",
       "66965                       NaN                  NaN                      NaN   \n",
       "\n",
       "         Affentheater_decision            ...              \\\n",
       "user_id                                   ...               \n",
       "66562                      NaN            ...               \n",
       "66724                      NaN            ...               \n",
       "66738                      NaN            ...               \n",
       "66740                      NaN            ...               \n",
       "66742                      NaN            ...               \n",
       "66801                      NaN            ...               \n",
       "66804                      NaN            ...               \n",
       "66842                      NaN            ...               \n",
       "66943                      NaN            ...               \n",
       "66965                      NaN            ...               \n",
       "\n",
       "         zimmerbergwände_knig ludwig superstar  \\\n",
       "user_id                                          \n",
       "66562                                      NaN   \n",
       "66724                                      NaN   \n",
       "66738                                      NaN   \n",
       "66740                                      NaN   \n",
       "66742                                      NaN   \n",
       "66801                                      NaN   \n",
       "66804                                      NaN   \n",
       "66842                                      NaN   \n",
       "66943                                      NaN   \n",
       "66965                                      NaN   \n",
       "\n",
       "         zimmerbergwände_starfighter kandidatenweg  \\\n",
       "user_id                                              \n",
       "66562                                          NaN   \n",
       "66724                                          NaN   \n",
       "66738                                          NaN   \n",
       "66740                                          NaN   \n",
       "66742                                          NaN   \n",
       "66801                                          NaN   \n",
       "66804                                          NaN   \n",
       "66842                                          NaN   \n",
       "66943                                          NaN   \n",
       "66965                                          NaN   \n",
       "\n",
       "         zwergenschloss_born to be alive  \\\n",
       "user_id                                    \n",
       "66562                                NaN   \n",
       "66724                                NaN   \n",
       "66738                                NaN   \n",
       "66740                                NaN   \n",
       "66742                                NaN   \n",
       "66801                                NaN   \n",
       "66804                                NaN   \n",
       "66842                                NaN   \n",
       "66943                                NaN   \n",
       "66965                                NaN   \n",
       "\n",
       "         zwergenschloss_ich habs wollen wissen  zwergenschloss_linie   \\\n",
       "user_id                                                                 \n",
       "66562                                      NaN                    NaN   \n",
       "66724                                      NaN                    NaN   \n",
       "66738                                      NaN                    NaN   \n",
       "66740                                      NaN                    NaN   \n",
       "66742                                      NaN                    NaN   \n",
       "66801                                      NaN                    NaN   \n",
       "66804                                      NaN                    NaN   \n",
       "66842                                      NaN                    NaN   \n",
       "66943                                      NaN                    NaN   \n",
       "66965                                      NaN                    NaN   \n",
       "\n",
       "         zwergenschloss_magnesiapower  zwergenschloss_panic room  \\\n",
       "user_id                                                            \n",
       "66562                             NaN                        NaN   \n",
       "66724                             NaN                        NaN   \n",
       "66738                             NaN                        NaN   \n",
       "66740                             NaN                        NaN   \n",
       "66742                             NaN                        NaN   \n",
       "66801                             NaN                        NaN   \n",
       "66804                             NaN                        NaN   \n",
       "66842                             NaN                        NaN   \n",
       "66943                             NaN                        NaN   \n",
       "66965                             NaN                        NaN   \n",
       "\n",
       "         zwergenschloss_starlight express  \\\n",
       "user_id                                     \n",
       "66562                                 NaN   \n",
       "66724                                 NaN   \n",
       "66738                                 NaN   \n",
       "66740                                 NaN   \n",
       "66742                                 NaN   \n",
       "66801                                 NaN   \n",
       "66804                                 NaN   \n",
       "66842                                 NaN   \n",
       "66943                                 NaN   \n",
       "66965                                 NaN   \n",
       "\n",
       "         zwergenschloss_uschi mach keinen quatsch  zwergenschloss_zentrifuge  \n",
       "user_id                                                                       \n",
       "66562                                         NaN                        NaN  \n",
       "66724                                         NaN                        NaN  \n",
       "66738                                         NaN                        NaN  \n",
       "66740                                         NaN                        NaN  \n",
       "66742                                         NaN                        NaN  \n",
       "66801                                         NaN                        NaN  \n",
       "66804                                         NaN                        NaN  \n",
       "66842                                         NaN                        NaN  \n",
       "66943                                         NaN                        NaN  \n",
       "66965                                         NaN                        NaN  \n",
       "\n",
       "[10 rows x 7566 columns]"
      ]
     },
     "execution_count": 68,
     "metadata": {},
     "output_type": "execute_result"
    }
   ],
   "source": [
    "cluster = get_cluster(clustered, random_cluster_number)\n",
    "cluster.tail(10)"
   ]
  },
  {
   "cell_type": "code",
   "execution_count": 69,
   "metadata": {
    "ExecuteTime": {
     "end_time": "2018-11-27T00:34:29.700564Z",
     "start_time": "2018-11-27T00:34:27.110300Z"
    },
    "pixiedust": {
     "displayParams": {}
    }
   },
   "outputs": [
    {
     "data": {
      "text/plain": [
       "'Top 10 Cluster'"
      ]
     },
     "execution_count": 69,
     "metadata": {},
     "output_type": "execute_result"
    },
    {
     "name": "stderr",
     "output_type": "stream",
     "text": [
      "/Users/dominik/anaconda3/lib/python3.6/site-packages/ipykernel_launcher.py:18: SettingWithCopyWarning: \n",
      "A value is trying to be set on a copy of a slice from a DataFrame.\n",
      "Try using .loc[row_indexer,col_indexer] = value instead\n",
      "\n",
      "See the caveats in the documentation: http://pandas.pydata.org/pandas-docs/stable/indexing.html#indexing-view-versus-copy\n"
     ]
    },
    {
     "data": {
      "text/html": [
       "<div>\n",
       "<style scoped>\n",
       "    .dataframe tbody tr th:only-of-type {\n",
       "        vertical-align: middle;\n",
       "    }\n",
       "\n",
       "    .dataframe tbody tr th {\n",
       "        vertical-align: top;\n",
       "    }\n",
       "\n",
       "    .dataframe thead th {\n",
       "        text-align: right;\n",
       "    }\n",
       "</style>\n",
       "<table border=\"1\" class=\"dataframe\">\n",
       "  <thead>\n",
       "    <tr style=\"text-align: right;\">\n",
       "      <th></th>\n",
       "      <th>sector_route</th>\n",
       "      <th>rating_average</th>\n",
       "      <th>rating_count</th>\n",
       "      <th>wr</th>\n",
       "    </tr>\n",
       "  </thead>\n",
       "  <tbody>\n",
       "    <tr>\n",
       "      <th>626</th>\n",
       "      <td>Bärenschlucht_herkules</td>\n",
       "      <td>1.592593</td>\n",
       "      <td>108.0</td>\n",
       "      <td>1.520534</td>\n",
       "    </tr>\n",
       "    <tr>\n",
       "      <th>4779</th>\n",
       "      <td>Roter Fels_schaumschlger</td>\n",
       "      <td>1.550000</td>\n",
       "      <td>60.0</td>\n",
       "      <td>1.432088</td>\n",
       "    </tr>\n",
       "    <tr>\n",
       "      <th>1123</th>\n",
       "      <td>Eldorado_ekel</td>\n",
       "      <td>1.493827</td>\n",
       "      <td>81.0</td>\n",
       "      <td>1.408786</td>\n",
       "    </tr>\n",
       "    <tr>\n",
       "      <th>2446</th>\n",
       "      <td>Hintere Stadelhofener Wände_woodcocks in time</td>\n",
       "      <td>1.750000</td>\n",
       "      <td>16.0</td>\n",
       "      <td>1.349249</td>\n",
       "    </tr>\n",
       "    <tr>\n",
       "      <th>4494</th>\n",
       "      <td>Richard Wagner Fels_fight gravity</td>\n",
       "      <td>1.374233</td>\n",
       "      <td>163.0</td>\n",
       "      <td>1.335567</td>\n",
       "    </tr>\n",
       "    <tr>\n",
       "      <th>4146</th>\n",
       "      <td>Obere Schlossbergwände_monstermagnet</td>\n",
       "      <td>2.000000</td>\n",
       "      <td>8.0</td>\n",
       "      <td>1.273874</td>\n",
       "    </tr>\n",
       "    <tr>\n",
       "      <th>3065</th>\n",
       "      <td>Krottenseer Turm_chasin the trane</td>\n",
       "      <td>1.308824</td>\n",
       "      <td>136.0</td>\n",
       "      <td>1.266542</td>\n",
       "    </tr>\n",
       "    <tr>\n",
       "      <th>2445</th>\n",
       "      <td>Hintere Stadelhofener Wände_strahlentod</td>\n",
       "      <td>1.555556</td>\n",
       "      <td>18.0</td>\n",
       "      <td>1.245461</td>\n",
       "    </tr>\n",
       "    <tr>\n",
       "      <th>4098</th>\n",
       "      <td>Obere Gößweinsteiner Wände_sautanz</td>\n",
       "      <td>1.338983</td>\n",
       "      <td>59.0</td>\n",
       "      <td>1.244507</td>\n",
       "    </tr>\n",
       "    <tr>\n",
       "      <th>7150</th>\n",
       "      <td>Zwergenschloss_plan b</td>\n",
       "      <td>1.406250</td>\n",
       "      <td>32.0</td>\n",
       "      <td>1.234550</td>\n",
       "    </tr>\n",
       "    <tr>\n",
       "      <th>7154</th>\n",
       "      <td>Zwergenschloss_ronin</td>\n",
       "      <td>1.727273</td>\n",
       "      <td>11.0</td>\n",
       "      <td>1.230631</td>\n",
       "    </tr>\n",
       "    <tr>\n",
       "      <th>652</th>\n",
       "      <td>Bärenschlucht_skywalk</td>\n",
       "      <td>1.727273</td>\n",
       "      <td>11.0</td>\n",
       "      <td>1.230631</td>\n",
       "    </tr>\n",
       "    <tr>\n",
       "      <th>3686</th>\n",
       "      <td>Maximilianswand_free will</td>\n",
       "      <td>1.666667</td>\n",
       "      <td>12.0</td>\n",
       "      <td>1.219099</td>\n",
       "    </tr>\n",
       "    <tr>\n",
       "      <th>6552</th>\n",
       "      <td>Waldkopf_slimline</td>\n",
       "      <td>1.291667</td>\n",
       "      <td>72.0</td>\n",
       "      <td>1.217275</td>\n",
       "    </tr>\n",
       "    <tr>\n",
       "      <th>214</th>\n",
       "      <td>Ankatalwand_computerspiele</td>\n",
       "      <td>1.261905</td>\n",
       "      <td>84.0</td>\n",
       "      <td>1.199804</td>\n",
       "    </tr>\n",
       "    <tr>\n",
       "      <th>4767</th>\n",
       "      <td>Roter Fels_luftikus</td>\n",
       "      <td>1.366667</td>\n",
       "      <td>30.0</td>\n",
       "      <td>1.194263</td>\n",
       "    </tr>\n",
       "    <tr>\n",
       "      <th>4732</th>\n",
       "      <td>Roter Fels_bella addizione</td>\n",
       "      <td>1.450000</td>\n",
       "      <td>20.0</td>\n",
       "      <td>1.192214</td>\n",
       "    </tr>\n",
       "    <tr>\n",
       "      <th>4023</th>\n",
       "      <td>Neumühle_witchcraft</td>\n",
       "      <td>1.280702</td>\n",
       "      <td>57.0</td>\n",
       "      <td>1.190492</td>\n",
       "    </tr>\n",
       "    <tr>\n",
       "      <th>654</th>\n",
       "      <td>Bärenschlucht_subway</td>\n",
       "      <td>1.375000</td>\n",
       "      <td>24.0</td>\n",
       "      <td>1.168187</td>\n",
       "    </tr>\n",
       "    <tr>\n",
       "      <th>519</th>\n",
       "      <td>Breitenstein_das spiel ist aus</td>\n",
       "      <td>1.500000</td>\n",
       "      <td>14.0</td>\n",
       "      <td>1.153727</td>\n",
       "    </tr>\n",
       "    <tr>\n",
       "      <th>3239</th>\n",
       "      <td>Langer Berg Wände_referendarsteig</td>\n",
       "      <td>1.466667</td>\n",
       "      <td>15.0</td>\n",
       "      <td>1.147043</td>\n",
       "    </tr>\n",
       "    <tr>\n",
       "      <th>1140</th>\n",
       "      <td>Elfenwelt_direkter elfenfick</td>\n",
       "      <td>1.347826</td>\n",
       "      <td>23.0</td>\n",
       "      <td>1.141354</td>\n",
       "    </tr>\n",
       "    <tr>\n",
       "      <th>2993</th>\n",
       "      <td>Klagemauer_hurrikan</td>\n",
       "      <td>1.307692</td>\n",
       "      <td>26.0</td>\n",
       "      <td>1.128882</td>\n",
       "    </tr>\n",
       "    <tr>\n",
       "      <th>539</th>\n",
       "      <td>Breitenstein_zur schnen aussicht</td>\n",
       "      <td>1.545455</td>\n",
       "      <td>11.0</td>\n",
       "      <td>1.125368</td>\n",
       "    </tr>\n",
       "    <tr>\n",
       "      <th>4148</th>\n",
       "      <td>Obere Schlossbergwände_out of berlin</td>\n",
       "      <td>1.220930</td>\n",
       "      <td>43.0</td>\n",
       "      <td>1.115333</td>\n",
       "    </tr>\n",
       "  </tbody>\n",
       "</table>\n",
       "</div>"
      ],
      "text/plain": [
       "                                       sector_route  rating_average  \\\n",
       "626                          Bärenschlucht_herkules        1.592593   \n",
       "4779                       Roter Fels_schaumschlger        1.550000   \n",
       "1123                                  Eldorado_ekel        1.493827   \n",
       "2446  Hintere Stadelhofener Wände_woodcocks in time        1.750000   \n",
       "4494              Richard Wagner Fels_fight gravity        1.374233   \n",
       "4146           Obere Schlossbergwände_monstermagnet        2.000000   \n",
       "3065              Krottenseer Turm_chasin the trane        1.308824   \n",
       "2445        Hintere Stadelhofener Wände_strahlentod        1.555556   \n",
       "4098             Obere Gößweinsteiner Wände_sautanz        1.338983   \n",
       "7150                          Zwergenschloss_plan b        1.406250   \n",
       "7154                           Zwergenschloss_ronin        1.727273   \n",
       "652                           Bärenschlucht_skywalk        1.727273   \n",
       "3686                      Maximilianswand_free will        1.666667   \n",
       "6552                              Waldkopf_slimline        1.291667   \n",
       "214                      Ankatalwand_computerspiele        1.261905   \n",
       "4767                            Roter Fels_luftikus        1.366667   \n",
       "4732                     Roter Fels_bella addizione        1.450000   \n",
       "4023                            Neumühle_witchcraft        1.280702   \n",
       "654                            Bärenschlucht_subway        1.375000   \n",
       "519                  Breitenstein_das spiel ist aus        1.500000   \n",
       "3239              Langer Berg Wände_referendarsteig        1.466667   \n",
       "1140                   Elfenwelt_direkter elfenfick        1.347826   \n",
       "2993                            Klagemauer_hurrikan        1.307692   \n",
       "539                Breitenstein_zur schnen aussicht        1.545455   \n",
       "4148           Obere Schlossbergwände_out of berlin        1.220930   \n",
       "\n",
       "      rating_count        wr  \n",
       "626          108.0  1.520534  \n",
       "4779          60.0  1.432088  \n",
       "1123          81.0  1.408786  \n",
       "2446          16.0  1.349249  \n",
       "4494         163.0  1.335567  \n",
       "4146           8.0  1.273874  \n",
       "3065         136.0  1.266542  \n",
       "2445          18.0  1.245461  \n",
       "4098          59.0  1.244507  \n",
       "7150          32.0  1.234550  \n",
       "7154          11.0  1.230631  \n",
       "652           11.0  1.230631  \n",
       "3686          12.0  1.219099  \n",
       "6552          72.0  1.217275  \n",
       "214           84.0  1.199804  \n",
       "4767          30.0  1.194263  \n",
       "4732          20.0  1.192214  \n",
       "4023          57.0  1.190492  \n",
       "654           24.0  1.168187  \n",
       "519           14.0  1.153727  \n",
       "3239          15.0  1.147043  \n",
       "1140          23.0  1.141354  \n",
       "2993          26.0  1.128882  \n",
       "539           11.0  1.125368  \n",
       "4148          43.0  1.115333  "
      ]
     },
     "execution_count": 69,
     "metadata": {},
     "output_type": "execute_result"
    }
   ],
   "source": [
    "f'Top 10 Cluster'\n",
    "top_n_routes_cluster(cluster, 25)"
   ]
  },
  {
   "cell_type": "code",
   "execution_count": null,
   "metadata": {},
   "outputs": [],
   "source": []
  },
  {
   "cell_type": "code",
   "execution_count": 71,
   "metadata": {
    "ExecuteTime": {
     "end_time": "2018-11-27T00:36:31.678244Z",
     "start_time": "2018-11-27T00:36:18.192731Z"
    },
    "pixiedust": {
     "displayParams": {}
    }
   },
   "outputs": [
    {
     "data": {
      "text/plain": [
       "'user_id: 3 is member of cluster number: 0'"
      ]
     },
     "execution_count": 71,
     "metadata": {},
     "output_type": "execute_result"
    },
    {
     "name": "stderr",
     "output_type": "stream",
     "text": [
      "/Users/dominik/anaconda3/lib/python3.6/site-packages/ipykernel_launcher.py:18: SettingWithCopyWarning: \n",
      "A value is trying to be set on a copy of a slice from a DataFrame.\n",
      "Try using .loc[row_indexer,col_indexer] = value instead\n",
      "\n",
      "See the caveats in the documentation: http://pandas.pydata.org/pandas-docs/stable/indexing.html#indexing-view-versus-copy\n"
     ]
    },
    {
     "data": {
      "text/html": [
       "<div>\n",
       "<style scoped>\n",
       "    .dataframe tbody tr th:only-of-type {\n",
       "        vertical-align: middle;\n",
       "    }\n",
       "\n",
       "    .dataframe tbody tr th {\n",
       "        vertical-align: top;\n",
       "    }\n",
       "\n",
       "    .dataframe thead th {\n",
       "        text-align: right;\n",
       "    }\n",
       "</style>\n",
       "<table border=\"1\" class=\"dataframe\">\n",
       "  <thead>\n",
       "    <tr style=\"text-align: right;\">\n",
       "      <th></th>\n",
       "      <th>sector_route</th>\n",
       "      <th>rating_average</th>\n",
       "      <th>rating_count</th>\n",
       "      <th>wr</th>\n",
       "    </tr>\n",
       "  </thead>\n",
       "  <tbody>\n",
       "    <tr>\n",
       "      <th>626</th>\n",
       "      <td>Bärenschlucht_herkules</td>\n",
       "      <td>1.592593</td>\n",
       "      <td>108.0</td>\n",
       "      <td>1.520534</td>\n",
       "    </tr>\n",
       "    <tr>\n",
       "      <th>4779</th>\n",
       "      <td>Roter Fels_schaumschlger</td>\n",
       "      <td>1.550000</td>\n",
       "      <td>60.0</td>\n",
       "      <td>1.432088</td>\n",
       "    </tr>\n",
       "    <tr>\n",
       "      <th>1123</th>\n",
       "      <td>Eldorado_ekel</td>\n",
       "      <td>1.493827</td>\n",
       "      <td>81.0</td>\n",
       "      <td>1.408786</td>\n",
       "    </tr>\n",
       "    <tr>\n",
       "      <th>2446</th>\n",
       "      <td>Hintere Stadelhofener Wände_woodcocks in time</td>\n",
       "      <td>1.750000</td>\n",
       "      <td>16.0</td>\n",
       "      <td>1.349249</td>\n",
       "    </tr>\n",
       "    <tr>\n",
       "      <th>4146</th>\n",
       "      <td>Obere Schlossbergwände_monstermagnet</td>\n",
       "      <td>2.000000</td>\n",
       "      <td>8.0</td>\n",
       "      <td>1.273874</td>\n",
       "    </tr>\n",
       "  </tbody>\n",
       "</table>\n",
       "</div>"
      ],
      "text/plain": [
       "                                       sector_route  rating_average  \\\n",
       "626                          Bärenschlucht_herkules        1.592593   \n",
       "4779                       Roter Fels_schaumschlger        1.550000   \n",
       "1123                                  Eldorado_ekel        1.493827   \n",
       "2446  Hintere Stadelhofener Wände_woodcocks in time        1.750000   \n",
       "4146           Obere Schlossbergwände_monstermagnet        2.000000   \n",
       "\n",
       "      rating_count        wr  \n",
       "626          108.0  1.520534  \n",
       "4779          60.0  1.432088  \n",
       "1123          81.0  1.408786  \n",
       "2446          16.0  1.349249  \n",
       "4146           8.0  1.273874  "
      ]
     },
     "execution_count": 71,
     "metadata": {},
     "output_type": "execute_result"
    },
    {
     "data": {
      "text/plain": [
       "''"
      ]
     },
     "execution_count": 71,
     "metadata": {},
     "output_type": "execute_result"
    },
    {
     "data": {
      "text/plain": [
       "'user_id: 32 is member of cluster number: 0'"
      ]
     },
     "execution_count": 71,
     "metadata": {},
     "output_type": "execute_result"
    },
    {
     "data": {
      "text/html": [
       "<div>\n",
       "<style scoped>\n",
       "    .dataframe tbody tr th:only-of-type {\n",
       "        vertical-align: middle;\n",
       "    }\n",
       "\n",
       "    .dataframe tbody tr th {\n",
       "        vertical-align: top;\n",
       "    }\n",
       "\n",
       "    .dataframe thead th {\n",
       "        text-align: right;\n",
       "    }\n",
       "</style>\n",
       "<table border=\"1\" class=\"dataframe\">\n",
       "  <thead>\n",
       "    <tr style=\"text-align: right;\">\n",
       "      <th></th>\n",
       "      <th>sector_route</th>\n",
       "      <th>rating_average</th>\n",
       "      <th>rating_count</th>\n",
       "      <th>wr</th>\n",
       "    </tr>\n",
       "  </thead>\n",
       "  <tbody>\n",
       "    <tr>\n",
       "      <th>4779</th>\n",
       "      <td>Roter Fels_schaumschlger</td>\n",
       "      <td>1.550000</td>\n",
       "      <td>60.0</td>\n",
       "      <td>1.432088</td>\n",
       "    </tr>\n",
       "    <tr>\n",
       "      <th>1123</th>\n",
       "      <td>Eldorado_ekel</td>\n",
       "      <td>1.493827</td>\n",
       "      <td>81.0</td>\n",
       "      <td>1.408786</td>\n",
       "    </tr>\n",
       "    <tr>\n",
       "      <th>2446</th>\n",
       "      <td>Hintere Stadelhofener Wände_woodcocks in time</td>\n",
       "      <td>1.750000</td>\n",
       "      <td>16.0</td>\n",
       "      <td>1.349249</td>\n",
       "    </tr>\n",
       "    <tr>\n",
       "      <th>4494</th>\n",
       "      <td>Richard Wagner Fels_fight gravity</td>\n",
       "      <td>1.374233</td>\n",
       "      <td>163.0</td>\n",
       "      <td>1.335567</td>\n",
       "    </tr>\n",
       "    <tr>\n",
       "      <th>4146</th>\n",
       "      <td>Obere Schlossbergwände_monstermagnet</td>\n",
       "      <td>2.000000</td>\n",
       "      <td>8.0</td>\n",
       "      <td>1.273874</td>\n",
       "    </tr>\n",
       "  </tbody>\n",
       "</table>\n",
       "</div>"
      ],
      "text/plain": [
       "                                       sector_route  rating_average  \\\n",
       "4779                       Roter Fels_schaumschlger        1.550000   \n",
       "1123                                  Eldorado_ekel        1.493827   \n",
       "2446  Hintere Stadelhofener Wände_woodcocks in time        1.750000   \n",
       "4494              Richard Wagner Fels_fight gravity        1.374233   \n",
       "4146           Obere Schlossbergwände_monstermagnet        2.000000   \n",
       "\n",
       "      rating_count        wr  \n",
       "4779          60.0  1.432088  \n",
       "1123          81.0  1.408786  \n",
       "2446          16.0  1.349249  \n",
       "4494         163.0  1.335567  \n",
       "4146           8.0  1.273874  "
      ]
     },
     "execution_count": 71,
     "metadata": {},
     "output_type": "execute_result"
    },
    {
     "data": {
      "text/plain": [
       "''"
      ]
     },
     "execution_count": 71,
     "metadata": {},
     "output_type": "execute_result"
    },
    {
     "data": {
      "text/plain": [
       "'user_id: 493 is member of cluster number: 16'"
      ]
     },
     "execution_count": 71,
     "metadata": {},
     "output_type": "execute_result"
    },
    {
     "data": {
      "text/html": [
       "<div>\n",
       "<style scoped>\n",
       "    .dataframe tbody tr th:only-of-type {\n",
       "        vertical-align: middle;\n",
       "    }\n",
       "\n",
       "    .dataframe tbody tr th {\n",
       "        vertical-align: top;\n",
       "    }\n",
       "\n",
       "    .dataframe thead th {\n",
       "        text-align: right;\n",
       "    }\n",
       "</style>\n",
       "<table border=\"1\" class=\"dataframe\">\n",
       "  <thead>\n",
       "    <tr style=\"text-align: right;\">\n",
       "      <th></th>\n",
       "      <th>sector_route</th>\n",
       "      <th>rating_average</th>\n",
       "      <th>rating_count</th>\n",
       "      <th>wr</th>\n",
       "    </tr>\n",
       "  </thead>\n",
       "  <tbody>\n",
       "    <tr>\n",
       "      <th>4777</th>\n",
       "      <td>Roter Fels_ringe der idioten</td>\n",
       "      <td>3.000000</td>\n",
       "      <td>5.0</td>\n",
       "      <td>2.500934</td>\n",
       "    </tr>\n",
       "    <tr>\n",
       "      <th>3143</th>\n",
       "      <td>Kühlochfels_ab geht die post</td>\n",
       "      <td>2.857143</td>\n",
       "      <td>7.0</td>\n",
       "      <td>2.500726</td>\n",
       "    </tr>\n",
       "    <tr>\n",
       "      <th>39</th>\n",
       "      <td>Algersdorfer Wand_brennpunkt</td>\n",
       "      <td>2.777778</td>\n",
       "      <td>9.0</td>\n",
       "      <td>2.500594</td>\n",
       "    </tr>\n",
       "    <tr>\n",
       "      <th>454</th>\n",
       "      <td>Bleisteine_offenbarung</td>\n",
       "      <td>2.750000</td>\n",
       "      <td>8.0</td>\n",
       "      <td>2.450654</td>\n",
       "    </tr>\n",
       "    <tr>\n",
       "      <th>284</th>\n",
       "      <td>Bandstein_herbstmanver</td>\n",
       "      <td>2.833333</td>\n",
       "      <td>6.0</td>\n",
       "      <td>2.438317</td>\n",
       "    </tr>\n",
       "  </tbody>\n",
       "</table>\n",
       "</div>"
      ],
      "text/plain": [
       "                      sector_route  rating_average  rating_count        wr\n",
       "4777  Roter Fels_ringe der idioten        3.000000           5.0  2.500934\n",
       "3143  Kühlochfels_ab geht die post        2.857143           7.0  2.500726\n",
       "39    Algersdorfer Wand_brennpunkt        2.777778           9.0  2.500594\n",
       "454         Bleisteine_offenbarung        2.750000           8.0  2.450654\n",
       "284         Bandstein_herbstmanver        2.833333           6.0  2.438317"
      ]
     },
     "execution_count": 71,
     "metadata": {},
     "output_type": "execute_result"
    },
    {
     "data": {
      "text/plain": [
       "''"
      ]
     },
     "execution_count": 71,
     "metadata": {},
     "output_type": "execute_result"
    },
    {
     "data": {
      "text/plain": [
       "'user_id: 35939 is member of cluster number: 0'"
      ]
     },
     "execution_count": 71,
     "metadata": {},
     "output_type": "execute_result"
    },
    {
     "data": {
      "text/html": [
       "<div>\n",
       "<style scoped>\n",
       "    .dataframe tbody tr th:only-of-type {\n",
       "        vertical-align: middle;\n",
       "    }\n",
       "\n",
       "    .dataframe tbody tr th {\n",
       "        vertical-align: top;\n",
       "    }\n",
       "\n",
       "    .dataframe thead th {\n",
       "        text-align: right;\n",
       "    }\n",
       "</style>\n",
       "<table border=\"1\" class=\"dataframe\">\n",
       "  <thead>\n",
       "    <tr style=\"text-align: right;\">\n",
       "      <th></th>\n",
       "      <th>sector_route</th>\n",
       "      <th>rating_average</th>\n",
       "      <th>rating_count</th>\n",
       "      <th>wr</th>\n",
       "    </tr>\n",
       "  </thead>\n",
       "  <tbody>\n",
       "    <tr>\n",
       "      <th>626</th>\n",
       "      <td>Bärenschlucht_herkules</td>\n",
       "      <td>1.592593</td>\n",
       "      <td>108.0</td>\n",
       "      <td>1.520534</td>\n",
       "    </tr>\n",
       "    <tr>\n",
       "      <th>4779</th>\n",
       "      <td>Roter Fels_schaumschlger</td>\n",
       "      <td>1.550000</td>\n",
       "      <td>60.0</td>\n",
       "      <td>1.432088</td>\n",
       "    </tr>\n",
       "    <tr>\n",
       "      <th>1123</th>\n",
       "      <td>Eldorado_ekel</td>\n",
       "      <td>1.493827</td>\n",
       "      <td>81.0</td>\n",
       "      <td>1.408786</td>\n",
       "    </tr>\n",
       "    <tr>\n",
       "      <th>2446</th>\n",
       "      <td>Hintere Stadelhofener Wände_woodcocks in time</td>\n",
       "      <td>1.750000</td>\n",
       "      <td>16.0</td>\n",
       "      <td>1.349249</td>\n",
       "    </tr>\n",
       "    <tr>\n",
       "      <th>4494</th>\n",
       "      <td>Richard Wagner Fels_fight gravity</td>\n",
       "      <td>1.374233</td>\n",
       "      <td>163.0</td>\n",
       "      <td>1.335567</td>\n",
       "    </tr>\n",
       "  </tbody>\n",
       "</table>\n",
       "</div>"
      ],
      "text/plain": [
       "                                       sector_route  rating_average  \\\n",
       "626                          Bärenschlucht_herkules        1.592593   \n",
       "4779                       Roter Fels_schaumschlger        1.550000   \n",
       "1123                                  Eldorado_ekel        1.493827   \n",
       "2446  Hintere Stadelhofener Wände_woodcocks in time        1.750000   \n",
       "4494              Richard Wagner Fels_fight gravity        1.374233   \n",
       "\n",
       "      rating_count        wr  \n",
       "626          108.0  1.520534  \n",
       "4779          60.0  1.432088  \n",
       "1123          81.0  1.408786  \n",
       "2446          16.0  1.349249  \n",
       "4494         163.0  1.335567  "
      ]
     },
     "execution_count": 71,
     "metadata": {},
     "output_type": "execute_result"
    },
    {
     "data": {
      "text/plain": [
       "''"
      ]
     },
     "execution_count": 71,
     "metadata": {},
     "output_type": "execute_result"
    },
    {
     "data": {
      "text/plain": [
       "'user_id: 63837 is member of cluster number: 0'"
      ]
     },
     "execution_count": 71,
     "metadata": {},
     "output_type": "execute_result"
    },
    {
     "data": {
      "text/html": [
       "<div>\n",
       "<style scoped>\n",
       "    .dataframe tbody tr th:only-of-type {\n",
       "        vertical-align: middle;\n",
       "    }\n",
       "\n",
       "    .dataframe tbody tr th {\n",
       "        vertical-align: top;\n",
       "    }\n",
       "\n",
       "    .dataframe thead th {\n",
       "        text-align: right;\n",
       "    }\n",
       "</style>\n",
       "<table border=\"1\" class=\"dataframe\">\n",
       "  <thead>\n",
       "    <tr style=\"text-align: right;\">\n",
       "      <th></th>\n",
       "      <th>sector_route</th>\n",
       "      <th>rating_average</th>\n",
       "      <th>rating_count</th>\n",
       "      <th>wr</th>\n",
       "    </tr>\n",
       "  </thead>\n",
       "  <tbody>\n",
       "    <tr>\n",
       "      <th>626</th>\n",
       "      <td>Bärenschlucht_herkules</td>\n",
       "      <td>1.592593</td>\n",
       "      <td>108.0</td>\n",
       "      <td>1.520534</td>\n",
       "    </tr>\n",
       "    <tr>\n",
       "      <th>4779</th>\n",
       "      <td>Roter Fels_schaumschlger</td>\n",
       "      <td>1.550000</td>\n",
       "      <td>60.0</td>\n",
       "      <td>1.432088</td>\n",
       "    </tr>\n",
       "    <tr>\n",
       "      <th>1123</th>\n",
       "      <td>Eldorado_ekel</td>\n",
       "      <td>1.493827</td>\n",
       "      <td>81.0</td>\n",
       "      <td>1.408786</td>\n",
       "    </tr>\n",
       "    <tr>\n",
       "      <th>2446</th>\n",
       "      <td>Hintere Stadelhofener Wände_woodcocks in time</td>\n",
       "      <td>1.750000</td>\n",
       "      <td>16.0</td>\n",
       "      <td>1.349249</td>\n",
       "    </tr>\n",
       "    <tr>\n",
       "      <th>4494</th>\n",
       "      <td>Richard Wagner Fels_fight gravity</td>\n",
       "      <td>1.374233</td>\n",
       "      <td>163.0</td>\n",
       "      <td>1.335567</td>\n",
       "    </tr>\n",
       "  </tbody>\n",
       "</table>\n",
       "</div>"
      ],
      "text/plain": [
       "                                       sector_route  rating_average  \\\n",
       "626                          Bärenschlucht_herkules        1.592593   \n",
       "4779                       Roter Fels_schaumschlger        1.550000   \n",
       "1123                                  Eldorado_ekel        1.493827   \n",
       "2446  Hintere Stadelhofener Wände_woodcocks in time        1.750000   \n",
       "4494              Richard Wagner Fels_fight gravity        1.374233   \n",
       "\n",
       "      rating_count        wr  \n",
       "626          108.0  1.520534  \n",
       "4779          60.0  1.432088  \n",
       "1123          81.0  1.408786  \n",
       "2446          16.0  1.349249  \n",
       "4494         163.0  1.335567  "
      ]
     },
     "execution_count": 71,
     "metadata": {},
     "output_type": "execute_result"
    },
    {
     "data": {
      "text/plain": [
       "''"
      ]
     },
     "execution_count": 71,
     "metadata": {},
     "output_type": "execute_result"
    },
    {
     "data": {
      "text/plain": [
       "'Top 10 User'"
      ]
     },
     "execution_count": 71,
     "metadata": {},
     "output_type": "execute_result"
    }
   ],
   "source": [
    "# %%pixie_debugger\n",
    "# user_id = 557\n",
    "\n",
    "users = [3, 32, 493, 35939, 63837]\n",
    "for u in users:\n",
    "    f'user_id: {u} is member of cluster number: {cluster_membership(clustered, u)}'\n",
    "    top_n_routes_user(clustered, u, 5)\n",
    "    f''\n",
    "\n",
    "f'Top 10 User'\n",
    "# top_n_routes_user(clustered, user_id, 25)"
   ]
  },
  {
   "cell_type": "markdown",
   "metadata": {},
   "source": [
    "## Refinement"
   ]
  },
  {
   "cell_type": "markdown",
   "metadata": {},
   "source": [
    "# Results"
   ]
  },
  {
   "cell_type": "markdown",
   "metadata": {},
   "source": [
    "## Model Evaluation and Validation"
   ]
  },
  {
   "cell_type": "markdown",
   "metadata": {},
   "source": [
    "## Justification"
   ]
  },
  {
   "cell_type": "markdown",
   "metadata": {},
   "source": [
    "# Conclusion"
   ]
  },
  {
   "cell_type": "markdown",
   "metadata": {},
   "source": [
    "## Free-Form Visualization"
   ]
  },
  {
   "cell_type": "markdown",
   "metadata": {},
   "source": [
    "## Reflection"
   ]
  },
  {
   "cell_type": "markdown",
   "metadata": {},
   "source": [
    "## Improvement"
   ]
  }
 ],
 "metadata": {
  "hide_input": false,
  "kernelspec": {
   "display_name": "Python 3",
   "language": "python",
   "name": "python3"
  },
  "language_info": {
   "codemirror_mode": {
    "name": "ipython",
    "version": 3
   },
   "file_extension": ".py",
   "mimetype": "text/x-python",
   "name": "python",
   "nbconvert_exporter": "python",
   "pygments_lexer": "ipython3",
   "version": "3.6.6"
  },
  "toc": {
   "nav_menu": {},
   "number_sections": true,
   "sideBar": true,
   "skip_h1_title": false,
   "toc_cell": false,
   "toc_position": {},
   "toc_section_display": "block",
   "toc_window_display": false
  },
  "varInspector": {
   "cols": {
    "lenName": 16,
    "lenType": 16,
    "lenVar": 40
   },
   "kernels_config": {
    "python": {
     "delete_cmd_postfix": "",
     "delete_cmd_prefix": "del ",
     "library": "var_list.py",
     "varRefreshCmd": "print(var_dic_list())"
    },
    "r": {
     "delete_cmd_postfix": ") ",
     "delete_cmd_prefix": "rm(",
     "library": "var_list.r",
     "varRefreshCmd": "cat(var_dic_list()) "
    }
   },
   "oldHeight": 419,
   "position": {
    "height": "514px",
    "left": "771px",
    "right": "20px",
    "top": "146px",
    "width": "559px"
   },
   "types_to_exclude": [
    "module",
    "function",
    "builtin_function_or_method",
    "instance",
    "_Feature"
   ],
   "varInspector_section_display": "block",
   "window_display": false
  }
 },
 "nbformat": 4,
 "nbformat_minor": 2
}
