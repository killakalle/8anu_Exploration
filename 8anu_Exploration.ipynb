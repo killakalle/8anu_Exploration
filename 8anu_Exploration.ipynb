{
 "cells": [
  {
   "cell_type": "markdown",
   "metadata": {},
   "source": [
    "# Definition"
   ]
  },
  {
   "cell_type": "markdown",
   "metadata": {},
   "source": [
    "## Project Overview"
   ]
  },
  {
   "cell_type": "markdown",
   "metadata": {},
   "source": [
    "## Problem Statement"
   ]
  },
  {
   "cell_type": "markdown",
   "metadata": {},
   "source": [
    "## Metrics"
   ]
  },
  {
   "cell_type": "markdown",
   "metadata": {},
   "source": [
    "# Analysis"
   ]
  },
  {
   "cell_type": "markdown",
   "metadata": {},
   "source": [
    "## Data Exploration"
   ]
  },
  {
   "cell_type": "code",
   "execution_count": 1,
   "metadata": {
    "ExecuteTime": {
     "end_time": "2018-11-22T22:53:48.794807Z",
     "start_time": "2018-11-22T22:53:45.516879Z"
    },
    "pixiedust": {
     "displayParams": {}
    }
   },
   "outputs": [
    {
     "name": "stdout",
     "output_type": "stream",
     "text": [
      "Pixiedust database opened successfully\n"
     ]
    },
    {
     "data": {
      "text/html": [
       "\n",
       "        <div style=\"margin:10px\">\n",
       "            <a href=\"https://github.com/ibm-watson-data-lab/pixiedust\" target=\"_new\">\n",
       "                <img src=\"https://github.com/ibm-watson-data-lab/pixiedust/raw/master/docs/_static/pd_icon32.png\" style=\"float:left;margin-right:10px\"/>\n",
       "            </a>\n",
       "            <span>Pixiedust version 1.1.14</span>\n",
       "        </div>\n",
       "        "
      ],
      "text/plain": [
       "<IPython.core.display.HTML object>"
      ]
     },
     "metadata": {},
     "output_type": "display_data"
    }
   ],
   "source": [
    "import sqlite3\n",
    "import pandas as pd\n",
    "import numpy as np\n",
    "import matplotlib.pyplot as plt\n",
    "import xlsxwriter\n",
    "import pixiedust\n",
    "from IPython.display import Markdown as md\n",
    "from scipy.sparse import csr_matrix\n",
    "\n",
    "%matplotlib inline\n",
    "\n",
    "import plot_helper"
   ]
  },
  {
   "cell_type": "code",
   "execution_count": 2,
   "metadata": {
    "ExecuteTime": {
     "end_time": "2018-11-22T22:53:48.799530Z",
     "start_time": "2018-11-22T22:53:48.796935Z"
    }
   },
   "outputs": [],
   "source": [
    "from IPython.core.interactiveshell import InteractiveShell\n",
    "InteractiveShell.ast_node_interactivity = \"all\""
   ]
  },
  {
   "cell_type": "markdown",
   "metadata": {},
   "source": [
    "The data set for this project was downloaded from Kaggle at  \n",
    "[8anu climbing logbook](https://www.kaggle.com/dcohen21/8anu-climbing-logbook)"
   ]
  },
  {
   "cell_type": "code",
   "execution_count": 3,
   "metadata": {
    "ExecuteTime": {
     "end_time": "2018-11-22T22:53:57.488624Z",
     "start_time": "2018-11-22T22:53:48.801650Z"
    }
   },
   "outputs": [],
   "source": [
    "# Connect to db\n",
    "conn = sqlite3.connect('data/8anu.sqlite')\n",
    "\n",
    "# Read data into pandas\n",
    "sql = ('SELECT a.id, a.country AS crag_country, a.crag_id, a.crag, a.sector_id, a.sector, a.name AS route, '\n",
    "       'a.grade_id, g.fra_routes AS grade, a.year, a.date, a.method_id, m.shorthand AS method, a.notes, a.raw_notes, a.rating, '\n",
    "       'a.user_id, u.country AS user_country, u.city AS user_city, u.sex, u.height, u.weight, u.birth AS birthdate, u.started AS started_climbing '\n",
    "       'FROM ('\n",
    "           'SELECT * '\n",
    "           'FROM ascent '\n",
    "           'WHERE crag=\\'Frankenjura\\' AND climb_type=0'\n",
    "       ') AS a '\n",
    "       'LEFT OUTER JOIN grade AS g ON a.grade_id=g.id '\n",
    "       'LEFT OUTER JOIN method AS m ON a.method_id=m.id '\n",
    "       'LEFT OUTER JOIN user AS u ON a.user_id=u.id '\n",
    "       )\n",
    "df = pd.read_sql_query(sql, conn)\n",
    "\n",
    "# Close db connection\n",
    "conn.close()"
   ]
  },
  {
   "cell_type": "code",
   "execution_count": 4,
   "metadata": {
    "ExecuteTime": {
     "end_time": "2018-11-22T22:53:57.493786Z",
     "start_time": "2018-11-22T22:53:57.491223Z"
    }
   },
   "outputs": [],
   "source": [
    "# Export to .csv for submitting Project Proposal to Udacity\n",
    "#df.to_csv('data/8anu_franken.csv', sep=';')"
   ]
  },
  {
   "cell_type": "code",
   "execution_count": 5,
   "metadata": {
    "ExecuteTime": {
     "end_time": "2018-11-22T22:53:57.499031Z",
     "start_time": "2018-11-22T22:53:57.496655Z"
    }
   },
   "outputs": [],
   "source": [
    "# Export to .xlsx\n",
    "# Create a Pandas Excel writer using XlsxWriter as the engine.\n",
    "#writer = pd.ExcelWriter('data/8anu_franken.xlsx', engine='xlsxwriter')\n",
    "\n",
    "# Convert the dataframe to an XlsxWriter Excel object.\n",
    "#df.to_excel(writer, sheet_name='Sheet1')\n",
    "\n",
    "# Close the Pandas Excel writer and output the Excel file.\n",
    "#writer.save()"
   ]
  },
  {
   "cell_type": "markdown",
   "metadata": {},
   "source": [
    "### General information about the data set"
   ]
  },
  {
   "cell_type": "code",
   "execution_count": 6,
   "metadata": {
    "ExecuteTime": {
     "end_time": "2018-11-22T22:53:57.509656Z",
     "start_time": "2018-11-22T22:53:57.501676Z"
    }
   },
   "outputs": [
    {
     "data": {
      "text/plain": [
       "Index(['id', 'crag_country', 'crag_id', 'crag', 'sector_id', 'sector', 'route',\n",
       "       'grade_id', 'grade', 'year', 'date', 'method_id', 'method', 'notes',\n",
       "       'raw_notes', 'rating', 'user_id', 'user_country', 'user_city', 'sex',\n",
       "       'height', 'weight', 'birthdate', 'started_climbing'],\n",
       "      dtype='object')"
      ]
     },
     "execution_count": 6,
     "metadata": {},
     "output_type": "execute_result"
    }
   ],
   "source": [
    "## Get a list of all columns\n",
    "df.columns"
   ]
  },
  {
   "cell_type": "code",
   "execution_count": 7,
   "metadata": {
    "ExecuteTime": {
     "end_time": "2018-11-22T22:53:57.564540Z",
     "start_time": "2018-11-22T22:53:57.512863Z"
    }
   },
   "outputs": [
    {
     "data": {
      "text/html": [
       "<div>\n",
       "<style scoped>\n",
       "    .dataframe tbody tr th:only-of-type {\n",
       "        vertical-align: middle;\n",
       "    }\n",
       "\n",
       "    .dataframe tbody tr th {\n",
       "        vertical-align: top;\n",
       "    }\n",
       "\n",
       "    .dataframe thead th {\n",
       "        text-align: right;\n",
       "    }\n",
       "</style>\n",
       "<table border=\"1\" class=\"dataframe\">\n",
       "  <thead>\n",
       "    <tr style=\"text-align: right;\">\n",
       "      <th></th>\n",
       "      <th>id</th>\n",
       "      <th>crag_country</th>\n",
       "      <th>crag_id</th>\n",
       "      <th>crag</th>\n",
       "      <th>sector_id</th>\n",
       "      <th>sector</th>\n",
       "      <th>route</th>\n",
       "      <th>grade_id</th>\n",
       "      <th>grade</th>\n",
       "      <th>year</th>\n",
       "      <th>...</th>\n",
       "      <th>raw_notes</th>\n",
       "      <th>rating</th>\n",
       "      <th>user_id</th>\n",
       "      <th>user_country</th>\n",
       "      <th>user_city</th>\n",
       "      <th>sex</th>\n",
       "      <th>height</th>\n",
       "      <th>weight</th>\n",
       "      <th>birthdate</th>\n",
       "      <th>started_climbing</th>\n",
       "    </tr>\n",
       "  </thead>\n",
       "  <tbody>\n",
       "    <tr>\n",
       "      <th>0</th>\n",
       "      <td>582</td>\n",
       "      <td>DEU</td>\n",
       "      <td>16600</td>\n",
       "      <td>Frankenjura</td>\n",
       "      <td>126</td>\n",
       "      <td>Grüne Hölle</td>\n",
       "      <td>Isolation</td>\n",
       "      <td>46</td>\n",
       "      <td>6c+</td>\n",
       "      <td>2000</td>\n",
       "      <td>...</td>\n",
       "      <td>0</td>\n",
       "      <td>0</td>\n",
       "      <td>39</td>\n",
       "      <td>NLD</td>\n",
       "      <td>Eindhoven</td>\n",
       "      <td>0.0</td>\n",
       "      <td>178.0</td>\n",
       "      <td>78.0</td>\n",
       "      <td>1972-10-16</td>\n",
       "      <td>1996.0</td>\n",
       "    </tr>\n",
       "    <tr>\n",
       "      <th>1</th>\n",
       "      <td>805</td>\n",
       "      <td>DEU</td>\n",
       "      <td>16600</td>\n",
       "      <td>Frankenjura</td>\n",
       "      <td>111</td>\n",
       "      <td>Marientaler Wände</td>\n",
       "      <td>Kraftfeld</td>\n",
       "      <td>59</td>\n",
       "      <td>7c+</td>\n",
       "      <td>1999</td>\n",
       "      <td>...</td>\n",
       "      <td>0</td>\n",
       "      <td>0</td>\n",
       "      <td>32</td>\n",
       "      <td>SWE</td>\n",
       "      <td>Gothenburg</td>\n",
       "      <td>0.0</td>\n",
       "      <td>174.0</td>\n",
       "      <td>0.0</td>\n",
       "      <td>1976-06-15</td>\n",
       "      <td>1996.0</td>\n",
       "    </tr>\n",
       "    <tr>\n",
       "      <th>2</th>\n",
       "      <td>902</td>\n",
       "      <td>DEU</td>\n",
       "      <td>16600</td>\n",
       "      <td>Frankenjura</td>\n",
       "      <td>1309</td>\n",
       "      <td>Obere Schlossbergwände</td>\n",
       "      <td>Ursus</td>\n",
       "      <td>49</td>\n",
       "      <td>7a</td>\n",
       "      <td>2000</td>\n",
       "      <td>...</td>\n",
       "      <td>0</td>\n",
       "      <td>0</td>\n",
       "      <td>49</td>\n",
       "      <td>SWE</td>\n",
       "      <td>GÖTEBORG</td>\n",
       "      <td>0.0</td>\n",
       "      <td>0.0</td>\n",
       "      <td>0.0</td>\n",
       "      <td>None</td>\n",
       "      <td>1990.0</td>\n",
       "    </tr>\n",
       "    <tr>\n",
       "      <th>3</th>\n",
       "      <td>903</td>\n",
       "      <td>DEU</td>\n",
       "      <td>16600</td>\n",
       "      <td>Frankenjura</td>\n",
       "      <td>0</td>\n",
       "      <td></td>\n",
       "      <td>Don't know name</td>\n",
       "      <td>46</td>\n",
       "      <td>6c+</td>\n",
       "      <td>2000</td>\n",
       "      <td>...</td>\n",
       "      <td>0</td>\n",
       "      <td>0</td>\n",
       "      <td>49</td>\n",
       "      <td>SWE</td>\n",
       "      <td>GÖTEBORG</td>\n",
       "      <td>0.0</td>\n",
       "      <td>0.0</td>\n",
       "      <td>0.0</td>\n",
       "      <td>None</td>\n",
       "      <td>1990.0</td>\n",
       "    </tr>\n",
       "    <tr>\n",
       "      <th>4</th>\n",
       "      <td>935</td>\n",
       "      <td>DEU</td>\n",
       "      <td>16600</td>\n",
       "      <td>Frankenjura</td>\n",
       "      <td>422</td>\n",
       "      <td>Richard Wagner Fels</td>\n",
       "      <td>Fight Gravity</td>\n",
       "      <td>53</td>\n",
       "      <td>7b</td>\n",
       "      <td>1999</td>\n",
       "      <td>...</td>\n",
       "      <td>0</td>\n",
       "      <td>0</td>\n",
       "      <td>3</td>\n",
       "      <td>SWE</td>\n",
       "      <td>Umeå</td>\n",
       "      <td>0.0</td>\n",
       "      <td>180.0</td>\n",
       "      <td>78.0</td>\n",
       "      <td>1973-09-09</td>\n",
       "      <td>1995.0</td>\n",
       "    </tr>\n",
       "  </tbody>\n",
       "</table>\n",
       "<p>5 rows × 24 columns</p>\n",
       "</div>"
      ],
      "text/plain": [
       "    id crag_country  crag_id         crag  sector_id                  sector  \\\n",
       "0  582          DEU    16600  Frankenjura        126             Grüne Hölle   \n",
       "1  805          DEU    16600  Frankenjura        111       Marientaler Wände   \n",
       "2  902          DEU    16600  Frankenjura       1309  Obere Schlossbergwände   \n",
       "3  903          DEU    16600  Frankenjura          0                           \n",
       "4  935          DEU    16600  Frankenjura        422     Richard Wagner Fels   \n",
       "\n",
       "             route  grade_id grade  year        ...         raw_notes  rating  \\\n",
       "0        Isolation        46   6c+  2000        ...                 0       0   \n",
       "1        Kraftfeld        59   7c+  1999        ...                 0       0   \n",
       "2            Ursus        49    7a  2000        ...                 0       0   \n",
       "3  Don't know name        46   6c+  2000        ...                 0       0   \n",
       "4    Fight Gravity        53    7b  1999        ...                 0       0   \n",
       "\n",
       "  user_id user_country   user_city  sex  height weight   birthdate  \\\n",
       "0      39          NLD   Eindhoven  0.0   178.0   78.0  1972-10-16   \n",
       "1      32          SWE  Gothenburg  0.0   174.0    0.0  1976-06-15   \n",
       "2      49          SWE    GÖTEBORG  0.0     0.0    0.0        None   \n",
       "3      49          SWE    GÖTEBORG  0.0     0.0    0.0        None   \n",
       "4       3          SWE        Umeå  0.0   180.0   78.0  1973-09-09   \n",
       "\n",
       "   started_climbing  \n",
       "0            1996.0  \n",
       "1            1996.0  \n",
       "2            1990.0  \n",
       "3            1990.0  \n",
       "4            1995.0  \n",
       "\n",
       "[5 rows x 24 columns]"
      ]
     },
     "execution_count": 7,
     "metadata": {},
     "output_type": "execute_result"
    }
   ],
   "source": [
    "df.head(5)"
   ]
  },
  {
   "cell_type": "code",
   "execution_count": 8,
   "metadata": {
    "ExecuteTime": {
     "end_time": "2018-11-22T22:53:57.614564Z",
     "start_time": "2018-11-22T22:53:57.566818Z"
    }
   },
   "outputs": [
    {
     "data": {
      "text/plain": [
       "'There are 114,589 data entries in our dataset.'"
      ]
     },
     "execution_count": 8,
     "metadata": {},
     "output_type": "execute_result"
    },
    {
     "data": {
      "text/plain": [
       "'60,303 out of these contain a rating. That is approx. 52.63%'"
      ]
     },
     "execution_count": 8,
     "metadata": {},
     "output_type": "execute_result"
    }
   ],
   "source": [
    "records_count = df.shape[0]\n",
    "ratings_count = df[ df['rating'] == 0].shape[0]\n",
    "\n",
    "\n",
    "f'There are {records_count:,} data entries in our dataset.'\n",
    "f'{ratings_count:,} out of these contain a rating. That is approx. {ratings_count / records_count * 100:.2f}%'"
   ]
  },
  {
   "cell_type": "code",
   "execution_count": 9,
   "metadata": {
    "ExecuteTime": {
     "end_time": "2018-11-22T22:53:57.811971Z",
     "start_time": "2018-11-22T22:53:57.617176Z"
    }
   },
   "outputs": [
    {
     "name": "stdout",
     "output_type": "stream",
     "text": [
      "<class 'pandas.core.frame.DataFrame'>\n",
      "RangeIndex: 114589 entries, 0 to 114588\n",
      "Data columns (total 24 columns):\n",
      "id                  114589 non-null int64\n",
      "crag_country        114589 non-null object\n",
      "crag_id             114589 non-null int64\n",
      "crag                114589 non-null object\n",
      "sector_id           114589 non-null int64\n",
      "sector              114589 non-null object\n",
      "route               114589 non-null object\n",
      "grade_id            114589 non-null int64\n",
      "grade               114589 non-null object\n",
      "year                114589 non-null int64\n",
      "date                114589 non-null int64\n",
      "method_id           114589 non-null int64\n",
      "method              114589 non-null object\n",
      "notes               114589 non-null object\n",
      "raw_notes           114589 non-null int64\n",
      "rating              114589 non-null int64\n",
      "user_id             114589 non-null int64\n",
      "user_country        114587 non-null object\n",
      "user_city           114587 non-null object\n",
      "sex                 114587 non-null float64\n",
      "height              114587 non-null float64\n",
      "weight              114587 non-null float64\n",
      "birthdate           85770 non-null object\n",
      "started_climbing    114587 non-null float64\n",
      "dtypes: float64(4), int64(10), object(10)\n",
      "memory usage: 21.0+ MB\n"
     ]
    }
   ],
   "source": [
    "df.info()"
   ]
  },
  {
   "cell_type": "markdown",
   "metadata": {},
   "source": [
    "| <p align='left'>`Column` | <p align='left'>Description | <p align='center'> Datatype | <p align='center'> Use | \n",
    "|:------|:------|:------:|:------:| \n",
    "| <p align='left'>`crag_country` | <p align='left'>3-letter country code of the country where the crag is located. | <p align='center'> categorical | <p align='center'> no | \n",
    "| <p align='left'>`crag_id` | <p align='left'>Unique id for identifying each crag. | <p align='center'> int | <p align='center'> no | \n",
    "| <p align='left'>`crag` | <p align='left'>Name of the crag | <p align='center'> text | <p align='center'> no | \n",
    "| <p align='left'>`sector_id` | <p align='left'>Unique id for identifying each sector. | <p align='center'> int | <p align='center'> yes | \n",
    "| <p align='left'>`sector` | <p align='left'>Name of the sector. A sector is a specific area within a crag. | <p align='center'> text | <p align='center'> yes | \n",
    "| <p align='left'>`route` | <p align='left'>Name of the route the climber has climbed. | <p align='center'> text | <p align='center'> yes | \n",
    "| <p align='left'>`grade_id` | <p align='left'>Unique id for identifying each climbing grade. | <p align='center'> int | <p align='center'> statistics | \n",
    "| <p align='left'>`grade` | <p align='left'>Climbing grade given to that route as per the French grading system | <p align='center'> categorical | <p align='center'> statistics | \n",
    "| <p align='left'>`year` | <p align='left'>Year the route was climbed | <p align='center'> int | <p align='center'> statistics | \n",
    "| <p align='left'>`date` | <p align='left'>Date the route was climbed. The date format is number of seconds since 1970-01-01. | <p align='center'> int | <p align='center'> statistics | \n",
    "| <p align='left'>`method_id` | <p align='left'>Unique id for identifying each type of ascent. | <p align='center'> int | <p align='center'> statistics | \n",
    "| <p align='left'>`method` | <p align='left'>The type of ascent the climber made on that route. | <p align='center'> categorical | <p align='center'> statistics | \n",
    "| <p align='left'>`notes` | <p align='left'>Additional information the climber provided for this climb, e.g. Soft graded, i.e. fairly easy climb for the given grade | <p align='center'> categorical | <p align='center'> statistics | \n",
    "| <p align='left'>`raw_notes` | <p align='left'>Encoding of different notes and combination of notes | <p align='center'> int | <p align='center'> statistics | \n",
    "| <p align='left'>`rating` | <p align='left'>Rating given to the climb by this climber. This is our target attribute. | <p align='center'> int | <p align='center'> target | \n",
    "| <p align='left'>`user_id` | <p align='left'>Unique id for this climber. | <p align='center'> int | <p align='center'> yes | \n",
    "| <p align='left'>`user_country` | <p align='left'>3-letter country code of the country where this climber is from. | <p align='center'> categorical | <p align='center'> statistics | \n",
    "| <p align='left'>`user_city` | <p align='left'>City where this climber is from | <p align='center'> text | <p align='center'> statistics | \n",
    "| <p align='left'>`sex` | <p align='left'>The climber's sex. 0 indicates male, 1 indicates female. | <p align='center'> int | <p align='center'> statistics | \n",
    "| <p align='left'>`height` | <p align='left'>The climber's height in cm | <p align='center'> int | <p align='center'> statistics | \n",
    "| <p align='left'>`weight` | <p align='left'>The climber's weight in kg | <p align='center'> int | <p align='center'> statistics | \n",
    "| <p align='left'>`birthdate` | <p align='left'>The climber's date of birth | <p align='center'> date | <p align='center'> statistics | \n",
    "| <p align='left'>`started_climbing` | <p align='left'>The year the climber started climbing. | <p align='center'> int | <p align='center'> statistics | ![image.png](attachment:image.png)"
   ]
  },
  {
   "cell_type": "markdown",
   "metadata": {},
   "source": [
    "In the table above the column `Use` indicated how we plan to use the given column.\n",
    "- `target` - this is a target attribute.\n",
    "- `yes` - this column will be used during exploration and analysis.\n",
    "- `no` - not planned to use that column during analysis and exploration.\n",
    "- `statistics` - this column will not be used for analysis but may be interesting later on to do user statistics etc."
   ]
  },
  {
   "cell_type": "code",
   "execution_count": 10,
   "metadata": {
    "ExecuteTime": {
     "end_time": "2018-11-22T22:53:58.324245Z",
     "start_time": "2018-11-22T22:53:57.814175Z"
    }
   },
   "outputs": [
    {
     "data": {
      "text/plain": [
       "<matplotlib.axes._subplots.AxesSubplot at 0x1a1b4afcf8>"
      ]
     },
     "execution_count": 10,
     "metadata": {},
     "output_type": "execute_result"
    },
    {
     "data": {
      "image/png": "[encoded data removed]",
      "text/plain": [
       "<Figure size 432x288 with 1 Axes>"
      ]
     },
     "metadata": {
      "needs_background": "light"
     },
     "output_type": "display_data"
    }
   ],
   "source": [
    "df.groupby('grade').count()['id'].plot(kind='bar', color='b')"
   ]
  },
  {
   "cell_type": "markdown",
   "metadata": {},
   "source": [
    "\n",
    "<img src=\"climbing_grades_comparison.png\" alt=\"Grade comparison table\" width=\"500\" align=\"left\" />\n"
   ]
  },
  {
   "cell_type": "code",
   "execution_count": null,
   "metadata": {
    "ExecuteTime": {
     "start_time": "2018-11-22T22:54:16.443Z"
    }
   },
   "outputs": [],
   "source": [
    "df_grade_adjusted = df.copy()\n",
    "df_grade_adjusted.loc[df_grade_adjusted['grade'] == '6c'] = '6b+'\n",
    "df_grade_adjusted.loc[df_grade_adjusted['grade'] == '7b'] = '7a+'\n",
    "df_grade_adjusted.groupby('grade').count()['id'].plot(kind='bar', color='b')"
   ]
  },
  {
   "cell_type": "markdown",
   "metadata": {},
   "source": [
    "Drop unnecessary columns for analysis."
   ]
  },
  {
   "cell_type": "code",
   "execution_count": 12,
   "metadata": {
    "ExecuteTime": {
     "end_time": "2018-11-22T22:53:59.866071Z",
     "start_time": "2018-11-22T22:53:59.846856Z"
    }
   },
   "outputs": [],
   "source": [
    "df = df.drop(columns=['crag_country',\n",
    "                      'crag_id',\n",
    "                      'crag',\n",
    "                      'grade_id',\n",
    "                      'grade',\n",
    "                      'year',\n",
    "                      'date',\n",
    "                      'method_id',\n",
    "                      'method',\n",
    "                      'notes',\n",
    "                      'raw_notes',\n",
    "                      'user_country',\n",
    "                      'user_city',\n",
    "                      'sex',\n",
    "                      'height',\n",
    "                      'weight',\n",
    "                      'birthdate',\n",
    "                      'started_climbing'])"
   ]
  },
  {
   "cell_type": "markdown",
   "metadata": {},
   "source": [
    "Split train and test set to avoid bias"
   ]
  },
  {
   "cell_type": "code",
   "execution_count": 13,
   "metadata": {
    "ExecuteTime": {
     "end_time": "2018-11-22T22:53:59.987696Z",
     "start_time": "2018-11-22T22:53:59.868152Z"
    }
   },
   "outputs": [],
   "source": [
    "from sklearn.model_selection import train_test_split\n",
    "\n",
    "# y = df.pop('rating')\n",
    "X = df\n",
    "\n",
    "X_train, X_test = train_test_split(X, test_size=0.2)"
   ]
  },
  {
   "cell_type": "markdown",
   "metadata": {},
   "source": [
    "### Missing values\n",
    "\n",
    "Let us take a look if we have **missing values** or **zero values**.\n",
    "\n",
    "Number of missing values per column:"
   ]
  },
  {
   "cell_type": "code",
   "execution_count": 14,
   "metadata": {
    "ExecuteTime": {
     "end_time": "2018-11-22T22:54:00.028086Z",
     "start_time": "2018-11-22T22:53:59.990307Z"
    }
   },
   "outputs": [
    {
     "data": {
      "text/plain": [
       "id           0\n",
       "sector_id    0\n",
       "sector       0\n",
       "route        0\n",
       "rating       0\n",
       "user_id      0\n",
       "dtype: int64"
      ]
     },
     "execution_count": 14,
     "metadata": {},
     "output_type": "execute_result"
    }
   ],
   "source": [
    "X_train.isnull().sum()\n",
    "# y_train.isnull().sum()"
   ]
  },
  {
   "cell_type": "markdown",
   "metadata": {
    "ExecuteTime": {
     "end_time": "2018-11-15T22:29:42.784818Z",
     "start_time": "2018-11-15T22:29:42.780805Z"
    }
   },
   "source": [
    "Number of zero values per column:"
   ]
  },
  {
   "cell_type": "code",
   "execution_count": 15,
   "metadata": {
    "ExecuteTime": {
     "end_time": "2018-11-22T22:54:00.057743Z",
     "start_time": "2018-11-22T22:54:00.029925Z"
    }
   },
   "outputs": [
    {
     "data": {
      "text/plain": [
       "id               0\n",
       "sector_id    12266\n",
       "sector           0\n",
       "route            0\n",
       "rating       48281\n",
       "user_id          0\n",
       "dtype: int64"
      ]
     },
     "execution_count": 15,
     "metadata": {},
     "output_type": "execute_result"
    }
   ],
   "source": [
    "(X_train == 0).sum()\n",
    "# (y_train == 0).sum()"
   ]
  },
  {
   "cell_type": "markdown",
   "metadata": {},
   "source": [
    "### Unique values"
   ]
  },
  {
   "cell_type": "markdown",
   "metadata": {},
   "source": [
    "A naive estimate on the number of unique sectors and routes within these sectors. Submitted by a number of distinct users."
   ]
  },
  {
   "cell_type": "code",
   "execution_count": 16,
   "metadata": {
    "ExecuteTime": {
     "end_time": "2018-11-22T22:54:00.143883Z",
     "start_time": "2018-11-22T22:54:00.059471Z"
    }
   },
   "outputs": [
    {
     "data": {
      "text/plain": [
       "sector_id      351\n",
       "route        12479\n",
       "user_id       3297\n",
       "dtype: int64"
      ]
     },
     "execution_count": 16,
     "metadata": {},
     "output_type": "execute_result"
    }
   ],
   "source": [
    "X_train[['sector_id', 'route', 'user_id']].nunique()"
   ]
  },
  {
   "cell_type": "markdown",
   "metadata": {},
   "source": [
    "Why do we call the above estimate _naive_? \n",
    "\n",
    "According to (climb-europe.com)[http://www.climb-europe.com/RockClimbingGermany/RockClimbingFrankenjura.html] _there are approximately 1,000 crags spread out in a beautiful forest terrain_ (Note that _crags_ in the above quote is the same as _sectors_ in our dataset.) This seems fine since in our dataset there are 351 different sectors noted.\n",
    "\n",
    "In the article it continues to claim that _Frankenjura boasts in excess of 10,000 routes._ Now this is where we should get a little suspicious. In only 350 sectors our dataset apparently contains already more than 12,000 routes - which is well above the 10,000 mentioned in the article.\n",
    "\n",
    "Lets dig deeper here.\n"
   ]
  },
  {
   "cell_type": "markdown",
   "metadata": {},
   "source": [
    "What are the records where `sector_id` is 0?  \n",
    "We take a look at a number of samples."
   ]
  },
  {
   "cell_type": "code",
   "execution_count": 17,
   "metadata": {
    "ExecuteTime": {
     "end_time": "2018-11-22T22:54:00.160770Z",
     "start_time": "2018-11-22T22:54:00.146591Z"
    }
   },
   "outputs": [
    {
     "data": {
      "text/html": [
       "<div>\n",
       "<style scoped>\n",
       "    .dataframe tbody tr th:only-of-type {\n",
       "        vertical-align: middle;\n",
       "    }\n",
       "\n",
       "    .dataframe tbody tr th {\n",
       "        vertical-align: top;\n",
       "    }\n",
       "\n",
       "    .dataframe thead th {\n",
       "        text-align: right;\n",
       "    }\n",
       "</style>\n",
       "<table border=\"1\" class=\"dataframe\">\n",
       "  <thead>\n",
       "    <tr style=\"text-align: right;\">\n",
       "      <th></th>\n",
       "      <th>id</th>\n",
       "      <th>sector_id</th>\n",
       "      <th>sector</th>\n",
       "      <th>route</th>\n",
       "      <th>rating</th>\n",
       "      <th>user_id</th>\n",
       "    </tr>\n",
       "  </thead>\n",
       "  <tbody>\n",
       "    <tr>\n",
       "      <th>3706</th>\n",
       "      <td>310711</td>\n",
       "      <td>0</td>\n",
       "      <td></td>\n",
       "      <td>Schauervariante</td>\n",
       "      <td>0</td>\n",
       "      <td>8144</td>\n",
       "    </tr>\n",
       "    <tr>\n",
       "      <th>53685</th>\n",
       "      <td>2842768</td>\n",
       "      <td>0</td>\n",
       "      <td></td>\n",
       "      <td>Lernpause</td>\n",
       "      <td>2</td>\n",
       "      <td>15179</td>\n",
       "    </tr>\n",
       "    <tr>\n",
       "      <th>1962</th>\n",
       "      <td>146981</td>\n",
       "      <td>0</td>\n",
       "      <td></td>\n",
       "      <td>Der Goldene Schnatz</td>\n",
       "      <td>0</td>\n",
       "      <td>2332</td>\n",
       "    </tr>\n",
       "    <tr>\n",
       "      <th>101861</th>\n",
       "      <td>4488394</td>\n",
       "      <td>0</td>\n",
       "      <td>Burglesauer Gebiet</td>\n",
       "      <td>Bernhofer Kamin</td>\n",
       "      <td>0</td>\n",
       "      <td>20095</td>\n",
       "    </tr>\n",
       "    <tr>\n",
       "      <th>68992</th>\n",
       "      <td>3383262</td>\n",
       "      <td>0</td>\n",
       "      <td></td>\n",
       "      <td>Affenschaukel</td>\n",
       "      <td>2</td>\n",
       "      <td>17509</td>\n",
       "    </tr>\n",
       "    <tr>\n",
       "      <th>114000</th>\n",
       "      <td>4895475</td>\n",
       "      <td>0</td>\n",
       "      <td></td>\n",
       "      <td>Abschlussbreze</td>\n",
       "      <td>0</td>\n",
       "      <td>39981</td>\n",
       "    </tr>\n",
       "    <tr>\n",
       "      <th>56593</th>\n",
       "      <td>2929086</td>\n",
       "      <td>0</td>\n",
       "      <td></td>\n",
       "      <td>Flug nach Delhi</td>\n",
       "      <td>2</td>\n",
       "      <td>30065</td>\n",
       "    </tr>\n",
       "    <tr>\n",
       "      <th>45088</th>\n",
       "      <td>2463564</td>\n",
       "      <td>0</td>\n",
       "      <td></td>\n",
       "      <td>Raber hotzenplotz</td>\n",
       "      <td>0</td>\n",
       "      <td>6403</td>\n",
       "    </tr>\n",
       "    <tr>\n",
       "      <th>4872</th>\n",
       "      <td>352939</td>\n",
       "      <td>0</td>\n",
       "      <td></td>\n",
       "      <td>Lehrling</td>\n",
       "      <td>1</td>\n",
       "      <td>7845</td>\n",
       "    </tr>\n",
       "    <tr>\n",
       "      <th>79924</th>\n",
       "      <td>3798912</td>\n",
       "      <td>0</td>\n",
       "      <td>Gemeindefels</td>\n",
       "      <td>Zugvogel</td>\n",
       "      <td>1</td>\n",
       "      <td>20095</td>\n",
       "    </tr>\n",
       "  </tbody>\n",
       "</table>\n",
       "</div>"
      ],
      "text/plain": [
       "             id  sector_id              sector                route  rating  \\\n",
       "3706     310711          0                          Schauervariante       0   \n",
       "53685   2842768          0                                Lernpause       2   \n",
       "1962     146981          0                      Der Goldene Schnatz       0   \n",
       "101861  4488394          0  Burglesauer Gebiet      Bernhofer Kamin       0   \n",
       "68992   3383262          0                            Affenschaukel       2   \n",
       "114000  4895475          0                           Abschlussbreze       0   \n",
       "56593   2929086          0                          Flug nach Delhi       2   \n",
       "45088   2463564          0                        Raber hotzenplotz       0   \n",
       "4872     352939          0                                 Lehrling       1   \n",
       "79924   3798912          0        Gemeindefels             Zugvogel       1   \n",
       "\n",
       "        user_id  \n",
       "3706       8144  \n",
       "53685     15179  \n",
       "1962       2332  \n",
       "101861    20095  \n",
       "68992     17509  \n",
       "114000    39981  \n",
       "56593     30065  \n",
       "45088      6403  \n",
       "4872       7845  \n",
       "79924     20095  "
      ]
     },
     "execution_count": 17,
     "metadata": {},
     "output_type": "execute_result"
    }
   ],
   "source": [
    "X_train[X_train['sector_id'] == 0].head(10)"
   ]
  },
  {
   "cell_type": "markdown",
   "metadata": {},
   "source": [
    "## Exploratory Visualization"
   ]
  },
  {
   "cell_type": "markdown",
   "metadata": {},
   "source": [
    "### Missing values\n",
    "\n",
    "Lets look at the **Missing** or **Zero values** per column."
   ]
  },
  {
   "cell_type": "code",
   "execution_count": 18,
   "metadata": {
    "ExecuteTime": {
     "end_time": "2018-11-22T22:54:00.510817Z",
     "start_time": "2018-11-22T22:54:00.162862Z"
    }
   },
   "outputs": [
    {
     "data": {
      "image/png": "[encoded data removed]",
      "text/plain": [
       "<Figure size 720x360 with 1 Axes>"
      ]
     },
     "metadata": {
      "needs_background": "light"
     },
     "output_type": "display_data"
    }
   ],
   "source": [
    "plot_helper.missing_values_overview(X_train)"
   ]
  },
  {
   "cell_type": "markdown",
   "metadata": {},
   "source": [
    "In our data set `0` is in indicator for missing values, except for `sex` where `0` indicates `male` (and `1` for `female`).\n",
    "\n",
    "From the graph above we can conclude that we have missing data in `sector_id`, `raw_notes`, `rating`, `height`, `weight`, `birth`, `started_climbing`.\n",
    "\n",
    "Since `sector_id` and `rating` are important for our analysis, we have to consider what to do about those missing values during Data Preparation later on."
   ]
  },
  {
   "cell_type": "markdown",
   "metadata": {},
   "source": [
    "## Analysis of our target variable `rating`"
   ]
  },
  {
   "cell_type": "markdown",
   "metadata": {},
   "source": [
    "What are the unique values of our target variable?"
   ]
  },
  {
   "cell_type": "code",
   "execution_count": 19,
   "metadata": {
    "ExecuteTime": {
     "end_time": "2018-11-22T22:54:00.517325Z",
     "start_time": "2018-11-22T22:54:00.513120Z"
    }
   },
   "outputs": [
    {
     "data": {
      "text/plain": [
       "array([0, 2, 3, 1])"
      ]
     },
     "execution_count": 19,
     "metadata": {},
     "output_type": "execute_result"
    }
   ],
   "source": [
    "y_train = X_train['rating']\n",
    "y_train.unique()"
   ]
  },
  {
   "cell_type": "markdown",
   "metadata": {},
   "source": [
    "And how is their distribution?\n"
   ]
  },
  {
   "cell_type": "code",
   "execution_count": 20,
   "metadata": {
    "ExecuteTime": {
     "end_time": "2018-11-22T22:54:00.537178Z",
     "start_time": "2018-11-22T22:54:00.518940Z"
    }
   },
   "outputs": [
    {
     "data": {
      "text/plain": [
       "0    52.7\n",
       "1    11.1\n",
       "2    18.7\n",
       "3    17.5\n",
       "Name: rating, dtype: float64"
      ]
     },
     "execution_count": 20,
     "metadata": {},
     "output_type": "execute_result"
    }
   ],
   "source": [
    "percentages = round(y_train.value_counts().sort_index() / y_train.count() * 100, 1)\n",
    "percentages"
   ]
  },
  {
   "cell_type": "code",
   "execution_count": 21,
   "metadata": {
    "ExecuteTime": {
     "end_time": "2018-11-22T22:54:00.688561Z",
     "start_time": "2018-11-22T22:54:00.539405Z"
    }
   },
   "outputs": [
    {
     "data": {
      "text/plain": [
       "<matplotlib.axes._subplots.AxesSubplot at 0x1a1fcec9b0>"
      ]
     },
     "execution_count": 21,
     "metadata": {},
     "output_type": "execute_result"
    },
    {
     "data": {
      "image/png": "[encoded data removed]",
      "text/plain": [
       "<Figure size 432x288 with 1 Axes>"
      ]
     },
     "metadata": {
      "needs_background": "light"
     },
     "output_type": "display_data"
    }
   ],
   "source": [
    "y_train.value_counts().sort_index().plot(\n",
    "    kind='bar', title='ratings occurrence', xticks=percentages)"
   ]
  },
  {
   "cell_type": "code",
   "execution_count": 22,
   "metadata": {
    "ExecuteTime": {
     "end_time": "2018-11-22T22:54:00.704172Z",
     "start_time": "2018-11-22T22:54:00.690870Z"
    }
   },
   "outputs": [
    {
     "data": {
      "text/plain": [
       "count    43390.00000\n",
       "mean         2.13563\n",
       "std          0.76558\n",
       "min          1.00000\n",
       "25%          2.00000\n",
       "50%          2.00000\n",
       "75%          3.00000\n",
       "max          3.00000\n",
       "Name: rating, dtype: float64"
      ]
     },
     "execution_count": 22,
     "metadata": {},
     "output_type": "execute_result"
    }
   ],
   "source": [
    "y_train[y_train != 0].describe()"
   ]
  },
  {
   "cell_type": "markdown",
   "metadata": {
    "ExecuteTime": {
     "end_time": "2018-11-15T23:40:18.226175Z",
     "start_time": "2018-11-15T23:40:18.222324Z"
    }
   },
   "source": [
    "Out of those climbs, that were rated, the average is 2.14."
   ]
  },
  {
   "cell_type": "markdown",
   "metadata": {},
   "source": [
    "What is the percentage of users that rated at least one climb?"
   ]
  },
  {
   "cell_type": "code",
   "execution_count": 23,
   "metadata": {
    "ExecuteTime": {
     "end_time": "2018-11-22T22:54:00.716179Z",
     "start_time": "2018-11-22T22:54:00.706751Z"
    }
   },
   "outputs": [
    {
     "data": {
      "text/plain": [
       "False    2244\n",
       "True     1053\n",
       "Name: rating, dtype: int64"
      ]
     },
     "execution_count": 23,
     "metadata": {},
     "output_type": "execute_result"
    }
   ],
   "source": [
    "(X_train.groupby('user_id')['rating'].sum() == 0).value_counts()"
   ]
  },
  {
   "cell_type": "markdown",
   "metadata": {
    "ExecuteTime": {
     "end_time": "2018-11-16T00:02:23.741029Z",
     "start_time": "2018-11-16T00:02:23.736576Z"
    }
   },
   "source": [
    "This means that approx. 2/3 of users have rated at least one item."
   ]
  },
  {
   "cell_type": "markdown",
   "metadata": {},
   "source": [
    "How many ratings are there per user?"
   ]
  },
  {
   "cell_type": "code",
   "execution_count": 24,
   "metadata": {
    "ExecuteTime": {
     "end_time": "2018-11-22T22:54:02.641868Z",
     "start_time": "2018-11-22T22:54:00.717995Z"
    }
   },
   "outputs": [
    {
     "data": {
      "text/plain": [
       "<matplotlib.axes._subplots.AxesSubplot at 0x1a1fba6d30>"
      ]
     },
     "execution_count": 24,
     "metadata": {},
     "output_type": "execute_result"
    },
    {
     "data": {
      "image/png": "[encoded data removed]",
      "text/plain": [
       "<Figure size 432x288 with 1 Axes>"
      ]
     },
     "metadata": {
      "needs_background": "light"
     },
     "output_type": "display_data"
    }
   ],
   "source": [
    "ratings_per_user = X_train.groupby('user_id')['rating'].apply(lambda x: x[x != 0].count())\n",
    "ratings_per_user.sort_values().plot(\n",
    "    kind='line', title='No. of ratings per user', use_index=False)"
   ]
  },
  {
   "cell_type": "markdown",
   "metadata": {},
   "source": [
    "From the above plot we can see that there must be one or several outliers with a large number of ratings (around 1600). Let's apply the logarithm on the y-axis."
   ]
  },
  {
   "cell_type": "code",
   "execution_count": 25,
   "metadata": {
    "ExecuteTime": {
     "end_time": "2018-11-22T22:54:03.272551Z",
     "start_time": "2018-11-22T22:54:02.644193Z"
    }
   },
   "outputs": [
    {
     "data": {
      "text/plain": [
       "<matplotlib.axes._subplots.AxesSubplot at 0x1a1fa1cdd8>"
      ]
     },
     "execution_count": 25,
     "metadata": {},
     "output_type": "execute_result"
    },
    {
     "data": {
      "image/png": "[encoded data removed]",
      "text/plain": [
       "<Figure size 432x288 with 1 Axes>"
      ]
     },
     "metadata": {
      "needs_background": "light"
     },
     "output_type": "display_data"
    }
   ],
   "source": [
    "ratings_per_user.sort_values().plot(\n",
    "    kind='line', title='No. of ratings per user', use_index=False, logy=True)"
   ]
  },
  {
   "cell_type": "markdown",
   "metadata": {
    "ExecuteTime": {
     "end_time": "2018-11-17T13:04:14.897030Z",
     "start_time": "2018-11-17T13:04:14.893184Z"
    }
   },
   "source": [
    "Now, this has more information. We can see that approx. 30% of users gave no rating at all. And more than 90% of users gave less than 200 ratings.\n",
    "\n",
    "Let's look at the percentiles information in detail to confirm this."
   ]
  },
  {
   "cell_type": "code",
   "execution_count": 26,
   "metadata": {
    "ExecuteTime": {
     "end_time": "2018-11-22T22:54:03.285240Z",
     "start_time": "2018-11-22T22:54:03.275162Z"
    }
   },
   "outputs": [
    {
     "data": {
      "text/plain": [
       "count    3297.000000\n",
       "mean       13.160449\n",
       "std        49.503169\n",
       "min         0.000000\n",
       "25%         0.000000\n",
       "33%         1.000000\n",
       "50%         2.000000\n",
       "75%         9.000000\n",
       "90%        29.000000\n",
       "95%        53.200000\n",
       "99%       151.080000\n",
       "max      1632.000000\n",
       "Name: rating, dtype: float64"
      ]
     },
     "execution_count": 26,
     "metadata": {},
     "output_type": "execute_result"
    }
   ],
   "source": [
    "ratings_per_user.describe(percentiles=[.25, 0.33, .50, .75, .90, .95, .99])"
   ]
  },
  {
   "cell_type": "markdown",
   "metadata": {},
   "source": [
    "## Algorithms and Techniques"
   ]
  },
  {
   "cell_type": "markdown",
   "metadata": {},
   "source": [
    "## Benchmark"
   ]
  },
  {
   "cell_type": "markdown",
   "metadata": {},
   "source": [
    "# Methodology"
   ]
  },
  {
   "cell_type": "markdown",
   "metadata": {},
   "source": [
    "## Data Preprocessing"
   ]
  },
  {
   "cell_type": "markdown",
   "metadata": {},
   "source": [
    "Remove records from dataset where `sector_id == 0`"
   ]
  },
  {
   "cell_type": "code",
   "execution_count": 27,
   "metadata": {
    "ExecuteTime": {
     "end_time": "2018-11-22T22:54:03.300512Z",
     "start_time": "2018-11-22T22:54:03.287125Z"
    }
   },
   "outputs": [],
   "source": [
    "X_train = X_train[X_train['sector_id'] != 0]"
   ]
  },
  {
   "cell_type": "code",
   "execution_count": 28,
   "metadata": {
    "ExecuteTime": {
     "end_time": "2018-11-22T22:54:03.304769Z",
     "start_time": "2018-11-22T22:54:03.302349Z"
    },
    "code_folding": []
   },
   "outputs": [],
   "source": [
    "# TODO\n",
    "# Consolidate sectors, e.g. sector_id: 839, 12382"
   ]
  },
  {
   "cell_type": "markdown",
   "metadata": {},
   "source": [
    "### Consolidate route names, remove duplicates"
   ]
  },
  {
   "cell_type": "markdown",
   "metadata": {
    "ExecuteTime": {
     "end_time": "2018-11-18T15:37:36.277416Z",
     "start_time": "2018-11-18T15:37:36.273212Z"
    }
   },
   "source": [
    "Since our data set does not provide a unique id for routes, we can only go by the name to identify a route. Unfortunately, there are many versions of route names as well as spelling mistakes. In order to arrive at a unique list of routes, we need to do some cleaning up.  \n",
    "\n",
    "The following example illustrates that."
   ]
  },
  {
   "cell_type": "code",
   "execution_count": 29,
   "metadata": {
    "ExecuteTime": {
     "end_time": "2018-11-22T22:54:03.365394Z",
     "start_time": "2018-11-22T22:54:03.306921Z"
    }
   },
   "outputs": [
    {
     "data": {
      "text/plain": [
       "18543    Adrspach Weg\n",
       "8849     Adrspach weg\n",
       "Name: route, dtype: object"
      ]
     },
     "execution_count": 29,
     "metadata": {},
     "output_type": "execute_result"
    }
   ],
   "source": [
    "X_train[X_train['route'].str.startswith('Adr')].drop_duplicates(subset=['route'])['route']"
   ]
  },
  {
   "cell_type": "markdown",
   "metadata": {},
   "source": [
    "Let's start by converting all route names to lowercase and removing special characters."
   ]
  },
  {
   "cell_type": "code",
   "execution_count": 30,
   "metadata": {
    "ExecuteTime": {
     "end_time": "2018-11-22T22:54:03.664571Z",
     "start_time": "2018-11-22T22:54:03.367519Z"
    },
    "code_folding": [
     0
    ]
   },
   "outputs": [],
   "source": [
    "def string_cleaning(df, columns):\n",
    "    '''Remove special characters and convert to lowercase. Apply to all columns as specified'''\n",
    "\n",
    "    df[columns] = df[columns].applymap(lambda s: s.lower())\n",
    "\n",
    "    # Need to use Series because regular replace() cannot handle RegEx\n",
    "    for c in columns:\n",
    "        df[c] = df[c].str.replace('[^A-Za-z\\s]+', '') # TODO keep numbers??\n",
    "        \n",
    "        # Remove rows with empty values as they are unusable\n",
    "        df = df[df[c] != '']\n",
    "\n",
    "    return df\n",
    "\n",
    "X_train = string_cleaning(X_train, ['route'])"
   ]
  },
  {
   "cell_type": "markdown",
   "metadata": {},
   "source": [
    "Next, let's define a couple of functions that will help us to clean up duplicate route names within sectors."
   ]
  },
  {
   "cell_type": "code",
   "execution_count": 31,
   "metadata": {
    "ExecuteTime": {
     "end_time": "2018-11-22T22:54:03.676513Z",
     "start_time": "2018-11-22T22:54:03.666753Z"
    },
    "code_folding": [
     3,
     22
    ]
   },
   "outputs": [],
   "source": [
    "# http://www.coli.uni-saarland.de/courses/LT1/2011/slides/Python-Levenshtein.html\n",
    "from Levenshtein import jaro_winkler\n",
    "\n",
    "def create_jaro_winkler(keys, prefix_weight=None):\n",
    "    '''Calculates Jaro-Winkler-Distance among all items of `keys` and returns calculation results as a matrix'''\n",
    "\n",
    "    # TODO  is there a more pythonic way of calculating this matrix?\n",
    "    \n",
    "    jaro_winkler_matrix = np.ones((len(keys), len(keys)))\n",
    "\n",
    "    i = 0\n",
    "    while i <= len(keys) - 1:\n",
    "        j = 0\n",
    "        while j <= len(keys) - 1:\n",
    "            if i != j:\n",
    "                jaro_winkler_matrix[i][j] = jaro_winkler(\n",
    "                    keys[i], keys[j]) if prefix_weight is None else jaro_winkler(keys[i], keys[j], prefix_weight)\n",
    "            j += 1\n",
    "        i += 1\n",
    "\n",
    "    return jaro_winkler_matrix\n",
    "\n",
    "def remove_overlap(d):\n",
    "    '''Resolve 'paths' within the dictionary, e.g. \n",
    "     { A : B, B : C }  ->  { A : C, B : C }\n",
    "     Returns cleaned dictionary'''\n",
    "\n",
    "    set_keys = set(d.keys())\n",
    "    set_values = set(d.values())\n",
    "    set_intersect = set_keys.intersection(set_values)\n",
    "\n",
    "    for v in set_intersect:\n",
    "        new_target = d[v]\n",
    "\n",
    "        filtered_dict = {key: new_target for (\n",
    "            key, value) in d.items() if value == v}\n",
    "        filtered_dict\n",
    "\n",
    "        for i, j in d.items():\n",
    "            if i in filtered_dict.keys():\n",
    "                d[i] = filtered_dict[i]\n",
    "\n",
    "    return d"
   ]
  },
  {
   "cell_type": "code",
   "execution_count": 32,
   "metadata": {
    "ExecuteTime": {
     "end_time": "2018-11-22T22:54:03.689162Z",
     "start_time": "2018-11-22T22:54:03.678694Z"
    },
    "code_folding": [
     0,
     50
    ]
   },
   "outputs": [],
   "source": [
    "def get_routes_per_sector(df, sector_id):\n",
    "    '''Returns a series with route names as labels and count of route name occurrences as values'''\n",
    "\n",
    "    df_one_sector = df[df['sector_id'] == sector_id]\n",
    "    return df_one_sector['route'].value_counts()\n",
    "\n",
    "def clean_route_names_sector(df, sector_id, threshold=0.9, prefix_weight=1/100, debug=False):\n",
    "    '''Replaces route name within given `sector_id` with the most similar matching name that has the most occurrences.'''\n",
    "\n",
    "    routes_per_sector = get_routes_per_sector(df, sector_id)\n",
    "    keys = routes_per_sector.keys()\n",
    "    values = routes_per_sector.values\n",
    "\n",
    "    # Create Jaro-Winkler-Matrix and fill diagonal with zeros, \n",
    "    # otherwise max value will always be 1.0 (as diagonal is always 1.0)\n",
    "    jaro_winkler_matrix = create_jaro_winkler(keys, prefix_weight)\n",
    "    np.fill_diagonal(jaro_winkler_matrix, 0)\n",
    "\n",
    "    # empty nested dictionary, for replacements of similar route names\n",
    "    replacements = {'route': {}}\n",
    "\n",
    "    # find max count of values above threshold\n",
    "    indices_above_threshold = np.transpose(\n",
    "        np.nonzero(jaro_winkler_matrix >= threshold))\n",
    "\n",
    "    first_values = [t[0] for t in indices_above_threshold]\n",
    "    unique_first_values = np.unique(first_values)\n",
    "\n",
    "    for u in unique_first_values:\n",
    "        tuples_list = [t for t in indices_above_threshold if t[0] == u]\n",
    "        counts_list = [values[t2[1]] for t2 in tuples_list]\n",
    "        val_max = max(counts_list)\n",
    "        index_max = counts_list.index(max(counts_list))\n",
    "        keys[tuples_list[index_max][1]]\n",
    "\n",
    "        if values[u] < values[tuples_list[index_max][1]]:\n",
    "            replacements['route'][keys[u]] = keys[tuples_list[index_max][1]]\n",
    "            if debug:\n",
    "                print(\n",
    "                    f'Replacement: {keys[u]}({values[u]}) : {keys[tuples_list[index_max][1]]}({values[tuples_list[index_max][1]]}) ')        \n",
    "\n",
    "    # Resolve overlaps in replacements\n",
    "    replacements['route'] = remove_overlap(replacements['route'])\n",
    "        \n",
    "    # Replace all found similar route names\n",
    "    df.loc[df['sector_id'] == sector_id] = df.replace(\n",
    "        to_replace=replacements)\n",
    "\n",
    "    return df\n",
    "\n",
    "def clean_route_names(df):\n",
    "    '''Cleans up duplicate route names within sectors.'''\n",
    "    \n",
    "    for sid in df['sector_id'].unique():\n",
    "        df = clean_route_names_sector(df, sid)\n",
    "    return df   "
   ]
  },
  {
   "cell_type": "code",
   "execution_count": 33,
   "metadata": {
    "ExecuteTime": {
     "end_time": "2018-11-22T22:54:29.591724Z",
     "start_time": "2018-11-22T22:54:03.691240Z"
    },
    "pixiedust": {
     "displayParams": {}
    }
   },
   "outputs": [],
   "source": [
    "X_train = clean_route_names(X_train)"
   ]
  },
  {
   "cell_type": "code",
   "execution_count": 34,
   "metadata": {
    "ExecuteTime": {
     "end_time": "2018-11-22T22:54:29.672093Z",
     "start_time": "2018-11-22T22:54:29.593825Z"
    }
   },
   "outputs": [
    {
     "data": {
      "text/html": [
       "<div>\n",
       "<style scoped>\n",
       "    .dataframe tbody tr th:only-of-type {\n",
       "        vertical-align: middle;\n",
       "    }\n",
       "\n",
       "    .dataframe tbody tr th {\n",
       "        vertical-align: top;\n",
       "    }\n",
       "\n",
       "    .dataframe thead th {\n",
       "        text-align: right;\n",
       "    }\n",
       "</style>\n",
       "<table border=\"1\" class=\"dataframe\">\n",
       "  <thead>\n",
       "    <tr style=\"text-align: right;\">\n",
       "      <th></th>\n",
       "      <th>id</th>\n",
       "      <th>sector_id</th>\n",
       "      <th>sector</th>\n",
       "      <th>route</th>\n",
       "      <th>rating</th>\n",
       "      <th>user_id</th>\n",
       "    </tr>\n",
       "  </thead>\n",
       "  <tbody>\n",
       "    <tr>\n",
       "      <th>18543</th>\n",
       "      <td>1210005</td>\n",
       "      <td>839</td>\n",
       "      <td>Leupoldsteiner Wand</td>\n",
       "      <td>adrspach weg</td>\n",
       "      <td>2</td>\n",
       "      <td>13622</td>\n",
       "    </tr>\n",
       "    <tr>\n",
       "      <th>100234</th>\n",
       "      <td>4442345</td>\n",
       "      <td>839</td>\n",
       "      <td>Leupoldsteiner Wand</td>\n",
       "      <td>adrspach weg</td>\n",
       "      <td>2</td>\n",
       "      <td>63837</td>\n",
       "    </tr>\n",
       "    <tr>\n",
       "      <th>32147</th>\n",
       "      <td>1872514</td>\n",
       "      <td>839</td>\n",
       "      <td>Leupoldsteiner Wand</td>\n",
       "      <td>adrspach weg</td>\n",
       "      <td>0</td>\n",
       "      <td>35290</td>\n",
       "    </tr>\n",
       "    <tr>\n",
       "      <th>73694</th>\n",
       "      <td>3472578</td>\n",
       "      <td>839</td>\n",
       "      <td>Leupoldsteiner Wand</td>\n",
       "      <td>adrspach weg</td>\n",
       "      <td>0</td>\n",
       "      <td>42086</td>\n",
       "    </tr>\n",
       "    <tr>\n",
       "      <th>43374</th>\n",
       "      <td>2423630</td>\n",
       "      <td>839</td>\n",
       "      <td>Leupoldsteiner Wand</td>\n",
       "      <td>adrspach weg</td>\n",
       "      <td>0</td>\n",
       "      <td>42457</td>\n",
       "    </tr>\n",
       "    <tr>\n",
       "      <th>8849</th>\n",
       "      <td>653580</td>\n",
       "      <td>839</td>\n",
       "      <td>Leupoldsteiner wand</td>\n",
       "      <td>adrspach weg</td>\n",
       "      <td>2</td>\n",
       "      <td>493</td>\n",
       "    </tr>\n",
       "    <tr>\n",
       "      <th>103874</th>\n",
       "      <td>4660072</td>\n",
       "      <td>839</td>\n",
       "      <td>Leupoldsteiner wand</td>\n",
       "      <td>adrspach weg</td>\n",
       "      <td>0</td>\n",
       "      <td>65237</td>\n",
       "    </tr>\n",
       "    <tr>\n",
       "      <th>108529</th>\n",
       "      <td>4785752</td>\n",
       "      <td>839</td>\n",
       "      <td>Leupoldsteiner Wand</td>\n",
       "      <td>adrspach weg</td>\n",
       "      <td>0</td>\n",
       "      <td>64806</td>\n",
       "    </tr>\n",
       "    <tr>\n",
       "      <th>83951</th>\n",
       "      <td>3876112</td>\n",
       "      <td>839</td>\n",
       "      <td>Leupoldsteiner Wand</td>\n",
       "      <td>adrspach weg</td>\n",
       "      <td>0</td>\n",
       "      <td>50842</td>\n",
       "    </tr>\n",
       "    <tr>\n",
       "      <th>108437</th>\n",
       "      <td>4784525</td>\n",
       "      <td>839</td>\n",
       "      <td>Leupoldsteiner Wand</td>\n",
       "      <td>adrspach weg</td>\n",
       "      <td>0</td>\n",
       "      <td>49724</td>\n",
       "    </tr>\n",
       "    <tr>\n",
       "      <th>72720</th>\n",
       "      <td>3455818</td>\n",
       "      <td>839</td>\n",
       "      <td>Leupoldsteiner wand</td>\n",
       "      <td>adrspach weg</td>\n",
       "      <td>2</td>\n",
       "      <td>35939</td>\n",
       "    </tr>\n",
       "  </tbody>\n",
       "</table>\n",
       "</div>"
      ],
      "text/plain": [
       "             id  sector_id               sector         route  rating  user_id\n",
       "18543   1210005        839  Leupoldsteiner Wand  adrspach weg       2    13622\n",
       "100234  4442345        839  Leupoldsteiner Wand  adrspach weg       2    63837\n",
       "32147   1872514        839  Leupoldsteiner Wand  adrspach weg       0    35290\n",
       "73694   3472578        839  Leupoldsteiner Wand  adrspach weg       0    42086\n",
       "43374   2423630        839  Leupoldsteiner Wand  adrspach weg       0    42457\n",
       "8849     653580        839  Leupoldsteiner wand  adrspach weg       2      493\n",
       "103874  4660072        839  Leupoldsteiner wand  adrspach weg       0    65237\n",
       "108529  4785752        839  Leupoldsteiner Wand  adrspach weg       0    64806\n",
       "83951   3876112        839  Leupoldsteiner Wand  adrspach weg       0    50842\n",
       "108437  4784525        839  Leupoldsteiner Wand  adrspach weg       0    49724\n",
       "72720   3455818        839  Leupoldsteiner wand  adrspach weg       2    35939"
      ]
     },
     "execution_count": 34,
     "metadata": {},
     "output_type": "execute_result"
    }
   ],
   "source": [
    "# jaro_winkler('adrschpach weg', 'adrspach weg', 1/100)\n",
    "X_train[X_train['route'].str.startswith('adr')].drop_duplicates()"
   ]
  },
  {
   "cell_type": "markdown",
   "metadata": {},
   "source": [
    "### Get list of unique routes"
   ]
  },
  {
   "cell_type": "markdown",
   "metadata": {},
   "source": [
    "Extract all the individual routes. We also keep `sector_id` here, because there can be routes with the same name that lie in different sectors."
   ]
  },
  {
   "cell_type": "code",
   "execution_count": 35,
   "metadata": {
    "ExecuteTime": {
     "end_time": "2018-11-22T22:54:29.703422Z",
     "start_time": "2018-11-22T22:54:29.675222Z"
    }
   },
   "outputs": [
    {
     "data": {
      "text/markdown": [
       "So, our new count for routes is **6743**, which is a lot less than what our naive count was."
      ],
      "text/plain": [
       "<IPython.core.display.Markdown object>"
      ]
     },
     "execution_count": 35,
     "metadata": {},
     "output_type": "execute_result"
    }
   ],
   "source": [
    "X_train_routes = X_train[['sector_id', 'route']].drop_duplicates(['sector_id', 'route'])\n",
    "a = X_train_routes.shape[0]\n",
    "md(f'So, our new count for routes is **{a}**, which is a lot less than what our naive count was.')"
   ]
  },
  {
   "cell_type": "markdown",
   "metadata": {
    "ExecuteTime": {
     "end_time": "2018-11-20T00:50:26.805548Z",
     "start_time": "2018-11-20T00:50:26.801700Z"
    }
   },
   "source": [
    "Reset the index of our consolidated list of routes."
   ]
  },
  {
   "cell_type": "code",
   "execution_count": 36,
   "metadata": {
    "ExecuteTime": {
     "end_time": "2018-11-22T22:54:29.717861Z",
     "start_time": "2018-11-22T22:54:29.706216Z"
    }
   },
   "outputs": [
    {
     "data": {
      "text/html": [
       "<div>\n",
       "<style scoped>\n",
       "    .dataframe tbody tr th:only-of-type {\n",
       "        vertical-align: middle;\n",
       "    }\n",
       "\n",
       "    .dataframe tbody tr th {\n",
       "        vertical-align: top;\n",
       "    }\n",
       "\n",
       "    .dataframe thead th {\n",
       "        text-align: right;\n",
       "    }\n",
       "</style>\n",
       "<table border=\"1\" class=\"dataframe\">\n",
       "  <thead>\n",
       "    <tr style=\"text-align: right;\">\n",
       "      <th></th>\n",
       "      <th>route_id</th>\n",
       "      <th>sector_id</th>\n",
       "      <th>route</th>\n",
       "    </tr>\n",
       "  </thead>\n",
       "  <tbody>\n",
       "    <tr>\n",
       "      <th>0</th>\n",
       "      <td>36530</td>\n",
       "      <td>833</td>\n",
       "      <td>streiflicht</td>\n",
       "    </tr>\n",
       "    <tr>\n",
       "      <th>1</th>\n",
       "      <td>21844</td>\n",
       "      <td>651</td>\n",
       "      <td>daily terror</td>\n",
       "    </tr>\n",
       "    <tr>\n",
       "      <th>2</th>\n",
       "      <td>114161</td>\n",
       "      <td>360</td>\n",
       "      <td>hier geblieben</td>\n",
       "    </tr>\n",
       "    <tr>\n",
       "      <th>3</th>\n",
       "      <td>66166</td>\n",
       "      <td>10723</td>\n",
       "      <td>schiebudenfigur</td>\n",
       "    </tr>\n",
       "    <tr>\n",
       "      <th>4</th>\n",
       "      <td>1990</td>\n",
       "      <td>1309</td>\n",
       "      <td>dala</td>\n",
       "    </tr>\n",
       "  </tbody>\n",
       "</table>\n",
       "</div>"
      ],
      "text/plain": [
       "   route_id  sector_id            route\n",
       "0     36530        833      streiflicht\n",
       "1     21844        651     daily terror\n",
       "2    114161        360   hier geblieben\n",
       "3     66166      10723  schiebudenfigur\n",
       "4      1990       1309             dala"
      ]
     },
     "execution_count": 36,
     "metadata": {},
     "output_type": "execute_result"
    }
   ],
   "source": [
    "X_train_routes.index.name = 'route_id'\n",
    "X_train_routes.reset_index(inplace=True)\n",
    "# X_train_routes = X_train_routes.drop(columns=['index'])\n",
    "X_train_routes.head(5)"
   ]
  },
  {
   "cell_type": "markdown",
   "metadata": {},
   "source": [
    "### Get list of unique users"
   ]
  },
  {
   "cell_type": "code",
   "execution_count": 37,
   "metadata": {
    "ExecuteTime": {
     "end_time": "2018-11-22T22:54:29.728432Z",
     "start_time": "2018-11-22T22:54:29.721102Z"
    }
   },
   "outputs": [
    {
     "data": {
      "text/plain": [
       "0    18527\n",
       "1     5512\n",
       "2    56508\n",
       "3    50368\n",
       "4      583\n",
       "Name: user_id, dtype: int64"
      ]
     },
     "execution_count": 37,
     "metadata": {},
     "output_type": "execute_result"
    }
   ],
   "source": [
    "X_train_users = X_train['user_id'].drop_duplicates()\n",
    "X_train_users.reset_index(inplace=True, drop=True)\n",
    "X_train_users.head(5)"
   ]
  },
  {
   "cell_type": "markdown",
   "metadata": {
    "ExecuteTime": {
     "end_time": "2018-11-20T00:54:30.111003Z",
     "start_time": "2018-11-20T00:54:30.107092Z"
    }
   },
   "source": [
    "### Get list of ratings"
   ]
  },
  {
   "cell_type": "code",
   "execution_count": 38,
   "metadata": {
    "ExecuteTime": {
     "end_time": "2018-11-22T22:54:29.930793Z",
     "start_time": "2018-11-22T22:54:29.730528Z"
    }
   },
   "outputs": [
    {
     "data": {
      "text/html": [
       "<div>\n",
       "<style scoped>\n",
       "    .dataframe tbody tr th:only-of-type {\n",
       "        vertical-align: middle;\n",
       "    }\n",
       "\n",
       "    .dataframe tbody tr th {\n",
       "        vertical-align: top;\n",
       "    }\n",
       "\n",
       "    .dataframe thead th {\n",
       "        text-align: right;\n",
       "    }\n",
       "</style>\n",
       "<table border=\"1\" class=\"dataframe\">\n",
       "  <thead>\n",
       "    <tr style=\"text-align: right;\">\n",
       "      <th></th>\n",
       "      <th>route_id</th>\n",
       "      <th>sector</th>\n",
       "      <th>route</th>\n",
       "      <th>user_id</th>\n",
       "      <th>rating</th>\n",
       "      <th>sector_route</th>\n",
       "    </tr>\n",
       "  </thead>\n",
       "  <tbody>\n",
       "    <tr>\n",
       "      <th>0</th>\n",
       "      <td>36530</td>\n",
       "      <td>Algersdorfer Wand</td>\n",
       "      <td>streiflicht</td>\n",
       "      <td>18527</td>\n",
       "      <td>0</td>\n",
       "      <td>Algersdorfer Wand_streiflicht</td>\n",
       "    </tr>\n",
       "    <tr>\n",
       "      <th>1</th>\n",
       "      <td>36530</td>\n",
       "      <td>Algersdorfer Wand</td>\n",
       "      <td>streiflicht</td>\n",
       "      <td>18527</td>\n",
       "      <td>0</td>\n",
       "      <td>Algersdorfer Wand_streiflicht</td>\n",
       "    </tr>\n",
       "    <tr>\n",
       "      <th>2</th>\n",
       "      <td>36530</td>\n",
       "      <td>Algersdorfer Wand</td>\n",
       "      <td>streiflicht</td>\n",
       "      <td>26302</td>\n",
       "      <td>3</td>\n",
       "      <td>Algersdorfer Wand_streiflicht</td>\n",
       "    </tr>\n",
       "    <tr>\n",
       "      <th>3</th>\n",
       "      <td>36530</td>\n",
       "      <td>Algersdorfer Wand</td>\n",
       "      <td>streiflicht</td>\n",
       "      <td>49569</td>\n",
       "      <td>0</td>\n",
       "      <td>Algersdorfer Wand_streiflicht</td>\n",
       "    </tr>\n",
       "    <tr>\n",
       "      <th>4</th>\n",
       "      <td>36530</td>\n",
       "      <td>Algersdorfer Wand</td>\n",
       "      <td>streiflicht</td>\n",
       "      <td>42086</td>\n",
       "      <td>0</td>\n",
       "      <td>Algersdorfer Wand_streiflicht</td>\n",
       "    </tr>\n",
       "  </tbody>\n",
       "</table>\n",
       "</div>"
      ],
      "text/plain": [
       "   route_id             sector        route  user_id  rating  \\\n",
       "0     36530  Algersdorfer Wand  streiflicht    18527       0   \n",
       "1     36530  Algersdorfer Wand  streiflicht    18527       0   \n",
       "2     36530  Algersdorfer Wand  streiflicht    26302       3   \n",
       "3     36530  Algersdorfer Wand  streiflicht    49569       0   \n",
       "4     36530  Algersdorfer Wand  streiflicht    42086       0   \n",
       "\n",
       "                    sector_route  \n",
       "0  Algersdorfer Wand_streiflicht  \n",
       "1  Algersdorfer Wand_streiflicht  \n",
       "2  Algersdorfer Wand_streiflicht  \n",
       "3  Algersdorfer Wand_streiflicht  \n",
       "4  Algersdorfer Wand_streiflicht  "
      ]
     },
     "execution_count": 38,
     "metadata": {},
     "output_type": "execute_result"
    }
   ],
   "source": [
    "X_train_ratings = pd.merge(X_train_routes, X_train, on=['sector_id', 'route'])[['route_id', 'sector', 'route', 'user_id', 'rating']]\n",
    "X_train_ratings['sector_route'] = X_train_ratings['sector'] + '_' + X_train_ratings['route']\n",
    "X_train_ratings.head(5)"
   ]
  },
  {
   "cell_type": "markdown",
   "metadata": {},
   "source": [
    "## Implementation"
   ]
  },
  {
   "cell_type": "code",
   "execution_count": 39,
   "metadata": {
    "ExecuteTime": {
     "end_time": "2018-11-22T22:54:30.826529Z",
     "start_time": "2018-11-22T22:54:29.933700Z"
    }
   },
   "outputs": [
    {
     "name": "stdout",
     "output_type": "stream",
     "text": [
      "dataset dimensions:  (3155, 7565) \n",
      "\n",
      "Subset example:\n"
     ]
    },
    {
     "data": {
      "text/html": [
       "<div>\n",
       "<style scoped>\n",
       "    .dataframe tbody tr th:only-of-type {\n",
       "        vertical-align: middle;\n",
       "    }\n",
       "\n",
       "    .dataframe tbody tr th {\n",
       "        vertical-align: top;\n",
       "    }\n",
       "\n",
       "    .dataframe thead th {\n",
       "        text-align: right;\n",
       "    }\n",
       "</style>\n",
       "<table border=\"1\" class=\"dataframe\">\n",
       "  <thead>\n",
       "    <tr style=\"text-align: right;\">\n",
       "      <th>sector_route</th>\n",
       "      <th>AMPHITHEATER_angel dust</th>\n",
       "      <th>AMPHITHEATER_die dunkle seite</th>\n",
       "      <th>Affentheater_affenhitze</th>\n",
       "      <th>Affentheater_affenkante</th>\n",
       "      <th>Affentheater_affenplatte</th>\n",
       "      <th>Affentheater_affensex</th>\n",
       "      <th>Affentheater_affentanz</th>\n",
       "      <th>Affentheater_bonobo</th>\n",
       "      <th>Affentheater_chimpanzee</th>\n",
       "      <th>Affentheater_decision</th>\n",
       "    </tr>\n",
       "    <tr>\n",
       "      <th>user_id</th>\n",
       "      <th></th>\n",
       "      <th></th>\n",
       "      <th></th>\n",
       "      <th></th>\n",
       "      <th></th>\n",
       "      <th></th>\n",
       "      <th></th>\n",
       "      <th></th>\n",
       "      <th></th>\n",
       "      <th></th>\n",
       "    </tr>\n",
       "  </thead>\n",
       "  <tbody>\n",
       "    <tr>\n",
       "      <th>3</th>\n",
       "      <td>NaN</td>\n",
       "      <td>NaN</td>\n",
       "      <td>NaN</td>\n",
       "      <td>NaN</td>\n",
       "      <td>NaN</td>\n",
       "      <td>NaN</td>\n",
       "      <td>NaN</td>\n",
       "      <td>NaN</td>\n",
       "      <td>NaN</td>\n",
       "      <td>NaN</td>\n",
       "    </tr>\n",
       "    <tr>\n",
       "      <th>10</th>\n",
       "      <td>NaN</td>\n",
       "      <td>NaN</td>\n",
       "      <td>NaN</td>\n",
       "      <td>NaN</td>\n",
       "      <td>NaN</td>\n",
       "      <td>NaN</td>\n",
       "      <td>NaN</td>\n",
       "      <td>NaN</td>\n",
       "      <td>NaN</td>\n",
       "      <td>NaN</td>\n",
       "    </tr>\n",
       "    <tr>\n",
       "      <th>15</th>\n",
       "      <td>NaN</td>\n",
       "      <td>NaN</td>\n",
       "      <td>NaN</td>\n",
       "      <td>NaN</td>\n",
       "      <td>NaN</td>\n",
       "      <td>NaN</td>\n",
       "      <td>NaN</td>\n",
       "      <td>NaN</td>\n",
       "      <td>NaN</td>\n",
       "      <td>NaN</td>\n",
       "    </tr>\n",
       "    <tr>\n",
       "      <th>18</th>\n",
       "      <td>NaN</td>\n",
       "      <td>NaN</td>\n",
       "      <td>NaN</td>\n",
       "      <td>NaN</td>\n",
       "      <td>NaN</td>\n",
       "      <td>NaN</td>\n",
       "      <td>NaN</td>\n",
       "      <td>NaN</td>\n",
       "      <td>NaN</td>\n",
       "      <td>NaN</td>\n",
       "    </tr>\n",
       "    <tr>\n",
       "      <th>32</th>\n",
       "      <td>NaN</td>\n",
       "      <td>NaN</td>\n",
       "      <td>NaN</td>\n",
       "      <td>NaN</td>\n",
       "      <td>NaN</td>\n",
       "      <td>NaN</td>\n",
       "      <td>NaN</td>\n",
       "      <td>NaN</td>\n",
       "      <td>NaN</td>\n",
       "      <td>NaN</td>\n",
       "    </tr>\n",
       "    <tr>\n",
       "      <th>38</th>\n",
       "      <td>NaN</td>\n",
       "      <td>NaN</td>\n",
       "      <td>NaN</td>\n",
       "      <td>NaN</td>\n",
       "      <td>NaN</td>\n",
       "      <td>NaN</td>\n",
       "      <td>NaN</td>\n",
       "      <td>NaN</td>\n",
       "      <td>NaN</td>\n",
       "      <td>NaN</td>\n",
       "    </tr>\n",
       "  </tbody>\n",
       "</table>\n",
       "</div>"
      ],
      "text/plain": [
       "sector_route  AMPHITHEATER_angel dust  AMPHITHEATER_die dunkle seite  \\\n",
       "user_id                                                                \n",
       "3                                 NaN                            NaN   \n",
       "10                                NaN                            NaN   \n",
       "15                                NaN                            NaN   \n",
       "18                                NaN                            NaN   \n",
       "32                                NaN                            NaN   \n",
       "38                                NaN                            NaN   \n",
       "\n",
       "sector_route  Affentheater_affenhitze  Affentheater_affenkante  \\\n",
       "user_id                                                          \n",
       "3                                 NaN                      NaN   \n",
       "10                                NaN                      NaN   \n",
       "15                                NaN                      NaN   \n",
       "18                                NaN                      NaN   \n",
       "32                                NaN                      NaN   \n",
       "38                                NaN                      NaN   \n",
       "\n",
       "sector_route  Affentheater_affenplatte  Affentheater_affensex  \\\n",
       "user_id                                                         \n",
       "3                                  NaN                    NaN   \n",
       "10                                 NaN                    NaN   \n",
       "15                                 NaN                    NaN   \n",
       "18                                 NaN                    NaN   \n",
       "32                                 NaN                    NaN   \n",
       "38                                 NaN                    NaN   \n",
       "\n",
       "sector_route  Affentheater_affentanz  Affentheater_bonobo  \\\n",
       "user_id                                                     \n",
       "3                                NaN                  NaN   \n",
       "10                               NaN                  NaN   \n",
       "15                               NaN                  NaN   \n",
       "18                               NaN                  NaN   \n",
       "32                               NaN                  NaN   \n",
       "38                               NaN                  NaN   \n",
       "\n",
       "sector_route  Affentheater_chimpanzee  Affentheater_decision  \n",
       "user_id                                                       \n",
       "3                                 NaN                    NaN  \n",
       "10                                NaN                    NaN  \n",
       "15                                NaN                    NaN  \n",
       "18                                NaN                    NaN  \n",
       "32                                NaN                    NaN  \n",
       "38                                NaN                    NaN  "
      ]
     },
     "execution_count": 39,
     "metadata": {},
     "output_type": "execute_result"
    }
   ],
   "source": [
    "\n",
    "user_route_ratings = pd.pivot_table(X_train_ratings, index='user_id', columns= 'sector_route', values='rating')\n",
    "\n",
    "print('dataset dimensions: ', user_route_ratings.shape, '\\n\\nSubset example:')\n",
    "user_route_ratings.iloc[:6, :10]"
   ]
  },
  {
   "cell_type": "code",
   "execution_count": 40,
   "metadata": {
    "ExecuteTime": {
     "end_time": "2018-11-22T22:54:30.834956Z",
     "start_time": "2018-11-22T22:54:30.828538Z"
    },
    "code_folding": [
     0,
     10,
     22
    ]
   },
   "outputs": [],
   "source": [
    "def get_most_rated_routes(user_route_ratings, max_number_of_routes):\n",
    "    # 1- Count\n",
    "    user_route_ratings = user_route_ratings.append(user_route_ratings.count(), ignore_index=True)\n",
    "    # 2- sort\n",
    "    user_route_ratings_sorted = user_route_ratings.sort_values(len(user_route_ratings)-1, axis=1, ascending=False)\n",
    "    user_route_ratings_sorted = user_route_ratings_sorted.drop(user_route_ratings_sorted.tail(1).index)\n",
    "    # 3- slice\n",
    "    most_rated_routes = user_route_ratings_sorted.iloc[:, :max_number_of_routes]\n",
    "    return most_rated_routes\n",
    "\n",
    "def get_users_who_rate_the_most(most_rated_routes, max_number_of_routes):\n",
    "    # Get most voting users\n",
    "    # 1- Count\n",
    "    most_rated_routes['counts'] = pd.Series(most_rated_routes.count(axis=1))\n",
    "    # 2- Sort\n",
    "    most_rated_routes_users = most_rated_routes.sort_values('counts', ascending=False)\n",
    "    # 3- Slice\n",
    "    most_rated_routes_users_selection = most_rated_routes_users.iloc[:max_number_of_routes, :]\n",
    "    most_rated_routes_users_selection = most_rated_routes_users_selection.drop(['counts'], axis=1)\n",
    "    \n",
    "    return most_rated_routes_users_selection\n",
    "\n",
    "def sort_by_rating_density(user_route_ratings, n_routes, n_users):\n",
    "    most_rated_routes = get_most_rated_routes(user_route_ratings, n_routes)\n",
    "    most_rated_routes = get_users_who_rate_the_most(most_rated_routes, n_users)\n",
    "    return most_rated_routes"
   ]
  },
  {
   "cell_type": "code",
   "execution_count": 41,
   "metadata": {
    "ExecuteTime": {
     "end_time": "2018-11-22T22:54:31.622583Z",
     "start_time": "2018-11-22T22:54:30.836732Z"
    }
   },
   "outputs": [
    {
     "name": "stdout",
     "output_type": "stream",
     "text": [
      "dataset dimensions:  (18, 30)\n"
     ]
    },
    {
     "data": {
      "text/html": [
       "<div>\n",
       "<style scoped>\n",
       "    .dataframe tbody tr th:only-of-type {\n",
       "        vertical-align: middle;\n",
       "    }\n",
       "\n",
       "    .dataframe tbody tr th {\n",
       "        vertical-align: top;\n",
       "    }\n",
       "\n",
       "    .dataframe thead th {\n",
       "        text-align: right;\n",
       "    }\n",
       "</style>\n",
       "<table border=\"1\" class=\"dataframe\">\n",
       "  <thead>\n",
       "    <tr style=\"text-align: right;\">\n",
       "      <th>sector_route</th>\n",
       "      <th>Weißenstein_dampfhammer</th>\n",
       "      <th>Obere Schlossbergwände_dala</th>\n",
       "      <th>Obere Schlossbergwände_liebe ohne chance</th>\n",
       "      <th>Grüne Hölle_isolation</th>\n",
       "      <th>Marientaler Wände_saftfeld</th>\n",
       "      <th>Richard Wagner Fels_fight gravity</th>\n",
       "      <th>Heldwand_heldbru</th>\n",
       "      <th>Grüne Hölle_solid rock</th>\n",
       "      <th>Freudenhaus_ejakulation</th>\n",
       "      <th>Marientaler Wände_opa falkenstein</th>\n",
       "      <th>...</th>\n",
       "      <th>Weißenstein_entsafter</th>\n",
       "      <th>Soranger Wand_second chance</th>\n",
       "      <th>Diebesloch_beavis  butthead</th>\n",
       "      <th>Soranger Wand_hungry eyes</th>\n",
       "      <th>Grüne Hölle_range rover</th>\n",
       "      <th>Bärenschlucht_herkules</th>\n",
       "      <th>Wolfsberger Grotte_orang utan</th>\n",
       "      <th>Obere Schlossbergwände_dezentraler energiepfad</th>\n",
       "      <th>Obere Schlossbergwände_invading celts</th>\n",
       "      <th>Andeltodrom_kauabouga</th>\n",
       "    </tr>\n",
       "  </thead>\n",
       "  <tbody>\n",
       "    <tr>\n",
       "      <th>1510</th>\n",
       "      <td>0.0</td>\n",
       "      <td>0.0</td>\n",
       "      <td>0.0</td>\n",
       "      <td>0.0</td>\n",
       "      <td>0.0</td>\n",
       "      <td>0.0</td>\n",
       "      <td>0.0</td>\n",
       "      <td>0.0</td>\n",
       "      <td>0.0</td>\n",
       "      <td>NaN</td>\n",
       "      <td>...</td>\n",
       "      <td>0.0</td>\n",
       "      <td>0.0</td>\n",
       "      <td>0.0</td>\n",
       "      <td>0.0</td>\n",
       "      <td>0.0</td>\n",
       "      <td>0.0</td>\n",
       "      <td>0.0</td>\n",
       "      <td>0.0</td>\n",
       "      <td>0.0</td>\n",
       "      <td>0.0</td>\n",
       "    </tr>\n",
       "    <tr>\n",
       "      <th>2116</th>\n",
       "      <td>2.0</td>\n",
       "      <td>0.0</td>\n",
       "      <td>2.0</td>\n",
       "      <td>3.0</td>\n",
       "      <td>1.0</td>\n",
       "      <td>2.0</td>\n",
       "      <td>NaN</td>\n",
       "      <td>0.0</td>\n",
       "      <td>0.0</td>\n",
       "      <td>NaN</td>\n",
       "      <td>...</td>\n",
       "      <td>3.0</td>\n",
       "      <td>NaN</td>\n",
       "      <td>1.0</td>\n",
       "      <td>2.0</td>\n",
       "      <td>NaN</td>\n",
       "      <td>2.0</td>\n",
       "      <td>1.0</td>\n",
       "      <td>1.0</td>\n",
       "      <td>0.0</td>\n",
       "      <td>0.0</td>\n",
       "    </tr>\n",
       "    <tr>\n",
       "      <th>1269</th>\n",
       "      <td>3.0</td>\n",
       "      <td>3.0</td>\n",
       "      <td>3.0</td>\n",
       "      <td>2.0</td>\n",
       "      <td>2.0</td>\n",
       "      <td>3.0</td>\n",
       "      <td>3.0</td>\n",
       "      <td>2.0</td>\n",
       "      <td>NaN</td>\n",
       "      <td>1.0</td>\n",
       "      <td>...</td>\n",
       "      <td>3.0</td>\n",
       "      <td>1.0</td>\n",
       "      <td>NaN</td>\n",
       "      <td>2.0</td>\n",
       "      <td>0.0</td>\n",
       "      <td>3.0</td>\n",
       "      <td>3.0</td>\n",
       "      <td>2.0</td>\n",
       "      <td>3.0</td>\n",
       "      <td>NaN</td>\n",
       "    </tr>\n",
       "    <tr>\n",
       "      <th>1611</th>\n",
       "      <td>3.0</td>\n",
       "      <td>0.0</td>\n",
       "      <td>3.0</td>\n",
       "      <td>0.0</td>\n",
       "      <td>0.0</td>\n",
       "      <td>3.0</td>\n",
       "      <td>3.0</td>\n",
       "      <td>0.0</td>\n",
       "      <td>0.0</td>\n",
       "      <td>0.0</td>\n",
       "      <td>...</td>\n",
       "      <td>0.0</td>\n",
       "      <td>0.0</td>\n",
       "      <td>3.0</td>\n",
       "      <td>0.0</td>\n",
       "      <td>0.0</td>\n",
       "      <td>NaN</td>\n",
       "      <td>3.0</td>\n",
       "      <td>0.0</td>\n",
       "      <td>0.0</td>\n",
       "      <td>0.0</td>\n",
       "    </tr>\n",
       "    <tr>\n",
       "      <th>349</th>\n",
       "      <td>3.0</td>\n",
       "      <td>1.0</td>\n",
       "      <td>3.0</td>\n",
       "      <td>2.0</td>\n",
       "      <td>2.0</td>\n",
       "      <td>3.0</td>\n",
       "      <td>NaN</td>\n",
       "      <td>2.0</td>\n",
       "      <td>2.0</td>\n",
       "      <td>2.0</td>\n",
       "      <td>...</td>\n",
       "      <td>3.0</td>\n",
       "      <td>1.0</td>\n",
       "      <td>3.0</td>\n",
       "      <td>2.0</td>\n",
       "      <td>NaN</td>\n",
       "      <td>NaN</td>\n",
       "      <td>3.0</td>\n",
       "      <td>3.0</td>\n",
       "      <td>1.0</td>\n",
       "      <td>1.0</td>\n",
       "    </tr>\n",
       "  </tbody>\n",
       "</table>\n",
       "<p>5 rows × 30 columns</p>\n",
       "</div>"
      ],
      "text/plain": [
       "sector_route  Weißenstein_dampfhammer  Obere Schlossbergwände_dala  \\\n",
       "1510                              0.0                          0.0   \n",
       "2116                              2.0                          0.0   \n",
       "1269                              3.0                          3.0   \n",
       "1611                              3.0                          0.0   \n",
       "349                               3.0                          1.0   \n",
       "\n",
       "sector_route  Obere Schlossbergwände_liebe ohne chance  Grüne Hölle_isolation  \\\n",
       "1510                                               0.0                    0.0   \n",
       "2116                                               2.0                    3.0   \n",
       "1269                                               3.0                    2.0   \n",
       "1611                                               3.0                    0.0   \n",
       "349                                                3.0                    2.0   \n",
       "\n",
       "sector_route  Marientaler Wände_saftfeld  Richard Wagner Fels_fight gravity  \\\n",
       "1510                                 0.0                                0.0   \n",
       "2116                                 1.0                                2.0   \n",
       "1269                                 2.0                                3.0   \n",
       "1611                                 0.0                                3.0   \n",
       "349                                  2.0                                3.0   \n",
       "\n",
       "sector_route  Heldwand_heldbru  Grüne Hölle_solid rock  \\\n",
       "1510                       0.0                     0.0   \n",
       "2116                       NaN                     0.0   \n",
       "1269                       3.0                     2.0   \n",
       "1611                       3.0                     0.0   \n",
       "349                        NaN                     2.0   \n",
       "\n",
       "sector_route  Freudenhaus_ejakulation  Marientaler Wände_opa falkenstein  \\\n",
       "1510                              0.0                                NaN   \n",
       "2116                              0.0                                NaN   \n",
       "1269                              NaN                                1.0   \n",
       "1611                              0.0                                0.0   \n",
       "349                               2.0                                2.0   \n",
       "\n",
       "sector_route          ...            Weißenstein_entsafter  \\\n",
       "1510                  ...                              0.0   \n",
       "2116                  ...                              3.0   \n",
       "1269                  ...                              3.0   \n",
       "1611                  ...                              0.0   \n",
       "349                   ...                              3.0   \n",
       "\n",
       "sector_route  Soranger Wand_second chance  Diebesloch_beavis  butthead  \\\n",
       "1510                                  0.0                          0.0   \n",
       "2116                                  NaN                          1.0   \n",
       "1269                                  1.0                          NaN   \n",
       "1611                                  0.0                          3.0   \n",
       "349                                   1.0                          3.0   \n",
       "\n",
       "sector_route  Soranger Wand_hungry eyes  Grüne Hölle_range rover  \\\n",
       "1510                                0.0                      0.0   \n",
       "2116                                2.0                      NaN   \n",
       "1269                                2.0                      0.0   \n",
       "1611                                0.0                      0.0   \n",
       "349                                 2.0                      NaN   \n",
       "\n",
       "sector_route  Bärenschlucht_herkules  Wolfsberger Grotte_orang utan  \\\n",
       "1510                             0.0                            0.0   \n",
       "2116                             2.0                            1.0   \n",
       "1269                             3.0                            3.0   \n",
       "1611                             NaN                            3.0   \n",
       "349                              NaN                            3.0   \n",
       "\n",
       "sector_route  Obere Schlossbergwände_dezentraler energiepfad  \\\n",
       "1510                                                     0.0   \n",
       "2116                                                     1.0   \n",
       "1269                                                     2.0   \n",
       "1611                                                     0.0   \n",
       "349                                                      3.0   \n",
       "\n",
       "sector_route  Obere Schlossbergwände_invading celts  Andeltodrom_kauabouga  \n",
       "1510                                            0.0                    0.0  \n",
       "2116                                            0.0                    0.0  \n",
       "1269                                            3.0                    NaN  \n",
       "1611                                            0.0                    0.0  \n",
       "349                                             1.0                    1.0  \n",
       "\n",
       "[5 rows x 30 columns]"
      ]
     },
     "execution_count": 41,
     "metadata": {},
     "output_type": "execute_result"
    }
   ],
   "source": [
    "n_routes = 30\n",
    "n_users = 18\n",
    "most_rated_routes_users_selection = sort_by_rating_density(user_route_ratings, n_routes, n_users)\n",
    "\n",
    "print('dataset dimensions: ', most_rated_routes_users_selection.shape)\n",
    "most_rated_routes_users_selection.head()"
   ]
  },
  {
   "cell_type": "code",
   "execution_count": 42,
   "metadata": {
    "ExecuteTime": {
     "end_time": "2018-11-22T22:54:31.645838Z",
     "start_time": "2018-11-22T22:54:31.625092Z"
    }
   },
   "outputs": [],
   "source": [
    "from mpl_toolkits.axes_grid1 import make_axes_locatable\n",
    "\n",
    "\n",
    "def draw_routes_heatmap(most_rated_routes_users_selection, axis_labels=True):\n",
    "\n",
    "    # Reverse to match the order of the printed dataframe\n",
    "    #most_rated_routes_users_selection = most_rated_routes_users_selection.iloc[::-1]\n",
    "\n",
    "    fig = plt.figure(figsize=(15, 4))\n",
    "    ax = plt.gca()\n",
    "\n",
    "    # Draw heatmap\n",
    "    heatmap = ax.imshow(most_rated_routes_users_selection,\n",
    "                        interpolation='nearest', vmin=0, vmax=3, aspect='auto')\n",
    "\n",
    "    if axis_labels:\n",
    "        ax.set_yticks(\n",
    "            np.arange(most_rated_routes_users_selection.shape[0]), minor=False)\n",
    "        ax.set_xticks(\n",
    "            np.arange(most_rated_routes_users_selection.shape[1]), minor=False)\n",
    "        ax.invert_yaxis()\n",
    "        ax.xaxis.tick_top()\n",
    "        labels = most_rated_routes_users_selection.columns.str[:40]\n",
    "        ax.set_xticklabels(labels, minor=False)\n",
    "        ax.set_yticklabels(\n",
    "            most_rated_routes_users_selection.index, minor=False)\n",
    "        plt.setp(ax.get_xticklabels(), rotation=90)\n",
    "    else:\n",
    "        ax.get_xaxis().set_visible(False)\n",
    "        ax.get_yaxis().set_visible(False)\n",
    "\n",
    "    ax.grid(False)\n",
    "    ax.set_ylabel('User id')\n",
    "\n",
    "    # Separate heatmap from color bar\n",
    "    divider = make_axes_locatable(ax)\n",
    "    cax = divider.append_axes(\"right\", size=\"5%\", pad=0.05)\n",
    "\n",
    "    # Color bar\n",
    "    cbar = fig.colorbar(heatmap, ticks=[3, 2, 1, 0], cax=cax)\n",
    "    cbar.ax.set_yticklabels(['3 stars', '2 stars', '1 stars', '0 stars'])\n",
    "\n",
    "    plt.show()"
   ]
  },
  {
   "cell_type": "code",
   "execution_count": 43,
   "metadata": {
    "ExecuteTime": {
     "end_time": "2018-11-22T22:54:32.256130Z",
     "start_time": "2018-11-22T22:54:31.647958Z"
    }
   },
   "outputs": [
    {
     "data": {
      "image/png": "[encoded data removed]",
      "text/plain": [
       "<Figure size 1080x288 with 2 Axes>"
      ]
     },
     "metadata": {
      "needs_background": "light"
     },
     "output_type": "display_data"
    }
   ],
   "source": [
    "draw_routes_heatmap(most_rated_routes_users_selection)"
   ]
  },
  {
   "cell_type": "code",
   "execution_count": 44,
   "metadata": {
    "ExecuteTime": {
     "end_time": "2018-11-22T22:54:34.523283Z",
     "start_time": "2018-11-22T22:54:32.257950Z"
    }
   },
   "outputs": [],
   "source": [
    "# user_route_ratings_str = user_route_ratings.copy()\n",
    "# user_route_ratings_str.columns = user_route_ratings_str.columns.astype(str)\n",
    "# sparse_ratings = csr_matrix(pd.SparseDataFrame(user_route_ratings_str).to_coo())\n",
    "\n",
    "sparse_ratings = csr_matrix(pd.SparseDataFrame(user_route_ratings).to_coo())"
   ]
  },
  {
   "cell_type": "markdown",
   "metadata": {},
   "source": [
    "### Clustering"
   ]
  },
  {
   "cell_type": "code",
   "execution_count": 45,
   "metadata": {
    "ExecuteTime": {
     "end_time": "2018-11-22T22:54:41.365530Z",
     "start_time": "2018-11-22T22:54:34.525547Z"
    }
   },
   "outputs": [],
   "source": [
    "from sklearn.cluster import KMeans\n",
    "\n",
    "# TODO find number of clusters\n",
    "\n",
    "# 20 clusters\n",
    "predictions = KMeans(n_clusters=20, algorithm='full').fit_predict(sparse_ratings)"
   ]
  },
  {
   "cell_type": "code",
   "execution_count": 46,
   "metadata": {
    "ExecuteTime": {
     "end_time": "2018-11-22T22:54:41.381140Z",
     "start_time": "2018-11-22T22:54:41.368028Z"
    },
    "code_folding": []
   },
   "outputs": [],
   "source": [
    "def draw_route_clusters(clustered, max_users, max_routes):\n",
    "    c = 1\n",
    "    for cluster_id in clustered.group.unique():\n",
    "        # To improve visibility, we're showing at most max_users users and max_routes routes per cluster.\n",
    "        # You can change these values to see more users & routes per cluster\n",
    "        d = clustered[clustered.group == cluster_id].drop(\n",
    "            ['user_id', 'group'], axis=1)\n",
    "        n_users_in_cluster = d.shape[0]\n",
    "\n",
    "        d = sort_by_rating_density(d, max_routes, max_users)\n",
    "\n",
    "        d = d.reindex_axis(d.mean().sort_values(ascending=False).index, axis=1)\n",
    "        d = d.reindex_axis(d.count(axis=1).sort_values(ascending=False).index)\n",
    "        d = d.iloc[:max_users, :max_routes]\n",
    "        n_users_in_plot = d.shape[0]\n",
    "\n",
    "        # We're only selecting to show clusters that have more than 9 users, otherwise, they're less interesting\n",
    "        if len(d) > 9:\n",
    "            print('cluster # {}'.format(cluster_id))\n",
    "            print('# of users in cluster: {}.'.format(n_users_in_cluster),\n",
    "                  '# of users in plot: {}'.format(n_users_in_plot))\n",
    "            fig = plt.figure(figsize=(15, 4))\n",
    "            ax = plt.gca()\n",
    "\n",
    "            ax.invert_yaxis()\n",
    "            ax.xaxis.tick_top()\n",
    "            labels = d.columns.str[:40]\n",
    "\n",
    "            ax.set_yticks(np.arange(d.shape[0]), minor=False)\n",
    "            ax.set_xticks(np.arange(d.shape[1]), minor=False)\n",
    "\n",
    "            ax.set_xticklabels(labels, minor=False)\n",
    "\n",
    "            ax.get_yaxis().set_visible(False)\n",
    "\n",
    "            # Heatmap\n",
    "            heatmap = plt.imshow(d, vmin=0, vmax=3, aspect='auto')\n",
    "\n",
    "            ax.set_xlabel('routes')\n",
    "            ax.set_ylabel('User id')\n",
    "\n",
    "            divider = make_axes_locatable(ax)\n",
    "            cax = divider.append_axes(\"right\", size=\"5%\", pad=0.05)\n",
    "\n",
    "            # Color bar\n",
    "            cbar = fig.colorbar(heatmap, ticks=[3, 2, 1, 0], cax=cax)\n",
    "            cbar.ax.set_yticklabels(\n",
    "                ['3 stars', '2 stars', '1 stars', '0 stars'])\n",
    "\n",
    "            plt.setp(ax.get_xticklabels(), rotation=90, fontsize=9)\n",
    "            plt.tick_params(axis='both', which='both', bottom='off',\n",
    "                            top='off', left='off', labelbottom='off', labelleft='off')\n",
    "            # print('cluster # {} \\n(Showing at most {} users and {} routes)'.format(cluster_id, max_users, max_routes))\n",
    "\n",
    "            plt.show()\n",
    "\n",
    "            # Let's only show 5 clusters\n",
    "            # Remove the next three lines if you want to see all the clusters\n",
    "            # Contribution welcomed: Pythonic way of achieving this\n",
    "            # c = c+1\n",
    "            # if c > 6:\n",
    "            #    break"
   ]
  },
  {
   "cell_type": "code",
   "execution_count": 47,
   "metadata": {
    "ExecuteTime": {
     "end_time": "2018-11-22T22:54:41.948375Z",
     "start_time": "2018-11-22T22:54:41.384291Z"
    }
   },
   "outputs": [],
   "source": [
    "max_users = 70\n",
    "max_routes = 50\n",
    "\n",
    "clustered = pd.concat([user_route_ratings.reset_index(),\n",
    "                       pd.DataFrame({'group': predictions})], axis=1)"
   ]
  },
  {
   "cell_type": "code",
   "execution_count": 48,
   "metadata": {
    "ExecuteTime": {
     "end_time": "2018-11-22T22:54:47.758938Z",
     "start_time": "2018-11-22T22:54:41.950836Z"
    }
   },
   "outputs": [
    {
     "name": "stderr",
     "output_type": "stream",
     "text": [
      "/Users/dominik/anaconda3/lib/python3.6/site-packages/ipykernel_launcher.py:12: FutureWarning: '.reindex_axis' is deprecated and will be removed in a future version. Use '.reindex' instead.\n",
      "  if sys.path[0] == '':\n",
      "/Users/dominik/anaconda3/lib/python3.6/site-packages/ipykernel_launcher.py:13: FutureWarning: '.reindex_axis' is deprecated and will be removed in a future version. Use '.reindex' instead.\n",
      "  del sys.path[0]\n",
      "/Users/dominik/anaconda3/lib/python3.6/site-packages/matplotlib/cbook/deprecation.py:107: MatplotlibDeprecationWarning: Passing one of 'on', 'true', 'off', 'false' as a boolean is deprecated; use an actual boolean (True/False) instead.\n",
      "  warnings.warn(message, mplDeprecation, stacklevel=1)\n"
     ]
    },
    {
     "name": "stdout",
     "output_type": "stream",
     "text": [
      "cluster # 1\n",
      "# of users in cluster: 2827. # of users in plot: 70\n"
     ]
    },
    {
     "data": {
      "image/png": "[encoded data removed]",
      "text/plain": [
       "<Figure size 1080x288 with 2 Axes>"
      ]
     },
     "metadata": {
      "needs_background": "light"
     },
     "output_type": "display_data"
    },
    {
     "name": "stdout",
     "output_type": "stream",
     "text": [
      "cluster # 12\n",
      "# of users in cluster: 243. # of users in plot: 70\n"
     ]
    },
    {
     "data": {
      "image/png": "[encoded data removed]",
      "text/plain": [
       "<Figure size 1080x288 with 2 Axes>"
      ]
     },
     "metadata": {
      "needs_background": "light"
     },
     "output_type": "display_data"
    },
    {
     "name": "stdout",
     "output_type": "stream",
     "text": [
      "cluster # 2\n",
      "# of users in cluster: 16. # of users in plot: 16\n"
     ]
    },
    {
     "data": {
      "image/png": "[encoded data removed]",
      "text/plain": [
       "<Figure size 1080x288 with 2 Axes>"
      ]
     },
     "metadata": {
      "needs_background": "light"
     },
     "output_type": "display_data"
    },
    {
     "name": "stdout",
     "output_type": "stream",
     "text": [
      "cluster # 4\n",
      "# of users in cluster: 52. # of users in plot: 52\n"
     ]
    },
    {
     "data": {
      "image/png": "[encoded data removed]",
      "text/plain": [
       "<Figure size 1080x288 with 2 Axes>"
      ]
     },
     "metadata": {
      "needs_background": "light"
     },
     "output_type": "display_data"
    }
   ],
   "source": [
    "draw_route_clusters(clustered, max_users, max_routes)"
   ]
  },
  {
   "cell_type": "markdown",
   "metadata": {},
   "source": [
    "\n",
    "## Prediction\n",
    "Let's pick a cluster and a specific user and see what useful things this clustering will allow us to do.\n",
    "\n",
    "Let's first pick a cluster:"
   ]
  },
  {
   "cell_type": "code",
   "execution_count": 49,
   "metadata": {
    "ExecuteTime": {
     "end_time": "2018-11-22T22:54:49.360161Z",
     "start_time": "2018-11-22T22:54:47.761296Z"
    }
   },
   "outputs": [
    {
     "data": {
      "image/png": "[encoded data removed]",
      "text/plain": [
       "<Figure size 1080x288 with 2 Axes>"
      ]
     },
     "metadata": {
      "needs_background": "light"
     },
     "output_type": "display_data"
    }
   ],
   "source": [
    "# TODO: Pick a cluster ID from the clusters above\n",
    "cluster_number = 1\n",
    "\n",
    "# Let's filter to only see the region of the dataset with the most number of values \n",
    "n_users = 75\n",
    "n_routes = 300\n",
    "cluster = clustered[clustered.group == cluster_number].drop(['user_id', 'group'], axis=1)\n",
    "\n",
    "cluster = sort_by_rating_density(cluster, n_routes, n_users)\n",
    "draw_routes_heatmap(cluster, axis_labels=False)"
   ]
  },
  {
   "cell_type": "code",
   "execution_count": 50,
   "metadata": {
    "ExecuteTime": {
     "end_time": "2018-11-22T22:54:49.878992Z",
     "start_time": "2018-11-22T22:54:49.362432Z"
    }
   },
   "outputs": [
    {
     "data": {
      "text/html": [
       "<div>\n",
       "<style scoped>\n",
       "    .dataframe tbody tr th:only-of-type {\n",
       "        vertical-align: middle;\n",
       "    }\n",
       "\n",
       "    .dataframe tbody tr th {\n",
       "        vertical-align: top;\n",
       "    }\n",
       "\n",
       "    .dataframe thead th {\n",
       "        text-align: right;\n",
       "    }\n",
       "</style>\n",
       "<table border=\"1\" class=\"dataframe\">\n",
       "  <thead>\n",
       "    <tr style=\"text-align: right;\">\n",
       "      <th></th>\n",
       "      <th>Weißenstein_dampfhammer</th>\n",
       "      <th>Grüne Hölle_isolation</th>\n",
       "      <th>Obere Schlossbergwände_dala</th>\n",
       "      <th>Grüne Hölle_solid rock</th>\n",
       "      <th>Obere Schlossbergwände_liebe ohne chance</th>\n",
       "      <th>Richard Wagner Fels_fight gravity</th>\n",
       "      <th>Marientaler Wände_saftfeld</th>\n",
       "      <th>Marientaler Wände_opa falkenstein</th>\n",
       "      <th>Heldwand_heldbru</th>\n",
       "      <th>Freudenhaus_ejakulation</th>\n",
       "      <th>...</th>\n",
       "      <th>Maximilianswand_sdriss</th>\n",
       "      <th>Schlosszwergwand_windkraft</th>\n",
       "      <th>Püttlacher Wand_das geschenk</th>\n",
       "      <th>Holzgauer Wand_fr charles mingus</th>\n",
       "      <th>Rolandfels_carolin reiber</th>\n",
       "      <th>Edelsteine_saphir</th>\n",
       "      <th>Roter Fels_ringe der idioten</th>\n",
       "      <th>Schlaraffenland_commander superfinger</th>\n",
       "      <th>Püttlacher Wand_alten resten eine chance</th>\n",
       "      <th>Erinnerungswand_city cobra</th>\n",
       "    </tr>\n",
       "  </thead>\n",
       "  <tbody>\n",
       "    <tr>\n",
       "      <th>753</th>\n",
       "      <td>0</td>\n",
       "      <td></td>\n",
       "      <td>0</td>\n",
       "      <td></td>\n",
       "      <td></td>\n",
       "      <td></td>\n",
       "      <td>0</td>\n",
       "      <td>0</td>\n",
       "      <td>0</td>\n",
       "      <td></td>\n",
       "      <td>...</td>\n",
       "      <td>0</td>\n",
       "      <td>0</td>\n",
       "      <td></td>\n",
       "      <td></td>\n",
       "      <td></td>\n",
       "      <td></td>\n",
       "      <td></td>\n",
       "      <td></td>\n",
       "      <td>0</td>\n",
       "      <td></td>\n",
       "    </tr>\n",
       "    <tr>\n",
       "      <th>1404</th>\n",
       "      <td>0</td>\n",
       "      <td>0</td>\n",
       "      <td>0</td>\n",
       "      <td>0</td>\n",
       "      <td></td>\n",
       "      <td>0</td>\n",
       "      <td>0</td>\n",
       "      <td>0</td>\n",
       "      <td>0</td>\n",
       "      <td>0</td>\n",
       "      <td>...</td>\n",
       "      <td></td>\n",
       "      <td></td>\n",
       "      <td></td>\n",
       "      <td>0</td>\n",
       "      <td></td>\n",
       "      <td>0</td>\n",
       "      <td>0</td>\n",
       "      <td></td>\n",
       "      <td></td>\n",
       "      <td></td>\n",
       "    </tr>\n",
       "    <tr>\n",
       "      <th>2778</th>\n",
       "      <td>0</td>\n",
       "      <td>0</td>\n",
       "      <td></td>\n",
       "      <td>0</td>\n",
       "      <td></td>\n",
       "      <td>0</td>\n",
       "      <td></td>\n",
       "      <td></td>\n",
       "      <td></td>\n",
       "      <td></td>\n",
       "      <td>...</td>\n",
       "      <td>0</td>\n",
       "      <td></td>\n",
       "      <td></td>\n",
       "      <td></td>\n",
       "      <td></td>\n",
       "      <td></td>\n",
       "      <td></td>\n",
       "      <td></td>\n",
       "      <td></td>\n",
       "      <td></td>\n",
       "    </tr>\n",
       "    <tr>\n",
       "      <th>1310</th>\n",
       "      <td>0</td>\n",
       "      <td>0</td>\n",
       "      <td>0</td>\n",
       "      <td>0</td>\n",
       "      <td>0</td>\n",
       "      <td>0</td>\n",
       "      <td>0</td>\n",
       "      <td></td>\n",
       "      <td>0</td>\n",
       "      <td>0</td>\n",
       "      <td>...</td>\n",
       "      <td></td>\n",
       "      <td></td>\n",
       "      <td></td>\n",
       "      <td>0</td>\n",
       "      <td>0</td>\n",
       "      <td></td>\n",
       "      <td></td>\n",
       "      <td>0</td>\n",
       "      <td></td>\n",
       "      <td>0</td>\n",
       "    </tr>\n",
       "    <tr>\n",
       "      <th>1465</th>\n",
       "      <td>0</td>\n",
       "      <td></td>\n",
       "      <td></td>\n",
       "      <td></td>\n",
       "      <td></td>\n",
       "      <td></td>\n",
       "      <td></td>\n",
       "      <td>0</td>\n",
       "      <td>0</td>\n",
       "      <td></td>\n",
       "      <td>...</td>\n",
       "      <td></td>\n",
       "      <td></td>\n",
       "      <td></td>\n",
       "      <td></td>\n",
       "      <td></td>\n",
       "      <td></td>\n",
       "      <td>0</td>\n",
       "      <td></td>\n",
       "      <td>0</td>\n",
       "      <td></td>\n",
       "    </tr>\n",
       "  </tbody>\n",
       "</table>\n",
       "<p>5 rows × 300 columns</p>\n",
       "</div>"
      ],
      "text/plain": [
       "     Weißenstein_dampfhammer Grüne Hölle_isolation  \\\n",
       "753                        0                         \n",
       "1404                       0                     0   \n",
       "2778                       0                     0   \n",
       "1310                       0                     0   \n",
       "1465                       0                         \n",
       "\n",
       "     Obere Schlossbergwände_dala Grüne Hölle_solid rock  \\\n",
       "753                            0                          \n",
       "1404                           0                      0   \n",
       "2778                                                  0   \n",
       "1310                           0                      0   \n",
       "1465                                                      \n",
       "\n",
       "     Obere Schlossbergwände_liebe ohne chance  \\\n",
       "753                                             \n",
       "1404                                            \n",
       "2778                                            \n",
       "1310                                        0   \n",
       "1465                                            \n",
       "\n",
       "     Richard Wagner Fels_fight gravity Marientaler Wände_saftfeld  \\\n",
       "753                                                             0   \n",
       "1404                                 0                          0   \n",
       "2778                                 0                              \n",
       "1310                                 0                          0   \n",
       "1465                                                                \n",
       "\n",
       "     Marientaler Wände_opa falkenstein Heldwand_heldbru  \\\n",
       "753                                  0                0   \n",
       "1404                                 0                0   \n",
       "2778                                                      \n",
       "1310                                                  0   \n",
       "1465                                 0                0   \n",
       "\n",
       "     Freudenhaus_ejakulation            ...              \\\n",
       "753                                     ...               \n",
       "1404                       0            ...               \n",
       "2778                                    ...               \n",
       "1310                       0            ...               \n",
       "1465                                    ...               \n",
       "\n",
       "     Maximilianswand_sdriss Schlosszwergwand_windkraft  \\\n",
       "753                       0                          0   \n",
       "1404                                                     \n",
       "2778                      0                              \n",
       "1310                                                     \n",
       "1465                                                     \n",
       "\n",
       "     Püttlacher Wand_das geschenk Holzgauer Wand_fr charles mingus  \\\n",
       "753                                                                  \n",
       "1404                                                             0   \n",
       "2778                                                                 \n",
       "1310                                                             0   \n",
       "1465                                                                 \n",
       "\n",
       "     Rolandfels_carolin reiber Edelsteine_saphir Roter Fels_ringe der idioten  \\\n",
       "753                                                                             \n",
       "1404                                           0                            0   \n",
       "2778                                                                            \n",
       "1310                         0                                                  \n",
       "1465                                                                        0   \n",
       "\n",
       "     Schlaraffenland_commander superfinger  \\\n",
       "753                                          \n",
       "1404                                         \n",
       "2778                                         \n",
       "1310                                     0   \n",
       "1465                                         \n",
       "\n",
       "     Püttlacher Wand_alten resten eine chance Erinnerungswand_city cobra  \n",
       "753                                         0                             \n",
       "1404                                                                      \n",
       "2778                                                                      \n",
       "1310                                                                   0  \n",
       "1465                                        0                             \n",
       "\n",
       "[5 rows x 300 columns]"
      ]
     },
     "execution_count": 50,
     "metadata": {},
     "output_type": "execute_result"
    }
   ],
   "source": [
    "cluster.fillna('').head()"
   ]
  },
  {
   "cell_type": "code",
   "execution_count": 51,
   "metadata": {
    "ExecuteTime": {
     "end_time": "2018-11-22T22:54:49.886003Z",
     "start_time": "2018-11-22T22:54:49.881291Z"
    }
   },
   "outputs": [
    {
     "data": {
      "text/plain": [
       "0.3333333333333333"
      ]
     },
     "execution_count": 51,
     "metadata": {},
     "output_type": "execute_result"
    }
   ],
   "source": [
    "route_name = 'Wolfsberger Grotte_panda'\n",
    "\n",
    "cluster[route_name].mean()"
   ]
  },
  {
   "cell_type": "code",
   "execution_count": 75,
   "metadata": {
    "ExecuteTime": {
     "end_time": "2018-11-24T21:46:29.277776Z",
     "start_time": "2018-11-24T21:46:29.220448Z"
    }
   },
   "outputs": [
    {
     "data": {
      "text/plain": [
       "12"
      ]
     },
     "execution_count": 75,
     "metadata": {},
     "output_type": "execute_result"
    },
    {
     "data": {
      "text/html": [
       "<div>\n",
       "<style scoped>\n",
       "    .dataframe tbody tr th:only-of-type {\n",
       "        vertical-align: middle;\n",
       "    }\n",
       "\n",
       "    .dataframe tbody tr th {\n",
       "        vertical-align: top;\n",
       "    }\n",
       "\n",
       "    .dataframe thead th {\n",
       "        text-align: right;\n",
       "    }\n",
       "</style>\n",
       "<table border=\"1\" class=\"dataframe\">\n",
       "  <thead>\n",
       "    <tr style=\"text-align: right;\">\n",
       "      <th></th>\n",
       "      <th>user_id</th>\n",
       "      <th>group</th>\n",
       "    </tr>\n",
       "  </thead>\n",
       "  <tbody>\n",
       "    <tr>\n",
       "      <th>0</th>\n",
       "      <td>3</td>\n",
       "      <td>1</td>\n",
       "    </tr>\n",
       "    <tr>\n",
       "      <th>1</th>\n",
       "      <td>10</td>\n",
       "      <td>1</td>\n",
       "    </tr>\n",
       "    <tr>\n",
       "      <th>2</th>\n",
       "      <td>15</td>\n",
       "      <td>1</td>\n",
       "    </tr>\n",
       "    <tr>\n",
       "      <th>3</th>\n",
       "      <td>18</td>\n",
       "      <td>1</td>\n",
       "    </tr>\n",
       "    <tr>\n",
       "      <th>4</th>\n",
       "      <td>32</td>\n",
       "      <td>1</td>\n",
       "    </tr>\n",
       "    <tr>\n",
       "      <th>5</th>\n",
       "      <td>38</td>\n",
       "      <td>12</td>\n",
       "    </tr>\n",
       "    <tr>\n",
       "      <th>6</th>\n",
       "      <td>49</td>\n",
       "      <td>1</td>\n",
       "    </tr>\n",
       "    <tr>\n",
       "      <th>7</th>\n",
       "      <td>78</td>\n",
       "      <td>1</td>\n",
       "    </tr>\n",
       "    <tr>\n",
       "      <th>8</th>\n",
       "      <td>79</td>\n",
       "      <td>12</td>\n",
       "    </tr>\n",
       "    <tr>\n",
       "      <th>9</th>\n",
       "      <td>88</td>\n",
       "      <td>1</td>\n",
       "    </tr>\n",
       "    <tr>\n",
       "      <th>10</th>\n",
       "      <td>90</td>\n",
       "      <td>1</td>\n",
       "    </tr>\n",
       "    <tr>\n",
       "      <th>11</th>\n",
       "      <td>118</td>\n",
       "      <td>1</td>\n",
       "    </tr>\n",
       "    <tr>\n",
       "      <th>12</th>\n",
       "      <td>128</td>\n",
       "      <td>1</td>\n",
       "    </tr>\n",
       "    <tr>\n",
       "      <th>13</th>\n",
       "      <td>145</td>\n",
       "      <td>1</td>\n",
       "    </tr>\n",
       "    <tr>\n",
       "      <th>14</th>\n",
       "      <td>149</td>\n",
       "      <td>1</td>\n",
       "    </tr>\n",
       "    <tr>\n",
       "      <th>15</th>\n",
       "      <td>155</td>\n",
       "      <td>1</td>\n",
       "    </tr>\n",
       "    <tr>\n",
       "      <th>16</th>\n",
       "      <td>164</td>\n",
       "      <td>12</td>\n",
       "    </tr>\n",
       "    <tr>\n",
       "      <th>17</th>\n",
       "      <td>206</td>\n",
       "      <td>1</td>\n",
       "    </tr>\n",
       "    <tr>\n",
       "      <th>18</th>\n",
       "      <td>212</td>\n",
       "      <td>1</td>\n",
       "    </tr>\n",
       "    <tr>\n",
       "      <th>19</th>\n",
       "      <td>213</td>\n",
       "      <td>12</td>\n",
       "    </tr>\n",
       "    <tr>\n",
       "      <th>20</th>\n",
       "      <td>228</td>\n",
       "      <td>1</td>\n",
       "    </tr>\n",
       "    <tr>\n",
       "      <th>21</th>\n",
       "      <td>235</td>\n",
       "      <td>1</td>\n",
       "    </tr>\n",
       "    <tr>\n",
       "      <th>22</th>\n",
       "      <td>238</td>\n",
       "      <td>1</td>\n",
       "    </tr>\n",
       "    <tr>\n",
       "      <th>23</th>\n",
       "      <td>240</td>\n",
       "      <td>1</td>\n",
       "    </tr>\n",
       "    <tr>\n",
       "      <th>24</th>\n",
       "      <td>249</td>\n",
       "      <td>1</td>\n",
       "    </tr>\n",
       "    <tr>\n",
       "      <th>25</th>\n",
       "      <td>276</td>\n",
       "      <td>1</td>\n",
       "    </tr>\n",
       "    <tr>\n",
       "      <th>26</th>\n",
       "      <td>296</td>\n",
       "      <td>1</td>\n",
       "    </tr>\n",
       "    <tr>\n",
       "      <th>27</th>\n",
       "      <td>355</td>\n",
       "      <td>12</td>\n",
       "    </tr>\n",
       "    <tr>\n",
       "      <th>28</th>\n",
       "      <td>384</td>\n",
       "      <td>1</td>\n",
       "    </tr>\n",
       "    <tr>\n",
       "      <th>29</th>\n",
       "      <td>394</td>\n",
       "      <td>1</td>\n",
       "    </tr>\n",
       "    <tr>\n",
       "      <th>...</th>\n",
       "      <td>...</td>\n",
       "      <td>...</td>\n",
       "    </tr>\n",
       "    <tr>\n",
       "      <th>3125</th>\n",
       "      <td>66074</td>\n",
       "      <td>1</td>\n",
       "    </tr>\n",
       "    <tr>\n",
       "      <th>3126</th>\n",
       "      <td>66183</td>\n",
       "      <td>1</td>\n",
       "    </tr>\n",
       "    <tr>\n",
       "      <th>3127</th>\n",
       "      <td>66197</td>\n",
       "      <td>1</td>\n",
       "    </tr>\n",
       "    <tr>\n",
       "      <th>3128</th>\n",
       "      <td>66214</td>\n",
       "      <td>1</td>\n",
       "    </tr>\n",
       "    <tr>\n",
       "      <th>3129</th>\n",
       "      <td>66230</td>\n",
       "      <td>1</td>\n",
       "    </tr>\n",
       "    <tr>\n",
       "      <th>3130</th>\n",
       "      <td>66248</td>\n",
       "      <td>1</td>\n",
       "    </tr>\n",
       "    <tr>\n",
       "      <th>3131</th>\n",
       "      <td>66250</td>\n",
       "      <td>1</td>\n",
       "    </tr>\n",
       "    <tr>\n",
       "      <th>3132</th>\n",
       "      <td>66261</td>\n",
       "      <td>1</td>\n",
       "    </tr>\n",
       "    <tr>\n",
       "      <th>3133</th>\n",
       "      <td>66300</td>\n",
       "      <td>1</td>\n",
       "    </tr>\n",
       "    <tr>\n",
       "      <th>3134</th>\n",
       "      <td>66305</td>\n",
       "      <td>2</td>\n",
       "    </tr>\n",
       "    <tr>\n",
       "      <th>3135</th>\n",
       "      <td>66307</td>\n",
       "      <td>1</td>\n",
       "    </tr>\n",
       "    <tr>\n",
       "      <th>3136</th>\n",
       "      <td>66309</td>\n",
       "      <td>1</td>\n",
       "    </tr>\n",
       "    <tr>\n",
       "      <th>3137</th>\n",
       "      <td>66311</td>\n",
       "      <td>1</td>\n",
       "    </tr>\n",
       "    <tr>\n",
       "      <th>3138</th>\n",
       "      <td>66313</td>\n",
       "      <td>1</td>\n",
       "    </tr>\n",
       "    <tr>\n",
       "      <th>3139</th>\n",
       "      <td>66321</td>\n",
       "      <td>1</td>\n",
       "    </tr>\n",
       "    <tr>\n",
       "      <th>3140</th>\n",
       "      <td>66351</td>\n",
       "      <td>1</td>\n",
       "    </tr>\n",
       "    <tr>\n",
       "      <th>3141</th>\n",
       "      <td>66377</td>\n",
       "      <td>1</td>\n",
       "    </tr>\n",
       "    <tr>\n",
       "      <th>3142</th>\n",
       "      <td>66466</td>\n",
       "      <td>1</td>\n",
       "    </tr>\n",
       "    <tr>\n",
       "      <th>3143</th>\n",
       "      <td>66470</td>\n",
       "      <td>1</td>\n",
       "    </tr>\n",
       "    <tr>\n",
       "      <th>3144</th>\n",
       "      <td>66522</td>\n",
       "      <td>1</td>\n",
       "    </tr>\n",
       "    <tr>\n",
       "      <th>3145</th>\n",
       "      <td>66562</td>\n",
       "      <td>1</td>\n",
       "    </tr>\n",
       "    <tr>\n",
       "      <th>3146</th>\n",
       "      <td>66704</td>\n",
       "      <td>1</td>\n",
       "    </tr>\n",
       "    <tr>\n",
       "      <th>3147</th>\n",
       "      <td>66724</td>\n",
       "      <td>1</td>\n",
       "    </tr>\n",
       "    <tr>\n",
       "      <th>3148</th>\n",
       "      <td>66738</td>\n",
       "      <td>1</td>\n",
       "    </tr>\n",
       "    <tr>\n",
       "      <th>3149</th>\n",
       "      <td>66740</td>\n",
       "      <td>1</td>\n",
       "    </tr>\n",
       "    <tr>\n",
       "      <th>3150</th>\n",
       "      <td>66801</td>\n",
       "      <td>1</td>\n",
       "    </tr>\n",
       "    <tr>\n",
       "      <th>3151</th>\n",
       "      <td>66804</td>\n",
       "      <td>1</td>\n",
       "    </tr>\n",
       "    <tr>\n",
       "      <th>3152</th>\n",
       "      <td>66842</td>\n",
       "      <td>1</td>\n",
       "    </tr>\n",
       "    <tr>\n",
       "      <th>3153</th>\n",
       "      <td>66943</td>\n",
       "      <td>1</td>\n",
       "    </tr>\n",
       "    <tr>\n",
       "      <th>3154</th>\n",
       "      <td>66965</td>\n",
       "      <td>1</td>\n",
       "    </tr>\n",
       "  </tbody>\n",
       "</table>\n",
       "<p>3155 rows × 2 columns</p>\n",
       "</div>"
      ],
      "text/plain": [
       "      user_id  group\n",
       "0           3      1\n",
       "1          10      1\n",
       "2          15      1\n",
       "3          18      1\n",
       "4          32      1\n",
       "5          38     12\n",
       "6          49      1\n",
       "7          78      1\n",
       "8          79     12\n",
       "9          88      1\n",
       "10         90      1\n",
       "11        118      1\n",
       "12        128      1\n",
       "13        145      1\n",
       "14        149      1\n",
       "15        155      1\n",
       "16        164     12\n",
       "17        206      1\n",
       "18        212      1\n",
       "19        213     12\n",
       "20        228      1\n",
       "21        235      1\n",
       "22        238      1\n",
       "23        240      1\n",
       "24        249      1\n",
       "25        276      1\n",
       "26        296      1\n",
       "27        355     12\n",
       "28        384      1\n",
       "29        394      1\n",
       "...       ...    ...\n",
       "3125    66074      1\n",
       "3126    66183      1\n",
       "3127    66197      1\n",
       "3128    66214      1\n",
       "3129    66230      1\n",
       "3130    66248      1\n",
       "3131    66250      1\n",
       "3132    66261      1\n",
       "3133    66300      1\n",
       "3134    66305      2\n",
       "3135    66307      1\n",
       "3136    66309      1\n",
       "3137    66311      1\n",
       "3138    66313      1\n",
       "3139    66321      1\n",
       "3140    66351      1\n",
       "3141    66377      1\n",
       "3142    66466      1\n",
       "3143    66470      1\n",
       "3144    66522      1\n",
       "3145    66562      1\n",
       "3146    66704      1\n",
       "3147    66724      1\n",
       "3148    66738      1\n",
       "3149    66740      1\n",
       "3150    66801      1\n",
       "3151    66804      1\n",
       "3152    66842      1\n",
       "3153    66943      1\n",
       "3154    66965      1\n",
       "\n",
       "[3155 rows x 2 columns]"
      ]
     },
     "execution_count": 75,
     "metadata": {},
     "output_type": "execute_result"
    }
   ],
   "source": [
    "clustered[clustered['user_id'] == 38]['group'].iloc[0]\n",
    "\n",
    "clustered[['user_id', 'group']]"
   ]
  },
  {
   "cell_type": "code",
   "execution_count": 52,
   "metadata": {
    "ExecuteTime": {
     "end_time": "2018-11-24T21:15:09.134799Z",
     "start_time": "2018-11-24T21:15:08.953496Z"
    }
   },
   "outputs": [],
   "source": [
    "def cluster_membership(clusterd, user_id):\n",
    "    '''given a clustered dataframe, returns the cluster number that user_id is a member of'''\n",
    "    \n",
    "    return clustered[clustered['user_id'] == user_id]['group'].iloc[0]"
   ]
  },
  {
   "cell_type": "markdown",
   "metadata": {},
   "source": [
    "## Refinement"
   ]
  },
  {
   "cell_type": "markdown",
   "metadata": {},
   "source": [
    "# Results"
   ]
  },
  {
   "cell_type": "markdown",
   "metadata": {},
   "source": [
    "## Model Evaluation and Validation"
   ]
  },
  {
   "cell_type": "markdown",
   "metadata": {},
   "source": [
    "## Justification"
   ]
  },
  {
   "cell_type": "markdown",
   "metadata": {},
   "source": [
    "# Conclusion"
   ]
  },
  {
   "cell_type": "markdown",
   "metadata": {},
   "source": [
    "## Free-Form Visualization"
   ]
  },
  {
   "cell_type": "markdown",
   "metadata": {},
   "source": [
    "## Reflection"
   ]
  },
  {
   "cell_type": "markdown",
   "metadata": {},
   "source": [
    "## Improvement"
   ]
  }
 ],
 "metadata": {
  "hide_input": false,
  "kernelspec": {
   "display_name": "Python 3",
   "language": "python",
   "name": "python3"
  },
  "language_info": {
   "codemirror_mode": {
    "name": "ipython",
    "version": 3
   },
   "file_extension": ".py",
   "mimetype": "text/x-python",
   "name": "python",
   "nbconvert_exporter": "python",
   "pygments_lexer": "ipython3",
   "version": "3.6.6"
  },
  "toc": {
   "nav_menu": {},
   "number_sections": true,
   "sideBar": true,
   "skip_h1_title": false,
   "toc_cell": false,
   "toc_position": {},
   "toc_section_display": "block",
   "toc_window_display": false
  },
  "varInspector": {
   "cols": {
    "lenName": 16,
    "lenType": 16,
    "lenVar": 40
   },
   "kernels_config": {
    "python": {
     "delete_cmd_postfix": "",
     "delete_cmd_prefix": "del ",
     "library": "var_list.py",
     "varRefreshCmd": "print(var_dic_list())"
    },
    "r": {
     "delete_cmd_postfix": ") ",
     "delete_cmd_prefix": "rm(",
     "library": "var_list.r",
     "varRefreshCmd": "cat(var_dic_list()) "
    }
   },
   "oldHeight": 419,
   "position": {
    "height": "514px",
    "left": "771px",
    "right": "20px",
    "top": "146px",
    "width": "559px"
   },
   "types_to_exclude": [
    "module",
    "function",
    "builtin_function_or_method",
    "instance",
    "_Feature"
   ],
   "varInspector_section_display": "block",
   "window_display": false
  }
 },
 "nbformat": 4,
 "nbformat_minor": 2
}
