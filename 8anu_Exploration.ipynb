{
 "cells": [
  {
   "cell_type": "markdown",
   "metadata": {},
   "source": [
    "# Definition"
   ]
  },
  {
   "cell_type": "markdown",
   "metadata": {},
   "source": [
    "## Project Overview"
   ]
  },
  {
   "cell_type": "markdown",
   "metadata": {},
   "source": [
    "## Problem Statement"
   ]
  },
  {
   "cell_type": "markdown",
   "metadata": {},
   "source": [
    "## Metrics"
   ]
  },
  {
   "cell_type": "markdown",
   "metadata": {},
   "source": [
    "# Analysis"
   ]
  },
  {
   "cell_type": "markdown",
   "metadata": {},
   "source": [
    "## Data Exploration"
   ]
  },
  {
   "cell_type": "code",
   "execution_count": 1,
   "metadata": {
    "ExecuteTime": {
     "end_time": "2018-12-16T21:32:18.417813Z",
     "start_time": "2018-12-16T21:32:13.910142Z"
    },
    "pixiedust": {
     "displayParams": {}
    }
   },
   "outputs": [
    {
     "name": "stdout",
     "output_type": "stream",
     "text": [
      "Pixiedust database opened successfully\n"
     ]
    },
    {
     "data": {
      "text/html": [
       "\n",
       "        <div style=\"margin:10px\">\n",
       "            <a href=\"https://github.com/ibm-watson-data-lab/pixiedust\" target=\"_new\">\n",
       "                <img src=\"https://github.com/ibm-watson-data-lab/pixiedust/raw/master/docs/_static/pd_icon32.png\" style=\"float:left;margin-right:10px\"/>\n",
       "            </a>\n",
       "            <span>Pixiedust version 1.1.14</span>\n",
       "        </div>\n",
       "        "
      ],
      "text/plain": [
       "<IPython.core.display.HTML object>"
      ]
     },
     "metadata": {},
     "output_type": "display_data"
    }
   ],
   "source": [
    "import sqlite3\n",
    "import pandas as pd\n",
    "import numpy as np\n",
    "import matplotlib.pyplot as plt\n",
    "import xlsxwriter\n",
    "import pixiedust\n",
    "from IPython.display import Markdown as md\n",
    "from scipy.sparse import csr_matrix\n",
    "from sklearn.metrics import silhouette_samples, silhouette_score\n",
    "\n",
    "%matplotlib inline\n",
    "\n",
    "import plot_helper"
   ]
  },
  {
   "cell_type": "code",
   "execution_count": 2,
   "metadata": {
    "ExecuteTime": {
     "end_time": "2018-12-16T21:32:18.422715Z",
     "start_time": "2018-12-16T21:32:18.419998Z"
    }
   },
   "outputs": [],
   "source": [
    "from IPython.core.interactiveshell import InteractiveShell\n",
    "InteractiveShell.ast_node_interactivity = \"all\""
   ]
  },
  {
   "cell_type": "markdown",
   "metadata": {},
   "source": [
    "The data set for this project was downloaded from Kaggle at  \n",
    "[8anu climbing logbook](https://www.kaggle.com/dcohen21/8anu-climbing-logbook)"
   ]
  },
  {
   "cell_type": "markdown",
   "metadata": {},
   "source": [
    "First we need to connect to the database provided and extract information into a pandas dataframe."
   ]
  },
  {
   "cell_type": "code",
   "execution_count": 3,
   "metadata": {
    "ExecuteTime": {
     "end_time": "2018-12-16T21:32:26.984897Z",
     "start_time": "2018-12-16T21:32:18.425719Z"
    },
    "code_folding": [
     0
    ]
   },
   "outputs": [],
   "source": [
    "# Connect to db\n",
    "conn = sqlite3.connect('data/8anu.sqlite')\n",
    "\n",
    "# Read data into pandas\n",
    "sql = ('SELECT a.id, a.country AS crag_country, a.crag_id, a.crag, a.sector_id, a.sector, a.name AS route, '\n",
    "       'a.grade_id, g.fra_routes AS grade, a.year, a.date, a.method_id, m.shorthand AS method, a.notes, a.raw_notes, a.rating, '\n",
    "       'a.user_id, u.country AS user_country, u.city AS user_city, u.sex, u.height, u.weight, u.birth AS birthdate, u.started AS started_climbing '\n",
    "       'FROM ('\n",
    "           'SELECT * '\n",
    "           'FROM ascent '\n",
    "           'WHERE crag=\\'Frankenjura\\' AND climb_type=0'\n",
    "       ') AS a '\n",
    "       'LEFT OUTER JOIN grade AS g ON a.grade_id=g.id '\n",
    "       'LEFT OUTER JOIN method AS m ON a.method_id=m.id '\n",
    "       'LEFT OUTER JOIN user AS u ON a.user_id=u.id '\n",
    "       )\n",
    "df = pd.read_sql_query(sql, conn)\n",
    "\n",
    "# Close db connection\n",
    "conn.close()"
   ]
  },
  {
   "cell_type": "markdown",
   "metadata": {},
   "source": [
    "The two cells below extract data in CSV, as well as Excel format."
   ]
  },
  {
   "cell_type": "code",
   "execution_count": 4,
   "metadata": {
    "ExecuteTime": {
     "end_time": "2018-12-16T21:32:26.989943Z",
     "start_time": "2018-12-16T21:32:26.987185Z"
    },
    "code_folding": []
   },
   "outputs": [],
   "source": [
    "# Export to .csv for submitting Project Proposal to Udacity\n",
    "#df.to_csv('data/8anu_franken.csv', sep=';')"
   ]
  },
  {
   "cell_type": "code",
   "execution_count": 5,
   "metadata": {
    "ExecuteTime": {
     "end_time": "2018-12-16T21:32:26.995098Z",
     "start_time": "2018-12-16T21:32:26.992315Z"
    },
    "code_folding": [
     0
    ]
   },
   "outputs": [],
   "source": [
    "# Export to .xlsx\n",
    "# Create a Pandas Excel writer using XlsxWriter as the engine.\n",
    "#writer = pd.ExcelWriter('data/8anu_franken.xlsx', engine='xlsxwriter')\n",
    "\n",
    "# Convert the dataframe to an XlsxWriter Excel object.\n",
    "#df.to_excel(writer, sheet_name='Sheet1')\n",
    "\n",
    "# Close the Pandas Excel writer and output the Excel file.\n",
    "#writer.save()"
   ]
  },
  {
   "cell_type": "markdown",
   "metadata": {},
   "source": [
    "### General information about the data set"
   ]
  },
  {
   "cell_type": "markdown",
   "metadata": {},
   "source": [
    "Let's take a look at the columns and a few examples we extracted from our data source."
   ]
  },
  {
   "cell_type": "code",
   "execution_count": 6,
   "metadata": {
    "ExecuteTime": {
     "end_time": "2018-12-16T21:32:27.004351Z",
     "start_time": "2018-12-16T21:32:26.997983Z"
    }
   },
   "outputs": [
    {
     "data": {
      "text/plain": [
       "Index(['id', 'crag_country', 'crag_id', 'crag', 'sector_id', 'sector', 'route',\n",
       "       'grade_id', 'grade', 'year', 'date', 'method_id', 'method', 'notes',\n",
       "       'raw_notes', 'rating', 'user_id', 'user_country', 'user_city', 'sex',\n",
       "       'height', 'weight', 'birthdate', 'started_climbing'],\n",
       "      dtype='object')"
      ]
     },
     "execution_count": 6,
     "metadata": {},
     "output_type": "execute_result"
    }
   ],
   "source": [
    "## Get a list of all columns\n",
    "df.columns"
   ]
  },
  {
   "cell_type": "code",
   "execution_count": 7,
   "metadata": {
    "ExecuteTime": {
     "end_time": "2018-12-16T21:32:27.164866Z",
     "start_time": "2018-12-16T21:32:27.007031Z"
    }
   },
   "outputs": [
    {
     "name": "stdout",
     "output_type": "stream",
     "text": [
      "<class 'pandas.core.frame.DataFrame'>\n",
      "RangeIndex: 114589 entries, 0 to 114588\n",
      "Data columns (total 24 columns):\n",
      "id                  114589 non-null int64\n",
      "crag_country        114589 non-null object\n",
      "crag_id             114589 non-null int64\n",
      "crag                114589 non-null object\n",
      "sector_id           114589 non-null int64\n",
      "sector              114589 non-null object\n",
      "route               114589 non-null object\n",
      "grade_id            114589 non-null int64\n",
      "grade               114589 non-null object\n",
      "year                114589 non-null int64\n",
      "date                114589 non-null int64\n",
      "method_id           114589 non-null int64\n",
      "method              114589 non-null object\n",
      "notes               114589 non-null object\n",
      "raw_notes           114589 non-null int64\n",
      "rating              114589 non-null int64\n",
      "user_id             114589 non-null int64\n",
      "user_country        114587 non-null object\n",
      "user_city           114587 non-null object\n",
      "sex                 114587 non-null float64\n",
      "height              114587 non-null float64\n",
      "weight              114587 non-null float64\n",
      "birthdate           85770 non-null object\n",
      "started_climbing    114587 non-null float64\n",
      "dtypes: float64(4), int64(10), object(10)\n",
      "memory usage: 21.0+ MB\n"
     ]
    }
   ],
   "source": [
    "df.info()"
   ]
  },
  {
   "cell_type": "code",
   "execution_count": 8,
   "metadata": {
    "ExecuteTime": {
     "end_time": "2018-12-16T21:32:27.207351Z",
     "start_time": "2018-12-16T21:32:27.167050Z"
    }
   },
   "outputs": [
    {
     "data": {
      "text/html": [
       "<div>\n",
       "<style scoped>\n",
       "    .dataframe tbody tr th:only-of-type {\n",
       "        vertical-align: middle;\n",
       "    }\n",
       "\n",
       "    .dataframe tbody tr th {\n",
       "        vertical-align: top;\n",
       "    }\n",
       "\n",
       "    .dataframe thead th {\n",
       "        text-align: right;\n",
       "    }\n",
       "</style>\n",
       "<table border=\"1\" class=\"dataframe\">\n",
       "  <thead>\n",
       "    <tr style=\"text-align: right;\">\n",
       "      <th></th>\n",
       "      <th>id</th>\n",
       "      <th>crag_country</th>\n",
       "      <th>crag_id</th>\n",
       "      <th>crag</th>\n",
       "      <th>sector_id</th>\n",
       "      <th>sector</th>\n",
       "      <th>route</th>\n",
       "      <th>grade_id</th>\n",
       "      <th>grade</th>\n",
       "      <th>year</th>\n",
       "      <th>...</th>\n",
       "      <th>raw_notes</th>\n",
       "      <th>rating</th>\n",
       "      <th>user_id</th>\n",
       "      <th>user_country</th>\n",
       "      <th>user_city</th>\n",
       "      <th>sex</th>\n",
       "      <th>height</th>\n",
       "      <th>weight</th>\n",
       "      <th>birthdate</th>\n",
       "      <th>started_climbing</th>\n",
       "    </tr>\n",
       "  </thead>\n",
       "  <tbody>\n",
       "    <tr>\n",
       "      <th>0</th>\n",
       "      <td>582</td>\n",
       "      <td>DEU</td>\n",
       "      <td>16600</td>\n",
       "      <td>Frankenjura</td>\n",
       "      <td>126</td>\n",
       "      <td>Grüne Hölle</td>\n",
       "      <td>Isolation</td>\n",
       "      <td>46</td>\n",
       "      <td>6c+</td>\n",
       "      <td>2000</td>\n",
       "      <td>...</td>\n",
       "      <td>0</td>\n",
       "      <td>0</td>\n",
       "      <td>39</td>\n",
       "      <td>NLD</td>\n",
       "      <td>Eindhoven</td>\n",
       "      <td>0.0</td>\n",
       "      <td>178.0</td>\n",
       "      <td>78.0</td>\n",
       "      <td>1972-10-16</td>\n",
       "      <td>1996.0</td>\n",
       "    </tr>\n",
       "    <tr>\n",
       "      <th>1</th>\n",
       "      <td>805</td>\n",
       "      <td>DEU</td>\n",
       "      <td>16600</td>\n",
       "      <td>Frankenjura</td>\n",
       "      <td>111</td>\n",
       "      <td>Marientaler Wände</td>\n",
       "      <td>Kraftfeld</td>\n",
       "      <td>59</td>\n",
       "      <td>7c+</td>\n",
       "      <td>1999</td>\n",
       "      <td>...</td>\n",
       "      <td>0</td>\n",
       "      <td>0</td>\n",
       "      <td>32</td>\n",
       "      <td>SWE</td>\n",
       "      <td>Gothenburg</td>\n",
       "      <td>0.0</td>\n",
       "      <td>174.0</td>\n",
       "      <td>0.0</td>\n",
       "      <td>1976-06-15</td>\n",
       "      <td>1996.0</td>\n",
       "    </tr>\n",
       "    <tr>\n",
       "      <th>2</th>\n",
       "      <td>902</td>\n",
       "      <td>DEU</td>\n",
       "      <td>16600</td>\n",
       "      <td>Frankenjura</td>\n",
       "      <td>1309</td>\n",
       "      <td>Obere Schlossbergwände</td>\n",
       "      <td>Ursus</td>\n",
       "      <td>49</td>\n",
       "      <td>7a</td>\n",
       "      <td>2000</td>\n",
       "      <td>...</td>\n",
       "      <td>0</td>\n",
       "      <td>0</td>\n",
       "      <td>49</td>\n",
       "      <td>SWE</td>\n",
       "      <td>GÖTEBORG</td>\n",
       "      <td>0.0</td>\n",
       "      <td>0.0</td>\n",
       "      <td>0.0</td>\n",
       "      <td>None</td>\n",
       "      <td>1990.0</td>\n",
       "    </tr>\n",
       "    <tr>\n",
       "      <th>3</th>\n",
       "      <td>903</td>\n",
       "      <td>DEU</td>\n",
       "      <td>16600</td>\n",
       "      <td>Frankenjura</td>\n",
       "      <td>0</td>\n",
       "      <td></td>\n",
       "      <td>Don't know name</td>\n",
       "      <td>46</td>\n",
       "      <td>6c+</td>\n",
       "      <td>2000</td>\n",
       "      <td>...</td>\n",
       "      <td>0</td>\n",
       "      <td>0</td>\n",
       "      <td>49</td>\n",
       "      <td>SWE</td>\n",
       "      <td>GÖTEBORG</td>\n",
       "      <td>0.0</td>\n",
       "      <td>0.0</td>\n",
       "      <td>0.0</td>\n",
       "      <td>None</td>\n",
       "      <td>1990.0</td>\n",
       "    </tr>\n",
       "    <tr>\n",
       "      <th>4</th>\n",
       "      <td>935</td>\n",
       "      <td>DEU</td>\n",
       "      <td>16600</td>\n",
       "      <td>Frankenjura</td>\n",
       "      <td>422</td>\n",
       "      <td>Richard Wagner Fels</td>\n",
       "      <td>Fight Gravity</td>\n",
       "      <td>53</td>\n",
       "      <td>7b</td>\n",
       "      <td>1999</td>\n",
       "      <td>...</td>\n",
       "      <td>0</td>\n",
       "      <td>0</td>\n",
       "      <td>3</td>\n",
       "      <td>SWE</td>\n",
       "      <td>Umeå</td>\n",
       "      <td>0.0</td>\n",
       "      <td>180.0</td>\n",
       "      <td>78.0</td>\n",
       "      <td>1973-09-09</td>\n",
       "      <td>1995.0</td>\n",
       "    </tr>\n",
       "  </tbody>\n",
       "</table>\n",
       "<p>5 rows × 24 columns</p>\n",
       "</div>"
      ],
      "text/plain": [
       "    id crag_country  crag_id         crag  sector_id                  sector  \\\n",
       "0  582          DEU    16600  Frankenjura        126             Grüne Hölle   \n",
       "1  805          DEU    16600  Frankenjura        111       Marientaler Wände   \n",
       "2  902          DEU    16600  Frankenjura       1309  Obere Schlossbergwände   \n",
       "3  903          DEU    16600  Frankenjura          0                           \n",
       "4  935          DEU    16600  Frankenjura        422     Richard Wagner Fels   \n",
       "\n",
       "             route  grade_id grade  year        ...         raw_notes  rating  \\\n",
       "0        Isolation        46   6c+  2000        ...                 0       0   \n",
       "1        Kraftfeld        59   7c+  1999        ...                 0       0   \n",
       "2            Ursus        49    7a  2000        ...                 0       0   \n",
       "3  Don't know name        46   6c+  2000        ...                 0       0   \n",
       "4    Fight Gravity        53    7b  1999        ...                 0       0   \n",
       "\n",
       "  user_id user_country   user_city  sex  height weight   birthdate  \\\n",
       "0      39          NLD   Eindhoven  0.0   178.0   78.0  1972-10-16   \n",
       "1      32          SWE  Gothenburg  0.0   174.0    0.0  1976-06-15   \n",
       "2      49          SWE    GÖTEBORG  0.0     0.0    0.0        None   \n",
       "3      49          SWE    GÖTEBORG  0.0     0.0    0.0        None   \n",
       "4       3          SWE        Umeå  0.0   180.0   78.0  1973-09-09   \n",
       "\n",
       "   started_climbing  \n",
       "0            1996.0  \n",
       "1            1996.0  \n",
       "2            1990.0  \n",
       "3            1990.0  \n",
       "4            1995.0  \n",
       "\n",
       "[5 rows x 24 columns]"
      ]
     },
     "execution_count": 8,
     "metadata": {},
     "output_type": "execute_result"
    }
   ],
   "source": [
    "df.head(5)"
   ]
  },
  {
   "cell_type": "markdown",
   "metadata": {},
   "source": [
    "| <p align='left'>`Column` | <p align='left'>Description | <p align='center'> Datatype | <p align='center'> Use | \n",
    "|:------|:------|:------:|:------:| \n",
    "| <p align='left'>`crag_country` | <p align='left'>3-letter country code of the country where the crag is located. | <p align='center'> categorical | <p align='center'> no | \n",
    "| <p align='left'>`crag_id` | <p align='left'>Unique id for identifying each crag. | <p align='center'> int | <p align='center'> no | \n",
    "| <p align='left'>`crag` | <p align='left'>Name of the crag | <p align='center'> text | <p align='center'> no | \n",
    "| <p align='left'>`sector_id` | <p align='left'>Unique id for identifying each sector. | <p align='center'> int | <p align='center'> yes | \n",
    "| <p align='left'>`sector` | <p align='left'>Name of the sector. A sector is a specific area within a crag. | <p align='center'> text | <p align='center'> yes | \n",
    "| <p align='left'>`route` | <p align='left'>Name of the route the climber has climbed. | <p align='center'> text | <p align='center'> yes | \n",
    "| <p align='left'>`grade_id` | <p align='left'>Unique id for identifying each climbing grade. | <p align='center'> int | <p align='center'> statistics | \n",
    "| <p align='left'>`grade` | <p align='left'>Climbing grade given to that route as per the French grading system | <p align='center'> categorical | <p align='center'> statistics | \n",
    "| <p align='left'>`year` | <p align='left'>Year the route was climbed | <p align='center'> int | <p align='center'> statistics | \n",
    "| <p align='left'>`date` | <p align='left'>Date the route was climbed. The date format is number of seconds since 1970-01-01. | <p align='center'> int | <p align='center'> statistics | \n",
    "| <p align='left'>`method_id` | <p align='left'>Unique id for identifying each type of ascent. | <p align='center'> int | <p align='center'> statistics | \n",
    "| <p align='left'>`method` | <p align='left'>The type of ascent the climber made on that route. | <p align='center'> categorical | <p align='center'> statistics | \n",
    "| <p align='left'>`notes` | <p align='left'>Additional information the climber provided for this climb, e.g. Soft graded, i.e. fairly easy climb for the given grade | <p align='center'> categorical | <p align='center'> statistics | \n",
    "| <p align='left'>`raw_notes` | <p align='left'>Encoding of different notes and combination of notes | <p align='center'> int | <p align='center'> statistics | \n",
    "| <p align='left'>`rating` | <p align='left'>Rating given to the climb by this climber. This is our target attribute. | <p align='center'> int | <p align='center'> target | \n",
    "| <p align='left'>`user_id` | <p align='left'>Unique id for this climber. | <p align='center'> int | <p align='center'> yes | \n",
    "| <p align='left'>`user_country` | <p align='left'>3-letter country code of the country where this climber is from. | <p align='center'> categorical | <p align='center'> statistics | \n",
    "| <p align='left'>`user_city` | <p align='left'>City where this climber is from | <p align='center'> text | <p align='center'> statistics | \n",
    "| <p align='left'>`sex` | <p align='left'>The climber's sex. 0 indicates male, 1 indicates female. | <p align='center'> int | <p align='center'> statistics | \n",
    "| <p align='left'>`height` | <p align='left'>The climber's height in cm | <p align='center'> int | <p align='center'> statistics | \n",
    "| <p align='left'>`weight` | <p align='left'>The climber's weight in kg | <p align='center'> int | <p align='center'> statistics | \n",
    "| <p align='left'>`birthdate` | <p align='left'>The climber's date of birth | <p align='center'> date | <p align='center'> statistics | \n",
    "| <p align='left'>`started_climbing` | <p align='left'>The year the climber started climbing. | <p align='center'> int | <p align='center'> statistics | ![image.png](attachment:image.png)"
   ]
  },
  {
   "cell_type": "markdown",
   "metadata": {},
   "source": [
    "In the table above the column `Use` indicated how we plan to use the given column.\n",
    "- `target` - this is a target attribute.\n",
    "- `yes` - this column will be used during exploration and analysis.\n",
    "- `no` - not planned to use that column during analysis and exploration.\n",
    "- `statistics` - this column will not be used for analysis but may be interesting later on to do user statistics etc."
   ]
  },
  {
   "cell_type": "markdown",
   "metadata": {},
   "source": [
    "How big is our data set? How many climbs contain a rating?"
   ]
  },
  {
   "cell_type": "code",
   "execution_count": 9,
   "metadata": {
    "ExecuteTime": {
     "end_time": "2018-12-16T21:32:27.243478Z",
     "start_time": "2018-12-16T21:32:27.209553Z"
    }
   },
   "outputs": [
    {
     "data": {
      "text/plain": [
       "'There are 114,589 data entries in our dataset.'"
      ]
     },
     "execution_count": 9,
     "metadata": {},
     "output_type": "execute_result"
    },
    {
     "data": {
      "text/plain": [
       "'60,303 out of these contain a rating. That is approx. 52.63%'"
      ]
     },
     "execution_count": 9,
     "metadata": {},
     "output_type": "execute_result"
    }
   ],
   "source": [
    "records_count = df.shape[0]\n",
    "ratings_count = df[ df['rating'] == 0].shape[0]\n",
    "\n",
    "\n",
    "f'There are {records_count:,} data entries in our dataset.'\n",
    "f'{ratings_count:,} out of these contain a rating. That is approx. {ratings_count / records_count * 100:.2f}%'"
   ]
  },
  {
   "cell_type": "markdown",
   "metadata": {},
   "source": [
    "Let's look at the distribution of routes by climbing grade (= difficulty level of the route) to understand whether our climbers are mostly beginners, advanced or professionals."
   ]
  },
  {
   "cell_type": "code",
   "execution_count": 10,
   "metadata": {
    "ExecuteTime": {
     "end_time": "2018-12-16T21:32:27.770495Z",
     "start_time": "2018-12-16T21:32:27.245852Z"
    }
   },
   "outputs": [
    {
     "data": {
      "image/png": "[encoded data removed]",
      "text/plain": [
       "<Figure size 432x288 with 1 Axes>"
      ]
     },
     "metadata": {
      "needs_background": "light"
     },
     "output_type": "display_data"
    }
   ],
   "source": [
    "_ = df.groupby('grade').count()['id'].plot(kind='bar', color='b', title='ascents by grade')"
   ]
  },
  {
   "cell_type": "markdown",
   "metadata": {},
   "source": [
    "Our distribution seems to have the general form of a bell shape, i.e. a Gaussian distribution. What seems odd though, are the two dents in the distribution at 6c and 7b.\n",
    "\n",
    "For this to understand we need to have some background knowledge on the different climbing grading systems used in different countries. The grading system used by 8a.nu, which is the source of our data set, is the _French_ grading system. In Germany a different grading system is used called _UIAA_.\n",
    "\n",
    "One peculiar thing about different grading systems is, that they do not follow the same step size. E.g. in French scale grading the step from one grade to the next higher grade could be smaller than the steps in between grades in UIAA. This can be seen when looking at a grade comparison chart as shown below."
   ]
  },
  {
   "cell_type": "markdown",
   "metadata": {},
   "source": [
    "<img src=\"images/climbing_grades_comparison.png\" alt=\"Grade comparison table\" width=\"500\" align=\"left\" />"
   ]
  },
  {
   "cell_type": "markdown",
   "metadata": {},
   "source": [
    "All the route in Germany are given grades following UIAA scale. If a climber wants to log a climb in Germany with a UIAA grade on 8a.nu, he has to convert the grade to French scale. As there are no real corresponding entries for 6c and 7b in the UIAA scale, this explains the dent in our distribution.\n",
    "\n",
    "Therefore, joining the numbers from 6c and 6b+, as well as 7a+ and 7b seems reasonable. "
   ]
  },
  {
   "cell_type": "code",
   "execution_count": 11,
   "metadata": {
    "ExecuteTime": {
     "end_time": "2018-12-16T21:32:29.260287Z",
     "start_time": "2018-12-16T21:32:27.772504Z"
    }
   },
   "outputs": [
    {
     "data": {
      "image/png": "[encoded data removed]",
      "text/plain": [
       "<Figure size 432x288 with 1 Axes>"
      ]
     },
     "metadata": {
      "needs_background": "light"
     },
     "output_type": "display_data"
    }
   ],
   "source": [
    "df_grade_adjusted = df.copy()\n",
    "df_grade_adjusted.loc[df_grade_adjusted['grade'] == '6c'] = '6b+'\n",
    "df_grade_adjusted.loc[df_grade_adjusted['grade'] == '7b'] = '7a+'\n",
    "_ = df_grade_adjusted.groupby('grade').count()['id'].plot(\n",
    "    kind='bar', color='b', title='ascents by grade (adjusted)')"
   ]
  },
  {
   "cell_type": "markdown",
   "metadata": {
    "ExecuteTime": {
     "end_time": "2018-12-08T20:36:59.704039Z",
     "start_time": "2018-12-08T20:36:59.689393Z"
    }
   },
   "source": [
    "And the result of the distribution of logged climbs is now as expected.\n",
    "\n",
    "With the majority of climbs around 6c+, 7a level, what does this actually mean? Let's take a look at the assessment given by the website [thecrag.com](https://www.thecrag.com/en/article/grades#grade-ranges). And we can see that the majority of logged ascents are in the upper _Experienced_ range."
   ]
  },
  {
   "cell_type": "markdown",
   "metadata": {},
   "source": [
    "<img src=\"images/climbing_levels.png\" alt=\"Climbing levels\" width=\"500\" align=\"left\" />"
   ]
  },
  {
   "cell_type": "markdown",
   "metadata": {},
   "source": [
    "We will not use all the columns from the data set. Let's drop unnecessary columns for analysis."
   ]
  },
  {
   "cell_type": "code",
   "execution_count": 12,
   "metadata": {
    "ExecuteTime": {
     "end_time": "2018-12-16T21:32:29.280614Z",
     "start_time": "2018-12-16T21:32:29.262524Z"
    }
   },
   "outputs": [],
   "source": [
    "df = df.drop(columns=['crag_country',\n",
    "                      'crag_id',\n",
    "                      'crag',\n",
    "                      'grade_id',\n",
    "                      'grade',\n",
    "                      'year',\n",
    "                      'date',\n",
    "                      'method_id',\n",
    "                      'method',\n",
    "                      'notes',\n",
    "                      'raw_notes',\n",
    "                      'user_country',\n",
    "                      'user_city',\n",
    "                      'sex',\n",
    "                      'height',\n",
    "                      'weight',\n",
    "                      'birthdate',\n",
    "                      'started_climbing'])"
   ]
  },
  {
   "cell_type": "markdown",
   "metadata": {},
   "source": [
    "Split train and test set to avoid bias - DO I REALLY WANT TO DO THIS???"
   ]
  },
  {
   "cell_type": "code",
   "execution_count": 13,
   "metadata": {
    "ExecuteTime": {
     "end_time": "2018-12-16T21:32:29.335242Z",
     "start_time": "2018-12-16T21:32:29.283921Z"
    }
   },
   "outputs": [],
   "source": [
    "from sklearn.model_selection import train_test_split\n",
    "\n",
    "# y = df.pop('rating')\n",
    "X = df\n",
    "\n",
    "X_train, X_test = train_test_split(X, test_size=0.2, random_state=42)"
   ]
  },
  {
   "cell_type": "markdown",
   "metadata": {},
   "source": [
    "### Missing values\n",
    "\n",
    "Let us take a look if we have **missing values** or **zero values**.\n",
    "\n",
    "Number of missing values per column:"
   ]
  },
  {
   "cell_type": "code",
   "execution_count": 14,
   "metadata": {
    "ExecuteTime": {
     "end_time": "2018-12-16T21:32:29.385945Z",
     "start_time": "2018-12-16T21:32:29.339157Z"
    }
   },
   "outputs": [
    {
     "data": {
      "text/plain": [
       "id           0\n",
       "sector_id    0\n",
       "sector       0\n",
       "route        0\n",
       "rating       0\n",
       "user_id      0\n",
       "dtype: int64"
      ]
     },
     "execution_count": 14,
     "metadata": {},
     "output_type": "execute_result"
    }
   ],
   "source": [
    "X_train.isnull().sum()\n",
    "# y_train.isnull().sum()"
   ]
  },
  {
   "cell_type": "markdown",
   "metadata": {
    "ExecuteTime": {
     "end_time": "2018-11-15T22:29:42.784818Z",
     "start_time": "2018-11-15T22:29:42.780805Z"
    }
   },
   "source": [
    "This means there are no entries missing in the columns that we look at.\n",
    "\n",
    "Number of zero values per column:"
   ]
  },
  {
   "cell_type": "code",
   "execution_count": 15,
   "metadata": {
    "ExecuteTime": {
     "end_time": "2018-12-16T21:32:29.427986Z",
     "start_time": "2018-12-16T21:32:29.389622Z"
    }
   },
   "outputs": [
    {
     "data": {
      "text/plain": [
       "id               0\n",
       "sector_id    12301\n",
       "sector           0\n",
       "route            0\n",
       "rating       48291\n",
       "user_id          0\n",
       "dtype: int64"
      ]
     },
     "execution_count": 15,
     "metadata": {},
     "output_type": "execute_result"
    }
   ],
   "source": [
    "(X_train == 0).sum()\n",
    "# (y_train == 0).sum()"
   ]
  },
  {
   "cell_type": "markdown",
   "metadata": {
    "ExecuteTime": {
     "end_time": "2018-12-08T21:43:21.925488Z",
     "start_time": "2018-12-08T21:43:21.921630Z"
    }
   },
   "source": [
    "However, there a quite a significant amount of sector_IDs missing and also a lot of ratings."
   ]
  },
  {
   "cell_type": "markdown",
   "metadata": {},
   "source": [
    "### Unique values"
   ]
  },
  {
   "cell_type": "markdown",
   "metadata": {},
   "source": [
    "A naive calculation on the number of unique sectors and routes within these sectors. Submitted by a number of distinct users."
   ]
  },
  {
   "cell_type": "code",
   "execution_count": 16,
   "metadata": {
    "ExecuteTime": {
     "end_time": "2018-12-16T21:32:29.543690Z",
     "start_time": "2018-12-16T21:32:29.430231Z"
    }
   },
   "outputs": [
    {
     "data": {
      "text/plain": [
       "sector_id      350\n",
       "route        12471\n",
       "user_id       3292\n",
       "dtype: int64"
      ]
     },
     "execution_count": 16,
     "metadata": {},
     "output_type": "execute_result"
    }
   ],
   "source": [
    "X_train[['sector_id', 'route', 'user_id']].nunique()"
   ]
  },
  {
   "cell_type": "markdown",
   "metadata": {},
   "source": [
    "Why do we call the above estimate _naive_? \n",
    "\n",
    "According to [climb-europe.com](http://www.climb-europe.com/RockClimbingGermany/RockClimbingFrankenjura.html) _\"there are approximately 1,000 crags spread out in a beautiful forest terrain.\"_ (Note that _crags_ in the above quote is the same as _sectors_ in our dataset.) This seems fine since in our dataset there are 351 different sectors noted.\n",
    "\n",
    "However, let's look closer here. What are the records where `sector_id` is 0?  \n",
    "We take a look at a number of samples."
   ]
  },
  {
   "cell_type": "code",
   "execution_count": 17,
   "metadata": {
    "ExecuteTime": {
     "end_time": "2018-12-16T21:32:29.562560Z",
     "start_time": "2018-12-16T21:32:29.545726Z"
    }
   },
   "outputs": [
    {
     "data": {
      "text/html": [
       "<div>\n",
       "<style scoped>\n",
       "    .dataframe tbody tr th:only-of-type {\n",
       "        vertical-align: middle;\n",
       "    }\n",
       "\n",
       "    .dataframe tbody tr th {\n",
       "        vertical-align: top;\n",
       "    }\n",
       "\n",
       "    .dataframe thead th {\n",
       "        text-align: right;\n",
       "    }\n",
       "</style>\n",
       "<table border=\"1\" class=\"dataframe\">\n",
       "  <thead>\n",
       "    <tr style=\"text-align: right;\">\n",
       "      <th></th>\n",
       "      <th>id</th>\n",
       "      <th>sector_id</th>\n",
       "      <th>sector</th>\n",
       "      <th>route</th>\n",
       "      <th>rating</th>\n",
       "      <th>user_id</th>\n",
       "    </tr>\n",
       "  </thead>\n",
       "  <tbody>\n",
       "    <tr>\n",
       "      <th>22531</th>\n",
       "      <td>1366698</td>\n",
       "      <td>0</td>\n",
       "      <td></td>\n",
       "      <td>Gelegenheit macht Diebe</td>\n",
       "      <td>3</td>\n",
       "      <td>9660</td>\n",
       "    </tr>\n",
       "    <tr>\n",
       "      <th>72926</th>\n",
       "      <td>3458547</td>\n",
       "      <td>0</td>\n",
       "      <td>Gumpenwand</td>\n",
       "      <td>Zollfrei</td>\n",
       "      <td>0</td>\n",
       "      <td>16195</td>\n",
       "    </tr>\n",
       "    <tr>\n",
       "      <th>94967</th>\n",
       "      <td>4322459</td>\n",
       "      <td>0</td>\n",
       "      <td></td>\n",
       "      <td>Doppelpack</td>\n",
       "      <td>2</td>\n",
       "      <td>9493</td>\n",
       "    </tr>\n",
       "    <tr>\n",
       "      <th>101666</th>\n",
       "      <td>4487349</td>\n",
       "      <td>0</td>\n",
       "      <td>Hintere Reibertsbergwand</td>\n",
       "      <td>Schnecke</td>\n",
       "      <td>0</td>\n",
       "      <td>20095</td>\n",
       "    </tr>\n",
       "    <tr>\n",
       "      <th>75222</th>\n",
       "      <td>3511955</td>\n",
       "      <td>0</td>\n",
       "      <td></td>\n",
       "      <td>Glaspatronenmatch</td>\n",
       "      <td>3</td>\n",
       "      <td>9255</td>\n",
       "    </tr>\n",
       "    <tr>\n",
       "      <th>32469</th>\n",
       "      <td>1921878</td>\n",
       "      <td>0</td>\n",
       "      <td></td>\n",
       "      <td>Rayando el sol</td>\n",
       "      <td>0</td>\n",
       "      <td>11628</td>\n",
       "    </tr>\n",
       "    <tr>\n",
       "      <th>71909</th>\n",
       "      <td>3442794</td>\n",
       "      <td>0</td>\n",
       "      <td>Vogelherdwand</td>\n",
       "      <td>Rechts außen</td>\n",
       "      <td>0</td>\n",
       "      <td>10264</td>\n",
       "    </tr>\n",
       "    <tr>\n",
       "      <th>45119</th>\n",
       "      <td>2463848</td>\n",
       "      <td>0</td>\n",
       "      <td></td>\n",
       "      <td>Wo Ist Dein Paradies?</td>\n",
       "      <td>3</td>\n",
       "      <td>3166</td>\n",
       "    </tr>\n",
       "    <tr>\n",
       "      <th>54809</th>\n",
       "      <td>2869412</td>\n",
       "      <td>0</td>\n",
       "      <td></td>\n",
       "      <td>Ninja Turtle</td>\n",
       "      <td>0</td>\n",
       "      <td>18285</td>\n",
       "    </tr>\n",
       "    <tr>\n",
       "      <th>62462</th>\n",
       "      <td>3070359</td>\n",
       "      <td>0</td>\n",
       "      <td>Mosenberger Block</td>\n",
       "      <td>Görglesweg</td>\n",
       "      <td>0</td>\n",
       "      <td>37450</td>\n",
       "    </tr>\n",
       "  </tbody>\n",
       "</table>\n",
       "</div>"
      ],
      "text/plain": [
       "             id  sector_id                    sector                    route  \\\n",
       "22531   1366698          0                            Gelegenheit macht Diebe   \n",
       "72926   3458547          0                Gumpenwand                 Zollfrei   \n",
       "94967   4322459          0                                         Doppelpack   \n",
       "101666  4487349          0  Hintere Reibertsbergwand                 Schnecke   \n",
       "75222   3511955          0                                  Glaspatronenmatch   \n",
       "32469   1921878          0                                     Rayando el sol   \n",
       "71909   3442794          0             Vogelherdwand             Rechts außen   \n",
       "45119   2463848          0                              Wo Ist Dein Paradies?   \n",
       "54809   2869412          0                                       Ninja Turtle   \n",
       "62462   3070359          0         Mosenberger Block               Görglesweg   \n",
       "\n",
       "        rating  user_id  \n",
       "22531        3     9660  \n",
       "72926        0    16195  \n",
       "94967        2     9493  \n",
       "101666       0    20095  \n",
       "75222        3     9255  \n",
       "32469        0    11628  \n",
       "71909        0    10264  \n",
       "45119        3     3166  \n",
       "54809        0    18285  \n",
       "62462        0    37450  "
      ]
     },
     "execution_count": 17,
     "metadata": {},
     "output_type": "execute_result"
    }
   ],
   "source": [
    "X_train[X_train['sector_id'] == 0].head(10)"
   ]
  },
  {
   "cell_type": "markdown",
   "metadata": {},
   "source": [
    "So, what we can see is, that `sector_id == 0` actually does not belong to a proper sector, but rather denotes that sector is not known in this case. Later we'll have to remove those entries.\n",
    "\n",
    "In the article it continues to claim that _Frankenjura boasts in excess of 10,000 routes._ Now this is where we should get a little suspicious. In only 350 sectors our dataset apparently contains already more than 12,000 routes - which is well above the 10,000 mentioned in the article.\n",
    "\n",
    "Lets dig deeper here. Maybe there are a number of duplicates in the registered routes. Let's see if an example can confirm this."
   ]
  },
  {
   "cell_type": "code",
   "execution_count": 18,
   "metadata": {
    "ExecuteTime": {
     "end_time": "2018-12-16T21:32:29.637564Z",
     "start_time": "2018-12-16T21:32:29.564554Z"
    }
   },
   "outputs": [
    {
     "data": {
      "text/plain": [
       "38966    knack and back\n",
       "Name: route, dtype: object"
      ]
     },
     "execution_count": 18,
     "metadata": {},
     "output_type": "execute_result"
    }
   ],
   "source": [
    "X_train[X_train['route'].str.startswith('knack')].drop_duplicates(subset=['route'])['route']"
   ]
  },
  {
   "cell_type": "markdown",
   "metadata": {
    "ExecuteTime": {
     "end_time": "2018-12-11T19:50:48.268729Z",
     "start_time": "2018-12-11T19:50:48.264205Z"
    }
   },
   "source": [
    "We will have to consolidate those duplicates during Preprocessing."
   ]
  },
  {
   "cell_type": "markdown",
   "metadata": {},
   "source": [
    "## Exploratory Visualization"
   ]
  },
  {
   "cell_type": "markdown",
   "metadata": {},
   "source": [
    "### Missing values\n",
    "\n",
    "Lets visualize the **Missing** and **Zero values** per column."
   ]
  },
  {
   "cell_type": "code",
   "execution_count": 19,
   "metadata": {
    "ExecuteTime": {
     "end_time": "2018-12-16T21:32:29.978426Z",
     "start_time": "2018-12-16T21:32:29.639424Z"
    }
   },
   "outputs": [
    {
     "data": {
      "image/png": "[encoded data removed]",
      "text/plain": [
       "<Figure size 720x360 with 1 Axes>"
      ]
     },
     "metadata": {
      "needs_background": "light"
     },
     "output_type": "display_data"
    }
   ],
   "source": [
    "plot_helper.missing_values_overview(X_train)"
   ]
  },
  {
   "cell_type": "markdown",
   "metadata": {},
   "source": [
    "In our data set `0` is in indicator for missing values, except for `sex` where `0` indicates `male` (and `1` for `female`).\n",
    "\n",
    "From the graph above we can conclude that we have missing data in `sector_id` and `rating`.\n",
    "\n",
    "Since `sector_id` and `rating` are important for our analysis, we have to consider what to do about those missing values during Data Preparation later on."
   ]
  },
  {
   "cell_type": "markdown",
   "metadata": {},
   "source": [
    "## Analysis of our target variable `rating`"
   ]
  },
  {
   "cell_type": "markdown",
   "metadata": {},
   "source": [
    "What are the unique values of our target variable?"
   ]
  },
  {
   "cell_type": "code",
   "execution_count": 20,
   "metadata": {
    "ExecuteTime": {
     "end_time": "2018-12-16T21:32:29.985544Z",
     "start_time": "2018-12-16T21:32:29.980559Z"
    }
   },
   "outputs": [
    {
     "data": {
      "text/plain": [
       "array([0, 1, 3, 2])"
      ]
     },
     "execution_count": 20,
     "metadata": {},
     "output_type": "execute_result"
    }
   ],
   "source": [
    "y_train = X_train['rating']\n",
    "y_train.unique()"
   ]
  },
  {
   "cell_type": "markdown",
   "metadata": {},
   "source": [
    "And how is their distribution?"
   ]
  },
  {
   "cell_type": "code",
   "execution_count": 21,
   "metadata": {
    "ExecuteTime": {
     "end_time": "2018-12-16T21:32:30.165865Z",
     "start_time": "2018-12-16T21:32:29.987460Z"
    }
   },
   "outputs": [
    {
     "data": {
      "image/png": "[encoded data removed]",
      "text/plain": [
       "<Figure size 432x288 with 1 Axes>"
      ]
     },
     "metadata": {
      "needs_background": "light"
     },
     "output_type": "display_data"
    }
   ],
   "source": [
    "total = y_train.count()\n",
    "\n",
    "ax = y_train.value_counts().sort_index().plot(\n",
    "    kind='bar', title='ratings distribution')\n",
    "_ = ax.set_ylabel('logged ascents')\n",
    "_ = ax.set_xlabel('given rating')\n",
    "\n",
    "for i in ax.patches:\n",
    "    _ = ax.text(i.get_x()-.03, i.get_height()+.5, \\\n",
    "            str(round((i.get_height()/total)*100, 1))+'%')"
   ]
  },
  {
   "cell_type": "markdown",
   "metadata": {},
   "source": [
    "From the distribution of the target variable `rating`, we can see that there are four distinct values. With 52.7% of ratings equal to 0, only about half of the ascents have been rated.\n",
    "\n",
    "In the climbing community it is commonplace to rate only good climbs by marking them with a star. Thus, the values `1`, `2` or `3` correspond to one, two or three stars. Where one star is a good route and three stars is an exceptional good climb.\n",
    "\n",
    "Hence the value `0`, or zero stars, denotes that a climb was either not rated or was not worth a star according to that used."
   ]
  },
  {
   "cell_type": "code",
   "execution_count": 22,
   "metadata": {
    "ExecuteTime": {
     "end_time": "2018-12-16T21:32:30.186162Z",
     "start_time": "2018-12-16T21:32:30.168861Z"
    }
   },
   "outputs": [
    {
     "data": {
      "text/plain": [
       "count    43380.000000\n",
       "mean         2.137091\n",
       "std          0.764778\n",
       "min          1.000000\n",
       "25%          2.000000\n",
       "50%          2.000000\n",
       "75%          3.000000\n",
       "max          3.000000\n",
       "Name: rating, dtype: float64"
      ]
     },
     "execution_count": 22,
     "metadata": {},
     "output_type": "execute_result"
    }
   ],
   "source": [
    "y_train[y_train != 0].describe()"
   ]
  },
  {
   "cell_type": "markdown",
   "metadata": {
    "ExecuteTime": {
     "end_time": "2018-11-15T23:40:18.226175Z",
     "start_time": "2018-11-15T23:40:18.222324Z"
    }
   },
   "source": [
    "Out of those climbs, that were rated, the average is 2.14."
   ]
  },
  {
   "cell_type": "markdown",
   "metadata": {},
   "source": [
    "What is the percentage of users that rated at least one climb?"
   ]
  },
  {
   "cell_type": "code",
   "execution_count": 23,
   "metadata": {
    "ExecuteTime": {
     "end_time": "2018-12-16T21:32:30.199251Z",
     "start_time": "2018-12-16T21:32:30.189194Z"
    }
   },
   "outputs": [
    {
     "data": {
      "text/plain": [
       "False    2242\n",
       "True     1050\n",
       "Name: rating, dtype: int64"
      ]
     },
     "execution_count": 23,
     "metadata": {},
     "output_type": "execute_result"
    }
   ],
   "source": [
    "(X_train.groupby('user_id')['rating'].sum() == 0).value_counts()"
   ]
  },
  {
   "cell_type": "markdown",
   "metadata": {
    "ExecuteTime": {
     "end_time": "2018-11-16T00:02:23.741029Z",
     "start_time": "2018-11-16T00:02:23.736576Z"
    }
   },
   "source": [
    "This means that approx. 2/3 of users have rated at least one item."
   ]
  },
  {
   "cell_type": "markdown",
   "metadata": {},
   "source": [
    "How many ratings are there per user?"
   ]
  },
  {
   "cell_type": "code",
   "execution_count": 24,
   "metadata": {
    "ExecuteTime": {
     "end_time": "2018-12-16T21:32:32.313597Z",
     "start_time": "2018-12-16T21:32:30.200942Z"
    }
   },
   "outputs": [
    {
     "data": {
      "image/png": "[encoded data removed]",
      "text/plain": [
       "<Figure size 432x288 with 1 Axes>"
      ]
     },
     "metadata": {
      "needs_background": "light"
     },
     "output_type": "display_data"
    }
   ],
   "source": [
    "ratings_per_user = X_train.groupby('user_id')['rating'].apply(lambda x: x[x != 0].count())\n",
    "ax = ratings_per_user.sort_values().plot(\n",
    "    kind='line', title='No. of ratings per user (sorted by no. of ratings)', use_index=False)\n",
    "_ = ax.set_ylabel('no. of ratings')\n",
    "_ = ax.set_xlabel('user id')"
   ]
  },
  {
   "cell_type": "markdown",
   "metadata": {},
   "source": [
    "From the above plot we can see that there must be one or several outliers with a large number of ratings (around 1600). Let's apply the logarithm on the y-axis to get a better picture."
   ]
  },
  {
   "cell_type": "code",
   "execution_count": 25,
   "metadata": {
    "ExecuteTime": {
     "end_time": "2018-12-16T21:32:33.001018Z",
     "start_time": "2018-12-16T21:32:32.315833Z"
    }
   },
   "outputs": [
    {
     "data": {
      "image/png": "[encoded data removed]",
      "text/plain": [
       "<Figure size 432x288 with 1 Axes>"
      ]
     },
     "metadata": {
      "needs_background": "light"
     },
     "output_type": "display_data"
    }
   ],
   "source": [
    "ax = ratings_per_user.sort_values().plot(\n",
    "    kind='line', title='No. of ratings per user (logscale)', use_index=False, logy=True)\n",
    "_ = ax.set_ylabel('no. of ratings')\n",
    "_ = ax.set_xlabel('user id')"
   ]
  },
  {
   "cell_type": "markdown",
   "metadata": {
    "ExecuteTime": {
     "end_time": "2018-11-17T13:04:14.897030Z",
     "start_time": "2018-11-17T13:04:14.893184Z"
    }
   },
   "source": [
    "Now, this has more information. We can see that approx. 30% of users gave no rating at all. And more than 90% of users gave less than 200 ratings.\n",
    "\n",
    "Let's look at the percentiles information in detail to confirm this."
   ]
  },
  {
   "cell_type": "code",
   "execution_count": 26,
   "metadata": {
    "ExecuteTime": {
     "end_time": "2018-12-16T21:32:33.017067Z",
     "start_time": "2018-12-16T21:32:33.003489Z"
    }
   },
   "outputs": [
    {
     "data": {
      "text/plain": [
       "count    3292.000000\n",
       "mean       13.177400\n",
       "std        49.680102\n",
       "min         0.000000\n",
       "25%         0.000000\n",
       "33%         1.000000\n",
       "50%         2.000000\n",
       "75%         9.000000\n",
       "90%        29.000000\n",
       "95%        53.000000\n",
       "99%       153.270000\n",
       "max      1665.000000\n",
       "Name: rating, dtype: float64"
      ]
     },
     "execution_count": 26,
     "metadata": {},
     "output_type": "execute_result"
    }
   ],
   "source": [
    "ratings_per_user.describe(percentiles=[.25, 0.33, .50, .75, .90, .95, .99])"
   ]
  },
  {
   "cell_type": "markdown",
   "metadata": {},
   "source": [
    "## Algorithms and Techniques"
   ]
  },
  {
   "cell_type": "markdown",
   "metadata": {},
   "source": [
    "## Benchmark"
   ]
  },
  {
   "cell_type": "markdown",
   "metadata": {},
   "source": [
    "# Methodology"
   ]
  },
  {
   "cell_type": "markdown",
   "metadata": {},
   "source": [
    "## Data Preprocessing"
   ]
  },
  {
   "cell_type": "markdown",
   "metadata": {},
   "source": [
    "Remove records from dataset where `sector_id == 0`"
   ]
  },
  {
   "cell_type": "code",
   "execution_count": 27,
   "metadata": {
    "ExecuteTime": {
     "end_time": "2018-12-16T21:32:33.034576Z",
     "start_time": "2018-12-16T21:32:33.019461Z"
    }
   },
   "outputs": [],
   "source": [
    "\n",
    "X_train = X_train[X_train['sector_id'] != 0]"
   ]
  },
  {
   "cell_type": "code",
   "execution_count": 28,
   "metadata": {
    "ExecuteTime": {
     "end_time": "2018-12-16T21:32:33.039276Z",
     "start_time": "2018-12-16T21:32:33.036924Z"
    },
    "code_folding": []
   },
   "outputs": [],
   "source": [
    "# TODO\n",
    "# Consolidate sectors, e.g. sector_id: 839, 12382"
   ]
  },
  {
   "cell_type": "markdown",
   "metadata": {},
   "source": [
    "### Consolidate route names, remove duplicates"
   ]
  },
  {
   "cell_type": "markdown",
   "metadata": {
    "ExecuteTime": {
     "end_time": "2018-11-18T15:37:36.277416Z",
     "start_time": "2018-11-18T15:37:36.273212Z"
    }
   },
   "source": [
    "Since our data set does not provide a unique id for routes, we can only go by the name to identify a route. Unfortunately, there are many versions of route names as well as spelling mistakes. In order to arrive at a unique list of routes, we need to do some cleaning up.  \n",
    "\n",
    "The following example illustrates that."
   ]
  },
  {
   "cell_type": "code",
   "execution_count": 29,
   "metadata": {
    "ExecuteTime": {
     "end_time": "2018-12-16T21:32:33.103026Z",
     "start_time": "2018-12-16T21:32:33.042148Z"
    }
   },
   "outputs": [
    {
     "data": {
      "text/plain": [
       "8849      Adrspach weg\n",
       "100234    Adrspach Weg\n",
       "Name: route, dtype: object"
      ]
     },
     "execution_count": 29,
     "metadata": {},
     "output_type": "execute_result"
    }
   ],
   "source": [
    "X_train[X_train['route'].str.startswith('Adr')].drop_duplicates(subset=['route'])['route']"
   ]
  },
  {
   "cell_type": "markdown",
   "metadata": {},
   "source": [
    "Let's start by converting all route names to lowercase and removing special characters."
   ]
  },
  {
   "cell_type": "code",
   "execution_count": 30,
   "metadata": {
    "ExecuteTime": {
     "end_time": "2018-12-16T21:32:33.450877Z",
     "start_time": "2018-12-16T21:32:33.106291Z"
    },
    "code_folding": [
     0
    ]
   },
   "outputs": [],
   "source": [
    "def string_cleaning(df, columns):\n",
    "    '''Remove special characters and convert to lowercase. Apply to all columns as specified'''\n",
    "\n",
    "    df[columns] = df[columns].applymap(lambda s: s.lower())\n",
    "\n",
    "    # Need to use Series because regular replace() cannot handle RegEx\n",
    "    for c in columns:\n",
    "        df[c] = df[c].str.replace('[^A-Za-z\\s]+', '') # TODO keep numbers??\n",
    "        \n",
    "        # Remove rows with empty values as they are unusable\n",
    "        df = df[df[c] != '']\n",
    "\n",
    "    return df\n",
    "\n",
    "X_train = string_cleaning(X_train, ['route'])"
   ]
  },
  {
   "cell_type": "markdown",
   "metadata": {},
   "source": [
    "Next, let's define a couple of functions that will help us to clean up duplicate route names within sectors."
   ]
  },
  {
   "cell_type": "code",
   "execution_count": 31,
   "metadata": {
    "ExecuteTime": {
     "end_time": "2018-12-16T21:32:33.465650Z",
     "start_time": "2018-12-16T21:32:33.453450Z"
    },
    "code_folding": [
     3,
     22
    ]
   },
   "outputs": [],
   "source": [
    "# http://www.coli.uni-saarland.de/courses/LT1/2011/slides/Python-Levenshtein.html\n",
    "from Levenshtein import jaro_winkler\n",
    "\n",
    "def create_jaro_winkler(keys, prefix_weight=None):\n",
    "    '''Calculates Jaro-Winkler-Distance among all items of `keys` and returns calculation results as a matrix'''\n",
    "\n",
    "    # TODO  is there a more pythonic way of calculating this matrix?\n",
    "    \n",
    "    jaro_winkler_matrix = np.ones((len(keys), len(keys)))\n",
    "\n",
    "    i = 0\n",
    "    while i <= len(keys) - 1:\n",
    "        j = 0\n",
    "        while j <= len(keys) - 1:\n",
    "            if i != j:\n",
    "                jaro_winkler_matrix[i][j] = jaro_winkler(\n",
    "                    keys[i], keys[j]) if prefix_weight is None else jaro_winkler(keys[i], keys[j], prefix_weight)\n",
    "            j += 1\n",
    "        i += 1\n",
    "\n",
    "    return jaro_winkler_matrix\n",
    "\n",
    "def remove_overlap(d):\n",
    "    '''Resolve 'paths' within the dictionary, e.g. \n",
    "     { A : B, B : C }  ->  { A : C, B : C }\n",
    "     Returns cleaned dictionary'''\n",
    "\n",
    "    set_keys = set(d.keys())\n",
    "    set_values = set(d.values())\n",
    "    set_intersect = set_keys.intersection(set_values)\n",
    "\n",
    "    for v in set_intersect:\n",
    "        new_target = d[v]\n",
    "\n",
    "        filtered_dict = {key: new_target for (\n",
    "            key, value) in d.items() if value == v}\n",
    "        filtered_dict\n",
    "\n",
    "        for i, j in d.items():\n",
    "            if i in filtered_dict.keys():\n",
    "                d[i] = filtered_dict[i]\n",
    "\n",
    "    return d"
   ]
  },
  {
   "cell_type": "code",
   "execution_count": 32,
   "metadata": {
    "ExecuteTime": {
     "end_time": "2018-12-16T21:32:33.481818Z",
     "start_time": "2018-12-16T21:32:33.468435Z"
    },
    "code_folding": [
     0,
     6,
     50
    ]
   },
   "outputs": [],
   "source": [
    "def get_routes_per_sector(df, sector_id):\n",
    "    '''Returns a series with route names as labels and count of route name occurrences as values'''\n",
    "\n",
    "    df_one_sector = df[df['sector_id'] == sector_id]\n",
    "    return df_one_sector['route'].value_counts()\n",
    "\n",
    "def clean_route_names_sector(df, sector_id, threshold=0.9, prefix_weight=1/100, debug=False):\n",
    "    '''Replaces route name within given `sector_id` with the most similar matching name that has the most occurrences.'''\n",
    "\n",
    "    routes_per_sector = get_routes_per_sector(df, sector_id)\n",
    "    keys = routes_per_sector.keys()\n",
    "    values = routes_per_sector.values\n",
    "\n",
    "    # Create Jaro-Winkler-Matrix and fill diagonal with zeros, \n",
    "    # otherwise max value will always be 1.0 (as diagonal is always 1.0)\n",
    "    jaro_winkler_matrix = create_jaro_winkler(keys, prefix_weight)\n",
    "    np.fill_diagonal(jaro_winkler_matrix, 0)\n",
    "\n",
    "    # empty nested dictionary, for replacements of similar route names\n",
    "    replacements = {'route': {}}\n",
    "\n",
    "    # find max count of values above threshold\n",
    "    indices_above_threshold = np.transpose(\n",
    "        np.nonzero(jaro_winkler_matrix >= threshold))\n",
    "\n",
    "    first_values = [t[0] for t in indices_above_threshold]\n",
    "    unique_first_values = np.unique(first_values)\n",
    "\n",
    "    for u in unique_first_values:\n",
    "        tuples_list = [t for t in indices_above_threshold if t[0] == u]\n",
    "        counts_list = [values[t2[1]] for t2 in tuples_list]\n",
    "        val_max = max(counts_list)\n",
    "        index_max = counts_list.index(max(counts_list))\n",
    "        keys[tuples_list[index_max][1]]\n",
    "\n",
    "        if values[u] < values[tuples_list[index_max][1]]:\n",
    "            replacements['route'][keys[u]] = keys[tuples_list[index_max][1]]\n",
    "            if debug:\n",
    "                print(\n",
    "                    f'Replacement: {keys[u]}({values[u]}) : {keys[tuples_list[index_max][1]]}({values[tuples_list[index_max][1]]}) ')        \n",
    "\n",
    "    # Resolve overlaps in replacements\n",
    "    replacements['route'] = remove_overlap(replacements['route'])\n",
    "        \n",
    "    # Replace all found similar route names\n",
    "    df.loc[df['sector_id'] == sector_id] = df.replace(\n",
    "        to_replace=replacements)\n",
    "\n",
    "    return df\n",
    "\n",
    "def clean_route_names(df):\n",
    "    '''Cleans up duplicate route names within sectors.'''\n",
    "    \n",
    "    for sid in df['sector_id'].unique():\n",
    "        df = clean_route_names_sector(df, sid)\n",
    "    return df   "
   ]
  },
  {
   "cell_type": "code",
   "execution_count": 33,
   "metadata": {
    "ExecuteTime": {
     "end_time": "2018-12-16T21:33:02.433533Z",
     "start_time": "2018-12-16T21:32:33.484372Z"
    },
    "pixiedust": {
     "displayParams": {}
    }
   },
   "outputs": [],
   "source": [
    "X_train = clean_route_names(X_train)"
   ]
  },
  {
   "cell_type": "code",
   "execution_count": 34,
   "metadata": {
    "ExecuteTime": {
     "end_time": "2018-12-16T21:33:02.517010Z",
     "start_time": "2018-12-16T21:33:02.435618Z"
    }
   },
   "outputs": [
    {
     "data": {
      "text/html": [
       "<div>\n",
       "<style scoped>\n",
       "    .dataframe tbody tr th:only-of-type {\n",
       "        vertical-align: middle;\n",
       "    }\n",
       "\n",
       "    .dataframe tbody tr th {\n",
       "        vertical-align: top;\n",
       "    }\n",
       "\n",
       "    .dataframe thead th {\n",
       "        text-align: right;\n",
       "    }\n",
       "</style>\n",
       "<table border=\"1\" class=\"dataframe\">\n",
       "  <thead>\n",
       "    <tr style=\"text-align: right;\">\n",
       "      <th></th>\n",
       "      <th>id</th>\n",
       "      <th>sector_id</th>\n",
       "      <th>sector</th>\n",
       "      <th>route</th>\n",
       "      <th>rating</th>\n",
       "      <th>user_id</th>\n",
       "    </tr>\n",
       "  </thead>\n",
       "  <tbody>\n",
       "    <tr>\n",
       "      <th>8849</th>\n",
       "      <td>653580</td>\n",
       "      <td>839</td>\n",
       "      <td>Leupoldsteiner wand</td>\n",
       "      <td>adrspach weg</td>\n",
       "      <td>2</td>\n",
       "      <td>493</td>\n",
       "    </tr>\n",
       "    <tr>\n",
       "      <th>72720</th>\n",
       "      <td>3455818</td>\n",
       "      <td>839</td>\n",
       "      <td>Leupoldsteiner wand</td>\n",
       "      <td>adrspach weg</td>\n",
       "      <td>2</td>\n",
       "      <td>35939</td>\n",
       "    </tr>\n",
       "    <tr>\n",
       "      <th>100234</th>\n",
       "      <td>4442345</td>\n",
       "      <td>839</td>\n",
       "      <td>Leupoldsteiner Wand</td>\n",
       "      <td>adrspach weg</td>\n",
       "      <td>2</td>\n",
       "      <td>63837</td>\n",
       "    </tr>\n",
       "    <tr>\n",
       "      <th>108437</th>\n",
       "      <td>4784525</td>\n",
       "      <td>839</td>\n",
       "      <td>Leupoldsteiner Wand</td>\n",
       "      <td>adrspach weg</td>\n",
       "      <td>0</td>\n",
       "      <td>49724</td>\n",
       "    </tr>\n",
       "    <tr>\n",
       "      <th>83951</th>\n",
       "      <td>3876112</td>\n",
       "      <td>839</td>\n",
       "      <td>Leupoldsteiner Wand</td>\n",
       "      <td>adrspach weg</td>\n",
       "      <td>0</td>\n",
       "      <td>50842</td>\n",
       "    </tr>\n",
       "    <tr>\n",
       "      <th>18543</th>\n",
       "      <td>1210005</td>\n",
       "      <td>839</td>\n",
       "      <td>Leupoldsteiner Wand</td>\n",
       "      <td>adrspach weg</td>\n",
       "      <td>2</td>\n",
       "      <td>13622</td>\n",
       "    </tr>\n",
       "    <tr>\n",
       "      <th>57253</th>\n",
       "      <td>2950046</td>\n",
       "      <td>839</td>\n",
       "      <td>Leupoldsteiner Wand</td>\n",
       "      <td>adrspach weg</td>\n",
       "      <td>0</td>\n",
       "      <td>5184</td>\n",
       "    </tr>\n",
       "    <tr>\n",
       "      <th>103874</th>\n",
       "      <td>4660072</td>\n",
       "      <td>839</td>\n",
       "      <td>Leupoldsteiner wand</td>\n",
       "      <td>adrspach weg</td>\n",
       "      <td>0</td>\n",
       "      <td>65237</td>\n",
       "    </tr>\n",
       "    <tr>\n",
       "      <th>43374</th>\n",
       "      <td>2423630</td>\n",
       "      <td>839</td>\n",
       "      <td>Leupoldsteiner Wand</td>\n",
       "      <td>adrspach weg</td>\n",
       "      <td>0</td>\n",
       "      <td>42457</td>\n",
       "    </tr>\n",
       "    <tr>\n",
       "      <th>108529</th>\n",
       "      <td>4785752</td>\n",
       "      <td>839</td>\n",
       "      <td>Leupoldsteiner Wand</td>\n",
       "      <td>adrspach weg</td>\n",
       "      <td>0</td>\n",
       "      <td>64806</td>\n",
       "    </tr>\n",
       "    <tr>\n",
       "      <th>73694</th>\n",
       "      <td>3472578</td>\n",
       "      <td>839</td>\n",
       "      <td>Leupoldsteiner Wand</td>\n",
       "      <td>adrspach weg</td>\n",
       "      <td>0</td>\n",
       "      <td>42086</td>\n",
       "    </tr>\n",
       "    <tr>\n",
       "      <th>42940</th>\n",
       "      <td>2416444</td>\n",
       "      <td>839</td>\n",
       "      <td>Leupoldsteiner Wand</td>\n",
       "      <td>adrspach weg</td>\n",
       "      <td>3</td>\n",
       "      <td>15014</td>\n",
       "    </tr>\n",
       "  </tbody>\n",
       "</table>\n",
       "</div>"
      ],
      "text/plain": [
       "             id  sector_id               sector         route  rating  user_id\n",
       "8849     653580        839  Leupoldsteiner wand  adrspach weg       2      493\n",
       "72720   3455818        839  Leupoldsteiner wand  adrspach weg       2    35939\n",
       "100234  4442345        839  Leupoldsteiner Wand  adrspach weg       2    63837\n",
       "108437  4784525        839  Leupoldsteiner Wand  adrspach weg       0    49724\n",
       "83951   3876112        839  Leupoldsteiner Wand  adrspach weg       0    50842\n",
       "18543   1210005        839  Leupoldsteiner Wand  adrspach weg       2    13622\n",
       "57253   2950046        839  Leupoldsteiner Wand  adrspach weg       0     5184\n",
       "103874  4660072        839  Leupoldsteiner wand  adrspach weg       0    65237\n",
       "43374   2423630        839  Leupoldsteiner Wand  adrspach weg       0    42457\n",
       "108529  4785752        839  Leupoldsteiner Wand  adrspach weg       0    64806\n",
       "73694   3472578        839  Leupoldsteiner Wand  adrspach weg       0    42086\n",
       "42940   2416444        839  Leupoldsteiner Wand  adrspach weg       3    15014"
      ]
     },
     "execution_count": 34,
     "metadata": {},
     "output_type": "execute_result"
    }
   ],
   "source": [
    "# jaro_winkler('adrschpach weg', 'adrspach weg', 1/100)\n",
    "X_train[X_train['route'].str.startswith('adr')].drop_duplicates()"
   ]
  },
  {
   "cell_type": "markdown",
   "metadata": {},
   "source": [
    "### Get list of unique routes"
   ]
  },
  {
   "cell_type": "markdown",
   "metadata": {},
   "source": [
    "Extract all the individual routes. We also keep `sector_id` here, because there can be routes with the same name that lie in different sectors."
   ]
  },
  {
   "cell_type": "code",
   "execution_count": 35,
   "metadata": {
    "ExecuteTime": {
     "end_time": "2018-12-16T21:33:02.547427Z",
     "start_time": "2018-12-16T21:33:02.520001Z"
    }
   },
   "outputs": [
    {
     "data": {
      "text/markdown": [
       "So, our new count for routes is **6754**, which is a lot less than what our naive count was."
      ],
      "text/plain": [
       "<IPython.core.display.Markdown object>"
      ]
     },
     "execution_count": 35,
     "metadata": {},
     "output_type": "execute_result"
    }
   ],
   "source": [
    "X_train_routes = X_train[['sector_id', 'route']].drop_duplicates(['sector_id', 'route'])\n",
    "a = X_train_routes.shape[0]\n",
    "md(f'So, our new count for routes is **{a}**, which is a lot less than what our naive count was.')"
   ]
  },
  {
   "cell_type": "markdown",
   "metadata": {
    "ExecuteTime": {
     "end_time": "2018-11-20T00:50:26.805548Z",
     "start_time": "2018-11-20T00:50:26.801700Z"
    }
   },
   "source": [
    "Reset the index of our consolidated list of routes."
   ]
  },
  {
   "cell_type": "code",
   "execution_count": 36,
   "metadata": {
    "ExecuteTime": {
     "end_time": "2018-12-16T21:33:02.558487Z",
     "start_time": "2018-12-16T21:33:02.549224Z"
    }
   },
   "outputs": [
    {
     "data": {
      "text/html": [
       "<div>\n",
       "<style scoped>\n",
       "    .dataframe tbody tr th:only-of-type {\n",
       "        vertical-align: middle;\n",
       "    }\n",
       "\n",
       "    .dataframe tbody tr th {\n",
       "        vertical-align: top;\n",
       "    }\n",
       "\n",
       "    .dataframe thead th {\n",
       "        text-align: right;\n",
       "    }\n",
       "</style>\n",
       "<table border=\"1\" class=\"dataframe\">\n",
       "  <thead>\n",
       "    <tr style=\"text-align: right;\">\n",
       "      <th></th>\n",
       "      <th>route_id</th>\n",
       "      <th>sector_id</th>\n",
       "      <th>route</th>\n",
       "    </tr>\n",
       "  </thead>\n",
       "  <tbody>\n",
       "    <tr>\n",
       "      <th>0</th>\n",
       "      <td>85331</td>\n",
       "      <td>10081</td>\n",
       "      <td>victoria</td>\n",
       "    </tr>\n",
       "    <tr>\n",
       "      <th>1</th>\n",
       "      <td>74439</td>\n",
       "      <td>360</td>\n",
       "      <td>via donatella</td>\n",
       "    </tr>\n",
       "    <tr>\n",
       "      <th>2</th>\n",
       "      <td>12478</td>\n",
       "      <td>2745</td>\n",
       "      <td>viecherei</td>\n",
       "    </tr>\n",
       "    <tr>\n",
       "      <th>3</th>\n",
       "      <td>100249</td>\n",
       "      <td>111</td>\n",
       "      <td>geisterbahn</td>\n",
       "    </tr>\n",
       "    <tr>\n",
       "      <th>4</th>\n",
       "      <td>42745</td>\n",
       "      <td>525</td>\n",
       "      <td>fun</td>\n",
       "    </tr>\n",
       "  </tbody>\n",
       "</table>\n",
       "</div>"
      ],
      "text/plain": [
       "   route_id  sector_id          route\n",
       "0     85331      10081       victoria\n",
       "1     74439        360  via donatella\n",
       "2     12478       2745      viecherei\n",
       "3    100249        111    geisterbahn\n",
       "4     42745        525            fun"
      ]
     },
     "execution_count": 36,
     "metadata": {},
     "output_type": "execute_result"
    }
   ],
   "source": [
    "X_train_routes.index.name = 'route_id'\n",
    "X_train_routes.reset_index(inplace=True)\n",
    "# X_train_routes = X_train_routes.drop(columns=['index'])\n",
    "X_train_routes.head(5)"
   ]
  },
  {
   "cell_type": "markdown",
   "metadata": {},
   "source": [
    "### Get list of unique users"
   ]
  },
  {
   "cell_type": "code",
   "execution_count": 37,
   "metadata": {
    "ExecuteTime": {
     "end_time": "2018-12-16T21:33:02.568626Z",
     "start_time": "2018-12-16T21:33:02.560416Z"
    }
   },
   "outputs": [
    {
     "data": {
      "text/plain": [
       "0    11314\n",
       "1    32996\n",
       "2    20095\n",
       "3    63659\n",
       "4    35674\n",
       "Name: user_id, dtype: int64"
      ]
     },
     "execution_count": 37,
     "metadata": {},
     "output_type": "execute_result"
    }
   ],
   "source": [
    "X_train_users = X_train['user_id'].drop_duplicates()\n",
    "X_train_users.reset_index(inplace=True, drop=True)\n",
    "X_train_users.head(5)"
   ]
  },
  {
   "cell_type": "markdown",
   "metadata": {
    "ExecuteTime": {
     "end_time": "2018-11-20T00:54:30.111003Z",
     "start_time": "2018-11-20T00:54:30.107092Z"
    }
   },
   "source": [
    "### Get list of ratings"
   ]
  },
  {
   "cell_type": "code",
   "execution_count": 38,
   "metadata": {
    "ExecuteTime": {
     "end_time": "2018-12-16T21:33:02.573578Z",
     "start_time": "2018-12-16T21:33:02.570580Z"
    }
   },
   "outputs": [],
   "source": [
    "# Set 0s to null   <- actually this is not necessary, as I could just filter out the 0 values later on.\n",
    "# X_train['rating'] = X_train['rating'].map({0: np.NaN})\n",
    "# w['female'] = w['female'].map({'female': 1, 'male': 0})"
   ]
  },
  {
   "cell_type": "code",
   "execution_count": 39,
   "metadata": {
    "ExecuteTime": {
     "end_time": "2018-12-16T21:33:02.795828Z",
     "start_time": "2018-12-16T21:33:02.575803Z"
    }
   },
   "outputs": [
    {
     "data": {
      "text/html": [
       "<div>\n",
       "<style scoped>\n",
       "    .dataframe tbody tr th:only-of-type {\n",
       "        vertical-align: middle;\n",
       "    }\n",
       "\n",
       "    .dataframe tbody tr th {\n",
       "        vertical-align: top;\n",
       "    }\n",
       "\n",
       "    .dataframe thead th {\n",
       "        text-align: right;\n",
       "    }\n",
       "</style>\n",
       "<table border=\"1\" class=\"dataframe\">\n",
       "  <thead>\n",
       "    <tr style=\"text-align: right;\">\n",
       "      <th></th>\n",
       "      <th>route_id</th>\n",
       "      <th>sector</th>\n",
       "      <th>route</th>\n",
       "      <th>user_id</th>\n",
       "      <th>rating</th>\n",
       "      <th>sector_route</th>\n",
       "    </tr>\n",
       "  </thead>\n",
       "  <tbody>\n",
       "    <tr>\n",
       "      <th>0</th>\n",
       "      <td>85331</td>\n",
       "      <td>Rammstein</td>\n",
       "      <td>victoria</td>\n",
       "      <td>11314</td>\n",
       "      <td>0</td>\n",
       "      <td>Rammstein_victoria</td>\n",
       "    </tr>\n",
       "    <tr>\n",
       "      <th>1</th>\n",
       "      <td>85331</td>\n",
       "      <td>Rammstein</td>\n",
       "      <td>victoria</td>\n",
       "      <td>228</td>\n",
       "      <td>0</td>\n",
       "      <td>Rammstein_victoria</td>\n",
       "    </tr>\n",
       "    <tr>\n",
       "      <th>2</th>\n",
       "      <td>85331</td>\n",
       "      <td>Rammstein</td>\n",
       "      <td>victoria</td>\n",
       "      <td>18214</td>\n",
       "      <td>2</td>\n",
       "      <td>Rammstein_victoria</td>\n",
       "    </tr>\n",
       "    <tr>\n",
       "      <th>3</th>\n",
       "      <td>85331</td>\n",
       "      <td>Rammstein</td>\n",
       "      <td>victoria</td>\n",
       "      <td>16968</td>\n",
       "      <td>0</td>\n",
       "      <td>Rammstein_victoria</td>\n",
       "    </tr>\n",
       "    <tr>\n",
       "      <th>4</th>\n",
       "      <td>85331</td>\n",
       "      <td>Rammstein</td>\n",
       "      <td>victoria</td>\n",
       "      <td>22780</td>\n",
       "      <td>0</td>\n",
       "      <td>Rammstein_victoria</td>\n",
       "    </tr>\n",
       "  </tbody>\n",
       "</table>\n",
       "</div>"
      ],
      "text/plain": [
       "   route_id     sector     route  user_id  rating        sector_route\n",
       "0     85331  Rammstein  victoria    11314       0  Rammstein_victoria\n",
       "1     85331  Rammstein  victoria      228       0  Rammstein_victoria\n",
       "2     85331  Rammstein  victoria    18214       2  Rammstein_victoria\n",
       "3     85331  Rammstein  victoria    16968       0  Rammstein_victoria\n",
       "4     85331  Rammstein  victoria    22780       0  Rammstein_victoria"
      ]
     },
     "execution_count": 39,
     "metadata": {},
     "output_type": "execute_result"
    }
   ],
   "source": [
    "X_train_ratings = pd.merge(X_train_routes, X_train, on=['sector_id', 'route'])[['route_id', 'sector', 'route', 'user_id', 'rating']]\n",
    "X_train_ratings['sector_route'] = X_train_ratings['sector'] + '_' + X_train_ratings['route']\n",
    "X_train_ratings.head(5)"
   ]
  },
  {
   "cell_type": "code",
   "execution_count": 40,
   "metadata": {
    "ExecuteTime": {
     "end_time": "2018-12-16T21:33:02.834605Z",
     "start_time": "2018-12-16T21:33:02.797756Z"
    }
   },
   "outputs": [],
   "source": [
    "# Filter ratings, only include non-NaN values\n",
    "X_train_ratings = X_train_ratings[X_train_ratings['rating'] != 0]"
   ]
  },
  {
   "cell_type": "markdown",
   "metadata": {},
   "source": [
    "## Implementation"
   ]
  },
  {
   "cell_type": "code",
   "execution_count": 41,
   "metadata": {
    "ExecuteTime": {
     "end_time": "2018-12-16T21:33:03.288356Z",
     "start_time": "2018-12-16T21:33:02.836841Z"
    }
   },
   "outputs": [
    {
     "name": "stdout",
     "output_type": "stream",
     "text": [
      "dataset dimensions:  (2139, 5354) \n",
      "\n",
      "Subset example:\n"
     ]
    },
    {
     "data": {
      "text/html": [
       "<div>\n",
       "<style scoped>\n",
       "    .dataframe tbody tr th:only-of-type {\n",
       "        vertical-align: middle;\n",
       "    }\n",
       "\n",
       "    .dataframe tbody tr th {\n",
       "        vertical-align: top;\n",
       "    }\n",
       "\n",
       "    .dataframe thead th {\n",
       "        text-align: right;\n",
       "    }\n",
       "</style>\n",
       "<table border=\"1\" class=\"dataframe\">\n",
       "  <thead>\n",
       "    <tr style=\"text-align: right;\">\n",
       "      <th>sector_route</th>\n",
       "      <th>AMPHITHEATER_angel dust</th>\n",
       "      <th>AMPHITHEATER_die dunkle seite</th>\n",
       "      <th>Affentheater_affenhitze</th>\n",
       "      <th>Affentheater_affentanz</th>\n",
       "      <th>Affentheater_bonobo</th>\n",
       "      <th>Affentheater_chimpanzee</th>\n",
       "      <th>Affentheater_decision</th>\n",
       "      <th>Affentheater_ganz schn affig</th>\n",
       "      <th>Affentheater_geffel</th>\n",
       "      <th>Affentheater_gib dem affen zucker</th>\n",
       "    </tr>\n",
       "    <tr>\n",
       "      <th>user_id</th>\n",
       "      <th></th>\n",
       "      <th></th>\n",
       "      <th></th>\n",
       "      <th></th>\n",
       "      <th></th>\n",
       "      <th></th>\n",
       "      <th></th>\n",
       "      <th></th>\n",
       "      <th></th>\n",
       "      <th></th>\n",
       "    </tr>\n",
       "  </thead>\n",
       "  <tbody>\n",
       "    <tr>\n",
       "      <th>15</th>\n",
       "      <td>NaN</td>\n",
       "      <td>NaN</td>\n",
       "      <td>NaN</td>\n",
       "      <td>NaN</td>\n",
       "      <td>NaN</td>\n",
       "      <td>NaN</td>\n",
       "      <td>NaN</td>\n",
       "      <td>NaN</td>\n",
       "      <td>NaN</td>\n",
       "      <td>NaN</td>\n",
       "    </tr>\n",
       "    <tr>\n",
       "      <th>18</th>\n",
       "      <td>NaN</td>\n",
       "      <td>NaN</td>\n",
       "      <td>NaN</td>\n",
       "      <td>NaN</td>\n",
       "      <td>NaN</td>\n",
       "      <td>NaN</td>\n",
       "      <td>NaN</td>\n",
       "      <td>NaN</td>\n",
       "      <td>NaN</td>\n",
       "      <td>NaN</td>\n",
       "    </tr>\n",
       "    <tr>\n",
       "      <th>32</th>\n",
       "      <td>NaN</td>\n",
       "      <td>NaN</td>\n",
       "      <td>NaN</td>\n",
       "      <td>NaN</td>\n",
       "      <td>NaN</td>\n",
       "      <td>NaN</td>\n",
       "      <td>NaN</td>\n",
       "      <td>NaN</td>\n",
       "      <td>NaN</td>\n",
       "      <td>NaN</td>\n",
       "    </tr>\n",
       "    <tr>\n",
       "      <th>38</th>\n",
       "      <td>NaN</td>\n",
       "      <td>NaN</td>\n",
       "      <td>NaN</td>\n",
       "      <td>NaN</td>\n",
       "      <td>NaN</td>\n",
       "      <td>NaN</td>\n",
       "      <td>NaN</td>\n",
       "      <td>NaN</td>\n",
       "      <td>NaN</td>\n",
       "      <td>NaN</td>\n",
       "    </tr>\n",
       "    <tr>\n",
       "      <th>79</th>\n",
       "      <td>NaN</td>\n",
       "      <td>NaN</td>\n",
       "      <td>NaN</td>\n",
       "      <td>NaN</td>\n",
       "      <td>NaN</td>\n",
       "      <td>NaN</td>\n",
       "      <td>NaN</td>\n",
       "      <td>NaN</td>\n",
       "      <td>NaN</td>\n",
       "      <td>NaN</td>\n",
       "    </tr>\n",
       "    <tr>\n",
       "      <th>88</th>\n",
       "      <td>NaN</td>\n",
       "      <td>NaN</td>\n",
       "      <td>NaN</td>\n",
       "      <td>NaN</td>\n",
       "      <td>NaN</td>\n",
       "      <td>NaN</td>\n",
       "      <td>NaN</td>\n",
       "      <td>NaN</td>\n",
       "      <td>NaN</td>\n",
       "      <td>NaN</td>\n",
       "    </tr>\n",
       "  </tbody>\n",
       "</table>\n",
       "</div>"
      ],
      "text/plain": [
       "sector_route  AMPHITHEATER_angel dust  AMPHITHEATER_die dunkle seite  \\\n",
       "user_id                                                                \n",
       "15                                NaN                            NaN   \n",
       "18                                NaN                            NaN   \n",
       "32                                NaN                            NaN   \n",
       "38                                NaN                            NaN   \n",
       "79                                NaN                            NaN   \n",
       "88                                NaN                            NaN   \n",
       "\n",
       "sector_route  Affentheater_affenhitze  Affentheater_affentanz  \\\n",
       "user_id                                                         \n",
       "15                                NaN                     NaN   \n",
       "18                                NaN                     NaN   \n",
       "32                                NaN                     NaN   \n",
       "38                                NaN                     NaN   \n",
       "79                                NaN                     NaN   \n",
       "88                                NaN                     NaN   \n",
       "\n",
       "sector_route  Affentheater_bonobo  Affentheater_chimpanzee  \\\n",
       "user_id                                                      \n",
       "15                            NaN                      NaN   \n",
       "18                            NaN                      NaN   \n",
       "32                            NaN                      NaN   \n",
       "38                            NaN                      NaN   \n",
       "79                            NaN                      NaN   \n",
       "88                            NaN                      NaN   \n",
       "\n",
       "sector_route  Affentheater_decision  Affentheater_ganz schn affig  \\\n",
       "user_id                                                             \n",
       "15                              NaN                           NaN   \n",
       "18                              NaN                           NaN   \n",
       "32                              NaN                           NaN   \n",
       "38                              NaN                           NaN   \n",
       "79                              NaN                           NaN   \n",
       "88                              NaN                           NaN   \n",
       "\n",
       "sector_route  Affentheater_geffel  Affentheater_gib dem affen zucker  \n",
       "user_id                                                               \n",
       "15                            NaN                                NaN  \n",
       "18                            NaN                                NaN  \n",
       "32                            NaN                                NaN  \n",
       "38                            NaN                                NaN  \n",
       "79                            NaN                                NaN  \n",
       "88                            NaN                                NaN  "
      ]
     },
     "execution_count": 41,
     "metadata": {},
     "output_type": "execute_result"
    }
   ],
   "source": [
    "user_route_ratings = pd.pivot_table(X_train_ratings, index='user_id', columns= 'sector_route', values='rating')\n",
    "\n",
    "print('dataset dimensions: ', user_route_ratings.shape, '\\n\\nSubset example:')\n",
    "user_route_ratings.iloc[:6, :10]"
   ]
  },
  {
   "cell_type": "code",
   "execution_count": 42,
   "metadata": {
    "ExecuteTime": {
     "end_time": "2018-12-16T21:33:03.302778Z",
     "start_time": "2018-12-16T21:33:03.291059Z"
    }
   },
   "outputs": [
    {
     "data": {
      "text/html": [
       "<div>\n",
       "<style scoped>\n",
       "    .dataframe tbody tr th:only-of-type {\n",
       "        vertical-align: middle;\n",
       "    }\n",
       "\n",
       "    .dataframe tbody tr th {\n",
       "        vertical-align: top;\n",
       "    }\n",
       "\n",
       "    .dataframe thead th {\n",
       "        text-align: right;\n",
       "    }\n",
       "</style>\n",
       "<table border=\"1\" class=\"dataframe\">\n",
       "  <thead>\n",
       "    <tr style=\"text-align: right;\">\n",
       "      <th></th>\n",
       "      <th>id</th>\n",
       "      <th>sector_id</th>\n",
       "      <th>sector</th>\n",
       "      <th>route</th>\n",
       "      <th>rating</th>\n",
       "      <th>user_id</th>\n",
       "    </tr>\n",
       "  </thead>\n",
       "  <tbody>\n",
       "    <tr>\n",
       "      <th>0</th>\n",
       "      <td>582</td>\n",
       "      <td>126</td>\n",
       "      <td>Grüne Hölle</td>\n",
       "      <td>Isolation</td>\n",
       "      <td>0</td>\n",
       "      <td>39</td>\n",
       "    </tr>\n",
       "  </tbody>\n",
       "</table>\n",
       "</div>"
      ],
      "text/plain": [
       "    id  sector_id       sector      route  rating  user_id\n",
       "0  582        126  Grüne Hölle  Isolation       0       39"
      ]
     },
     "execution_count": 42,
     "metadata": {},
     "output_type": "execute_result"
    }
   ],
   "source": [
    "user_id = 39\n",
    "# user_id = 35939\n",
    "X_test[X_test['user_id'] == user_id]\n",
    "# user_route_ratings.loc[user_id]"
   ]
  },
  {
   "cell_type": "code",
   "execution_count": 43,
   "metadata": {
    "ExecuteTime": {
     "end_time": "2018-12-16T21:33:03.314258Z",
     "start_time": "2018-12-16T21:33:03.305534Z"
    },
    "code_folding": [
     0,
     15,
     30
    ]
   },
   "outputs": [],
   "source": [
    "def get_most_rated_routes(user_route_ratings, max_number_of_routes):\n",
    "    # 1- Count\n",
    "    user_route_ratings = user_route_ratings.append(\n",
    "        user_route_ratings.count(), ignore_index=True)\n",
    "    # 2- sort\n",
    "    user_route_ratings_sorted = user_route_ratings.sort_values(\n",
    "        len(user_route_ratings)-1, axis=1, ascending=False)\n",
    "    user_route_ratings_sorted = user_route_ratings_sorted.drop(\n",
    "        user_route_ratings_sorted.tail(1).index)\n",
    "    # 3- slice\n",
    "    most_rated_routes = user_route_ratings_sorted.iloc[:,\n",
    "                                                       :max_number_of_routes]\n",
    "    return most_rated_routes\n",
    "\n",
    "\n",
    "def get_users_who_rate_the_most(most_rated_routes, max_number_of_routes):\n",
    "    # Get most voting users\n",
    "    # 1- Count\n",
    "    most_rated_routes['counts'] = pd.Series(most_rated_routes.count(axis=1))\n",
    "    # 2- Sort\n",
    "    most_rated_routes_users = most_rated_routes.sort_values(\n",
    "        'counts', ascending=False)\n",
    "    # 3- Slice\n",
    "    most_rated_routes_users_selection = most_rated_routes_users.iloc[:max_number_of_routes, :]\n",
    "    most_rated_routes_users_selection = most_rated_routes_users_selection.drop([\n",
    "                                                                               'counts'], axis=1)\n",
    "\n",
    "    return most_rated_routes_users_selection\n",
    "\n",
    "\n",
    "def sort_by_rating_density(user_route_ratings, n_routes, n_users):\n",
    "    most_rated_routes = get_most_rated_routes(user_route_ratings, n_routes)\n",
    "    most_rated_routes = get_users_who_rate_the_most(most_rated_routes, n_users)\n",
    "    return most_rated_routes"
   ]
  },
  {
   "cell_type": "code",
   "execution_count": 44,
   "metadata": {
    "ExecuteTime": {
     "end_time": "2018-12-16T21:33:03.756900Z",
     "start_time": "2018-12-16T21:33:03.317289Z"
    }
   },
   "outputs": [
    {
     "name": "stdout",
     "output_type": "stream",
     "text": [
      "dataset dimensions:  (18, 30)\n"
     ]
    },
    {
     "data": {
      "text/html": [
       "<div>\n",
       "<style scoped>\n",
       "    .dataframe tbody tr th:only-of-type {\n",
       "        vertical-align: middle;\n",
       "    }\n",
       "\n",
       "    .dataframe tbody tr th {\n",
       "        vertical-align: top;\n",
       "    }\n",
       "\n",
       "    .dataframe thead th {\n",
       "        text-align: right;\n",
       "    }\n",
       "</style>\n",
       "<table border=\"1\" class=\"dataframe\">\n",
       "  <thead>\n",
       "    <tr style=\"text-align: right;\">\n",
       "      <th>sector_route</th>\n",
       "      <th>Weißenstein_dampfhammer</th>\n",
       "      <th>Obere Schlossbergwände_liebe ohne chance</th>\n",
       "      <th>Richard Wagner Fels_fight gravity</th>\n",
       "      <th>Obere Schlossbergwände_dala</th>\n",
       "      <th>Grüne Hölle_isolation</th>\n",
       "      <th>Krottenseer Turm_chasin the trane</th>\n",
       "      <th>Marientaler Wände_saftfeld</th>\n",
       "      <th>Krottenseer Turm_hitchhike the plane</th>\n",
       "      <th>Diebesloch_blutspur</th>\n",
       "      <th>Bärenschlucht_herkules</th>\n",
       "      <th>...</th>\n",
       "      <th>Planetarium_liebesmh</th>\n",
       "      <th>Ankatalwand_computerspiele</th>\n",
       "      <th>Marientaler Wände_opa falkenstein</th>\n",
       "      <th>Bärenschlucht_roter baron</th>\n",
       "      <th>Eldorado_ekel</th>\n",
       "      <th>Andeltodrom_jumanji</th>\n",
       "      <th>Schlosszwergwand_danny de vito</th>\n",
       "      <th>Krottenseer Turm_westwand</th>\n",
       "      <th>Ziegenfelder Wände (Klinge)_dumbo</th>\n",
       "      <th>Obere Schlossbergwände_dezentraler energiepfad</th>\n",
       "    </tr>\n",
       "  </thead>\n",
       "  <tbody>\n",
       "    <tr>\n",
       "      <th>253</th>\n",
       "      <td>3.0</td>\n",
       "      <td>3.0</td>\n",
       "      <td>3.0</td>\n",
       "      <td>1.0</td>\n",
       "      <td>2.0</td>\n",
       "      <td>3.0</td>\n",
       "      <td>2.0</td>\n",
       "      <td>3.0</td>\n",
       "      <td>3.0</td>\n",
       "      <td>NaN</td>\n",
       "      <td>...</td>\n",
       "      <td>3.0</td>\n",
       "      <td>NaN</td>\n",
       "      <td>2.0</td>\n",
       "      <td>2.0</td>\n",
       "      <td>NaN</td>\n",
       "      <td>2.0</td>\n",
       "      <td>1.0</td>\n",
       "      <td>3.0</td>\n",
       "      <td>NaN</td>\n",
       "      <td>3.0</td>\n",
       "    </tr>\n",
       "    <tr>\n",
       "      <th>981</th>\n",
       "      <td>3.0</td>\n",
       "      <td>3.0</td>\n",
       "      <td>3.0</td>\n",
       "      <td>3.0</td>\n",
       "      <td>2.0</td>\n",
       "      <td>NaN</td>\n",
       "      <td>2.0</td>\n",
       "      <td>3.0</td>\n",
       "      <td>2.0</td>\n",
       "      <td>3.0</td>\n",
       "      <td>...</td>\n",
       "      <td>3.0</td>\n",
       "      <td>NaN</td>\n",
       "      <td>NaN</td>\n",
       "      <td>3.0</td>\n",
       "      <td>NaN</td>\n",
       "      <td>2.0</td>\n",
       "      <td>3.0</td>\n",
       "      <td>NaN</td>\n",
       "      <td>3.0</td>\n",
       "      <td>2.0</td>\n",
       "    </tr>\n",
       "    <tr>\n",
       "      <th>2059</th>\n",
       "      <td>1.0</td>\n",
       "      <td>3.0</td>\n",
       "      <td>3.0</td>\n",
       "      <td>3.0</td>\n",
       "      <td>3.0</td>\n",
       "      <td>3.0</td>\n",
       "      <td>2.0</td>\n",
       "      <td>NaN</td>\n",
       "      <td>3.0</td>\n",
       "      <td>NaN</td>\n",
       "      <td>...</td>\n",
       "      <td>NaN</td>\n",
       "      <td>3.0</td>\n",
       "      <td>2.0</td>\n",
       "      <td>NaN</td>\n",
       "      <td>NaN</td>\n",
       "      <td>3.0</td>\n",
       "      <td>2.0</td>\n",
       "      <td>NaN</td>\n",
       "      <td>3.0</td>\n",
       "      <td>3.0</td>\n",
       "    </tr>\n",
       "    <tr>\n",
       "      <th>1535</th>\n",
       "      <td>NaN</td>\n",
       "      <td>2.0</td>\n",
       "      <td>2.0</td>\n",
       "      <td>NaN</td>\n",
       "      <td>3.0</td>\n",
       "      <td>2.0</td>\n",
       "      <td>NaN</td>\n",
       "      <td>NaN</td>\n",
       "      <td>1.0</td>\n",
       "      <td>NaN</td>\n",
       "      <td>...</td>\n",
       "      <td>3.0</td>\n",
       "      <td>3.0</td>\n",
       "      <td>NaN</td>\n",
       "      <td>2.0</td>\n",
       "      <td>3.0</td>\n",
       "      <td>1.0</td>\n",
       "      <td>NaN</td>\n",
       "      <td>1.0</td>\n",
       "      <td>3.0</td>\n",
       "      <td>1.0</td>\n",
       "    </tr>\n",
       "    <tr>\n",
       "      <th>1519</th>\n",
       "      <td>3.0</td>\n",
       "      <td>3.0</td>\n",
       "      <td>3.0</td>\n",
       "      <td>1.0</td>\n",
       "      <td>2.0</td>\n",
       "      <td>3.0</td>\n",
       "      <td>2.0</td>\n",
       "      <td>3.0</td>\n",
       "      <td>2.0</td>\n",
       "      <td>NaN</td>\n",
       "      <td>...</td>\n",
       "      <td>3.0</td>\n",
       "      <td>3.0</td>\n",
       "      <td>NaN</td>\n",
       "      <td>NaN</td>\n",
       "      <td>NaN</td>\n",
       "      <td>NaN</td>\n",
       "      <td>NaN</td>\n",
       "      <td>NaN</td>\n",
       "      <td>3.0</td>\n",
       "      <td>NaN</td>\n",
       "    </tr>\n",
       "  </tbody>\n",
       "</table>\n",
       "<p>5 rows × 30 columns</p>\n",
       "</div>"
      ],
      "text/plain": [
       "sector_route  Weißenstein_dampfhammer  \\\n",
       "253                               3.0   \n",
       "981                               3.0   \n",
       "2059                              1.0   \n",
       "1535                              NaN   \n",
       "1519                              3.0   \n",
       "\n",
       "sector_route  Obere Schlossbergwände_liebe ohne chance  \\\n",
       "253                                                3.0   \n",
       "981                                                3.0   \n",
       "2059                                               3.0   \n",
       "1535                                               2.0   \n",
       "1519                                               3.0   \n",
       "\n",
       "sector_route  Richard Wagner Fels_fight gravity  Obere Schlossbergwände_dala  \\\n",
       "253                                         3.0                          1.0   \n",
       "981                                         3.0                          3.0   \n",
       "2059                                        3.0                          3.0   \n",
       "1535                                        2.0                          NaN   \n",
       "1519                                        3.0                          1.0   \n",
       "\n",
       "sector_route  Grüne Hölle_isolation  Krottenseer Turm_chasin the trane  \\\n",
       "253                             2.0                                3.0   \n",
       "981                             2.0                                NaN   \n",
       "2059                            3.0                                3.0   \n",
       "1535                            3.0                                2.0   \n",
       "1519                            2.0                                3.0   \n",
       "\n",
       "sector_route  Marientaler Wände_saftfeld  \\\n",
       "253                                  2.0   \n",
       "981                                  2.0   \n",
       "2059                                 2.0   \n",
       "1535                                 NaN   \n",
       "1519                                 2.0   \n",
       "\n",
       "sector_route  Krottenseer Turm_hitchhike the plane  Diebesloch_blutspur  \\\n",
       "253                                            3.0                  3.0   \n",
       "981                                            3.0                  2.0   \n",
       "2059                                           NaN                  3.0   \n",
       "1535                                           NaN                  1.0   \n",
       "1519                                           3.0                  2.0   \n",
       "\n",
       "sector_route  Bärenschlucht_herkules  \\\n",
       "253                              NaN   \n",
       "981                              3.0   \n",
       "2059                             NaN   \n",
       "1535                             NaN   \n",
       "1519                             NaN   \n",
       "\n",
       "sector_route                       ...                        \\\n",
       "253                                ...                         \n",
       "981                                ...                         \n",
       "2059                               ...                         \n",
       "1535                               ...                         \n",
       "1519                               ...                         \n",
       "\n",
       "sector_route  Planetarium_liebesmh  Ankatalwand_computerspiele  \\\n",
       "253                            3.0                         NaN   \n",
       "981                            3.0                         NaN   \n",
       "2059                           NaN                         3.0   \n",
       "1535                           3.0                         3.0   \n",
       "1519                           3.0                         3.0   \n",
       "\n",
       "sector_route  Marientaler Wände_opa falkenstein  Bärenschlucht_roter baron  \\\n",
       "253                                         2.0                        2.0   \n",
       "981                                         NaN                        3.0   \n",
       "2059                                        2.0                        NaN   \n",
       "1535                                        NaN                        2.0   \n",
       "1519                                        NaN                        NaN   \n",
       "\n",
       "sector_route  Eldorado_ekel  Andeltodrom_jumanji  \\\n",
       "253                     NaN                  2.0   \n",
       "981                     NaN                  2.0   \n",
       "2059                    NaN                  3.0   \n",
       "1535                    3.0                  1.0   \n",
       "1519                    NaN                  NaN   \n",
       "\n",
       "sector_route  Schlosszwergwand_danny de vito  Krottenseer Turm_westwand  \\\n",
       "253                                      1.0                        3.0   \n",
       "981                                      3.0                        NaN   \n",
       "2059                                     2.0                        NaN   \n",
       "1535                                     NaN                        1.0   \n",
       "1519                                     NaN                        NaN   \n",
       "\n",
       "sector_route  Ziegenfelder Wände (Klinge)_dumbo  \\\n",
       "253                                         NaN   \n",
       "981                                         3.0   \n",
       "2059                                        3.0   \n",
       "1535                                        3.0   \n",
       "1519                                        3.0   \n",
       "\n",
       "sector_route  Obere Schlossbergwände_dezentraler energiepfad  \n",
       "253                                                      3.0  \n",
       "981                                                      2.0  \n",
       "2059                                                     3.0  \n",
       "1535                                                     1.0  \n",
       "1519                                                     NaN  \n",
       "\n",
       "[5 rows x 30 columns]"
      ]
     },
     "execution_count": 44,
     "metadata": {},
     "output_type": "execute_result"
    }
   ],
   "source": [
    "n_routes = 30\n",
    "n_users = 18\n",
    "most_rated_routes_users_selection = sort_by_rating_density(user_route_ratings, n_routes, n_users)\n",
    "\n",
    "print('dataset dimensions: ', most_rated_routes_users_selection.shape)\n",
    "most_rated_routes_users_selection.head()"
   ]
  },
  {
   "cell_type": "markdown",
   "metadata": {},
   "source": [
    "In the above table `sector_route` is label of column names, not the label of the first column. cp. to first table in Implementation section"
   ]
  },
  {
   "cell_type": "code",
   "execution_count": 45,
   "metadata": {
    "ExecuteTime": {
     "end_time": "2018-12-16T21:33:03.779750Z",
     "start_time": "2018-12-16T21:33:03.759639Z"
    },
    "code_folding": [
     3
    ]
   },
   "outputs": [],
   "source": [
    "from mpl_toolkits.axes_grid1 import make_axes_locatable\n",
    "\n",
    "\n",
    "def draw_routes_heatmap(most_rated_routes_users_selection, axis_labels=True):\n",
    "\n",
    "    # Reverse to match the order of the printed dataframe\n",
    "    #most_rated_routes_users_selection = most_rated_routes_users_selection.iloc[::-1]\n",
    "\n",
    "    fig = plt.figure(figsize=(15, 4))\n",
    "    ax = plt.gca()\n",
    "\n",
    "    # Draw heatmap\n",
    "    heatmap = ax.imshow(most_rated_routes_users_selection,\n",
    "                        interpolation='nearest', vmin=0, vmax=3, aspect='auto')\n",
    "\n",
    "    if axis_labels:\n",
    "        ax.set_yticks(\n",
    "            np.arange(most_rated_routes_users_selection.shape[0]), minor=False)\n",
    "        ax.set_xticks(\n",
    "            np.arange(most_rated_routes_users_selection.shape[1]), minor=False)\n",
    "        ax.invert_yaxis()\n",
    "        ax.xaxis.tick_top()\n",
    "        labels = most_rated_routes_users_selection.columns.str[:40]\n",
    "        ax.set_xticklabels(labels, minor=False)\n",
    "        ax.set_yticklabels(\n",
    "            most_rated_routes_users_selection.index, minor=False)\n",
    "        plt.setp(ax.get_xticklabels(), rotation=90)\n",
    "    else:\n",
    "        ax.get_xaxis().set_visible(False)\n",
    "        ax.get_yaxis().set_visible(False)\n",
    "\n",
    "    ax.grid(False)\n",
    "    ax.set_ylabel('User id')\n",
    "\n",
    "    # Separate heatmap from color bar\n",
    "    divider = make_axes_locatable(ax)\n",
    "    cax = divider.append_axes(\"right\", size=\"5%\", pad=0.05)\n",
    "\n",
    "    # Color bar\n",
    "    cbar = fig.colorbar(heatmap, ticks=[3, 2, 1, 0], cax=cax)\n",
    "    cbar.ax.set_yticklabels(['3 stars', '2 stars', '1 stars', '0 stars'])\n",
    "\n",
    "    plt.show()"
   ]
  },
  {
   "cell_type": "code",
   "execution_count": 46,
   "metadata": {
    "ExecuteTime": {
     "end_time": "2018-12-16T21:33:04.384293Z",
     "start_time": "2018-12-16T21:33:03.781823Z"
    }
   },
   "outputs": [
    {
     "data": {
      "image/png": "[encoded data removed]",
      "text/plain": [
       "<Figure size 1080x288 with 2 Axes>"
      ]
     },
     "metadata": {
      "needs_background": "light"
     },
     "output_type": "display_data"
    }
   ],
   "source": [
    "draw_routes_heatmap(most_rated_routes_users_selection)"
   ]
  },
  {
   "cell_type": "code",
   "execution_count": 47,
   "metadata": {
    "ExecuteTime": {
     "end_time": "2018-12-16T21:33:06.011439Z",
     "start_time": "2018-12-16T21:33:04.386266Z"
    }
   },
   "outputs": [],
   "source": [
    "# user_route_ratings_str = user_route_ratings.copy()\n",
    "# user_route_ratings_str.columns = user_route_ratings_str.columns.astype(str)\n",
    "# sparse_ratings = csr_matrix(pd.SparseDataFrame(user_route_ratings_str).to_coo())\n",
    "\n",
    "sparse_ratings = csr_matrix(pd.SparseDataFrame(user_route_ratings).to_coo())"
   ]
  },
  {
   "cell_type": "markdown",
   "metadata": {},
   "source": [
    "### Clustering"
   ]
  },
  {
   "cell_type": "code",
   "execution_count": 48,
   "metadata": {
    "ExecuteTime": {
     "end_time": "2018-12-16T21:33:06.178868Z",
     "start_time": "2018-12-16T21:33:06.013683Z"
    }
   },
   "outputs": [],
   "source": [
    "from sklearn.cluster import KMeans\n",
    "\n",
    "# TODO find number of clusters"
   ]
  },
  {
   "cell_type": "code",
   "execution_count": 49,
   "metadata": {
    "ExecuteTime": {
     "end_time": "2018-12-16T21:33:06.184428Z",
     "start_time": "2018-12-16T21:33:06.180766Z"
    }
   },
   "outputs": [],
   "source": [
    "def clustering_errors(k, data):\n",
    "    kmeans = KMeans(n_clusters=k).fit(data)\n",
    "    predictions = kmeans.predict(data)\n",
    "    #cluster_centers = kmeans.cluster_centers_\n",
    "    # errors = [mean_squared_error(row, cluster_centers[cluster]) for row, cluster in zip(data.values, predictions)]\n",
    "    # return sum(errors)\n",
    "    silhouette_avg = silhouette_score(data, predictions)\n",
    "    return silhouette_avg"
   ]
  },
  {
   "cell_type": "code",
   "execution_count": 50,
   "metadata": {
    "ExecuteTime": {
     "end_time": "2018-12-16T21:34:00.930335Z",
     "start_time": "2018-12-16T21:33:06.186529Z"
    }
   },
   "outputs": [],
   "source": [
    "# Choose the range of k values to test.\n",
    "# We added a stride of 5 to improve performance. We don't need to calculate the error for every k value\n",
    "# possible_k_values = range(2, len(X)-1, 5)\n",
    "possible_k_values = range(2, 20, 1)\n",
    "\n",
    "# Calculate error values for all k values we're interested in\n",
    "errors_per_k = [clustering_errors(k, sparse_ratings) for k in possible_k_values]\n"
   ]
  },
  {
   "cell_type": "code",
   "execution_count": 51,
   "metadata": {
    "ExecuteTime": {
     "end_time": "2018-12-16T21:34:00.934888Z",
     "start_time": "2018-12-16T21:34:00.932611Z"
    }
   },
   "outputs": [],
   "source": [
    "# Optional: Look at the values of K vs the silhouette score of running K-means with that value of k\n",
    "# list(zip(possible_k_values, errors_per_k))"
   ]
  },
  {
   "cell_type": "code",
   "execution_count": 52,
   "metadata": {
    "ExecuteTime": {
     "end_time": "2018-12-16T21:34:01.292945Z",
     "start_time": "2018-12-16T21:34:00.937204Z"
    }
   },
   "outputs": [
    {
     "data": {
      "image/png": "[encoded data removed]",
      "text/plain": [
       "<Figure size 1152x432 with 1 Axes>"
      ]
     },
     "metadata": {
      "needs_background": "light"
     },
     "output_type": "display_data"
    }
   ],
   "source": [
    "# Plot each value of K vs. the silhouette score at that value\n",
    "fig, ax = plt.subplots(figsize=(16, 6))\n",
    "_ = ax.set_xlabel('K - number of clusters')\n",
    "_ = ax.set_ylabel('Silhouette Score (higher is better)')\n",
    "_ = ax.plot(possible_k_values, errors_per_k)\n",
    "\n",
    "# Ticks and grid\n",
    "xticks = np.arange(min(possible_k_values), max(possible_k_values)+1, 5.0)\n",
    "_ = ax.set_xticks(xticks, minor=False)\n",
    "_ = ax.set_xticks(xticks, minor=True)\n",
    "_ = ax.xaxis.grid(True, which='both')\n",
    "yticks = np.arange(round(min(errors_per_k), 2), max(errors_per_k), .05)\n",
    "_ = ax.set_yticks(yticks, minor=False)\n",
    "_ = ax.set_yticks(yticks, minor=True)\n",
    "_ = ax.yaxis.grid(True, which='both')"
   ]
  },
  {
   "cell_type": "code",
   "execution_count": 53,
   "metadata": {
    "ExecuteTime": {
     "end_time": "2018-12-16T21:34:02.071417Z",
     "start_time": "2018-12-16T21:34:01.294792Z"
    }
   },
   "outputs": [],
   "source": [
    "# Predict user clusters using KMeans\n",
    "predictions = KMeans(n_clusters=2, algorithm='full').fit_predict(sparse_ratings)"
   ]
  },
  {
   "cell_type": "code",
   "execution_count": 54,
   "metadata": {
    "ExecuteTime": {
     "end_time": "2018-12-16T21:34:02.077836Z",
     "start_time": "2018-12-16T21:34:02.073668Z"
    }
   },
   "outputs": [
    {
     "data": {
      "text/plain": [
       "2139"
      ]
     },
     "execution_count": 54,
     "metadata": {},
     "output_type": "execute_result"
    }
   ],
   "source": [
    "len(predictions)"
   ]
  },
  {
   "cell_type": "code",
   "execution_count": 55,
   "metadata": {
    "ExecuteTime": {
     "end_time": "2018-12-16T21:34:02.085819Z",
     "start_time": "2018-12-16T21:34:02.080636Z"
    }
   },
   "outputs": [
    {
     "data": {
      "text/plain": [
       "{0: 21, 1: 2118}"
      ]
     },
     "execution_count": 55,
     "metadata": {},
     "output_type": "execute_result"
    }
   ],
   "source": [
    "unique, counts = np.unique(predictions, return_counts=True)\n",
    "dict(zip(unique, counts))"
   ]
  },
  {
   "cell_type": "code",
   "execution_count": 56,
   "metadata": {
    "ExecuteTime": {
     "end_time": "2018-12-16T21:34:02.101840Z",
     "start_time": "2018-12-16T21:34:02.088390Z"
    },
    "code_folding": [
     0
    ]
   },
   "outputs": [],
   "source": [
    "def draw_route_clusters(clustered, max_users, max_routes):\n",
    "    c = 1\n",
    "    for cluster_id in clustered.group.unique():\n",
    "        # To improve visibility, we're showing at most max_users users and max_routes routes per cluster.\n",
    "        # You can change these values to see more users & routes per cluster\n",
    "        d = clustered[clustered.group == cluster_id].drop(\n",
    "            ['user_id', 'group'], axis=1)\n",
    "        n_users_in_cluster = d.shape[0]\n",
    "\n",
    "        d = sort_by_rating_density(d, max_routes, max_users)\n",
    "\n",
    "#         d = d.reindex_axis(d.mean().sort_values(ascending=False).index, axis=1)\n",
    "#         d = d.reindex_axis(d.count(axis=1).sort_values(ascending=False).index)\n",
    "        d = d.reindex(d.mean().sort_values(ascending=False).index, axis=1)\n",
    "        d = d.reindex(d.count(axis=1).sort_values(ascending=False).index)\n",
    "        d = d.iloc[:max_users, :max_routes]\n",
    "        n_users_in_plot = d.shape[0]\n",
    "\n",
    "        # We're only selecting to show clusters that have more than 9 users, otherwise, they're less interesting\n",
    "        if len(d) > 9:\n",
    "            print('cluster # {}'.format(cluster_id))\n",
    "            print('# of users in cluster: {}.'.format(n_users_in_cluster),\n",
    "                  '# of users in plot: {}'.format(n_users_in_plot))\n",
    "            fig = plt.figure(figsize=(15, 4))\n",
    "            ax = plt.gca()\n",
    "\n",
    "            ax.invert_yaxis()\n",
    "            ax.xaxis.tick_top()\n",
    "            labels = d.columns.str[:40]\n",
    "\n",
    "            ax.set_yticks(np.arange(d.shape[0]), minor=False)\n",
    "            ax.set_xticks(np.arange(d.shape[1]), minor=False)\n",
    "\n",
    "            ax.set_xticklabels(labels, minor=False)\n",
    "\n",
    "            ax.get_yaxis().set_visible(False)\n",
    "\n",
    "            # Heatmap\n",
    "            heatmap = plt.imshow(d, vmin=1, vmax=3, aspect='auto')\n",
    "\n",
    "            ax.set_xlabel('routes')\n",
    "            ax.set_ylabel('User id')\n",
    "\n",
    "            divider = make_axes_locatable(ax)\n",
    "            cax = divider.append_axes(\"right\", size=\"5%\", pad=0.05)\n",
    "\n",
    "            # Color bar\n",
    "            cbar = fig.colorbar(heatmap, ticks=[3, 2, 1], cax=cax)\n",
    "            cbar.ax.set_yticklabels(\n",
    "                ['3 stars', '2 stars', '1 stars'])\n",
    "\n",
    "            plt.setp(ax.get_xticklabels(), rotation=90, fontsize=9)\n",
    "            plt.tick_params(axis='both', which='both', bottom='off',\n",
    "                            top='off', left='off', labelbottom='off', labelleft='off')\n",
    "            # print('cluster # {} \\n(Showing at most {} users and {} routes)'.format(cluster_id, max_users, max_routes))\n",
    "\n",
    "            plt.show()\n",
    "\n",
    "            # Let's only show 5 clusters\n",
    "            # Remove the next three lines if you want to see all the clusters\n",
    "            # Contribution welcomed: Pythonic way of achieving this\n",
    "            # c = c+1\n",
    "            # if c > 6:\n",
    "            #    break"
   ]
  },
  {
   "cell_type": "code",
   "execution_count": 57,
   "metadata": {
    "ExecuteTime": {
     "end_time": "2018-12-16T21:34:02.390733Z",
     "start_time": "2018-12-16T21:34:02.105048Z"
    }
   },
   "outputs": [],
   "source": [
    "max_users = 70\n",
    "max_routes = 50\n",
    "\n",
    "# is this line messing up my user_id?\n",
    "clustered = pd.concat([user_route_ratings.reset_index(),\n",
    "                       pd.DataFrame({'group': predictions})], axis=1)\n",
    "clustered = clustered.set_index('user_id')\n",
    "clustered['user_id'] = clustered.index"
   ]
  },
  {
   "cell_type": "code",
   "execution_count": 58,
   "metadata": {
    "ExecuteTime": {
     "end_time": "2018-12-16T21:34:02.413203Z",
     "start_time": "2018-12-16T21:34:02.393288Z"
    }
   },
   "outputs": [
    {
     "data": {
      "text/html": [
       "<div>\n",
       "<style scoped>\n",
       "    .dataframe tbody tr th:only-of-type {\n",
       "        vertical-align: middle;\n",
       "    }\n",
       "\n",
       "    .dataframe tbody tr th {\n",
       "        vertical-align: top;\n",
       "    }\n",
       "\n",
       "    .dataframe thead th {\n",
       "        text-align: right;\n",
       "    }\n",
       "</style>\n",
       "<table border=\"1\" class=\"dataframe\">\n",
       "  <thead>\n",
       "    <tr style=\"text-align: right;\">\n",
       "      <th></th>\n",
       "      <th>AMPHITHEATER_angel dust</th>\n",
       "      <th>AMPHITHEATER_die dunkle seite</th>\n",
       "      <th>Affentheater_affenhitze</th>\n",
       "      <th>Affentheater_affentanz</th>\n",
       "      <th>Affentheater_bonobo</th>\n",
       "      <th>Affentheater_chimpanzee</th>\n",
       "      <th>Affentheater_decision</th>\n",
       "      <th>Affentheater_ganz schn affig</th>\n",
       "      <th>Affentheater_geffel</th>\n",
       "      <th>Affentheater_gib dem affen zucker</th>\n",
       "      <th>...</th>\n",
       "      <th>zehnerstein_lineal</th>\n",
       "      <th>zehnerstein_satisfaction</th>\n",
       "      <th>zehnerstein_seifertriss</th>\n",
       "      <th>zwergenschloss_linie</th>\n",
       "      <th>zwergenschloss_panic room</th>\n",
       "      <th>zwergenschloss_starlight express</th>\n",
       "      <th>zwergenschloss_uschi mach keinen quatsch</th>\n",
       "      <th>zwergenschloss_zentrifuge</th>\n",
       "      <th>group</th>\n",
       "      <th>user_id</th>\n",
       "    </tr>\n",
       "    <tr>\n",
       "      <th>user_id</th>\n",
       "      <th></th>\n",
       "      <th></th>\n",
       "      <th></th>\n",
       "      <th></th>\n",
       "      <th></th>\n",
       "      <th></th>\n",
       "      <th></th>\n",
       "      <th></th>\n",
       "      <th></th>\n",
       "      <th></th>\n",
       "      <th></th>\n",
       "      <th></th>\n",
       "      <th></th>\n",
       "      <th></th>\n",
       "      <th></th>\n",
       "      <th></th>\n",
       "      <th></th>\n",
       "      <th></th>\n",
       "      <th></th>\n",
       "      <th></th>\n",
       "      <th></th>\n",
       "    </tr>\n",
       "  </thead>\n",
       "  <tbody>\n",
       "  </tbody>\n",
       "</table>\n",
       "<p>0 rows × 5356 columns</p>\n",
       "</div>"
      ],
      "text/plain": [
       "Empty DataFrame\n",
       "Columns: [AMPHITHEATER_angel dust, AMPHITHEATER_die dunkle seite, Affentheater_affenhitze, Affentheater_affentanz, Affentheater_bonobo, Affentheater_chimpanzee, Affentheater_decision, Affentheater_ganz schn affig, Affentheater_geffel, Affentheater_gib dem affen zucker, Affentheater_hypersupermegaturbotittenaffengeil, Affentheater_klammeraffe, Affentheater_klemmeraffe, Affentheater_louobba, Affentheater_makakke, Affentheater_nasenaffe, Affentheater_paviankante, Ailsbachtaler Turm_ nr  schwertner fhrer  auflage, Ailsbachtaler Turm_beamtenseufzer, Ailsbachtaler Turm_freak, Ailsbachtaler Turm_italienisches reitturnier, Ailsbachtaler Turm_meins, Ailsbachtaler Turm_rsi, Ailsbachtaler Turm_strong, Ailsbachtaler Turm_succi, Ailsbachtaler Turm_un emozione per sempre, Ailsbachtaler Turm_wellenreiter, Algersdorfer Wand_alter pfeilerweg, Algersdorfer Wand_aufreier, Algersdorfer Wand_brennpunkt, Algersdorfer Wand_brennpunkt direkt, Algersdorfer Wand_brent spar, Algersdorfer Wand_dynamo, Algersdorfer Wand_dynamo algersdorf, Algersdorfer Wand_flora soft, Algersdorfer Wand_geile zeit, Algersdorfer Wand_haasenhochzeit, Algersdorfer Wand_hhenkoller, Algersdorfer Wand_illusion, Algersdorfer Wand_limbus enterprise, Algersdorfer Wand_mururoa, Algersdorfer Wand_paul preu gedweg, Algersdorfer Wand_petite fleur, Algersdorfer Wand_pfeilerweg, Algersdorfer Wand_polyphem, Algersdorfer Wand_robontop, Algersdorfer Wand_spontan, Algersdorfer Wand_streiflicht, Algersdorfer wand_brennpunkt direkt, Algersdorfer wand_brent spar, Algersdorfer wand_dynamo, Almoser Wand_almosen, Almoser Wand_alter weg direkt, Almoser Wand_ascweg, Almoser Wand_brennesselplatte, Almoser Wand_helis idee, Almoser Wand_ijz, Almoser Wand_kante, Almoser Wand_lass aussi die sau, Almoser Wand_morgenstern, Almoser Wand_stachelbeerweg, Almoser wand_helis idee, Altbabawand_brchens wunderbare reise durch mittelbaba, Altbabawand_coburger weg, Altbabawand_didaktische jahresplanung, Altbabawand_eckenschnitt, Altbabawand_hosenscheier, Altbabawand_kurz  super, Altbabawand_mike bergang tyson, Altbabawand_miniatur, Altbabawand_natz bramslinger, Altbabawand_nordlicht, Altbabawand_sptlese, Altbabawand_way of schwuchtel, Amerikanische Botschaft_achse des bsen, Amerikanische Botschaft_agent orange, Amerikanische Botschaft_bic mac, Amerikanische Botschaft_big mac, Amerikanische Botschaft_burger king, Amerikanische Botschaft_bushtrommel, Amerikanische Botschaft_cesars palace, Amerikanische Botschaft_desert storm, Amerikanische Botschaft_die achse des bsen, Amerikanische Botschaft_first lady, Amerikanische Botschaft_happy meal, Amerikanische Botschaft_monika lewinsky, Amerikanische Botschaft_oral office, Amerikanische Botschaft_ronald mcdonald, Amerikanische Botschaft_viva las vegas, Ammerthaler Wand_desperados, Ammerthaler Wand_doppelficker, Ammerthaler Wand_endspiel, Ammerthaler Wand_kack attack, Ammerthaler Wand_keine ahnung, Ammerthaler Wand_kombination, Ammerthaler Wand_last highway, Ammerthaler Wand_normalweg, Ammerthaler Wand_senkrechtstarter, Ammerthaler Wand_stuka, Ammerthaler Wand_touchdown, ...]\n",
       "Index: []\n",
       "\n",
       "[0 rows x 5356 columns]"
      ]
     },
     "execution_count": 58,
     "metadata": {},
     "output_type": "execute_result"
    }
   ],
   "source": [
    "clustered[clustered['group'].isnull()]"
   ]
  },
  {
   "cell_type": "code",
   "execution_count": 59,
   "metadata": {
    "ExecuteTime": {
     "end_time": "2018-12-16T21:34:02.426338Z",
     "start_time": "2018-12-16T21:34:02.415789Z"
    },
    "code_folding": []
   },
   "outputs": [
    {
     "data": {
      "text/plain": [
       "1    2118\n",
       "0      21\n",
       "Name: group, dtype: int64"
      ]
     },
     "execution_count": 59,
     "metadata": {},
     "output_type": "execute_result"
    }
   ],
   "source": [
    "# Get a random cluster number with cluster size >= threshold\n",
    "threshold = 1\n",
    "group_counts = clustered['group'].value_counts()\n",
    "group_counts = group_counts[group_counts >= threshold]\n",
    "group_counts\n",
    "random_cluster_number = group_counts.sample(1).index[0]"
   ]
  },
  {
   "cell_type": "code",
   "execution_count": 60,
   "metadata": {
    "ExecuteTime": {
     "end_time": "2018-12-16T21:34:04.553143Z",
     "start_time": "2018-12-16T21:34:02.428960Z"
    }
   },
   "outputs": [
    {
     "name": "stdout",
     "output_type": "stream",
     "text": [
      "cluster # 1\n",
      "# of users in cluster: 2118. # of users in plot: 70\n"
     ]
    },
    {
     "name": "stderr",
     "output_type": "stream",
     "text": [
      "/Users/dominik/anaconda3/lib/python3.6/site-packages/matplotlib/cbook/deprecation.py:107: MatplotlibDeprecationWarning: Passing one of 'on', 'true', 'off', 'false' as a boolean is deprecated; use an actual boolean (True/False) instead.\n",
      "  warnings.warn(message, mplDeprecation, stacklevel=1)\n"
     ]
    },
    {
     "data": {
      "image/png": "[encoded data removed]",
      "text/plain": [
       "<Figure size 1080x288 with 2 Axes>"
      ]
     },
     "metadata": {
      "needs_background": "light"
     },
     "output_type": "display_data"
    },
    {
     "name": "stdout",
     "output_type": "stream",
     "text": [
      "cluster # 0\n",
      "# of users in cluster: 21. # of users in plot: 21\n"
     ]
    },
    {
     "data": {
      "image/png": "[encoded data removed]",
      "text/plain": [
       "<Figure size 1080x288 with 2 Axes>"
      ]
     },
     "metadata": {
      "needs_background": "light"
     },
     "output_type": "display_data"
    }
   ],
   "source": [
    "draw_route_clusters(clustered, max_users, max_routes)"
   ]
  },
  {
   "cell_type": "markdown",
   "metadata": {},
   "source": [
    "\n",
    "## Prediction\n",
    "Let's pick a cluster and a specific user and see what useful things this clustering will allow us to do.\n",
    "\n",
    "Let's first pick a cluster:"
   ]
  },
  {
   "cell_type": "code",
   "execution_count": 61,
   "metadata": {
    "ExecuteTime": {
     "end_time": "2018-12-16T21:34:04.558299Z",
     "start_time": "2018-12-16T21:34:04.555039Z"
    },
    "code_folding": [
     0
    ]
   },
   "outputs": [],
   "source": [
    "def get_cluster(clustered, cluster_number):\n",
    "    \n",
    "#     cluster = clustered[clustered.group == cluster_number].drop(['user_id', 'group'], axis=1)\n",
    "    cluster = clustered[clustered.group == cluster_number].drop(['group'], axis=1)\n",
    "    cluster = cluster.set_index('user_id')\n",
    "    cluster = cluster.rename_axis('user_id')\n",
    "    \n",
    "    return cluster"
   ]
  },
  {
   "cell_type": "code",
   "execution_count": 62,
   "metadata": {
    "ExecuteTime": {
     "end_time": "2018-12-16T21:34:05.567324Z",
     "start_time": "2018-12-16T21:34:04.560602Z"
    }
   },
   "outputs": [
    {
     "data": {
      "image/png": "[encoded data removed]",
      "text/plain": [
       "<Figure size 1080x288 with 2 Axes>"
      ]
     },
     "metadata": {
      "needs_background": "light"
     },
     "output_type": "display_data"
    }
   ],
   "source": [
    "# TODO: Pick a cluster ID from the clusters above\n",
    "cluster_number = random_cluster_number\n",
    "\n",
    "# Let's filter to only see the region of the dataset with the most number of values \n",
    "n_users = 75\n",
    "n_routes = 300\n",
    "cluster = get_cluster(clustered, cluster_number)\n",
    "\n",
    "cluster = sort_by_rating_density(cluster, n_routes, n_users)\n",
    "draw_routes_heatmap(cluster, axis_labels=False)\n",
    "\n",
    "# set cluster back to original (because sort_by_rating_density() modifies cluster)\n",
    "cluster = get_cluster(clustered, cluster_number) "
   ]
  },
  {
   "cell_type": "code",
   "execution_count": 63,
   "metadata": {
    "ExecuteTime": {
     "end_time": "2018-12-16T21:34:05.571930Z",
     "start_time": "2018-12-16T21:34:05.569441Z"
    }
   },
   "outputs": [],
   "source": [
    "# cluster.fillna('').head()"
   ]
  },
  {
   "cell_type": "code",
   "execution_count": 64,
   "metadata": {
    "ExecuteTime": {
     "end_time": "2018-12-16T21:34:05.580464Z",
     "start_time": "2018-12-16T21:34:05.574308Z"
    }
   },
   "outputs": [
    {
     "data": {
      "text/plain": [
       "2.3125"
      ]
     },
     "execution_count": 64,
     "metadata": {},
     "output_type": "execute_result"
    }
   ],
   "source": [
    "route_name = 'Wolfsberger Grotte_panda'\n",
    "\n",
    "cluster[route_name].mean()"
   ]
  },
  {
   "cell_type": "code",
   "execution_count": 65,
   "metadata": {
    "ExecuteTime": {
     "end_time": "2018-12-16T21:34:05.585810Z",
     "start_time": "2018-12-16T21:34:05.583018Z"
    }
   },
   "outputs": [],
   "source": [
    "# cluster.mean().sort_values()"
   ]
  },
  {
   "cell_type": "code",
   "execution_count": 66,
   "metadata": {
    "ExecuteTime": {
     "end_time": "2018-12-16T21:34:05.591224Z",
     "start_time": "2018-12-16T21:34:05.588395Z"
    },
    "code_folding": []
   },
   "outputs": [],
   "source": [
    "def cluster_membership(clustered, user_id):\n",
    "    '''given a clustered dataframe, returns the cluster number that user_id is a member of'''\n",
    "    \n",
    "    return clustered[clustered['user_id'] == user_id]['group'].iloc[0]"
   ]
  },
  {
   "cell_type": "code",
   "execution_count": 67,
   "metadata": {
    "ExecuteTime": {
     "end_time": "2018-12-16T21:34:05.599081Z",
     "start_time": "2018-12-16T21:34:05.594236Z"
    }
   },
   "outputs": [
    {
     "data": {
      "text/latex": [
       "\n",
       "Weighted Rating (WR) = $(\\frac{v}{v + m} \\cdot R) + (\\frac{m}{v + m} \\cdot C)$"
      ],
      "text/plain": [
       "<IPython.core.display.Latex object>"
      ]
     },
     "metadata": {},
     "output_type": "display_data"
    }
   ],
   "source": [
    "%%latex\n",
    "\n",
    "Weighted Rating (WR) = $(\\frac{v}{v + m} \\cdot R) + (\\frac{m}{v + m} \\cdot C)$"
   ]
  },
  {
   "attachments": {},
   "cell_type": "markdown",
   "metadata": {
    "ExecuteTime": {
     "end_time": "2018-11-24T22:53:41.247684Z",
     "start_time": "2018-11-24T22:53:41.242855Z"
    }
   },
   "source": [
    "where\n",
    "- *v* is the number of ratings for that route\n",
    "- *m* is the minimum ratings required to be listed in the chart\n",
    "- *R* is the average rating of the route\n",
    "- *C* is the mean vote across the whole report"
   ]
  },
  {
   "cell_type": "code",
   "execution_count": 68,
   "metadata": {
    "ExecuteTime": {
     "end_time": "2018-12-16T21:34:05.604877Z",
     "start_time": "2018-12-16T21:34:05.601445Z"
    },
    "code_folding": [
     0
    ]
   },
   "outputs": [],
   "source": [
    "def weighted_rating(x):\n",
    "    v = x['rating_count']\n",
    "    R = x['rating_average']\n",
    "    return (v/(v+m) * R) + (m/(m+v) * C)"
   ]
  },
  {
   "cell_type": "code",
   "execution_count": 69,
   "metadata": {
    "ExecuteTime": {
     "end_time": "2018-12-16T21:34:05.611158Z",
     "start_time": "2018-12-16T21:34:05.607630Z"
    },
    "code_folding": []
   },
   "outputs": [],
   "source": [
    "# Count ratings and calculate mean rating per route\n",
    "# def calc_rating_avg_count(x):\n",
    "#     d = {}\n",
    "#     d['rating_count'] = x['rating'].count()\n",
    "#     d['rating_average'] = x['rating'].mean()\n",
    "#     return pd.Series(d, index=['rating_average', 'rating_count'])\n",
    "\n",
    "# X_train_ratings.groupby('route_id').apply(calc_rating_avg_count)\n",
    "\n",
    "# X_train_ratings.groupby()"
   ]
  },
  {
   "cell_type": "code",
   "execution_count": 70,
   "metadata": {
    "ExecuteTime": {
     "end_time": "2018-12-16T21:34:05.618275Z",
     "start_time": "2018-12-16T21:34:05.613757Z"
    },
    "code_folding": [
     0
    ]
   },
   "outputs": [],
   "source": [
    "def cluster_avg_count(cluster):\n",
    "    '''Given a cluster, calculate each route's avg rating and count of ratings. '''\n",
    "    \n",
    "    df = pd.DataFrame()\n",
    "    df['sector_route'] = cluster.columns\n",
    "\n",
    "    for i, row in df.iterrows():\n",
    "        rating_average = cluster[row['sector_route']].mean()\n",
    "        rating_count = cluster[row['sector_route']].count()\n",
    "        df.at[i,'rating_average'] = rating_average\n",
    "        df.at[i,'rating_count'] = rating_count\n",
    "        \n",
    "    return df\n",
    "\n",
    "# cluster_avg_count(cluster).head(3)"
   ]
  },
  {
   "cell_type": "code",
   "execution_count": 71,
   "metadata": {
    "ExecuteTime": {
     "end_time": "2018-12-16T21:34:05.630675Z",
     "start_time": "2018-12-16T21:34:05.621077Z"
    },
    "code_folding": [
     27
    ]
   },
   "outputs": [],
   "source": [
    "def top_n_routes_cluster(cluster, n=0):\n",
    "    '''Calculate weighted rating of all routes. Return top-n routes. If n==0, return all routes'''\n",
    "\n",
    "    percentile = 0.85\n",
    "\n",
    "    # get count and mean of ratings per route for this cluster\n",
    "    df_counts_average = cluster_avg_count(cluster)\n",
    "\n",
    "    C = df_counts_average['rating_average'].mean()\n",
    "    m = df_counts_average['rating_count'].quantile(percentile)\n",
    "\n",
    "    # Filter for routes that have ratings above threshold m\n",
    "    qualified = df_counts_average[(df_counts_average['rating_count'] >= m) & (\n",
    "        df_counts_average['rating_count'].notnull()) & (df_counts_average['rating_average'].notnull())]\n",
    "\n",
    "    # calculate weighted rating for each route\n",
    "    col_wr = qualified.apply(lambda x: (x['rating_count']/(x['rating_count']+m)\n",
    "                                                 * x['rating_average']) + (m/(m+x['rating_count']) * C), axis=1)\n",
    "    qualified = qualified.assign(wr=col_wr.values)\n",
    "    \n",
    "    # Sort by rating\n",
    "    qualified = qualified.sort_values(\n",
    "        'wr', ascending=False) if n == 0 else qualified.sort_values('wr', ascending=False).head(n)\n",
    "\n",
    "    # Return the top n routes\n",
    "    return qualified\n",
    "\n",
    "\n",
    "def top_n_routes_user(clustered, user_id, n):\n",
    "    '''Return top n routes of a user'''\n",
    "\n",
    "    # get cluster number\n",
    "    cluster_number = cluster_membership(clustered, user_id)\n",
    "\n",
    "    # retrieve cluster by cluster number\n",
    "    cluster = get_cluster(clustered, cluster_number)\n",
    "\n",
    "    # retrieve top routes by cluster\n",
    "    df_top_routes_cluster = top_n_routes_cluster(cluster)\n",
    "\n",
    "    # subtract user's already climbed and rated routes from result\n",
    "    df_top_routes_cluster_without_user = df_top_routes_cluster.drop(\n",
    "        df_top_routes_cluster[df_top_routes_cluster['sector_route'].isin(cluster.loc[user_id].dropna().index)].index)\n",
    "\n",
    "    return df_top_routes_cluster_without_user.head(n)"
   ]
  },
  {
   "cell_type": "code",
   "execution_count": 72,
   "metadata": {
    "ExecuteTime": {
     "end_time": "2018-12-16T21:34:05.665440Z",
     "start_time": "2018-12-16T21:34:05.633334Z"
    }
   },
   "outputs": [
    {
     "data": {
      "text/html": [
       "<div>\n",
       "<style scoped>\n",
       "    .dataframe tbody tr th:only-of-type {\n",
       "        vertical-align: middle;\n",
       "    }\n",
       "\n",
       "    .dataframe tbody tr th {\n",
       "        vertical-align: top;\n",
       "    }\n",
       "\n",
       "    .dataframe thead th {\n",
       "        text-align: right;\n",
       "    }\n",
       "</style>\n",
       "<table border=\"1\" class=\"dataframe\">\n",
       "  <thead>\n",
       "    <tr style=\"text-align: right;\">\n",
       "      <th></th>\n",
       "      <th>AMPHITHEATER_angel dust</th>\n",
       "      <th>AMPHITHEATER_die dunkle seite</th>\n",
       "      <th>Affentheater_affenhitze</th>\n",
       "      <th>Affentheater_affentanz</th>\n",
       "      <th>Affentheater_bonobo</th>\n",
       "      <th>Affentheater_chimpanzee</th>\n",
       "      <th>Affentheater_decision</th>\n",
       "      <th>Affentheater_ganz schn affig</th>\n",
       "      <th>Affentheater_geffel</th>\n",
       "      <th>Affentheater_gib dem affen zucker</th>\n",
       "      <th>...</th>\n",
       "      <th>zehnerstein_lineal</th>\n",
       "      <th>zehnerstein_satisfaction</th>\n",
       "      <th>zehnerstein_seifertriss</th>\n",
       "      <th>zwergenschloss_linie</th>\n",
       "      <th>zwergenschloss_panic room</th>\n",
       "      <th>zwergenschloss_starlight express</th>\n",
       "      <th>zwergenschloss_uschi mach keinen quatsch</th>\n",
       "      <th>zwergenschloss_zentrifuge</th>\n",
       "      <th>group</th>\n",
       "      <th>user_id</th>\n",
       "    </tr>\n",
       "    <tr>\n",
       "      <th>user_id</th>\n",
       "      <th></th>\n",
       "      <th></th>\n",
       "      <th></th>\n",
       "      <th></th>\n",
       "      <th></th>\n",
       "      <th></th>\n",
       "      <th></th>\n",
       "      <th></th>\n",
       "      <th></th>\n",
       "      <th></th>\n",
       "      <th></th>\n",
       "      <th></th>\n",
       "      <th></th>\n",
       "      <th></th>\n",
       "      <th></th>\n",
       "      <th></th>\n",
       "      <th></th>\n",
       "      <th></th>\n",
       "      <th></th>\n",
       "      <th></th>\n",
       "      <th></th>\n",
       "    </tr>\n",
       "  </thead>\n",
       "  <tbody>\n",
       "    <tr>\n",
       "      <th>32</th>\n",
       "      <td>NaN</td>\n",
       "      <td>NaN</td>\n",
       "      <td>NaN</td>\n",
       "      <td>NaN</td>\n",
       "      <td>NaN</td>\n",
       "      <td>NaN</td>\n",
       "      <td>NaN</td>\n",
       "      <td>NaN</td>\n",
       "      <td>NaN</td>\n",
       "      <td>NaN</td>\n",
       "      <td>...</td>\n",
       "      <td>NaN</td>\n",
       "      <td>NaN</td>\n",
       "      <td>NaN</td>\n",
       "      <td>NaN</td>\n",
       "      <td>NaN</td>\n",
       "      <td>NaN</td>\n",
       "      <td>NaN</td>\n",
       "      <td>NaN</td>\n",
       "      <td>1</td>\n",
       "      <td>32</td>\n",
       "    </tr>\n",
       "  </tbody>\n",
       "</table>\n",
       "<p>1 rows × 5356 columns</p>\n",
       "</div>"
      ],
      "text/plain": [
       "         AMPHITHEATER_angel dust  AMPHITHEATER_die dunkle seite  \\\n",
       "user_id                                                           \n",
       "32                           NaN                            NaN   \n",
       "\n",
       "         Affentheater_affenhitze  Affentheater_affentanz  Affentheater_bonobo  \\\n",
       "user_id                                                                         \n",
       "32                           NaN                     NaN                  NaN   \n",
       "\n",
       "         Affentheater_chimpanzee  Affentheater_decision  \\\n",
       "user_id                                                   \n",
       "32                           NaN                    NaN   \n",
       "\n",
       "         Affentheater_ganz schn affig  Affentheater_geffel  \\\n",
       "user_id                                                      \n",
       "32                                NaN                  NaN   \n",
       "\n",
       "         Affentheater_gib dem affen zucker   ...     zehnerstein_lineal  \\\n",
       "user_id                                      ...                          \n",
       "32                                     NaN   ...                    NaN   \n",
       "\n",
       "         zehnerstein_satisfaction  zehnerstein_seifertriss  \\\n",
       "user_id                                                      \n",
       "32                            NaN                      NaN   \n",
       "\n",
       "         zwergenschloss_linie   zwergenschloss_panic room  \\\n",
       "user_id                                                     \n",
       "32                         NaN                        NaN   \n",
       "\n",
       "         zwergenschloss_starlight express  \\\n",
       "user_id                                     \n",
       "32                                    NaN   \n",
       "\n",
       "         zwergenschloss_uschi mach keinen quatsch  zwergenschloss_zentrifuge  \\\n",
       "user_id                                                                        \n",
       "32                                            NaN                        NaN   \n",
       "\n",
       "         group  user_id  \n",
       "user_id                  \n",
       "32           1       32  \n",
       "\n",
       "[1 rows x 5356 columns]"
      ]
     },
     "execution_count": 72,
     "metadata": {},
     "output_type": "execute_result"
    }
   ],
   "source": [
    "user_id = 32\n",
    "# user_id = 35939\n",
    "clustered[clustered['user_id'] == user_id]"
   ]
  },
  {
   "cell_type": "code",
   "execution_count": 73,
   "metadata": {
    "ExecuteTime": {
     "end_time": "2018-12-16T21:34:07.443137Z",
     "start_time": "2018-12-16T21:34:05.668801Z"
    }
   },
   "outputs": [
    {
     "data": {
      "text/plain": [
       "'cluster_number: 1'"
      ]
     },
     "execution_count": 73,
     "metadata": {},
     "output_type": "execute_result"
    },
    {
     "data": {
      "text/html": [
       "<div>\n",
       "<style scoped>\n",
       "    .dataframe tbody tr th:only-of-type {\n",
       "        vertical-align: middle;\n",
       "    }\n",
       "\n",
       "    .dataframe tbody tr th {\n",
       "        vertical-align: top;\n",
       "    }\n",
       "\n",
       "    .dataframe thead th {\n",
       "        text-align: right;\n",
       "    }\n",
       "</style>\n",
       "<table border=\"1\" class=\"dataframe\">\n",
       "  <thead>\n",
       "    <tr style=\"text-align: right;\">\n",
       "      <th></th>\n",
       "      <th>AMPHITHEATER_angel dust</th>\n",
       "      <th>AMPHITHEATER_die dunkle seite</th>\n",
       "      <th>Affentheater_affenhitze</th>\n",
       "      <th>Affentheater_affentanz</th>\n",
       "      <th>Affentheater_bonobo</th>\n",
       "      <th>Affentheater_chimpanzee</th>\n",
       "      <th>Affentheater_decision</th>\n",
       "      <th>Affentheater_ganz schn affig</th>\n",
       "      <th>Affentheater_geffel</th>\n",
       "      <th>Affentheater_gib dem affen zucker</th>\n",
       "      <th>...</th>\n",
       "      <th>wüstenstein_sahara</th>\n",
       "      <th>wüstenstein_sand im auge</th>\n",
       "      <th>zehnerstein_lineal</th>\n",
       "      <th>zehnerstein_satisfaction</th>\n",
       "      <th>zehnerstein_seifertriss</th>\n",
       "      <th>zwergenschloss_linie</th>\n",
       "      <th>zwergenschloss_panic room</th>\n",
       "      <th>zwergenschloss_starlight express</th>\n",
       "      <th>zwergenschloss_uschi mach keinen quatsch</th>\n",
       "      <th>zwergenschloss_zentrifuge</th>\n",
       "    </tr>\n",
       "    <tr>\n",
       "      <th>user_id</th>\n",
       "      <th></th>\n",
       "      <th></th>\n",
       "      <th></th>\n",
       "      <th></th>\n",
       "      <th></th>\n",
       "      <th></th>\n",
       "      <th></th>\n",
       "      <th></th>\n",
       "      <th></th>\n",
       "      <th></th>\n",
       "      <th></th>\n",
       "      <th></th>\n",
       "      <th></th>\n",
       "      <th></th>\n",
       "      <th></th>\n",
       "      <th></th>\n",
       "      <th></th>\n",
       "      <th></th>\n",
       "      <th></th>\n",
       "      <th></th>\n",
       "      <th></th>\n",
       "    </tr>\n",
       "  </thead>\n",
       "  <tbody>\n",
       "    <tr>\n",
       "      <th>15</th>\n",
       "      <td>NaN</td>\n",
       "      <td>NaN</td>\n",
       "      <td>NaN</td>\n",
       "      <td>NaN</td>\n",
       "      <td>NaN</td>\n",
       "      <td>NaN</td>\n",
       "      <td>NaN</td>\n",
       "      <td>NaN</td>\n",
       "      <td>NaN</td>\n",
       "      <td>NaN</td>\n",
       "      <td>...</td>\n",
       "      <td>NaN</td>\n",
       "      <td>NaN</td>\n",
       "      <td>NaN</td>\n",
       "      <td>NaN</td>\n",
       "      <td>NaN</td>\n",
       "      <td>NaN</td>\n",
       "      <td>NaN</td>\n",
       "      <td>NaN</td>\n",
       "      <td>NaN</td>\n",
       "      <td>NaN</td>\n",
       "    </tr>\n",
       "    <tr>\n",
       "      <th>18</th>\n",
       "      <td>NaN</td>\n",
       "      <td>NaN</td>\n",
       "      <td>NaN</td>\n",
       "      <td>NaN</td>\n",
       "      <td>NaN</td>\n",
       "      <td>NaN</td>\n",
       "      <td>NaN</td>\n",
       "      <td>NaN</td>\n",
       "      <td>NaN</td>\n",
       "      <td>NaN</td>\n",
       "      <td>...</td>\n",
       "      <td>NaN</td>\n",
       "      <td>NaN</td>\n",
       "      <td>NaN</td>\n",
       "      <td>NaN</td>\n",
       "      <td>NaN</td>\n",
       "      <td>NaN</td>\n",
       "      <td>NaN</td>\n",
       "      <td>NaN</td>\n",
       "      <td>NaN</td>\n",
       "      <td>NaN</td>\n",
       "    </tr>\n",
       "    <tr>\n",
       "      <th>32</th>\n",
       "      <td>NaN</td>\n",
       "      <td>NaN</td>\n",
       "      <td>NaN</td>\n",
       "      <td>NaN</td>\n",
       "      <td>NaN</td>\n",
       "      <td>NaN</td>\n",
       "      <td>NaN</td>\n",
       "      <td>NaN</td>\n",
       "      <td>NaN</td>\n",
       "      <td>NaN</td>\n",
       "      <td>...</td>\n",
       "      <td>NaN</td>\n",
       "      <td>NaN</td>\n",
       "      <td>NaN</td>\n",
       "      <td>NaN</td>\n",
       "      <td>NaN</td>\n",
       "      <td>NaN</td>\n",
       "      <td>NaN</td>\n",
       "      <td>NaN</td>\n",
       "      <td>NaN</td>\n",
       "      <td>NaN</td>\n",
       "    </tr>\n",
       "    <tr>\n",
       "      <th>38</th>\n",
       "      <td>NaN</td>\n",
       "      <td>NaN</td>\n",
       "      <td>NaN</td>\n",
       "      <td>NaN</td>\n",
       "      <td>NaN</td>\n",
       "      <td>NaN</td>\n",
       "      <td>NaN</td>\n",
       "      <td>NaN</td>\n",
       "      <td>NaN</td>\n",
       "      <td>NaN</td>\n",
       "      <td>...</td>\n",
       "      <td>NaN</td>\n",
       "      <td>NaN</td>\n",
       "      <td>NaN</td>\n",
       "      <td>NaN</td>\n",
       "      <td>NaN</td>\n",
       "      <td>NaN</td>\n",
       "      <td>NaN</td>\n",
       "      <td>NaN</td>\n",
       "      <td>NaN</td>\n",
       "      <td>NaN</td>\n",
       "    </tr>\n",
       "    <tr>\n",
       "      <th>79</th>\n",
       "      <td>NaN</td>\n",
       "      <td>NaN</td>\n",
       "      <td>NaN</td>\n",
       "      <td>NaN</td>\n",
       "      <td>NaN</td>\n",
       "      <td>NaN</td>\n",
       "      <td>NaN</td>\n",
       "      <td>NaN</td>\n",
       "      <td>NaN</td>\n",
       "      <td>NaN</td>\n",
       "      <td>...</td>\n",
       "      <td>NaN</td>\n",
       "      <td>NaN</td>\n",
       "      <td>NaN</td>\n",
       "      <td>NaN</td>\n",
       "      <td>NaN</td>\n",
       "      <td>NaN</td>\n",
       "      <td>NaN</td>\n",
       "      <td>NaN</td>\n",
       "      <td>NaN</td>\n",
       "      <td>NaN</td>\n",
       "    </tr>\n",
       "    <tr>\n",
       "      <th>88</th>\n",
       "      <td>NaN</td>\n",
       "      <td>NaN</td>\n",
       "      <td>NaN</td>\n",
       "      <td>NaN</td>\n",
       "      <td>NaN</td>\n",
       "      <td>NaN</td>\n",
       "      <td>NaN</td>\n",
       "      <td>NaN</td>\n",
       "      <td>NaN</td>\n",
       "      <td>NaN</td>\n",
       "      <td>...</td>\n",
       "      <td>NaN</td>\n",
       "      <td>NaN</td>\n",
       "      <td>NaN</td>\n",
       "      <td>NaN</td>\n",
       "      <td>NaN</td>\n",
       "      <td>NaN</td>\n",
       "      <td>NaN</td>\n",
       "      <td>NaN</td>\n",
       "      <td>NaN</td>\n",
       "      <td>NaN</td>\n",
       "    </tr>\n",
       "    <tr>\n",
       "      <th>128</th>\n",
       "      <td>NaN</td>\n",
       "      <td>NaN</td>\n",
       "      <td>NaN</td>\n",
       "      <td>NaN</td>\n",
       "      <td>NaN</td>\n",
       "      <td>NaN</td>\n",
       "      <td>NaN</td>\n",
       "      <td>NaN</td>\n",
       "      <td>NaN</td>\n",
       "      <td>NaN</td>\n",
       "      <td>...</td>\n",
       "      <td>NaN</td>\n",
       "      <td>NaN</td>\n",
       "      <td>NaN</td>\n",
       "      <td>NaN</td>\n",
       "      <td>NaN</td>\n",
       "      <td>NaN</td>\n",
       "      <td>NaN</td>\n",
       "      <td>NaN</td>\n",
       "      <td>NaN</td>\n",
       "      <td>NaN</td>\n",
       "    </tr>\n",
       "    <tr>\n",
       "      <th>164</th>\n",
       "      <td>NaN</td>\n",
       "      <td>NaN</td>\n",
       "      <td>NaN</td>\n",
       "      <td>NaN</td>\n",
       "      <td>NaN</td>\n",
       "      <td>NaN</td>\n",
       "      <td>NaN</td>\n",
       "      <td>NaN</td>\n",
       "      <td>NaN</td>\n",
       "      <td>NaN</td>\n",
       "      <td>...</td>\n",
       "      <td>NaN</td>\n",
       "      <td>NaN</td>\n",
       "      <td>NaN</td>\n",
       "      <td>NaN</td>\n",
       "      <td>NaN</td>\n",
       "      <td>NaN</td>\n",
       "      <td>NaN</td>\n",
       "      <td>NaN</td>\n",
       "      <td>NaN</td>\n",
       "      <td>NaN</td>\n",
       "    </tr>\n",
       "    <tr>\n",
       "      <th>213</th>\n",
       "      <td>NaN</td>\n",
       "      <td>NaN</td>\n",
       "      <td>NaN</td>\n",
       "      <td>NaN</td>\n",
       "      <td>NaN</td>\n",
       "      <td>NaN</td>\n",
       "      <td>NaN</td>\n",
       "      <td>NaN</td>\n",
       "      <td>NaN</td>\n",
       "      <td>NaN</td>\n",
       "      <td>...</td>\n",
       "      <td>NaN</td>\n",
       "      <td>NaN</td>\n",
       "      <td>NaN</td>\n",
       "      <td>NaN</td>\n",
       "      <td>NaN</td>\n",
       "      <td>NaN</td>\n",
       "      <td>NaN</td>\n",
       "      <td>NaN</td>\n",
       "      <td>NaN</td>\n",
       "      <td>NaN</td>\n",
       "    </tr>\n",
       "    <tr>\n",
       "      <th>235</th>\n",
       "      <td>NaN</td>\n",
       "      <td>NaN</td>\n",
       "      <td>NaN</td>\n",
       "      <td>NaN</td>\n",
       "      <td>NaN</td>\n",
       "      <td>NaN</td>\n",
       "      <td>NaN</td>\n",
       "      <td>NaN</td>\n",
       "      <td>NaN</td>\n",
       "      <td>NaN</td>\n",
       "      <td>...</td>\n",
       "      <td>NaN</td>\n",
       "      <td>NaN</td>\n",
       "      <td>NaN</td>\n",
       "      <td>NaN</td>\n",
       "      <td>NaN</td>\n",
       "      <td>NaN</td>\n",
       "      <td>NaN</td>\n",
       "      <td>NaN</td>\n",
       "      <td>NaN</td>\n",
       "      <td>NaN</td>\n",
       "    </tr>\n",
       "    <tr>\n",
       "      <th>238</th>\n",
       "      <td>NaN</td>\n",
       "      <td>NaN</td>\n",
       "      <td>NaN</td>\n",
       "      <td>NaN</td>\n",
       "      <td>NaN</td>\n",
       "      <td>NaN</td>\n",
       "      <td>NaN</td>\n",
       "      <td>NaN</td>\n",
       "      <td>NaN</td>\n",
       "      <td>NaN</td>\n",
       "      <td>...</td>\n",
       "      <td>NaN</td>\n",
       "      <td>NaN</td>\n",
       "      <td>NaN</td>\n",
       "      <td>NaN</td>\n",
       "      <td>NaN</td>\n",
       "      <td>NaN</td>\n",
       "      <td>NaN</td>\n",
       "      <td>NaN</td>\n",
       "      <td>NaN</td>\n",
       "      <td>NaN</td>\n",
       "    </tr>\n",
       "    <tr>\n",
       "      <th>249</th>\n",
       "      <td>NaN</td>\n",
       "      <td>NaN</td>\n",
       "      <td>NaN</td>\n",
       "      <td>NaN</td>\n",
       "      <td>NaN</td>\n",
       "      <td>NaN</td>\n",
       "      <td>NaN</td>\n",
       "      <td>NaN</td>\n",
       "      <td>NaN</td>\n",
       "      <td>NaN</td>\n",
       "      <td>...</td>\n",
       "      <td>NaN</td>\n",
       "      <td>NaN</td>\n",
       "      <td>NaN</td>\n",
       "      <td>NaN</td>\n",
       "      <td>NaN</td>\n",
       "      <td>NaN</td>\n",
       "      <td>NaN</td>\n",
       "      <td>NaN</td>\n",
       "      <td>NaN</td>\n",
       "      <td>NaN</td>\n",
       "    </tr>\n",
       "    <tr>\n",
       "      <th>276</th>\n",
       "      <td>NaN</td>\n",
       "      <td>NaN</td>\n",
       "      <td>NaN</td>\n",
       "      <td>NaN</td>\n",
       "      <td>NaN</td>\n",
       "      <td>NaN</td>\n",
       "      <td>NaN</td>\n",
       "      <td>NaN</td>\n",
       "      <td>NaN</td>\n",
       "      <td>NaN</td>\n",
       "      <td>...</td>\n",
       "      <td>NaN</td>\n",
       "      <td>NaN</td>\n",
       "      <td>NaN</td>\n",
       "      <td>NaN</td>\n",
       "      <td>NaN</td>\n",
       "      <td>NaN</td>\n",
       "      <td>NaN</td>\n",
       "      <td>NaN</td>\n",
       "      <td>NaN</td>\n",
       "      <td>NaN</td>\n",
       "    </tr>\n",
       "    <tr>\n",
       "      <th>296</th>\n",
       "      <td>NaN</td>\n",
       "      <td>NaN</td>\n",
       "      <td>NaN</td>\n",
       "      <td>NaN</td>\n",
       "      <td>NaN</td>\n",
       "      <td>NaN</td>\n",
       "      <td>NaN</td>\n",
       "      <td>NaN</td>\n",
       "      <td>NaN</td>\n",
       "      <td>NaN</td>\n",
       "      <td>...</td>\n",
       "      <td>NaN</td>\n",
       "      <td>NaN</td>\n",
       "      <td>NaN</td>\n",
       "      <td>NaN</td>\n",
       "      <td>NaN</td>\n",
       "      <td>NaN</td>\n",
       "      <td>NaN</td>\n",
       "      <td>NaN</td>\n",
       "      <td>NaN</td>\n",
       "      <td>NaN</td>\n",
       "    </tr>\n",
       "    <tr>\n",
       "      <th>355</th>\n",
       "      <td>NaN</td>\n",
       "      <td>NaN</td>\n",
       "      <td>NaN</td>\n",
       "      <td>NaN</td>\n",
       "      <td>NaN</td>\n",
       "      <td>NaN</td>\n",
       "      <td>NaN</td>\n",
       "      <td>NaN</td>\n",
       "      <td>NaN</td>\n",
       "      <td>NaN</td>\n",
       "      <td>...</td>\n",
       "      <td>NaN</td>\n",
       "      <td>NaN</td>\n",
       "      <td>NaN</td>\n",
       "      <td>NaN</td>\n",
       "      <td>NaN</td>\n",
       "      <td>NaN</td>\n",
       "      <td>NaN</td>\n",
       "      <td>NaN</td>\n",
       "      <td>NaN</td>\n",
       "      <td>NaN</td>\n",
       "    </tr>\n",
       "    <tr>\n",
       "      <th>384</th>\n",
       "      <td>NaN</td>\n",
       "      <td>NaN</td>\n",
       "      <td>NaN</td>\n",
       "      <td>NaN</td>\n",
       "      <td>NaN</td>\n",
       "      <td>NaN</td>\n",
       "      <td>NaN</td>\n",
       "      <td>NaN</td>\n",
       "      <td>NaN</td>\n",
       "      <td>NaN</td>\n",
       "      <td>...</td>\n",
       "      <td>NaN</td>\n",
       "      <td>NaN</td>\n",
       "      <td>NaN</td>\n",
       "      <td>NaN</td>\n",
       "      <td>NaN</td>\n",
       "      <td>NaN</td>\n",
       "      <td>NaN</td>\n",
       "      <td>NaN</td>\n",
       "      <td>NaN</td>\n",
       "      <td>NaN</td>\n",
       "    </tr>\n",
       "    <tr>\n",
       "      <th>394</th>\n",
       "      <td>NaN</td>\n",
       "      <td>NaN</td>\n",
       "      <td>NaN</td>\n",
       "      <td>NaN</td>\n",
       "      <td>NaN</td>\n",
       "      <td>NaN</td>\n",
       "      <td>NaN</td>\n",
       "      <td>NaN</td>\n",
       "      <td>NaN</td>\n",
       "      <td>NaN</td>\n",
       "      <td>...</td>\n",
       "      <td>NaN</td>\n",
       "      <td>NaN</td>\n",
       "      <td>NaN</td>\n",
       "      <td>NaN</td>\n",
       "      <td>NaN</td>\n",
       "      <td>NaN</td>\n",
       "      <td>NaN</td>\n",
       "      <td>NaN</td>\n",
       "      <td>NaN</td>\n",
       "      <td>NaN</td>\n",
       "    </tr>\n",
       "    <tr>\n",
       "      <th>403</th>\n",
       "      <td>NaN</td>\n",
       "      <td>NaN</td>\n",
       "      <td>NaN</td>\n",
       "      <td>NaN</td>\n",
       "      <td>NaN</td>\n",
       "      <td>NaN</td>\n",
       "      <td>NaN</td>\n",
       "      <td>NaN</td>\n",
       "      <td>NaN</td>\n",
       "      <td>NaN</td>\n",
       "      <td>...</td>\n",
       "      <td>NaN</td>\n",
       "      <td>NaN</td>\n",
       "      <td>NaN</td>\n",
       "      <td>NaN</td>\n",
       "      <td>NaN</td>\n",
       "      <td>NaN</td>\n",
       "      <td>NaN</td>\n",
       "      <td>NaN</td>\n",
       "      <td>NaN</td>\n",
       "      <td>NaN</td>\n",
       "    </tr>\n",
       "    <tr>\n",
       "      <th>442</th>\n",
       "      <td>NaN</td>\n",
       "      <td>NaN</td>\n",
       "      <td>NaN</td>\n",
       "      <td>NaN</td>\n",
       "      <td>NaN</td>\n",
       "      <td>NaN</td>\n",
       "      <td>NaN</td>\n",
       "      <td>NaN</td>\n",
       "      <td>NaN</td>\n",
       "      <td>NaN</td>\n",
       "      <td>...</td>\n",
       "      <td>NaN</td>\n",
       "      <td>NaN</td>\n",
       "      <td>NaN</td>\n",
       "      <td>NaN</td>\n",
       "      <td>NaN</td>\n",
       "      <td>NaN</td>\n",
       "      <td>NaN</td>\n",
       "      <td>NaN</td>\n",
       "      <td>NaN</td>\n",
       "      <td>NaN</td>\n",
       "    </tr>\n",
       "    <tr>\n",
       "      <th>459</th>\n",
       "      <td>NaN</td>\n",
       "      <td>NaN</td>\n",
       "      <td>NaN</td>\n",
       "      <td>NaN</td>\n",
       "      <td"
      ],
      "text/plain": [
       "         AMPHITHEATER_angel dust  AMPHITHEATER_die dunkle seite  \\\n",
       "user_id                                                           \n",
       "15                           NaN                            NaN   \n",
       "18                           NaN                            NaN   \n",
       "32                           NaN                            NaN   \n",
       "38                           NaN                            NaN   \n",
       "79                           NaN                            NaN   \n",
       "88                           NaN                            NaN   \n",
       "128                          NaN                            NaN   \n",
       "164                          NaN                            NaN   \n",
       "213                          NaN                            NaN   \n",
       "235                          NaN                            NaN   \n",
       "238                          NaN                            NaN   \n",
       "249                          NaN                            NaN   \n",
       "276                          NaN                            NaN   \n",
       "296                          NaN                            NaN   \n",
       "355                          NaN                            NaN   \n",
       "384                          NaN                            NaN   \n",
       "394                          NaN                            NaN   \n",
       "403                          NaN                            NaN   \n",
       "442                          NaN                            NaN   \n",
       "459                          NaN                            NaN   \n",
       "476                          NaN                            NaN   \n",
       "486                          NaN                            NaN   \n",
       "489                          NaN                            NaN   \n",
       "493                          NaN                            NaN   \n",
       "511                          NaN                            NaN   \n",
       "583                          NaN                            NaN   \n",
       "622                          NaN                            NaN   \n",
       "633                          NaN                            NaN   \n",
       "642                          NaN                            NaN   \n",
       "650                          NaN                            NaN   \n",
       "...                          ...                            ...   \n",
       "65194                        NaN                            NaN   \n",
       "65231                        NaN                            NaN   \n",
       "65237                        NaN                            NaN   \n",
       "65253                        NaN                            NaN   \n",
       "65333                        NaN                            NaN   \n",
       "65387                        NaN                            NaN   \n",
       "65398                        NaN                            NaN   \n",
       "65417                        NaN                            NaN   \n",
       "65488                        NaN                            NaN   \n",
       "65516                        NaN                            NaN   \n",
       "65576                        NaN                            NaN   \n",
       "65791                        NaN                            NaN   \n",
       "65814                        NaN                            NaN   \n",
       "65897                        NaN                            NaN   \n",
       "65959                        NaN                            NaN   \n",
       "65966                        NaN                            NaN   \n",
       "66197                        NaN                            NaN   \n",
       "66248                        NaN                            NaN   \n",
       "66261                        NaN                            NaN   \n",
       "66305                        NaN                            NaN   \n",
       "66307                        NaN                            NaN   \n",
       "66309                        NaN                            NaN   \n",
       "66311                        NaN                            NaN   \n",
       "66313                        NaN                            NaN   \n",
       "66562                        NaN                            NaN   \n",
       "66724                        NaN                            NaN   \n",
       "66738                        NaN                            NaN   \n",
       "66740                        NaN                            NaN   \n",
       "66742                        NaN                            NaN   \n",
       "66801                        NaN                            NaN   \n",
       "\n",
       "         Affentheater_affenhitze  Affentheater_affentanz  Affentheater_bonobo  \\\n",
       "user_id                                                                         \n",
       "15                           NaN                     NaN                  NaN   \n",
       "18                           NaN                     NaN                  NaN   \n",
       "32                           NaN                     NaN                  NaN   \n",
       "38                           NaN                     NaN                  NaN   \n",
       "79                           NaN                     NaN                  NaN   \n",
       "88                           NaN                     NaN                  NaN   \n",
       "128                          NaN                     NaN                  NaN   \n",
       "164                          NaN                     NaN                  NaN   \n",
       "213                          NaN                     NaN                  NaN   \n",
       "235                          NaN                     NaN                  NaN   \n",
       "238                          NaN                     NaN                  NaN   \n",
       "249                          NaN                     NaN                  NaN   \n",
       "276                          NaN                     NaN                  NaN   \n",
       "296                          NaN                     NaN                  NaN   \n",
       "355                          NaN                     NaN                  NaN   \n",
       "384                          NaN                     NaN                  NaN   \n",
       "394                          NaN                     NaN                  NaN   \n",
       "403                          NaN                     NaN                  NaN   \n",
       "442                          NaN                     NaN                  NaN   \n",
       "459                          NaN                     NaN                  NaN   \n",
       "476                          NaN                     NaN                  NaN   \n",
       "486                          NaN                     NaN                  NaN   \n",
       "489                          NaN                     NaN                  NaN   \n",
       "493                          NaN                     NaN                  NaN   \n",
       "511                          NaN                     NaN                  NaN   \n",
       "583                          NaN                     NaN                  NaN   \n",
       "622                          NaN                     NaN                  NaN   \n",
       "633                          NaN                     NaN                  NaN   \n",
       "642                          NaN                     NaN                  NaN   \n",
       "650                          NaN                     NaN                  NaN   \n",
       "...                          ...                     ...                  ...   \n",
       "65194                        NaN                     NaN                  NaN   \n",
       "65231                        NaN                     NaN                  NaN   \n",
       "65237                        NaN                     NaN                  NaN   \n",
       "65253                        NaN                     NaN                  NaN   \n",
       "65333                        NaN                     NaN                  NaN   \n",
       "65387                        NaN                     NaN                  NaN   \n",
       "65398                        NaN                     NaN                  NaN   \n",
       "65417                        NaN                     NaN                  NaN   \n",
       "65488                        NaN                     NaN                  NaN   \n",
       "65516                        NaN                     NaN                  NaN   \n",
       "65576                        NaN                     NaN                  NaN   \n",
       "65791                        NaN                     NaN                  NaN   \n",
       "65814                        NaN                     NaN                  NaN   \n",
       "65897                        NaN                     NaN                  NaN   \n",
       "65959                        NaN                     NaN                  NaN   \n",
       "65966                        NaN                     NaN                  NaN   \n",
       "66197                        NaN                     NaN                  NaN   \n",
       "66248                        NaN                     NaN                  NaN   \n",
       "66261                        NaN                     NaN                  NaN   \n",
       "66305                        NaN                     NaN                  NaN   \n",
       "66307                        NaN                     NaN                  NaN   \n",
       "66309                        NaN                     NaN                  NaN   \n",
       "66311                        NaN                     NaN                  NaN   \n",
       "66313                        NaN                     NaN                  NaN   \n",
       "66562                        NaN                     NaN                  NaN   \n",
       "66724                        NaN                     NaN                  NaN   \n",
       "66738                        NaN                     NaN                  NaN   \n",
       "66740                        NaN                     NaN                  NaN   \n",
       "66742                        NaN                     NaN                  NaN   \n",
       "66801                        NaN                     NaN                  NaN   \n",
       "\n",
       "         Affentheater_chimpanzee  Affentheater_decision  \\\n",
       "user_id                                                   \n",
       "15                           NaN                    NaN   \n",
       "18                           NaN                    NaN   \n",
       "32                           NaN                    NaN   \n",
       "38                           NaN                    NaN   \n",
       "79                           NaN                    NaN   \n",
       "88                           NaN                    NaN   \n",
       "128                          NaN                    NaN   \n",
       "164                          NaN                    NaN   \n",
       "213                          NaN                    NaN   \n",
       "235   "
      ]
     },
     "execution_count": 73,
     "metadata": {},
     "output_type": "execute_result"
    },
    {
     "data": {
      "text/html": [
       "<b>limit_output extension: Maximum message size of 10000 exceeded with 42013 characters</b>"
      ]
     },
     "metadata": {},
     "output_type": "display_data"
    }
   ],
   "source": [
    "user_id = 32\n",
    "# user_id = 35939\n",
    "\n",
    "cluster_number = cluster_membership(clustered, user_id)\n",
    "f'cluster_number: {cluster_number}'\n",
    "cluster = get_cluster(clustered, cluster_number)\n",
    "cluster\n",
    "\n",
    "top_n = top_n_routes_cluster(cluster)\n",
    "top_n.shape\n",
    "# top_n.head(5)\n",
    "# top_n['sector_route'].isin(cluster.loc[18].dropna().index)\n",
    "# cluster.index\n",
    "top_n_without_user = top_n.drop(\n",
    "    top_n[top_n['sector_route'].isin(cluster.loc[user_id].dropna().index)].index)\n",
    "# top_n_without_user.head(5)\n",
    "top_n_without_user.shape"
   ]
  },
  {
   "cell_type": "code",
   "execution_count": 74,
   "metadata": {
    "ExecuteTime": {
     "end_time": "2018-12-16T21:34:07.628278Z",
     "start_time": "2018-12-16T21:34:07.445166Z"
    }
   },
   "outputs": [
    {
     "data": {
      "text/html": [
       "<div>\n",
       "<style scoped>\n",
       "    .dataframe tbody tr th:only-of-type {\n",
       "        vertical-align: middle;\n",
       "    }\n",
       "\n",
       "    .dataframe tbody tr th {\n",
       "        vertical-align: top;\n",
       "    }\n",
       "\n",
       "    .dataframe thead th {\n",
       "        text-align: right;\n",
       "    }\n",
       "</style>\n",
       "<table border=\"1\" class=\"dataframe\">\n",
       "  <thead>\n",
       "    <tr style=\"text-align: right;\">\n",
       "      <th></th>\n",
       "      <th>AMPHITHEATER_angel dust</th>\n",
       "      <th>AMPHITHEATER_die dunkle seite</th>\n",
       "      <th>Affentheater_affenhitze</th>\n",
       "      <th>Affentheater_affentanz</th>\n",
       "      <th>Affentheater_bonobo</th>\n",
       "      <th>Affentheater_chimpanzee</th>\n",
       "      <th>Affentheater_decision</th>\n",
       "      <th>Affentheater_ganz schn affig</th>\n",
       "      <th>Affentheater_geffel</th>\n",
       "      <th>Affentheater_gib dem affen zucker</th>\n",
       "      <th>...</th>\n",
       "      <th>wüstenstein_sahara</th>\n",
       "      <th>wüstenstein_sand im auge</th>\n",
       "      <th>zehnerstein_lineal</th>\n",
       "      <th>zehnerstein_satisfaction</th>\n",
       "      <th>zehnerstein_seifertriss</th>\n",
       "      <th>zwergenschloss_linie</th>\n",
       "      <th>zwergenschloss_panic room</th>\n",
       "      <th>zwergenschloss_starlight express</th>\n",
       "      <th>zwergenschloss_uschi mach keinen quatsch</th>\n",
       "      <th>zwergenschloss_zentrifuge</th>\n",
       "    </tr>\n",
       "    <tr>\n",
       "      <th>user_id</th>\n",
       "      <th></th>\n",
       "      <th></th>\n",
       "      <th></th>\n",
       "      <th></th>\n",
       "      <th></th>\n",
       "      <th></th>\n",
       "      <th></th>\n",
       "      <th></th>\n",
       "      <th></th>\n",
       "      <th></th>\n",
       "      <th></th>\n",
       "      <th></th>\n",
       "      <th></th>\n",
       "      <th></th>\n",
       "      <th></th>\n",
       "      <th></th>\n",
       "      <th></th>\n",
       "      <th></th>\n",
       "      <th></th>\n",
       "      <th></th>\n",
       "      <th></th>\n",
       "    </tr>\n",
       "  </thead>\n",
       "  <tbody>\n",
       "    <tr>\n",
       "      <th>66307</th>\n",
       "      <td>NaN</td>\n",
       "      <td>NaN</td>\n",
       "      <td>NaN</td>\n",
       "      <td>NaN</td>\n",
       "      <td>NaN</td>\n",
       "      <td>NaN</td>\n",
       "      <td>NaN</td>\n",
       "      <td>NaN</td>\n",
       "      <td>NaN</td>\n",
       "      <td>NaN</td>\n",
       "      <td>...</td>\n",
       "      <td>NaN</td>\n",
       "      <td>NaN</td>\n",
       "      <td>NaN</td>\n",
       "      <td>NaN</td>\n",
       "      <td>NaN</td>\n",
       "      <td>NaN</td>\n",
       "      <td>NaN</td>\n",
       "      <td>NaN</td>\n",
       "      <td>NaN</td>\n",
       "      <td>NaN</td>\n",
       "    </tr>\n",
       "    <tr>\n",
       "      <th>66309</th>\n",
       "      <td>NaN</td>\n",
       "      <td>NaN</td>\n",
       "      <td>NaN</td>\n",
       "      <td>NaN</td>\n",
       "      <td>NaN</td>\n",
       "      <td>NaN</td>\n",
       "      <td>NaN</td>\n",
       "      <td>NaN</td>\n",
       "      <td>NaN</td>\n",
       "      <td>NaN</td>\n",
       "      <td>...</td>\n",
       "      <td>NaN</td>\n",
       "      <td>NaN</td>\n",
       "      <td>NaN</td>\n",
       "      <td>NaN</td>\n",
       "      <td>NaN</td>\n",
       "      <td>NaN</td>\n",
       "      <td>NaN</td>\n",
       "      <td>NaN</td>\n",
       "      <td>NaN</td>\n",
       "      <td>NaN</td>\n",
       "    </tr>\n",
       "    <tr>\n",
       "      <th>66311</th>\n",
       "      <td>NaN</td>\n",
       "      <td>NaN</td>\n",
       "      <td>NaN</td>\n",
       "      <td>NaN</td>\n",
       "      <td>NaN</td>\n",
       "      <td>NaN</td>\n",
       "      <td>NaN</td>\n",
       "      <td>NaN</td>\n",
       "      <td>NaN</td>\n",
       "      <td>NaN</td>\n",
       "      <td>...</td>\n",
       "      <td>NaN</td>\n",
       "      <td>NaN</td>\n",
       "      <td>NaN</td>\n",
       "      <td>NaN</td>\n",
       "      <td>NaN</td>\n",
       "      <td>NaN</td>\n",
       "      <td>NaN</td>\n",
       "      <td>NaN</td>\n",
       "      <td>NaN</td>\n",
       "      <td>NaN</td>\n",
       "    </tr>\n",
       "    <tr>\n",
       "      <th>66313</th>\n",
       "      <td>NaN</td>\n",
       "      <td>NaN</td>\n",
       "      <td>NaN</td>\n",
       "      <td>NaN</td>\n",
       "      <td>NaN</td>\n",
       "      <td>NaN</td>\n",
       "      <td>NaN</td>\n",
       "      <td>NaN</td>\n",
       "      <td>NaN</td>\n",
       "      <td>NaN</td>\n",
       "      <td>...</td>\n",
       "      <td>NaN</td>\n",
       "      <td>NaN</td>\n",
       "      <td>NaN</td>\n",
       "      <td>NaN</td>\n",
       "      <td>NaN</td>\n",
       "      <td>NaN</td>\n",
       "      <td>NaN</td>\n",
       "      <td>NaN</td>\n",
       "      <td>NaN</td>\n",
       "      <td>NaN</td>\n",
       "    </tr>\n",
       "    <tr>\n",
       "      <th>66562</th>\n",
       "      <td>NaN</td>\n",
       "      <td>NaN</td>\n",
       "      <td>NaN</td>\n",
       "      <td>NaN</td>\n",
       "      <td>NaN</td>\n",
       "      <td>NaN</td>\n",
       "      <td>NaN</td>\n",
       "      <td>NaN</td>\n",
       "      <td>NaN</td>\n",
       "      <td>NaN</td>\n",
       "      <td>...</td>\n",
       "      <td>NaN</td>\n",
       "      <td>NaN</td>\n",
       "      <td>NaN</td>\n",
       "      <td>NaN</td>\n",
       "      <td>NaN</td>\n",
       "      <td>NaN</td>\n",
       "      <td>NaN</td>\n",
       "      <td>NaN</td>\n",
       "      <td>NaN</td>\n",
       "      <td>NaN</td>\n",
       "    </tr>\n",
       "    <tr>\n",
       "      <th>66724</th>\n",
       "      <td>NaN</td>\n",
       "      <td>NaN</td>\n",
       "      <td>NaN</td>\n",
       "      <td>NaN</td>\n",
       "      <td>NaN</td>\n",
       "      <td>NaN</td>\n",
       "      <td>NaN</td>\n",
       "      <td>NaN</td>\n",
       "      <td>NaN</td>\n",
       "      <td>NaN</td>\n",
       "      <td>...</td>\n",
       "      <td>NaN</td>\n",
       "      <td>NaN</td>\n",
       "      <td>NaN</td>\n",
       "      <td>NaN</td>\n",
       "      <td>NaN</td>\n",
       "      <td>NaN</td>\n",
       "      <td>NaN</td>\n",
       "      <td>NaN</td>\n",
       "      <td>NaN</td>\n",
       "      <td>NaN</td>\n",
       "    </tr>\n",
       "    <tr>\n",
       "      <th>66738</th>\n",
       "      <td>NaN</td>\n",
       "      <td>NaN</td>\n",
       "      <td>NaN</td>\n",
       "      <td>NaN</td>\n",
       "      <td>NaN</td>\n",
       "      <td>NaN</td>\n",
       "      <td>NaN</td>\n",
       "      <td>NaN</td>\n",
       "      <td>NaN</td>\n",
       "      <td>NaN</td>\n",
       "      <td>...</td>\n",
       "      <td>NaN</td>\n",
       "      <td>NaN</td>\n",
       "      <td>NaN</td>\n",
       "      <td>NaN</td>\n",
       "      <td>NaN</td>\n",
       "      <td>NaN</td>\n",
       "      <td>NaN</td>\n",
       "      <td>NaN</td>\n",
       "      <td>NaN</td>\n",
       "      <td>NaN</td>\n",
       "    </tr>\n",
       "    <tr>\n",
       "      <th>66740</th>\n",
       "      <td>NaN</td>\n",
       "      <td>NaN</td>\n",
       "      <td>NaN</td>\n",
       "      <td>NaN</td>\n",
       "      <td>NaN</td>\n",
       "      <td>NaN</td>\n",
       "      <td>NaN</td>\n",
       "      <td>NaN</td>\n",
       "      <td>NaN</td>\n",
       "      <td>NaN</td>\n",
       "      <td>...</td>\n",
       "      <td>NaN</td>\n",
       "      <td>NaN</td>\n",
       "      <td>NaN</td>\n",
       "      <td>NaN</td>\n",
       "      <td>NaN</td>\n",
       "      <td>NaN</td>\n",
       "      <td>NaN</td>\n",
       "      <td>NaN</td>\n",
       "      <td>NaN</td>\n",
       "      <td>NaN</td>\n",
       "    </tr>\n",
       "    <tr>\n",
       "      <th>66742</th>\n",
       "      <td>NaN</td>\n",
       "      <td>NaN</td>\n",
       "      <td>NaN</td>\n",
       "      <td>NaN</td>\n",
       "      <td>NaN</td>\n",
       "      <td>NaN</td>\n",
       "      <td>NaN</td>\n",
       "      <td>NaN</td>\n",
       "      <td>NaN</td>\n",
       "      <td>NaN</td>\n",
       "      <td>...</td>\n",
       "      <td>NaN</td>\n",
       "      <td>NaN</td>\n",
       "      <td>NaN</td>\n",
       "      <td>NaN</td>\n",
       "      <td>NaN</td>\n",
       "      <td>NaN</td>\n",
       "      <td>NaN</td>\n",
       "      <td>NaN</td>\n",
       "      <td>NaN</td>\n",
       "      <td>NaN</td>\n",
       "    </tr>\n",
       "    <tr>\n",
       "      <th>66801</th>\n",
       "      <td>NaN</td>\n",
       "      <td>NaN</td>\n",
       "      <td>NaN</td>\n",
       "      <td>NaN</td>\n",
       "      <td>NaN</td>\n",
       "      <td>NaN</td>\n",
       "      <td>NaN</td>\n",
       "      <td>NaN</td>\n",
       "      <td>NaN</td>\n",
       "      <td>NaN</td>\n",
       "      <td>...</td>\n",
       "      <td>NaN</td>\n",
       "      <td>NaN</td>\n",
       "      <td>NaN</td>\n",
       "      <td>NaN</td>\n",
       "      <td>NaN</td>\n",
       "      <td>NaN</td>\n",
       "      <td>NaN</td>\n",
       "      <td>NaN</td>\n",
       "      <td>NaN</td>\n",
       "      <td>NaN</td>\n",
       "    </tr>\n",
       "  </tbody>\n",
       "</table>\n",
       "<p>10 rows × 5354 columns</p>\n",
       "</div>"
      ],
      "text/plain": [
       "         AMPHITHEATER_angel dust  AMPHITHEATER_die dunkle seite  \\\n",
       "user_id                                                           \n",
       "66307                        NaN                            NaN   \n",
       "66309                        NaN                            NaN   \n",
       "66311                        NaN                            NaN   \n",
       "66313                        NaN                            NaN   \n",
       "66562                        NaN                            NaN   \n",
       "66724                        NaN                            NaN   \n",
       "66738                        NaN                            NaN   \n",
       "66740                        NaN                            NaN   \n",
       "66742                        NaN                            NaN   \n",
       "66801                        NaN                            NaN   \n",
       "\n",
       "         Affentheater_affenhitze  Affentheater_affentanz  Affentheater_bonobo  \\\n",
       "user_id                                                                         \n",
       "66307                        NaN                     NaN                  NaN   \n",
       "66309                        NaN                     NaN                  NaN   \n",
       "66311                        NaN                     NaN                  NaN   \n",
       "66313                        NaN                     NaN                  NaN   \n",
       "66562                        NaN                     NaN                  NaN   \n",
       "66724                        NaN                     NaN                  NaN   \n",
       "66738                        NaN                     NaN                  NaN   \n",
       "66740                        NaN                     NaN                  NaN   \n",
       "66742                        NaN                     NaN                  NaN   \n",
       "66801                        NaN                     NaN                  NaN   \n",
       "\n",
       "         Affentheater_chimpanzee  Affentheater_decision  \\\n",
       "user_id                                                   \n",
       "66307                        NaN                    NaN   \n",
       "66309                        NaN                    NaN   \n",
       "66311                        NaN                    NaN   \n",
       "66313                        NaN                    NaN   \n",
       "66562                        NaN                    NaN   \n",
       "66724                        NaN                    NaN   \n",
       "66738                        NaN                    NaN   \n",
       "66740                        NaN                    NaN   \n",
       "66742                        NaN                    NaN   \n",
       "66801                        NaN                    NaN   \n",
       "\n",
       "         Affentheater_ganz schn affig  Affentheater_geffel  \\\n",
       "user_id                                                      \n",
       "66307                             NaN                  NaN   \n",
       "66309                             NaN                  NaN   \n",
       "66311                             NaN                  NaN   \n",
       "66313                             NaN                  NaN   \n",
       "66562                             NaN                  NaN   \n",
       "66724                             NaN                  NaN   \n",
       "66738                             NaN                  NaN   \n",
       "66740                             NaN                  NaN   \n",
       "66742                             NaN                  NaN   \n",
       "66801                             NaN                  NaN   \n",
       "\n",
       "         Affentheater_gib dem affen zucker            ...              \\\n",
       "user_id                                               ...               \n",
       "66307                                  NaN            ...               \n",
       "66309                                  NaN            ...               \n",
       "66311                                  NaN            ...               \n",
       "66313                                  NaN            ...               \n",
       "66562                                  NaN            ...               \n",
       "66724                                  NaN            ...               \n",
       "66738                                  NaN            ...               \n",
       "66740                                  NaN            ...               \n",
       "66742                                  NaN            ...               \n",
       "66801                                  NaN            ...               \n",
       "\n",
       "         wüstenstein_sahara  wüstenstein_sand im auge  zehnerstein_lineal  \\\n",
       "user_id                                                                     \n",
       "66307                   NaN                       NaN                 NaN   \n",
       "66309                   NaN                       NaN                 NaN   \n",
       "66311                   NaN                       NaN                 NaN   \n",
       "66313                   NaN                       NaN                 NaN   \n",
       "66562                   NaN                       NaN                 NaN   \n",
       "66724                   NaN                       NaN                 NaN   \n",
       "66738                   NaN                       NaN                 NaN   \n",
       "66740                   NaN                       NaN                 NaN   \n",
       "66742                   NaN                       NaN                 NaN   \n",
       "66801                   NaN                       NaN                 NaN   \n",
       "\n",
       "         zehnerstein_satisfaction  zehnerstein_seifertriss  \\\n",
       "user_id                                                      \n",
       "66307                         NaN                      NaN   \n",
       "66309                         NaN                      NaN   \n",
       "66311                         NaN                      NaN   \n",
       "66313                         NaN                      NaN   \n",
       "66562                         NaN                      NaN   \n",
       "66724                         NaN                      NaN   \n",
       "66738                         NaN                      NaN   \n",
       "66740                         NaN                      NaN   \n",
       "66742                         NaN                      NaN   \n",
       "66801                         NaN                      NaN   \n",
       "\n",
       "         zwergenschloss_linie   zwergenschloss_panic room  \\\n",
       "user_id                                                     \n",
       "66307                      NaN                        NaN   \n",
       "66309                      NaN                        NaN   \n",
       "66311                      NaN                        NaN   \n",
       "66313                      NaN                        NaN   \n",
       "66562                      NaN                        NaN   \n",
       "66724                      NaN                        NaN   \n",
       "66738                      NaN                        NaN   \n",
       "66740                      NaN                        NaN   \n",
       "66742                      NaN                        NaN   \n",
       "66801                      NaN                        NaN   \n",
       "\n",
       "         zwergenschloss_starlight express  \\\n",
       "user_id                                     \n",
       "66307                                 NaN   \n",
       "66309                                 NaN   \n",
       "66311                                 NaN   \n",
       "66313                                 NaN   \n",
       "66562                                 NaN   \n",
       "66724                                 NaN   \n",
       "66738                                 NaN   \n",
       "66740                                 NaN   \n",
       "66742                                 NaN   \n",
       "66801                                 NaN   \n",
       "\n",
       "         zwergenschloss_uschi mach keinen quatsch  zwergenschloss_zentrifuge  \n",
       "user_id                                                                       \n",
       "66307                                         NaN                        NaN  \n",
       "66309                                         NaN                        NaN  \n",
       "66311                                         NaN                        NaN  \n",
       "66313                                         NaN                        NaN  \n",
       "66562                                         NaN                        NaN  \n",
       "66724                                         NaN                        NaN  \n",
       "66738                                         NaN                        NaN  \n",
       "66740                                         NaN                        NaN  \n",
       "66742                                         NaN                        NaN  \n",
       "66801                                         NaN                        NaN  \n",
       "\n",
       "[10 rows x 5354 columns]"
      ]
     },
     "execution_count": 74,
     "metadata": {},
     "output_type": "execute_result"
    }
   ],
   "source": [
    "cluster = get_cluster(clustered, random_cluster_number)\n",
    "cluster.tail(10)"
   ]
  },
  {
   "cell_type": "markdown",
   "metadata": {},
   "source": [
    "### Qualitative result check\n",
    "\n",
    "For a qualitative result check, let's look at the top 20 recommended routes within a cluster and count how many of the routes show up in the Top 100 list of climbing magazine _klettern_. The list is available on the [klettern.de](https://www.klettern.de/sixcms/media.php/8/Top100-Kletterrouten_Frankenjura.pdf) website."
   ]
  },
  {
   "cell_type": "code",
   "execution_count": 75,
   "metadata": {
    "ExecuteTime": {
     "end_time": "2018-12-16T21:34:09.239473Z",
     "start_time": "2018-12-16T21:34:07.630933Z"
    },
    "pixiedust": {
     "displayParams": {}
    }
   },
   "outputs": [
    {
     "data": {
      "text/plain": [
       "'Top 20 Cluster'"
      ]
     },
     "execution_count": 75,
     "metadata": {},
     "output_type": "execute_result"
    },
    {
     "data": {
      "text/html": [
       "<div>\n",
       "<style scoped>\n",
       "    .dataframe tbody tr th:only-of-type {\n",
       "        vertical-align: middle;\n",
       "    }\n",
       "\n",
       "    .dataframe tbody tr th {\n",
       "        vertical-align: top;\n",
       "    }\n",
       "\n",
       "    .dataframe thead th {\n",
       "        text-align: right;\n",
       "    }\n",
       "</style>\n",
       "<table border=\"1\" class=\"dataframe\">\n",
       "  <thead>\n",
       "    <tr style=\"text-align: right;\">\n",
       "      <th></th>\n",
       "      <th>sector_route</th>\n",
       "      <th>rating_average</th>\n",
       "      <th>rating_count</th>\n",
       "      <th>wr</th>\n",
       "    </tr>\n",
       "  </thead>\n",
       "  <tbody>\n",
       "    <tr>\n",
       "      <th>3302</th>\n",
       "      <td>Rolandfels_die vollendung</td>\n",
       "      <td>2.869565</td>\n",
       "      <td>69.0</td>\n",
       "      <td>2.778506</td>\n",
       "    </tr>\n",
       "    <tr>\n",
       "      <th>2856</th>\n",
       "      <td>Neumühle_witchcraft</td>\n",
       "      <td>2.827160</td>\n",
       "      <td>81.0</td>\n",
       "      <td>2.752191</td>\n",
       "    </tr>\n",
       "    <tr>\n",
       "      <th>3215</th>\n",
       "      <td>Richard Wagner Fels_fight gravity</td>\n",
       "      <td>2.769231</td>\n",
       "      <td>169.0</td>\n",
       "      <td>2.734152</td>\n",
       "    </tr>\n",
       "    <tr>\n",
       "      <th>1408</th>\n",
       "      <td>Grüne Hölle_vgeln verboten</td>\n",
       "      <td>2.797619</td>\n",
       "      <td>84.0</td>\n",
       "      <td>2.727663</td>\n",
       "    </tr>\n",
       "    <tr>\n",
       "      <th>2910</th>\n",
       "      <td>Obere Gößweinsteiner Wände_sautanz</td>\n",
       "      <td>2.791045</td>\n",
       "      <td>67.0</td>\n",
       "      <td>2.705933</td>\n",
       "    </tr>\n",
       "    <tr>\n",
       "      <th>4728</th>\n",
       "      <td>Waldkopf_slimline</td>\n",
       "      <td>2.769231</td>\n",
       "      <td>78.0</td>\n",
       "      <td>2.697034</td>\n",
       "    </tr>\n",
       "    <tr>\n",
       "      <th>3449</th>\n",
       "      <td>Roter Fels_schaumschlger</td>\n",
       "      <td>2.789474</td>\n",
       "      <td>57.0</td>\n",
       "      <td>2.691461</td>\n",
       "    </tr>\n",
       "    <tr>\n",
       "      <th>2244</th>\n",
       "      <td>Kuhkirchner Wand_primeur de luxe</td>\n",
       "      <td>2.870968</td>\n",
       "      <td>31.0</td>\n",
       "      <td>2.690897</td>\n",
       "    </tr>\n",
       "    <tr>\n",
       "      <th>2215</th>\n",
       "      <td>Krottenseer Turm_chasin the trane</td>\n",
       "      <td>2.722628</td>\n",
       "      <td>137.0</td>\n",
       "      <td>2.682379</td>\n",
       "    </tr>\n",
       "    <tr>\n",
       "      <th>469</th>\n",
       "      <td>Bärenschlucht_rauchende bolts</td>\n",
       "      <td>2.848485</td>\n",
       "      <td>33.0</td>\n",
       "      <td>2.681584</td>\n",
       "    </tr>\n",
       "    <tr>\n",
       "      <th>450</th>\n",
       "      <td>Bärenschlucht_herkules</td>\n",
       "      <td>2.720000</td>\n",
       "      <td>125.0</td>\n",
       "      <td>2.676278</td>\n",
       "    </tr>\n",
       "    <tr>\n",
       "      <th>3134</th>\n",
       "      <td>Püttlacher Wand_treibjagd</td>\n",
       "      <td>2.757576</td>\n",
       "      <td>66.0</td>\n",
       "      <td>2.674932</td>\n",
       "    </tr>\n",
       "    <tr>\n",
       "      <th>161</th>\n",
       "      <td>Ankatalwand_computerspiele</td>\n",
       "      <td>2.729167</td>\n",
       "      <td>96.0</td>\n",
       "      <td>2.672548</td>\n",
       "    </tr>\n",
       "    <tr>\n",
       "      <th>1859</th>\n",
       "      <td>Holzgauer Wand_nimue</td>\n",
       "      <td>2.721649</td>\n",
       "      <td>97.0</td>\n",
       "      <td>2.666143</td>\n",
       "    </tr>\n",
       "    <tr>\n",
       "      <th>2566</th>\n",
       "      <td>Marientaler Wände_stromlinie</td>\n",
       "      <td>2.742857</td>\n",
       "      <td>70.0</td>\n",
       "      <td>2.665961</td>\n",
       "    </tr>\n",
       "    <tr>\n",
       "      <th>2017</th>\n",
       "      <td>Jungfernriss_sms</td>\n",
       "      <td>2.947368</td>\n",
       "      <td>19.0</td>\n",
       "      <td>2.664628</td>\n",
       "    </tr>\n",
       "    <tr>\n",
       "      <th>1688</th>\n",
       "      <td>Herzwand_lwenherz</td>\n",
       "      <td>2.875000</td>\n",
       "      <td>24.0</td>\n",
       "      <td>2.654530</td>\n",
       "    </tr>\n",
       "    <tr>\n",
       "      <th>3218</th>\n",
       "      <td>Richard Wagner Fels_magnet</td>\n",
       "      <td>2.765957</td>\n",
       "      <td>47.0</td>\n",
       "      <td>2.653545</td>\n",
       "    </tr>\n",
       "    <tr>\n",
       "      <th>3109</th>\n",
       "      <td>Püttlacher Wand_das geschenk</td>\n",
       "      <td>2.800000</td>\n",
       "      <td>35.0</td>\n",
       "      <td>2.649883</td>\n",
       "    </tr>\n",
       "    <tr>\n",
       "      <th>3411</th>\n",
       "      <td>Roter Fels_bella addizione</td>\n",
       "      <td>2.900000</td>\n",
       "      <td>20.0</td>\n",
       "      <td>2.640892</td>\n",
       "    </tr>\n",
       "  </tbody>\n",
       "</table>\n",
       "</div>"
      ],
      "text/plain": [
       "                            sector_route  rating_average  rating_count  \\\n",
       "3302           Rolandfels_die vollendung        2.869565          69.0   \n",
       "2856                 Neumühle_witchcraft        2.827160          81.0   \n",
       "3215   Richard Wagner Fels_fight gravity        2.769231         169.0   \n",
       "1408          Grüne Hölle_vgeln verboten        2.797619          84.0   \n",
       "2910  Obere Gößweinsteiner Wände_sautanz        2.791045          67.0   \n",
       "4728                   Waldkopf_slimline        2.769231          78.0   \n",
       "3449            Roter Fels_schaumschlger        2.789474          57.0   \n",
       "2244    Kuhkirchner Wand_primeur de luxe        2.870968          31.0   \n",
       "2215   Krottenseer Turm_chasin the trane        2.722628         137.0   \n",
       "469        Bärenschlucht_rauchende bolts        2.848485          33.0   \n",
       "450               Bärenschlucht_herkules        2.720000         125.0   \n",
       "3134           Püttlacher Wand_treibjagd        2.757576          66.0   \n",
       "161           Ankatalwand_computerspiele        2.729167          96.0   \n",
       "1859                Holzgauer Wand_nimue        2.721649          97.0   \n",
       "2566        Marientaler Wände_stromlinie        2.742857          70.0   \n",
       "2017                    Jungfernriss_sms        2.947368          19.0   \n",
       "1688                   Herzwand_lwenherz        2.875000          24.0   \n",
       "3218          Richard Wagner Fels_magnet        2.765957          47.0   \n",
       "3109        Püttlacher Wand_das geschenk        2.800000          35.0   \n",
       "3411          Roter Fels_bella addizione        2.900000          20.0   \n",
       "\n",
       "            wr  \n",
       "3302  2.778506  \n",
       "2856  2.752191  \n",
       "3215  2.734152  \n",
       "1408  2.727663  \n",
       "2910  2.705933  \n",
       "4728  2.697034  \n",
       "3449  2.691461  \n",
       "2244  2.690897  \n",
       "2215  2.682379  \n",
       "469   2.681584  \n",
       "450   2.676278  \n",
       "3134  2.674932  \n",
       "161   2.672548  \n",
       "1859  2.666143  \n",
       "2566  2.665961  \n",
       "2017  2.664628  \n",
       "1688  2.654530  \n",
       "3218  2.653545  \n",
       "3109  2.649883  \n",
       "3411  2.640892  "
      ]
     },
     "execution_count": 75,
     "metadata": {},
     "output_type": "execute_result"
    }
   ],
   "source": [
    "f'Top 20 Cluster'\n",
    "top_n_routes_cluster(cluster, 20)"
   ]
  },
  {
   "cell_type": "markdown",
   "metadata": {},
   "source": [
    "We find 9 out of 20 recommended routes also in the Top 100 list. So, our recommendations seem to be alright."
   ]
  },
  {
   "cell_type": "markdown",
   "metadata": {
    "ExecuteTime": {
     "end_time": "2018-12-09T21:40:34.406831Z",
     "start_time": "2018-12-09T21:40:34.400167Z"
    }
   },
   "source": [
    "<img src=\"images/qualitative_benchmark.png\" alt=\"Qualitative Benchmark\" width=\"500\" align=\"left\" />"
   ]
  },
  {
   "cell_type": "markdown",
   "metadata": {},
   "source": [
    "The suggested routes are all in the upper experienced to expert level. Which is no surprise, as we have seen earlier, that the majority of climbed routes is from that range."
   ]
  },
  {
   "cell_type": "code",
   "execution_count": 76,
   "metadata": {
    "ExecuteTime": {
     "end_time": "2018-12-16T21:34:16.278561Z",
     "start_time": "2018-12-16T21:34:09.241632Z"
    },
    "pixiedust": {
     "displayParams": {}
    }
   },
   "outputs": [
    {
     "data": {
      "text/plain": [
       "'user_id: 32 is member of cluster number: 1'"
      ]
     },
     "execution_count": 76,
     "metadata": {},
     "output_type": "execute_result"
    },
    {
     "data": {
      "text/html": [
       "<div>\n",
       "<style scoped>\n",
       "    .dataframe tbody tr th:only-of-type {\n",
       "        vertical-align: middle;\n",
       "    }\n",
       "\n",
       "    .dataframe tbody tr th {\n",
       "        vertical-align: top;\n",
       "    }\n",
       "\n",
       "    .dataframe thead th {\n",
       "        text-align: right;\n",
       "    }\n",
       "</style>\n",
       "<table border=\"1\" class=\"dataframe\">\n",
       "  <thead>\n",
       "    <tr style=\"text-align: right;\">\n",
       "      <th></th>\n",
       "      <th>sector_route</th>\n",
       "      <th>rating_average</th>\n",
       "      <th>rating_count</th>\n",
       "      <th>wr</th>\n",
       "    </tr>\n",
       "  </thead>\n",
       "  <tbody>\n",
       "    <tr>\n",
       "      <th>3302</th>\n",
       "      <td>Rolandfels_die vollendung</td>\n",
       "      <td>2.869565</td>\n",
       "      <td>69.0</td>\n",
       "      <td>2.778506</td>\n",
       "    </tr>\n",
       "    <tr>\n",
       "      <th>2856</th>\n",
       "      <td>Neumühle_witchcraft</td>\n",
       "      <td>2.827160</td>\n",
       "      <td>81.0</td>\n",
       "      <td>2.752191</td>\n",
       "    </tr>\n",
       "    <tr>\n",
       "      <th>3215</th>\n",
       "      <td>Richard Wagner Fels_fight gravity</td>\n",
       "      <td>2.769231</td>\n",
       "      <td>169.0</td>\n",
       "      <td>2.734152</td>\n",
       "    </tr>\n",
       "    <tr>\n",
       "      <th>1408</th>\n",
       "      <td>Grüne Hölle_vgeln verboten</td>\n",
       "      <td>2.797619</td>\n",
       "      <td>84.0</td>\n",
       "      <td>2.727663</td>\n",
       "    </tr>\n",
       "    <tr>\n",
       "      <th>2910</th>\n",
       "      <td>Obere Gößweinsteiner Wände_sautanz</td>\n",
       "      <td>2.791045</td>\n",
       "      <td>67.0</td>\n",
       "      <td>2.705933</td>\n",
       "    </tr>\n",
       "  </tbody>\n",
       "</table>\n",
       "</div>"
      ],
      "text/plain": [
       "                            sector_route  rating_average  rating_count  \\\n",
       "3302           Rolandfels_die vollendung        2.869565          69.0   \n",
       "2856                 Neumühle_witchcraft        2.827160          81.0   \n",
       "3215   Richard Wagner Fels_fight gravity        2.769231         169.0   \n",
       "1408          Grüne Hölle_vgeln verboten        2.797619          84.0   \n",
       "2910  Obere Gößweinsteiner Wände_sautanz        2.791045          67.0   \n",
       "\n",
       "            wr  \n",
       "3302  2.778506  \n",
       "2856  2.752191  \n",
       "3215  2.734152  \n",
       "1408  2.727663  \n",
       "2910  2.705933  "
      ]
     },
     "execution_count": 76,
     "metadata": {},
     "output_type": "execute_result"
    },
    {
     "data": {
      "text/plain": [
       "''"
      ]
     },
     "execution_count": 76,
     "metadata": {},
     "output_type": "execute_result"
    },
    {
     "data": {
      "text/plain": [
       "'user_id: 493 is member of cluster number: 1'"
      ]
     },
     "execution_count": 76,
     "metadata": {},
     "output_type": "execute_result"
    },
    {
     "data": {
      "text/html": [
       "<div>\n",
       "<style scoped>\n",
       "    .dataframe tbody tr th:only-of-type {\n",
       "        vertical-align: middle;\n",
       "    }\n",
       "\n",
       "    .dataframe tbody tr th {\n",
       "        vertical-align: top;\n",
       "    }\n",
       "\n",
       "    .dataframe thead th {\n",
       "        text-align: right;\n",
       "    }\n",
       "</style>\n",
       "<table border=\"1\" class=\"dataframe\">\n",
       "  <thead>\n",
       "    <tr style=\"text-align: right;\">\n",
       "      <th></th>\n",
       "      <th>sector_route</th>\n",
       "      <th>rating_average</th>\n",
       "      <th>rating_count</th>\n",
       "      <th>wr</th>\n",
       "    </tr>\n",
       "  </thead>\n",
       "  <tbody>\n",
       "    <tr>\n",
       "      <th>3302</th>\n",
       "      <td>Rolandfels_die vollendung</td>\n",
       "      <td>2.869565</td>\n",
       "      <td>69.0</td>\n",
       "      <td>2.778506</td>\n",
       "    </tr>\n",
       "    <tr>\n",
       "      <th>2856</th>\n",
       "      <td>Neumühle_witchcraft</td>\n",
       "      <td>2.827160</td>\n",
       "      <td>81.0</td>\n",
       "      <td>2.752191</td>\n",
       "    </tr>\n",
       "    <tr>\n",
       "      <th>4728</th>\n",
       "      <td>Waldkopf_slimline</td>\n",
       "      <td>2.769231</td>\n",
       "      <td>78.0</td>\n",
       "      <td>2.697034</td>\n",
       "    </tr>\n",
       "    <tr>\n",
       "      <th>2244</th>\n",
       "      <td>Kuhkirchner Wand_primeur de luxe</td>\n",
       "      <td>2.870968</td>\n",
       "      <td>31.0</td>\n",
       "      <td>2.690897</td>\n",
       "    </tr>\n",
       "    <tr>\n",
       "      <th>3134</th>\n",
       "      <td>Püttlacher Wand_treibjagd</td>\n",
       "      <td>2.757576</td>\n",
       "      <td>66.0</td>\n",
       "      <td>2.674932</td>\n",
       "    </tr>\n",
       "  </tbody>\n",
       "</table>\n",
       "</div>"
      ],
      "text/plain": [
       "                          sector_route  rating_average  rating_count        wr\n",
       "3302         Rolandfels_die vollendung        2.869565          69.0  2.778506\n",
       "2856               Neumühle_witchcraft        2.827160          81.0  2.752191\n",
       "4728                 Waldkopf_slimline        2.769231          78.0  2.697034\n",
       "2244  Kuhkirchner Wand_primeur de luxe        2.870968          31.0  2.690897\n",
       "3134         Püttlacher Wand_treibjagd        2.757576          66.0  2.674932"
      ]
     },
     "execution_count": 76,
     "metadata": {},
     "output_type": "execute_result"
    },
    {
     "data": {
      "text/plain": [
       "''"
      ]
     },
     "execution_count": 76,
     "metadata": {},
     "output_type": "execute_result"
    },
    {
     "data": {
      "text/plain": [
       "'user_id: 35939 is member of cluster number: 1'"
      ]
     },
     "execution_count": 76,
     "metadata": {},
     "output_type": "execute_result"
    },
    {
     "data": {
      "text/html": [
       "<div>\n",
       "<style scoped>\n",
       "    .dataframe tbody tr th:only-of-type {\n",
       "        vertical-align: middle;\n",
       "    }\n",
       "\n",
       "    .dataframe tbody tr th {\n",
       "        vertical-align: top;\n",
       "    }\n",
       "\n",
       "    .dataframe thead th {\n",
       "        text-align: right;\n",
       "    }\n",
       "</style>\n",
       "<table border=\"1\" class=\"dataframe\">\n",
       "  <thead>\n",
       "    <tr style=\"text-align: right;\">\n",
       "      <th></th>\n",
       "      <th>sector_route</th>\n",
       "      <th>rating_average</th>\n",
       "      <th>rating_count</th>\n",
       "      <th>wr</th>\n",
       "    </tr>\n",
       "  </thead>\n",
       "  <tbody>\n",
       "    <tr>\n",
       "      <th>3302</th>\n",
       "      <td>Rolandfels_die vollendung</td>\n",
       "      <td>2.869565</td>\n",
       "      <td>69.0</td>\n",
       "      <td>2.778506</td>\n",
       "    </tr>\n",
       "    <tr>\n",
       "      <th>2856</th>\n",
       "      <td>Neumühle_witchcraft</td>\n",
       "      <td>2.827160</td>\n",
       "      <td>81.0</td>\n",
       "      <td>2.752191</td>\n",
       "    </tr>\n",
       "    <tr>\n",
       "      <th>3215</th>\n",
       "      <td>Richard Wagner Fels_fight gravity</td>\n",
       "      <td>2.769231</td>\n",
       "      <td>169.0</td>\n",
       "      <td>2.734152</td>\n",
       "    </tr>\n",
       "    <tr>\n",
       "      <th>1408</th>\n",
       "      <td>Grüne Hölle_vgeln verboten</td>\n",
       "      <td>2.797619</td>\n",
       "      <td>84.0</td>\n",
       "      <td>2.727663</td>\n",
       "    </tr>\n",
       "    <tr>\n",
       "      <th>2910</th>\n",
       "      <td>Obere Gößweinsteiner Wände_sautanz</td>\n",
       "      <td>2.791045</td>\n",
       "      <td>67.0</td>\n",
       "      <td>2.705933</td>\n",
       "    </tr>\n",
       "  </tbody>\n",
       "</table>\n",
       "</div>"
      ],
      "text/plain": [
       "                            sector_route  rating_average  rating_count  \\\n",
       "3302           Rolandfels_die vollendung        2.869565          69.0   \n",
       "2856                 Neumühle_witchcraft        2.827160          81.0   \n",
       "3215   Richard Wagner Fels_fight gravity        2.769231         169.0   \n",
       "1408          Grüne Hölle_vgeln verboten        2.797619          84.0   \n",
       "2910  Obere Gößweinsteiner Wände_sautanz        2.791045          67.0   \n",
       "\n",
       "            wr  \n",
       "3302  2.778506  \n",
       "2856  2.752191  \n",
       "3215  2.734152  \n",
       "1408  2.727663  \n",
       "2910  2.705933  "
      ]
     },
     "execution_count": 76,
     "metadata": {},
     "output_type": "execute_result"
    },
    {
     "data": {
      "text/plain": [
       "''"
      ]
     },
     "execution_count": 76,
     "metadata": {},
     "output_type": "execute_result"
    },
    {
     "data": {
      "text/plain": [
       "'user_id: 63837 is member of cluster number: 1'"
      ]
     },
     "execution_count": 76,
     "metadata": {},
     "output_type": "execute_result"
    },
    {
     "data": {
      "text/html": [
       "<div>\n",
       "<style scoped>\n",
       "    .dataframe tbody tr th:only-of-type {\n",
       "        vertical-align: middle;\n",
       "    }\n",
       "\n",
       "    .dataframe tbody tr th {\n",
       "        vertical-align: top;\n",
       "    }\n",
       "\n",
       "    .dataframe thead th {\n",
       "        text-align: right;\n",
       "    }\n",
       "</style>\n",
       "<table border=\"1\" class=\"dataframe\">\n",
       "  <thead>\n",
       "    <tr style=\"text-align: right;\">\n",
       "      <th></th>\n",
       "      <th>sector_route</th>\n",
       "      <th>rating_average</th>\n",
       "      <th>rating_count</th>\n",
       "      <th>wr</th>\n",
       "    </tr>\n",
       "  </thead>\n",
       "  <tbody>\n",
       "    <tr>\n",
       "      <th>3302</th>\n",
       "      <td>Rolandfels_die vollendung</td>\n",
       "      <td>2.869565</td>\n",
       "      <td>69.0</td>\n",
       "      <td>2.778506</td>\n",
       "    </tr>\n",
       "    <tr>\n",
       "      <th>2856</th>\n",
       "      <td>Neumühle_witchcraft</td>\n",
       "      <td>2.827160</td>\n",
       "      <td>81.0</td>\n",
       "      <td>2.752191</td>\n",
       "    </tr>\n",
       "    <tr>\n",
       "      <th>3215</th>\n",
       "      <td>Richard Wagner Fels_fight gravity</td>\n",
       "      <td>2.769231</td>\n",
       "      <td>169.0</td>\n",
       "      <td>2.734152</td>\n",
       "    </tr>\n",
       "    <tr>\n",
       "      <th>1408</th>\n",
       "      <td>Grüne Hölle_vgeln verboten</td>\n",
       "      <td>2.797619</td>\n",
       "      <td>84.0</td>\n",
       "      <td>2.727663</td>\n",
       "    </tr>\n",
       "    <tr>\n",
       "      <th>2910</th>\n",
       "      <td>Obere Gößweinsteiner Wände_sautanz</td>\n",
       "      <td>2.791045</td>\n",
       "      <td>67.0</td>\n",
       "      <td>2.705933</td>\n",
       "    </tr>\n",
       "  </tbody>\n",
       "</table>\n",
       "</div>"
      ],
      "text/plain": [
       "                            sector_route  rating_average  rating_count  \\\n",
       "3302           Rolandfels_die vollendung        2.869565          69.0   \n",
       "2856                 Neumühle_witchcraft        2.827160          81.0   \n",
       "3215   Richard Wagner Fels_fight gravity        2.769231         169.0   \n",
       "1408          Grüne Hölle_vgeln verboten        2.797619          84.0   \n",
       "2910  Obere Gößweinsteiner Wände_sautanz        2.791045          67.0   \n",
       "\n",
       "            wr  \n",
       "3302  2.778506  \n",
       "2856  2.752191  \n",
       "3215  2.734152  \n",
       "1408  2.727663  \n",
       "2910  2.705933  "
      ]
     },
     "execution_count": 76,
     "metadata": {},
     "output_type": "execute_result"
    },
    {
     "data": {
      "text/plain": [
       "''"
      ]
     },
     "execution_count": 76,
     "metadata": {},
     "output_type": "execute_result"
    },
    {
     "data": {
      "text/plain": [
       "'Top 10 User'"
      ]
     },
     "execution_count": 76,
     "metadata": {},
     "output_type": "execute_result"
    }
   ],
   "source": [
    "# users = [3, 32, 493, 35939, 63837]\n",
    "users = [32, 493, 35939, 63837]\n",
    "for u in users:\n",
    "    f'user_id: {u} is member of cluster number: {cluster_membership(clustered, u)}'\n",
    "    top_n_routes_user(clustered, u, 5)\n",
    "    f''\n",
    "\n",
    "f'Top 10 User'\n",
    "# top_n_routes_user(clustered, user_id, 25)"
   ]
  },
  {
   "cell_type": "code",
   "execution_count": 77,
   "metadata": {
    "ExecuteTime": {
     "end_time": "2018-12-16T21:34:16.284505Z",
     "start_time": "2018-12-16T21:34:16.280438Z"
    },
    "code_folding": [
     0
    ]
   },
   "outputs": [],
   "source": [
    "def predict_user_rating(user_id, sector_route):\n",
    "    '''Predict what a user's rating for a particular route would be.'''\n",
    "    \n",
    "    # determine cluster membership and get cluster\n",
    "    cluster_number = cluster_membership(clustered, user_id)\n",
    "    cluster = get_cluster(clustered, cluster_number)\n",
    "    \n",
    "    # get ratings<->routes for cluster\n",
    "    rated_routes = top_n_routes_cluster(cluster)\n",
    "    \n",
    "    # get rating of route\n",
    "    rating = rated_routes[rated_routes['sector_route'] == sector_route]['wr']\n",
    "    \n",
    "    return rating.iloc[0]"
   ]
  },
  {
   "cell_type": "code",
   "execution_count": 78,
   "metadata": {
    "ExecuteTime": {
     "end_time": "2018-12-16T21:34:18.074162Z",
     "start_time": "2018-12-16T21:34:16.286500Z"
    }
   },
   "outputs": [
    {
     "data": {
      "text/plain": [
       "2.6171074878828384"
      ]
     },
     "execution_count": 78,
     "metadata": {},
     "output_type": "execute_result"
    }
   ],
   "source": [
    "predict_user_rating(32, 'Eldorado_ekel')"
   ]
  },
  {
   "cell_type": "markdown",
   "metadata": {},
   "source": [
    "#### Trying Surprise package"
   ]
  },
  {
   "cell_type": "code",
   "execution_count": 79,
   "metadata": {
    "ExecuteTime": {
     "end_time": "2018-12-16T21:34:18.153582Z",
     "start_time": "2018-12-16T21:34:18.076339Z"
    }
   },
   "outputs": [],
   "source": [
    "from surprise import SVD, SVDpp\n",
    "from surprise import Dataset\n",
    "from surprise import Reader\n",
    "from surprise.model_selection import cross_validate\n",
    "\n",
    "reader = Reader(rating_scale=(1, 3))\n",
    "\n",
    "data = Dataset.load_from_df(X_train_ratings[['user_id', 'sector_route', 'rating']], reader)\n",
    "# data.split(n_folds=5)"
   ]
  },
  {
   "cell_type": "code",
   "execution_count": 80,
   "metadata": {
    "ExecuteTime": {
     "end_time": "2018-12-16T21:34:29.231446Z",
     "start_time": "2018-12-16T21:34:18.155722Z"
    }
   },
   "outputs": [
    {
     "name": "stdout",
     "output_type": "stream",
     "text": [
      "Evaluating RMSE, MAE of algorithm SVD on 5 split(s).\n",
      "\n",
      "                  Fold 1  Fold 2  Fold 3  Fold 4  Fold 5  Mean    Std     \n",
      "RMSE (testset)    0.6582  0.6501  0.6488  0.6496  0.6493  0.6512  0.0035  \n",
      "MAE (testset)     0.5411  0.5330  0.5357  0.5336  0.5326  0.5352  0.0032  \n",
      "Fit time          2.11    2.06    2.07    2.07    2.09    2.08    0.02    \n",
      "Test time         0.06    0.06    0.06    0.06    0.06    0.06    0.00    \n"
     ]
    }
   ],
   "source": [
    "svd = SVD()\n",
    "_ = cross_validate(svd, data, measures=['RMSE', 'MAE'], cv=5, verbose=True)"
   ]
  },
  {
   "cell_type": "code",
   "execution_count": 81,
   "metadata": {
    "ExecuteTime": {
     "end_time": "2018-12-16T21:34:29.238184Z",
     "start_time": "2018-12-16T21:34:29.233583Z"
    }
   },
   "outputs": [],
   "source": [
    "from collections import defaultdict\n",
    "\n",
    "def get_top_n(predictions, n=10):\n",
    "    '''Return the top-N recommendation for each user from a set of predictions.\n",
    "\n",
    "    Args:\n",
    "        predictions(list of Prediction objects): The list of predictions, as\n",
    "            returned by the test method of an algorithm.\n",
    "        n(int): The number of recommendation to output for each user. Default\n",
    "            is 10.\n",
    "\n",
    "    Returns:\n",
    "    A dict where keys are user (raw) ids and values are lists of tuples:\n",
    "        [(raw item id, rating estimation), ...] of size n.\n",
    "    '''\n",
    "\n",
    "    # First map the predictions to each user.\n",
    "    top_n = defaultdict(list)\n",
    "    for uid, iid, true_r, est, _ in predictions:\n",
    "        top_n[uid].append((iid, est))\n",
    "\n",
    "    # Then sort the predictions for each user and retrieve the k highest ones.\n",
    "    for uid, user_ratings in top_n.items():\n",
    "        user_ratings.sort(key=lambda x: x[1], reverse=True)\n",
    "        top_n[uid] = user_ratings[:n]\n",
    "\n",
    "    return top_n"
   ]
  },
  {
   "cell_type": "markdown",
   "metadata": {},
   "source": [
    "Following the example provided on the website of the [surprise package](https://surprise.readthedocs.io/en/stable/FAQ.html), we can implement a top n recommender like this."
   ]
  },
  {
   "cell_type": "code",
   "execution_count": 82,
   "metadata": {
    "ExecuteTime": {
     "end_time": "2018-12-16T21:36:59.425704Z",
     "start_time": "2018-12-16T21:34:29.240605Z"
    }
   },
   "outputs": [],
   "source": [
    "trainset = data.build_full_trainset()\n",
    "algo = SVD()\n",
    "_ = algo.fit(trainset)\n",
    "\n",
    "# Then predict ratings for all pairs (u, i) that are NOT in the training set.\n",
    "testset = trainset.build_anti_testset()\n",
    "predictions = algo.test(testset)\n",
    "\n",
    "top_n = get_top_n(predictions, n=10)"
   ]
  },
  {
   "cell_type": "code",
   "execution_count": 83,
   "metadata": {
    "ExecuteTime": {
     "end_time": "2018-12-16T21:36:59.462602Z",
     "start_time": "2018-12-16T21:36:59.445814Z"
    }
   },
   "outputs": [
    {
     "name": "stdout",
     "output_type": "stream",
     "text": [
      "18214 ['Roter Fels_schaumschlger', 'Ankatalwand_new dimensions', 'Mader Ged.-Wand_stalingrad', 'Bleisteine_eraserhead', 'Wüstenstein_schwarze wand', 'Bleisteine_offenbarung', 'Holzgauer Wand_nimue', 'Herzwand_lwenherz', 'Jungfernriss_sms', 'Moritzer Turm_high gravity day']\n",
      "5512 ['Roter Fels_schaumschlger', 'Ankatalwand_computerspiele', 'Heldwand_gtz von b', 'Student_simon', 'Jungfernriss_sms', 'Moritzer Turm_reality check', 'Luisenwand_fiese luise', 'Grüne Hölle_vgeln verboten', 'Moritzer Turm_high gravity day', 'Röthelfels_fr dich']\n",
      "16414 ['Heldwand_gtz von b', 'Neumühle_witchcraft', 'Ankatalwand_computerspiele', 'Zehnerstein_affenschaukel', 'Kuhkirchner Wand_primeur de luxe', 'Bärenschlucht_rauchende bolts', 'Rolandfels_die vollendung', 'Roter Fels_schaumschlger', 'Rolandfels_infiziert', 'Student_simon']\n"
     ]
    }
   ],
   "source": [
    "# Print the recommended items for each user\n",
    "counter = 0\n",
    "for uid, user_ratings in top_n.items():\n",
    "    print(uid, [iid for (iid, _) in user_ratings])\n",
    "    counter += 1\n",
    "    if counter == 3:\n",
    "        break"
   ]
  },
  {
   "cell_type": "code",
   "execution_count": 84,
   "metadata": {
    "ExecuteTime": {
     "end_time": "2018-12-16T21:36:59.475603Z",
     "start_time": "2018-12-16T21:36:59.466083Z"
    }
   },
   "outputs": [
    {
     "data": {
      "text/plain": [
       "'hello'"
      ]
     },
     "execution_count": 84,
     "metadata": {},
     "output_type": "execute_result"
    }
   ],
   "source": [
    "f'hello'"
   ]
  },
  {
   "cell_type": "code",
   "execution_count": null,
   "metadata": {},
   "outputs": [],
   "source": []
  },
  {
   "cell_type": "code",
   "execution_count": null,
   "metadata": {},
   "outputs": [],
   "source": []
  },
  {
   "cell_type": "markdown",
   "metadata": {},
   "source": [
    "## Refinement"
   ]
  },
  {
   "cell_type": "code",
   "execution_count": null,
   "metadata": {},
   "outputs": [],
   "source": []
  },
  {
   "cell_type": "code",
   "execution_count": 85,
   "metadata": {
    "ExecuteTime": {
     "end_time": "2018-12-16T21:42:15.395271Z",
     "start_time": "2018-12-16T21:36:59.477672Z"
    }
   },
   "outputs": [
    {
     "name": "stdout",
     "output_type": "stream",
     "text": [
      "Evaluating RMSE, MAE of algorithm SVDpp on 5 split(s).\n",
      "\n",
      "                  Fold 1  Fold 2  Fold 3  Fold 4  Fold 5  Mean    Std     \n",
      "RMSE (testset)    0.6378  0.6454  0.6409  0.6441  0.6478  0.6432  0.0035  \n",
      "MAE (testset)     0.5201  0.5265  0.5248  0.5243  0.5312  0.5254  0.0036  \n",
      "Fit time          64.93   61.19   63.13   61.77   58.70   61.95   2.07    \n",
      "Test time         1.15    1.11    1.14    1.03    1.08    1.10    0.04    \n"
     ]
    }
   ],
   "source": [
    "svd_pp = SVDpp()\n",
    "_ = cross_validate(svd_pp, data, measures=['RMSE', 'MAE'], cv=5, verbose=True)"
   ]
  },
  {
   "cell_type": "code",
   "execution_count": 86,
   "metadata": {
    "ExecuteTime": {
     "end_time": "2018-12-16T21:42:15.440067Z",
     "start_time": "2018-12-16T21:42:15.400819Z"
    }
   },
   "outputs": [
    {
     "data": {
      "text/html": [
       "<div>\n",
       "<style scoped>\n",
       "    .dataframe tbody tr th:only-of-type {\n",
       "        vertical-align: middle;\n",
       "    }\n",
       "\n",
       "    .dataframe tbody tr th {\n",
       "        vertical-align: top;\n",
       "    }\n",
       "\n",
       "    .dataframe thead th {\n",
       "        text-align: right;\n",
       "    }\n",
       "</style>\n",
       "<table border=\"1\" class=\"dataframe\">\n",
       "  <thead>\n",
       "    <tr style=\"text-align: right;\">\n",
       "      <th></th>\n",
       "      <th>route_id</th>\n",
       "      <th>sector</th>\n",
       "      <th>route</th>\n",
       "      <th>user_id</th>\n",
       "      <th>rating</th>\n",
       "      <th>sector_route</th>\n",
       "    </tr>\n",
       "  </thead>\n",
       "  <tbody>\n",
       "    <tr>\n",
       "      <th>1652</th>\n",
       "      <td>103392</td>\n",
       "      <td>Weißenstein</td>\n",
       "      <td>dampfhammer</td>\n",
       "      <td>35939</td>\n",
       "      <td>2</td>\n",
       "      <td>Weißenstein_dampfhammer</td>\n",
       "    </tr>\n",
       "    <tr>\n",
       "      <th>2057</th>\n",
       "      <td>48300</td>\n",
       "      <td>Weißenstein</td>\n",
       "      <td>verlobungsweg</td>\n",
       "      <td>35939</td>\n",
       "      <td>2</td>\n",
       "      <td>Weißenstein_verlobungsweg</td>\n",
       "    </tr>\n",
       "    <tr>\n",
       "      <th>3973</th>\n",
       "      <td>72121</td>\n",
       "      <td>Freudenhaus</td>\n",
       "      <td>emanuelle</td>\n",
       "      <td>35939</td>\n",
       "      <td>3</td>\n",
       "      <td>Freudenhaus_emanuelle</td>\n",
       "    </tr>\n",
       "    <tr>\n",
       "      <th>6965</th>\n",
       "      <td>83892</td>\n",
       "      <td>Grüne Hölle</td>\n",
       "      <td>isolation</td>\n",
       "      <td>35939</td>\n",
       "      <td>3</td>\n",
       "      <td>Grüne Hölle_isolation</td>\n",
       "    </tr>\n",
       "    <tr>\n",
       "      <th>8833</th>\n",
       "      <td>12845</td>\n",
       "      <td>Kuhkirchner Wand</td>\n",
       "      <td>flug nach delhi</td>\n",
       "      <td>35939</td>\n",
       "      <td>2</td>\n",
       "      <td>Kuhkirchner Wand_flug nach delhi</td>\n",
       "    </tr>\n",
       "    <tr>\n",
       "      <th>15847</th>\n",
       "      <td>31622</td>\n",
       "      <td>Freudenhaus</td>\n",
       "      <td>venusfalle</td>\n",
       "      <td>35939</td>\n",
       "      <td>3</td>\n",
       "      <td>Freudenhaus_venusfalle</td>\n",
       "    </tr>\n",
       "    <tr>\n",
       "      <th>19208</th>\n",
       "      <td>4586</td>\n",
       "      <td>Maximilianswand</td>\n",
       "      <td>sdriss</td>\n",
       "      <td>35939</td>\n",
       "      <td>1</td>\n",
       "      <td>Maximilianswand_sdriss</td>\n",
       "    </tr>\n",
       "    <tr>\n",
       "      <th>27178</th>\n",
       "      <td>8849</td>\n",
       "      <td>Leupoldsteiner wand</td>\n",
       "      <td>adrspach weg</td>\n",
       "      <td>35939</td>\n",
       "      <td>2</td>\n",
       "      <td>Leupoldsteiner wand_adrspach weg</td>\n",
       "    </tr>\n",
       "    <tr>\n",
       "      <th>31769</th>\n",
       "      <td>109246</td>\n",
       "      <td>Weißenstein</td>\n",
       "      <td>kaminpfeiler r</td>\n",
       "      <td>35939</td>\n",
       "      <td>2</td>\n",
       "      <td>Weißenstein_kaminpfeiler r</td>\n",
       "    </tr>\n",
       "    <tr>\n",
       "      <th>33162</th>\n",
       "      <td>98151</td>\n",
       "      <td>Terrarium</td>\n",
       "      <td>ow bald kai paulchen mehr</td>\n",
       "      <td>35939</td>\n",
       "      <td>1</td>\n",
       "      <td>Terrarium_ow bald kai paulchen mehr</td>\n",
       "    </tr>\n",
       "    <tr>\n",
       "      <th>34361</th>\n",
       "      <td>6877</td>\n",
       "      <td>Grüne Hölle</td>\n",
       "      <td>range rover</td>\n",
       "      <td>35939</td>\n",
       "      <td>2</td>\n",
       "      <td>Grüne Hölle_range rover</td>\n",
       "    </tr>\n",
       "    <tr>\n",
       "      <th>46520</th>\n",
       "      <td>32466</td>\n",
       "      <td>Kuhkirchner Wand</td>\n",
       "      <td>weg durch das arschloch</td>\n",
       "      <td>35939</td>\n",
       "      <td>2</td>\n",
       "      <td>Kuhkirchner Wand_weg durch das arschloch</td>\n",
       "    </tr>\n",
       "    <tr>\n",
       "      <th>55772</th>\n",
       "      <td>30817</td>\n",
       "      <td>Terrarium</td>\n",
       "      <td>wirbelsule</td>\n",
       "      <td>35939</td>\n",
       "      <td>1</td>\n",
       "      <td>Terrarium_wirbelsule</td>\n",
       "    </tr>\n",
       "    <tr>\n",
       "      <th>60047</th>\n",
       "      <td>78305</td>\n",
       "      <td>Grüne Hölle</td>\n",
       "      <td>hangel zur hlle</td>\n",
       "      <td>35939</td>\n",
       "      <td>2</td>\n",
       "      <td>Grüne Hölle_hangel zur hlle</td>\n",
       "    </tr>\n",
       "    <tr>\n",
       "      <th>76713</th>\n",
       "      <td>39264</td>\n",
       "      <td>Terrarium</td>\n",
       "      <td>lngste route</td>\n",
       "      <td>35939</td>\n",
       "      <td>3</td>\n",
       "      <td>Terrarium_lngste route</td>\n",
       "    </tr>\n",
       "  </tbody>\n",
       "</table>\n",
       "</div>"
      ],
      "text/plain": [
       "       route_id               sector                      route  user_id  \\\n",
       "1652     103392          Weißenstein                dampfhammer    35939   \n",
       "2057      48300          Weißenstein              verlobungsweg    35939   \n",
       "3973      72121          Freudenhaus                  emanuelle    35939   \n",
       "6965      83892          Grüne Hölle                  isolation    35939   \n",
       "8833      12845     Kuhkirchner Wand            flug nach delhi    35939   \n",
       "15847     31622          Freudenhaus                 venusfalle    35939   \n",
       "19208      4586      Maximilianswand                     sdriss    35939   \n",
       "27178      8849  Leupoldsteiner wand               adrspach weg    35939   \n",
       "31769    109246          Weißenstein             kaminpfeiler r    35939   \n",
       "33162     98151            Terrarium  ow bald kai paulchen mehr    35939   \n",
       "34361      6877          Grüne Hölle                range rover    35939   \n",
       "46520     32466     Kuhkirchner Wand    weg durch das arschloch    35939   \n",
       "55772     30817            Terrarium                 wirbelsule    35939   \n",
       "60047     78305          Grüne Hölle            hangel zur hlle    35939   \n",
       "76713     39264            Terrarium               lngste route    35939   \n",
       "\n",
       "       rating                              sector_route  \n",
       "1652        2                   Weißenstein_dampfhammer  \n",
       "2057        2                 Weißenstein_verlobungsweg  \n",
       "3973        3                     Freudenhaus_emanuelle  \n",
       "6965        3                     Grüne Hölle_isolation  \n",
       "8833        2          Kuhkirchner Wand_flug nach delhi  \n",
       "15847       3                    Freudenhaus_venusfalle  \n",
       "19208       1                    Maximilianswand_sdriss  \n",
       "27178       2          Leupoldsteiner wand_adrspach weg  \n",
       "31769       2                Weißenstein_kaminpfeiler r  \n",
       "33162       1       Terrarium_ow bald kai paulchen mehr  \n",
       "34361       2                   Grüne Hölle_range rover  \n",
       "46520       2  Kuhkirchner Wand_weg durch das arschloch  \n",
       "55772       1                      Terrarium_wirbelsule  \n",
       "60047       2               Grüne Hölle_hangel zur hlle  \n",
       "76713       3                    Terrarium_lngste route  "
      ]
     },
     "execution_count": 86,
     "metadata": {},
     "output_type": "execute_result"
    }
   ],
   "source": [
    "# X_train_ratings[X_train_ratings['user_id'] == 493]\n",
    "temp = X_train_ratings[X_train_ratings['user_id'] == 35939]\n",
    "temp"
   ]
  },
  {
   "cell_type": "code",
   "execution_count": 87,
   "metadata": {
    "ExecuteTime": {
     "end_time": "2018-12-16T21:42:30.889354Z",
     "start_time": "2018-12-16T21:42:15.442921Z"
    }
   },
   "outputs": [
    {
     "name": "stderr",
     "output_type": "stream",
     "text": [
      "/Users/dominik/anaconda3/lib/python3.6/site-packages/ipykernel_launcher.py:7: SettingWithCopyWarning: \n",
      "A value is trying to be set on a copy of a slice from a DataFrame.\n",
      "Try using .loc[row_indexer,col_indexer] = value instead\n",
      "\n",
      "See the caveats in the documentation: http://pandas.pydata.org/pandas-docs/stable/indexing.html#indexing-view-versus-copy\n",
      "  import sys\n",
      "/Users/dominik/anaconda3/lib/python3.6/site-packages/ipykernel_launcher.py:8: SettingWithCopyWarning: \n",
      "A value is trying to be set on a copy of a slice from a DataFrame.\n",
      "Try using .loc[row_indexer,col_indexer] = value instead\n",
      "\n",
      "See the caveats in the documentation: http://pandas.pydata.org/pandas-docs/stable/indexing.html#indexing-view-versus-copy\n",
      "  \n"
     ]
    },
    {
     "data": {
      "text/html": [
       "<div>\n",
       "<style scoped>\n",
       "    .dataframe tbody tr th:only-of-type {\n",
       "        vertical-align: middle;\n",
       "    }\n",
       "\n",
       "    .dataframe tbody tr th {\n",
       "        vertical-align: top;\n",
       "    }\n",
       "\n",
       "    .dataframe thead th {\n",
       "        text-align: right;\n",
       "    }\n",
       "</style>\n",
       "<table border=\"1\" class=\"dataframe\">\n",
       "  <thead>\n",
       "    <tr style=\"text-align: right;\">\n",
       "      <th></th>\n",
       "      <th>route_id</th>\n",
       "      <th>sector</th>\n",
       "      <th>route</th>\n",
       "      <th>user_id</th>\n",
       "      <th>rating</th>\n",
       "      <th>sector_route</th>\n",
       "      <th>svd</th>\n",
       "      <th>svd_pp</th>\n",
       "    </tr>\n",
       "  </thead>\n",
       "  <tbody>\n",
       "    <tr>\n",
       "      <th>1652</th>\n",
       "      <td>103392</td>\n",
       "      <td>Weißenstein</td>\n",
       "      <td>dampfhammer</td>\n",
       "      <td>35939</td>\n",
       "      <td>2</td>\n",
       "      <td>Weißenstein_dampfhammer</td>\n",
       "      <td>2.474704</td>\n",
       "      <td>2.498220</td>\n",
       "    </tr>\n",
       "    <tr>\n",
       "      <th>2057</th>\n",
       "      <td>48300</td>\n",
       "      <td>Weißenstein</td>\n",
       "      <td>verlobungsweg</td>\n",
       "      <td>35939</td>\n",
       "      <td>2</td>\n",
       "      <td>Weißenstein_verlobungsweg</td>\n",
       "      <td>2.320093</td>\n",
       "      <td>2.447891</td>\n",
       "    </tr>\n",
       "    <tr>\n",
       "      <th>3973</th>\n",
       "      <td>72121</td>\n",
       "      <td>Freudenhaus</td>\n",
       "      <td>emanuelle</td>\n",
       "      <td>35939</td>\n",
       "      <td>3</td>\n",
       "      <td>Freudenhaus_emanuelle</td>\n",
       "      <td>2.487386</td>\n",
       "      <td>2.168555</td>\n",
       "    </tr>\n",
       "    <tr>\n",
       "      <th>6965</th>\n",
       "      <td>83892</td>\n",
       "      <td>Grüne Hölle</td>\n",
       "      <td>isolation</td>\n",
       "      <td>35939</td>\n",
       "      <td>3</td>\n",
       "      <td>Grüne Hölle_isolation</td>\n",
       "      <td>2.381240</td>\n",
       "      <td>2.268689</td>\n",
       "    </tr>\n",
       "    <tr>\n",
       "      <th>8833</th>\n",
       "      <td>12845</td>\n",
       "      <td>Kuhkirchner Wand</td>\n",
       "      <td>flug nach delhi</td>\n",
       "      <td>35939</td>\n",
       "      <td>2</td>\n",
       "      <td>Kuhkirchner Wand_flug nach delhi</td>\n",
       "      <td>2.185926</td>\n",
       "      <td>2.144920</td>\n",
       "    </tr>\n",
       "    <tr>\n",
       "      <th>15847</th>\n",
       "      <td>31622</td>\n",
       "      <td>Freudenhaus</td>\n",
       "      <td>venusfalle</td>\n",
       "      <td>35939</td>\n",
       "      <td>3</td>\n",
       "      <td>Freudenhaus_venusfalle</td>\n",
       "      <td>1.907199</td>\n",
       "      <td>1.775605</td>\n",
       "    </tr>\n",
       "    <tr>\n",
       "      <th>19208</th>\n",
       "      <td>4586</td>\n",
       "      <td>Maximilianswand</td>\n",
       "      <td>sdriss</td>\n",
       "      <td>35939</td>\n",
       "      <td>1</td>\n",
       "      <td>Maximilianswand_sdriss</td>\n",
       "      <td>1.769178</td>\n",
       "      <td>1.961989</td>\n",
       "    </tr>\n",
       "    <tr>\n",
       "      <th>27178</th>\n",
       "      <td>8849</td>\n",
       "      <td>Leupoldsteiner wand</td>\n",
       "      <td>adrspach weg</td>\n",
       "      <td>35939</td>\n",
       "      <td>2</td>\n",
       "      <td>Leupoldsteiner wand_adrspach weg</td>\n",
       "      <td>2.109167</td>\n",
       "      <td>2.052171</td>\n",
       "    </tr>\n",
       "    <tr>\n",
       "      <th>31769</th>\n",
       "      <td>109246</td>\n",
       "      <td>Weißenstein</td>\n",
       "      <td>kaminpfeiler r</td>\n",
       "      <td>35939</td>\n",
       "      <td>2</td>\n",
       "      <td>Weißenstein_kaminpfeiler r</td>\n",
       "      <td>2.149376</td>\n",
       "      <td>2.187890</td>\n",
       "    </tr>\n",
       "    <tr>\n",
       "      <th>33162</th>\n",
       "      <td>98151</td>\n",
       "      <td>Terrarium</td>\n",
       "      <td>ow bald kai paulchen mehr</td>\n",
       "      <td>35939</td>\n",
       "      <td>1</td>\n",
       "      <td>Terrarium_ow bald kai paulchen mehr</td>\n",
       "      <td>1.849895</td>\n",
       "      <td>1.767180</td>\n",
       "    </tr>\n",
       "    <tr>\n",
       "      <th>34361</th>\n",
       "      <td>6877</td>\n",
       "      <td>Grüne Hölle</td>\n",
       "      <td>range rover</td>\n",
       "      <td>35939</td>\n",
       "      <td>2</td>\n",
       "      <td>Grüne Hölle_range rover</td>\n",
       "      <td>2.177194</td>\n",
       "      <td>2.235795</td>\n",
       "    </tr>\n",
       "    <tr>\n",
       "      <th>46520</th>\n",
       "      <td>32466</td>\n",
       "      <td>Kuhkirchner Wand</td>\n",
       "      <td>weg durch das arschloch</td>\n",
       "      <td>35939</td>\n",
       "      <td>2</td>\n",
       "      <td>Kuhkirchner Wand_weg durch das arschloch</td>\n",
       "      <td>2.030077</td>\n",
       "      <td>1.986213</td>\n",
       "    </tr>\n",
       "    <tr>\n",
       "      <th>55772</th>\n",
       "      <td>30817</td>\n",
       "      <td>Terrarium</td>\n",
       "      <td>wirbelsule</td>\n",
       "      <td>35939</td>\n",
       "      <td>1</td>\n",
       "      <td>Terrarium_wirbelsule</td>\n",
       "      <td>1.455597</td>\n",
       "      <td>1.355486</td>\n",
       "    </tr>\n",
       "    <tr>\n",
       "      <th>60047</th>\n",
       "      <td>78305</td>\n",
       "      <td>Grüne Hölle</td>\n",
       "      <td>hangel zur hlle</td>\n",
       "      <td>35939</td>\n",
       "      <td>2</td>\n",
       "      <td>Grüne Hölle_hangel zur hlle</td>\n",
       "      <td>2.200996</td>\n",
       "      <td>2.089388</td>\n",
       "    </tr>\n",
       "    <tr>\n",
       "      <th>76713</th>\n",
       "      <td>39264</td>\n",
       "      <td>Terrarium</td>\n",
       "      <td>lngste route</td>\n",
       "      <td>35939</td>\n",
       "      <td>3</td>\n",
       "      <td>Terrarium_lngste route</td>\n",
       "      <td>2.333000</td>\n",
       "      <td>1.963829</td>\n",
       "    </tr>\n",
       "  </tbody>\n",
       "</table>\n",
       "</div>"
      ],
      "text/plain": [
       "       route_id               sector                      route  user_id  \\\n",
       "1652     103392          Weißenstein                dampfhammer    35939   \n",
       "2057      48300          Weißenstein              verlobungsweg    35939   \n",
       "3973      72121          Freudenhaus                  emanuelle    35939   \n",
       "6965      83892          Grüne Hölle                  isolation    35939   \n",
       "8833      12845     Kuhkirchner Wand            flug nach delhi    35939   \n",
       "15847     31622          Freudenhaus                 venusfalle    35939   \n",
       "19208      4586      Maximilianswand                     sdriss    35939   \n",
       "27178      8849  Leupoldsteiner wand               adrspach weg    35939   \n",
       "31769    109246          Weißenstein             kaminpfeiler r    35939   \n",
       "33162     98151            Terrarium  ow bald kai paulchen mehr    35939   \n",
       "34361      6877          Grüne Hölle                range rover    35939   \n",
       "46520     32466     Kuhkirchner Wand    weg durch das arschloch    35939   \n",
       "55772     30817            Terrarium                 wirbelsule    35939   \n",
       "60047     78305          Grüne Hölle            hangel zur hlle    35939   \n",
       "76713     39264            Terrarium               lngste route    35939   \n",
       "\n",
       "       rating                              sector_route       svd    svd_pp  \n",
       "1652        2                   Weißenstein_dampfhammer  2.474704  2.498220  \n",
       "2057        2                 Weißenstein_verlobungsweg  2.320093  2.447891  \n",
       "3973        3                     Freudenhaus_emanuelle  2.487386  2.168555  \n",
       "6965        3                     Grüne Hölle_isolation  2.381240  2.268689  \n",
       "8833        2          Kuhkirchner Wand_flug nach delhi  2.185926  2.144920  \n",
       "15847       3                    Freudenhaus_venusfalle  1.907199  1.775605  \n",
       "19208       1                    Maximilianswand_sdriss  1.769178  1.961989  \n",
       "27178       2          Leupoldsteiner wand_adrspach weg  2.109167  2.052171  \n",
       "31769       2                Weißenstein_kaminpfeiler r  2.149376  2.187890  \n",
       "33162       1       Terrarium_ow bald kai paulchen mehr  1.849895  1.767180  \n",
       "34361       2                   Grüne Hölle_range rover  2.177194  2.235795  \n",
       "46520       2  Kuhkirchner Wand_weg durch das arschloch  2.030077  1.986213  \n",
       "55772       1                      Terrarium_wirbelsule  1.455597  1.355486  \n",
       "60047       2               Grüne Hölle_hangel zur hlle  2.200996  2.089388  \n",
       "76713       3                    Terrarium_lngste route  2.333000  1.963829  "
      ]
     },
     "execution_count": 87,
     "metadata": {},
     "output_type": "execute_result"
    }
   ],
   "source": [
    "def estimate_svd(row):\n",
    "    return svd.predict(35939, row['sector_route']).est\n",
    "\n",
    "def estimate_svd_pp(row):\n",
    "    return svd_pp.predict(35939, row['sector_route']).est\n",
    "\n",
    "temp['svd'] = temp.apply(lambda row: estimate_svd(row), axis=1)\n",
    "temp['svd_pp'] = temp.apply(lambda row: estimate_svd_pp(row), axis=1)\n",
    "temp"
   ]
  },
  {
   "cell_type": "code",
   "execution_count": 88,
   "metadata": {
    "ExecuteTime": {
     "end_time": "2018-12-16T21:42:30.897832Z",
     "start_time": "2018-12-16T21:42:30.891793Z"
    }
   },
   "outputs": [
    {
     "data": {
      "text/plain": [
       "2.0300773810681427"
      ]
     },
     "execution_count": 88,
     "metadata": {},
     "output_type": "execute_result"
    }
   ],
   "source": [
    "p1 = svd.predict(35939, 'Kuhkirchner Wand_weg durch das arschloch')\n",
    "p2 = svd_pp.predict(35939, 'Kuhkirchner Wand_weg durch das arschloch')\n",
    "p1.est"
   ]
  },
  {
   "cell_type": "code",
   "execution_count": null,
   "metadata": {},
   "outputs": [],
   "source": []
  },
  {
   "cell_type": "markdown",
   "metadata": {},
   "source": [
    "# Results"
   ]
  },
  {
   "cell_type": "markdown",
   "metadata": {},
   "source": [
    "## Model Evaluation and Validation"
   ]
  },
  {
   "cell_type": "markdown",
   "metadata": {},
   "source": [
    "## Justification"
   ]
  },
  {
   "cell_type": "markdown",
   "metadata": {},
   "source": [
    "# Conclusion"
   ]
  },
  {
   "cell_type": "markdown",
   "metadata": {},
   "source": [
    "## Free-Form Visualization"
   ]
  },
  {
   "cell_type": "markdown",
   "metadata": {},
   "source": [
    "## Reflection"
   ]
  },
  {
   "cell_type": "markdown",
   "metadata": {},
   "source": [
    "## Improvement"
   ]
  }
 ],
 "metadata": {
  "hide_input": false,
  "kernelspec": {
   "display_name": "Python 3",
   "language": "python",
   "name": "python3"
  },
  "language_info": {
   "codemirror_mode": {
    "name": "ipython",
    "version": 3
   },
   "file_extension": ".py",
   "mimetype": "text/x-python",
   "name": "python",
   "nbconvert_exporter": "python",
   "pygments_lexer": "ipython3",
   "version": "3.6.6"
  },
  "toc": {
   "nav_menu": {},
   "number_sections": true,
   "sideBar": true,
   "skip_h1_title": false,
   "toc_cell": false,
   "toc_position": {},
   "toc_section_display": "block",
   "toc_window_display": false
  },
  "varInspector": {
   "cols": {
    "lenName": 16,
    "lenType": 16,
    "lenVar": 40
   },
   "kernels_config": {
    "python": {
     "delete_cmd_postfix": "",
     "delete_cmd_prefix": "del ",
     "library": "var_list.py",
     "varRefreshCmd": "print(var_dic_list())"
    },
    "r": {
     "delete_cmd_postfix": ") ",
     "delete_cmd_prefix": "rm(",
     "library": "var_list.r",
     "varRefreshCmd": "cat(var_dic_list()) "
    }
   },
   "oldHeight": 419,
   "position": {
    "height": "514px",
    "left": "771px",
    "right": "20px",
    "top": "146px",
    "width": "559px"
   },
   "types_to_exclude": [
    "module",
    "function",
    "builtin_function_or_method",
    "instance",
    "_Feature"
   ],
   "varInspector_section_display": "block",
   "window_display": false
  }
 },
 "nbformat": 4,
 "nbformat_minor": 2
}
